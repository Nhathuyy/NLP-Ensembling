{
  "cells": [
    {
      "cell_type": "markdown",
      "metadata": {
        "id": "view-in-github",
        "colab_type": "text"
      },
      "source": [
        "<a href=\"https://colab.research.google.com/github/Nhathuyy/NLP-Ensembling/blob/main/Disaster_Tweet_Classification_with_NLP_Ensembling.ipynb\" target=\"_parent\"><img src=\"https://colab.research.google.com/assets/colab-badge.svg\" alt=\"Open In Colab\"/></a>"
      ]
    },
    {
      "cell_type": "markdown",
      "metadata": {
        "id": "jxCiF9MsAJ2L"
      },
      "source": [
        "<center>\n",
        "<div style=\"color:;\n",
        "           display:fill;\n",
        "           border-radius:5px;\n",
        "           background-color: lightgray;\n",
        "           font-size:110%;\n",
        "           letter-spacing:0.5px\">\n",
        "\n",
        "<h2 style=\"padding: 10px;\n",
        "              color:white;\">Disaster Tweets\n",
        "</h2>\n",
        "</div>"
      ]
    },
    {
      "cell_type": "markdown",
      "metadata": {
        "id": "lV6btjhjAJ2N"
      },
      "source": [
        "1. [Introduction](#introduction)\n",
        "1. [Data Collection](#datacollection)\n",
        "1. [Data Analysis](#dataanalysis)\n",
        "    1. [Explore Dataset](#exploredataset)\n",
        "    1. [Explore Target Variable](#exploretargetvariable)\n",
        "    1. [EDA Summary](#edasummary)\n",
        "1. [Data Preprocessing](#datapreprocessing)\n",
        "\n",
        "1. [Model Training and Evaluation](#trainandevaluate)\n",
        "    1. [Simple RNN](#simplernn)\n",
        "    1. [Universal Sentence Encoder](#use)\n",
        "    1. [RoBERTa](#roberta)\n",
        "    1. [Twitter-RoBERTa](#twitterroberta)\n",
        "    1. [Bert](#bert)\n",
        "    1. [Distilbert](#distilbert)\n",
        "    1. [Ensembling](#ensembling)\n",
        "1. [Submission](#submission)\n",
        "1. [Conclusion](#conclusion)"
      ]
    },
    {
      "cell_type": "markdown",
      "metadata": {
        "id": "B0rqwJGjAJ2N"
      },
      "source": [
        "# Introduction <a class=\"anchor\" id=\"introduction\"></a>"
      ]
    },
    {
      "cell_type": "markdown",
      "metadata": {
        "id": "t2Ob0jW4AJ2N"
      },
      "source": [
        "In this notebook, I am going to evaluate different techiques for text analysis, data cleaning and so on. For this classification task I will assess several neural network models: pre-trained from <a href=\"ttps://huggingface.co/\">HuggingFace</a> and a simple RNN model built from scratch.\n",
        "\n",
        "This notebook covers:\n",
        "1. Exploratory Data Analysis\n",
        "1. Cleaning and text processing\n",
        "1. Sentence encoding using tokenization and embeddings\n",
        "1. Training and evaluation of some BERT family models and a simple RNN model\n",
        "1. Stacking the best results"
      ]
    },
    {
      "cell_type": "code",
      "execution_count": null,
      "metadata": {
        "colab": {
          "base_uri": "https://localhost:8080/"
        },
        "id": "WsdSKkqIA3zF",
        "outputId": "b0557081-c9cb-4454-aa76-fc6e45188f28"
      },
      "outputs": [
        {
          "name": "stdout",
          "output_type": "stream",
          "text": [
            "Collecting keras-tuner\n",
            "  Downloading keras_tuner-1.3.5-py3-none-any.whl (176 kB)\n",
            "\u001b[?25l     \u001b[90m━━━━━━━━━━━━━━━━━━━━━━━━━━━━━━━━━━━━━━━━\u001b[0m \u001b[32m0.0/176.1 kB\u001b[0m \u001b[31m?\u001b[0m eta \u001b[36m-:--:--\u001b[0m\r\u001b[2K     \u001b[91m━━━━━━━━━━━━━━━━━━━━━━━━━━━\u001b[0m\u001b[90m╺\u001b[0m\u001b[90m━━━━━━━━━━━\u001b[0m \u001b[32m122.9/176.1 kB\u001b[0m \u001b[31m3.4 MB/s\u001b[0m eta \u001b[36m0:00:01\u001b[0m\r\u001b[2K     \u001b[90m━━━━━━━━━━━━━━━━━━━━━━━━━━━━━━━━━━━━━━━\u001b[0m \u001b[32m176.1/176.1 kB\u001b[0m \u001b[31m3.9 MB/s\u001b[0m eta \u001b[36m0:00:00\u001b[0m\n",
            "\u001b[?25hRequirement already satisfied: packaging in /usr/local/lib/python3.10/dist-packages (from keras-tuner) (23.1)\n",
            "Requirement already satisfied: requests in /usr/local/lib/python3.10/dist-packages (from keras-tuner) (2.31.0)\n",
            "Collecting kt-legacy (from keras-tuner)\n",
            "  Downloading kt_legacy-1.0.5-py3-none-any.whl (9.6 kB)\n",
            "Requirement already satisfied: charset-normalizer<4,>=2 in /usr/local/lib/python3.10/dist-packages (from requests->keras-tuner) (3.2.0)\n",
            "Requirement already satisfied: idna<4,>=2.5 in /usr/local/lib/python3.10/dist-packages (from requests->keras-tuner) (3.4)\n",
            "Requirement already satisfied: urllib3<3,>=1.21.1 in /usr/local/lib/python3.10/dist-packages (from requests->keras-tuner) (2.0.4)\n",
            "Requirement already satisfied: certifi>=2017.4.17 in /usr/local/lib/python3.10/dist-packages (from requests->keras-tuner) (2023.7.22)\n",
            "Installing collected packages: kt-legacy, keras-tuner\n",
            "Successfully installed keras-tuner-1.3.5 kt-legacy-1.0.5\n"
          ]
        }
      ],
      "source": [
        "!pip install keras-tuner\n"
      ]
    },
    {
      "cell_type": "code",
      "execution_count": null,
      "metadata": {
        "colab": {
          "base_uri": "https://localhost:8080/"
        },
        "id": "KIx5hj-ABN1_",
        "outputId": "3d8c83d2-8cc1-4501-8d5e-5d2bb31bff65"
      },
      "outputs": [
        {
          "name": "stdout",
          "output_type": "stream",
          "text": [
            "Collecting transformers\n",
            "  Downloading transformers-4.33.2-py3-none-any.whl (7.6 MB)\n",
            "\u001b[2K     \u001b[90m━━━━━━━━━━━━━━━━━━━━━━━━━━━━━━━━━━━━━━━━\u001b[0m \u001b[32m7.6/7.6 MB\u001b[0m \u001b[31m13.6 MB/s\u001b[0m eta \u001b[36m0:00:00\u001b[0m\n",
            "\u001b[?25hRequirement already satisfied: filelock in /usr/local/lib/python3.10/dist-packages (from transformers) (3.12.2)\n",
            "Collecting huggingface-hub<1.0,>=0.15.1 (from transformers)\n",
            "  Downloading huggingface_hub-0.17.1-py3-none-any.whl (294 kB)\n",
            "\u001b[2K     \u001b[90m━━━━━━━━━━━━━━━━━━━━━━━━━━━━━━━━━━━━━━\u001b[0m \u001b[32m294.8/294.8 kB\u001b[0m \u001b[31m17.7 MB/s\u001b[0m eta \u001b[36m0:00:00\u001b[0m\n",
            "\u001b[?25hRequirement already satisfied: numpy>=1.17 in /usr/local/lib/python3.10/dist-packages (from transformers) (1.23.5)\n",
            "Requirement already satisfied: packaging>=20.0 in /usr/local/lib/python3.10/dist-packages (from transformers) (23.1)\n",
            "Requirement already satisfied: pyyaml>=5.1 in /usr/local/lib/python3.10/dist-packages (from transformers) (6.0.1)\n",
            "Requirement already satisfied: regex!=2019.12.17 in /usr/local/lib/python3.10/dist-packages (from transformers) (2023.6.3)\n",
            "Requirement already satisfied: requests in /usr/local/lib/python3.10/dist-packages (from transformers) (2.31.0)\n",
            "Collecting tokenizers!=0.11.3,<0.14,>=0.11.1 (from transformers)\n",
            "  Downloading tokenizers-0.13.3-cp310-cp310-manylinux_2_17_x86_64.manylinux2014_x86_64.whl (7.8 MB)\n",
            "\u001b[2K     \u001b[90m━━━━━━━━━━━━━━━━━━━━━━━━━━━━━━━━━━━━━━━━\u001b[0m \u001b[32m7.8/7.8 MB\u001b[0m \u001b[31m35.9 MB/s\u001b[0m eta \u001b[36m0:00:00\u001b[0m\n",
            "\u001b[?25hCollecting safetensors>=0.3.1 (from transformers)\n",
            "  Downloading safetensors-0.3.3-cp310-cp310-manylinux_2_17_x86_64.manylinux2014_x86_64.whl (1.3 MB)\n",
            "\u001b[2K     \u001b[90m━━━━━━━━━━━━━━━━━━━━━━━━━━━━━━━━━━━━━━━━\u001b[0m \u001b[32m1.3/1.3 MB\u001b[0m \u001b[31m58.1 MB/s\u001b[0m eta \u001b[36m0:00:00\u001b[0m\n",
            "\u001b[?25hRequirement already satisfied: tqdm>=4.27 in /usr/local/lib/python3.10/dist-packages (from transformers) (4.66.1)\n",
            "Requirement already satisfied: fsspec in /usr/local/lib/python3.10/dist-packages (from huggingface-hub<1.0,>=0.15.1->transformers) (2023.6.0)\n",
            "Requirement already satisfied: typing-extensions>=3.7.4.3 in /usr/local/lib/python3.10/dist-packages (from huggingface-hub<1.0,>=0.15.1->transformers) (4.5.0)\n",
            "Requirement already satisfied: charset-normalizer<4,>=2 in /usr/local/lib/python3.10/dist-packages (from requests->transformers) (3.2.0)\n",
            "Requirement already satisfied: idna<4,>=2.5 in /usr/local/lib/python3.10/dist-packages (from requests->transformers) (3.4)\n",
            "Requirement already satisfied: urllib3<3,>=1.21.1 in /usr/local/lib/python3.10/dist-packages (from requests->transformers) (2.0.4)\n",
            "Requirement already satisfied: certifi>=2017.4.17 in /usr/local/lib/python3.10/dist-packages (from requests->transformers) (2023.7.22)\n",
            "Installing collected packages: tokenizers, safetensors, huggingface-hub, transformers\n",
            "Successfully installed huggingface-hub-0.17.1 safetensors-0.3.3 tokenizers-0.13.3 transformers-4.33.2\n"
          ]
        }
      ],
      "source": [
        "!pip install transformers\n"
      ]
    },
    {
      "cell_type": "code",
      "execution_count": null,
      "metadata": {
        "id": "F-t2sg1LAJ2O"
      },
      "outputs": [],
      "source": [
        "%matplotlib inline\n",
        "import warnings\n",
        "warnings.simplefilter(action='ignore', category=(RuntimeWarning, FutureWarning, UserWarning))\n",
        "\n",
        "import time\n",
        "import os\n",
        "import numpy as np\n",
        "import pandas as pd\n",
        "import math\n",
        "import gc\n",
        "import matplotlib as mpl\n",
        "import matplotlib.pyplot as plt\n",
        "import matplotlib.image as mpimg\n",
        "import plotly.express as px\n",
        "import tensorflow_hub as hub\n",
        "from PIL import Image\n",
        "import itertools\n",
        "from itertools import islice\n",
        "from scipy.special import softmax\n",
        "import tensorflow as tf\n",
        "import keras_tuner as kt\n",
        "import keras\n",
        "from keras import layers, Model\n",
        "from keras.models import Sequential\n",
        "from keras.layers import Dense, Activation, Dropout, Input, concatenate, Average, Concatenate, GlobalAveragePooling2D\n",
        "from keras.callbacks import ReduceLROnPlateau, EarlyStopping\n",
        "from keras.optimizers import SGD, Adam, Nadam, RMSprop\n",
        "from keras.utils import to_categorical, plot_model\n",
        "from keras.losses import categorical_crossentropy, SparseCategoricalCrossentropy\n",
        "from keras.metrics import categorical_accuracy\n",
        "from IPython.display import Markdown, display\n",
        "from sklearn.model_selection import train_test_split\n",
        "from sklearn.metrics import confusion_matrix, accuracy_score, classification_report, f1_score, precision_score, recall_score, make_scorer,roc_curve, precision_recall_curve\n",
        "from matplotlib.colors import ListedColormap\n",
        "import seaborn as sns\n",
        "\n",
        "from transformers import TFRobertaForSequenceClassification, TFAutoModelForSequenceClassification, RobertaTokenizer, AutoTokenizer, DistilBertTokenizer, TFDistilBertForSequenceClassification\n",
        "\n",
        "# to make this notebook's output stable across runs\n",
        "np.random.seed(42)\n",
        "tf.random.set_seed(42)\n",
        "\n",
        "ON_KAGGLE = os.getenv(\"KAGGLE_KERNEL_RUN_TYPE\") is not None\n",
        "\n",
        "def download_from_kaggle(competition):\n",
        "    command = \"kaggle competitions download -c \"\n",
        "    filepath = Path(\"data/\" + competition + \".zip\")\n",
        "\n",
        "    if not filepath.is_file():\n",
        "        subprocess.run((command + competition).split())\n",
        "        Path(\"data\").mkdir(parents=True, exist_ok=True)\n",
        "        shutil.unpack_archive(competition + \".zip\", \"data\")\n",
        "        shutil.move(competition + \".zip\", \"data\")"
      ]
    },
    {
      "cell_type": "markdown",
      "metadata": {
        "id": "wgcNsKlbAJ2P"
      },
      "source": [
        "# Data Collection <a class=\"anchor\" id=\"datacollection\"></a>"
      ]
    },
    {
      "cell_type": "code",
      "execution_count": null,
      "metadata": {
        "colab": {
          "base_uri": "https://localhost:8080/",
          "height": 367
        },
        "id": "AU7NUpL1AJ2P",
        "outputId": "f4fb076a-acd3-4090-fa0e-e1b1159edaee"
      },
      "outputs": [
        {
          "ename": "NameError",
          "evalue": "ignored",
          "output_type": "error",
          "traceback": [
            "\u001b[0;31m---------------------------------------------------------------------------\u001b[0m",
            "\u001b[0;31mNameError\u001b[0m                                 Traceback (most recent call last)",
            "\u001b[0;32m<ipython-input-6-93825cb3143e>\u001b[0m in \u001b[0;36m<cell line: 2>\u001b[0;34m()\u001b[0m\n\u001b[1;32m      1\u001b[0m \u001b[0mcompetition\u001b[0m \u001b[0;34m=\u001b[0m \u001b[0;34m\"nlp-getting-started\"\u001b[0m\u001b[0;34m\u001b[0m\u001b[0;34m\u001b[0m\u001b[0m\n\u001b[1;32m      2\u001b[0m \u001b[0;32mif\u001b[0m \u001b[0;32mnot\u001b[0m \u001b[0mON_KAGGLE\u001b[0m\u001b[0;34m:\u001b[0m\u001b[0;34m\u001b[0m\u001b[0;34m\u001b[0m\u001b[0m\n\u001b[0;32m----> 3\u001b[0;31m     \u001b[0mdownload_from_kaggle\u001b[0m\u001b[0;34m(\u001b[0m\u001b[0mcompetition\u001b[0m\u001b[0;34m)\u001b[0m\u001b[0;34m\u001b[0m\u001b[0;34m\u001b[0m\u001b[0m\n\u001b[0m\u001b[1;32m      4\u001b[0m     \u001b[0mtrain_path\u001b[0m \u001b[0;34m=\u001b[0m \u001b[0;34m\"data/train.csv\"\u001b[0m\u001b[0;34m\u001b[0m\u001b[0;34m\u001b[0m\u001b[0m\n\u001b[1;32m      5\u001b[0m     \u001b[0mtest_path\u001b[0m \u001b[0;34m=\u001b[0m \u001b[0;34m\"data/test.csv\"\u001b[0m\u001b[0;34m\u001b[0m\u001b[0;34m\u001b[0m\u001b[0m\n",
            "\u001b[0;32m<ipython-input-4-9fc9b754bbc5>\u001b[0m in \u001b[0;36mdownload_from_kaggle\u001b[0;34m(competition)\u001b[0m\n\u001b[1;32m     45\u001b[0m \u001b[0;32mdef\u001b[0m \u001b[0mdownload_from_kaggle\u001b[0m\u001b[0;34m(\u001b[0m\u001b[0mcompetition\u001b[0m\u001b[0;34m)\u001b[0m\u001b[0;34m:\u001b[0m\u001b[0;34m\u001b[0m\u001b[0;34m\u001b[0m\u001b[0m\n\u001b[1;32m     46\u001b[0m     \u001b[0mcommand\u001b[0m \u001b[0;34m=\u001b[0m \u001b[0;34m\"kaggle competitions download -c \"\u001b[0m\u001b[0;34m\u001b[0m\u001b[0;34m\u001b[0m\u001b[0m\n\u001b[0;32m---> 47\u001b[0;31m     \u001b[0mfilepath\u001b[0m \u001b[0;34m=\u001b[0m \u001b[0mPath\u001b[0m\u001b[0;34m(\u001b[0m\u001b[0;34m\"data/\"\u001b[0m \u001b[0;34m+\u001b[0m \u001b[0mcompetition\u001b[0m \u001b[0;34m+\u001b[0m \u001b[0;34m\".zip\"\u001b[0m\u001b[0;34m)\u001b[0m\u001b[0;34m\u001b[0m\u001b[0;34m\u001b[0m\u001b[0m\n\u001b[0m\u001b[1;32m     48\u001b[0m \u001b[0;34m\u001b[0m\u001b[0m\n\u001b[1;32m     49\u001b[0m     \u001b[0;32mif\u001b[0m \u001b[0;32mnot\u001b[0m \u001b[0mfilepath\u001b[0m\u001b[0;34m.\u001b[0m\u001b[0mis_file\u001b[0m\u001b[0;34m(\u001b[0m\u001b[0;34m)\u001b[0m\u001b[0;34m:\u001b[0m\u001b[0;34m\u001b[0m\u001b[0;34m\u001b[0m\u001b[0m\n",
            "\u001b[0;31mNameError\u001b[0m: name 'Path' is not defined"
          ]
        }
      ],
      "source": [
        "competition = \"nlp-getting-started\"\n",
        "if not ON_KAGGLE:\n",
        "    download_from_kaggle(competition)\n",
        "    train_path = \"data/train.csv\"\n",
        "    test_path = \"data/test.csv\"\n",
        "    submission_path = \"sample_submission.csv\"\n",
        "else:\n",
        "    train_path = f\"/kaggle/input/{competition}/train.csv\"\n",
        "    test_path = f\"/kaggle/input/{competition}/test.csv\"\n",
        "    submission_path = f\"/kaggle/input/{competition}/sample_submission.csv\"\n",
        "\n",
        "train_df = pd.read_csv(train_path, index_col='id')\n",
        "test_df = pd.read_csv(test_path, index_col='id')\n",
        "submission_df = pd.read_csv(submission_path, index_col='id')"
      ]
    },
    {
      "cell_type": "code",
      "execution_count": null,
      "metadata": {
        "colab": {
          "base_uri": "https://localhost:8080/"
        },
        "id": "UJzaEeFuBzlM",
        "outputId": "925a41f5-95e7-4351-e30c-09dbf64b8a87"
      },
      "outputs": [
        {
          "name": "stdout",
          "output_type": "stream",
          "text": [
            "Training Set Shape = (7613, 4)\n",
            "Test Set Shape = (3263, 3)\n",
            "sample_submission Set Shape = (3263, 1)\n"
          ]
        }
      ],
      "source": [
        "import pandas as pd\n",
        "\n",
        "# Xác định biến cạnh tranh (competition) và ON_KAGGLE\n",
        "competition = \"nlp-getting-started\"\n",
        "ON_KAGGLE = False  # Đặt thành True nếu bạn đang chạy trên Kaggle\n",
        "\n",
        "# Kiểm tra nếu bạn không chạy trên Kaggle\n",
        "if not ON_KAGGLE:\n",
        "    # Thay đổi đường dẫn của tệp CSV tại đây nếu cần thiết\n",
        "    train_csv_url = \"https://raw.githubusercontent.com/Nhathuyy/Colab/main/train.csv\"\n",
        "    test_csv_url = \"https://raw.githubusercontent.com/Nhathuyy/Colab/main/test.csv\"\n",
        "    sample_submission_csv_url = \"https://raw.githubusercontent.com/Nhathuyy/Colab/main/sample_submission.csv\"\n",
        "\n",
        "    # Đọc dữ liệu từ các URL trực tiếp\n",
        "    train_df = pd.read_csv(train_csv_url, index_col='id')\n",
        "    test_df = pd.read_csv(test_csv_url, index_col='id')\n",
        "    submission_df = pd.read_csv(sample_submission_csv_url, index_col='id')\n",
        "else:\n",
        "    # Xác định đường dẫn tệp CSV trên Kaggle\n",
        "    train_path = f\"/kaggle/input/{competition}/train.csv\"\n",
        "    test_path = f\"/kaggle/input/{competition}/test.csv\"\n",
        "    submission_path = f\"/kaggle/input/{competition}/sample_submission.csv\"\n",
        "\n",
        "    # Đọc dữ liệu từ tệp CSV trên Kaggle\n",
        "    train_df = pd.read_csv(train_path, index_col='id')\n",
        "    test_df = pd.read_csv(test_path, index_col='id')\n",
        "    submission_df = pd.read_csv(submission_path, index_col='id')\n",
        "\n",
        "print('Training Set Shape = {}'.format(train_df.shape))\n",
        "print('Test Set Shape = {}'.format(test_df.shape))\n",
        "print('sample_submission Set Shape = {}'.format(submission_df.shape))\n"
      ]
    },
    {
      "cell_type": "markdown",
      "metadata": {
        "id": "c1QASdUiAJ2Q"
      },
      "source": [
        "# Data Analysis <a class=\"anchor\" id=\"dataanalysis\"></a>"
      ]
    },
    {
      "cell_type": "markdown",
      "metadata": {
        "id": "F0rJOlvHAJ2Q"
      },
      "source": [
        "## Explore Dataset <a class=\"anchor\" id=\"exploredataset\"></a>"
      ]
    },
    {
      "cell_type": "markdown",
      "metadata": {
        "id": "Rihh0A8DAJ2Q"
      },
      "source": [
        "Explore basic information about the dataset."
      ]
    },
    {
      "cell_type": "code",
      "execution_count": null,
      "metadata": {
        "colab": {
          "base_uri": "https://localhost:8080/"
        },
        "id": "PI2GsgZvAJ2Q",
        "outputId": "75a4a70e-5c20-4861-f89e-f482cba4753c"
      },
      "outputs": [
        {
          "name": "stdout",
          "output_type": "stream",
          "text": [
            "Train dataset shape:\t (7613, 4) \n",
            "Test dataset shape:\t (3263, 3)\n"
          ]
        }
      ],
      "source": [
        "print(f'Train dataset shape:\\t {train_df.shape}',\n",
        "    f'\\nTest dataset shape:\\t {test_df.shape}')"
      ]
    },
    {
      "cell_type": "code",
      "execution_count": null,
      "metadata": {
        "colab": {
          "base_uri": "https://localhost:8080/",
          "height": 237
        },
        "id": "NZDjr3nQAJ2Q",
        "outputId": "42f9eaac-25f3-484e-c97c-9cfbac25421e"
      },
      "outputs": [
        {
          "data": {
            "text/html": [
              "\n",
              "  <div id=\"df-0b5c9d95-9a70-4f57-b4a1-83c2ff8e803c\" class=\"colab-df-container\">\n",
              "    <div>\n",
              "<style scoped>\n",
              "    .dataframe tbody tr th:only-of-type {\n",
              "        vertical-align: middle;\n",
              "    }\n",
              "\n",
              "    .dataframe tbody tr th {\n",
              "        vertical-align: top;\n",
              "    }\n",
              "\n",
              "    .dataframe thead th {\n",
              "        text-align: right;\n",
              "    }\n",
              "</style>\n",
              "<table border=\"1\" class=\"dataframe\">\n",
              "  <thead>\n",
              "    <tr style=\"text-align: right;\">\n",
              "      <th></th>\n",
              "      <th>keyword</th>\n",
              "      <th>location</th>\n",
              "      <th>text</th>\n",
              "      <th>target</th>\n",
              "    </tr>\n",
              "    <tr>\n",
              "      <th>id</th>\n",
              "      <th></th>\n",
              "      <th></th>\n",
              "      <th></th>\n",
              "      <th></th>\n",
              "    </tr>\n",
              "  </thead>\n",
              "  <tbody>\n",
              "    <tr>\n",
              "      <th>1</th>\n",
              "      <td>NaN</td>\n",
              "      <td>NaN</td>\n",
              "      <td>Our Deeds are the Reason of this #earthquake M...</td>\n",
              "      <td>1</td>\n",
              "    </tr>\n",
              "    <tr>\n",
              "      <th>4</th>\n",
              "      <td>NaN</td>\n",
              "      <td>NaN</td>\n",
              "      <td>Forest fire near La Ronge Sask. Canada</td>\n",
              "      <td>1</td>\n",
              "    </tr>\n",
              "    <tr>\n",
              "      <th>5</th>\n",
              "      <td>NaN</td>\n",
              "      <td>NaN</td>\n",
              "      <td>All residents asked to 'shelter in place' are ...</td>\n",
              "      <td>1</td>\n",
              "    </tr>\n",
              "    <tr>\n",
              "      <th>6</th>\n",
              "      <td>NaN</td>\n",
              "      <td>NaN</td>\n",
              "      <td>13,000 people receive #wildfires evacuation or...</td>\n",
              "      <td>1</td>\n",
              "    </tr>\n",
              "    <tr>\n",
              "      <th>7</th>\n",
              "      <td>NaN</td>\n",
              "      <td>NaN</td>\n",
              "      <td>Just got sent this photo from Ruby #Alaska as ...</td>\n",
              "      <td>1</td>\n",
              "    </tr>\n",
              "  </tbody>\n",
              "</table>\n",
              "</div>\n",
              "    <div class=\"colab-df-buttons\">\n",
              "\n",
              "  <div class=\"colab-df-container\">\n",
              "    <button class=\"colab-df-convert\" onclick=\"convertToInteractive('df-0b5c9d95-9a70-4f57-b4a1-83c2ff8e803c')\"\n",
              "            title=\"Convert this dataframe to an interactive table.\"\n",
              "            style=\"display:none;\">\n",
              "\n",
              "  <svg xmlns=\"http://www.w3.org/2000/svg\" height=\"24px\" viewBox=\"0 -960 960 960\">\n",
              "    <path d=\"M120-120v-720h720v720H120Zm60-500h600v-160H180v160Zm220 220h160v-160H400v160Zm0 220h160v-160H400v160ZM180-400h160v-160H180v160Zm440 0h160v-160H620v160ZM180-180h160v-160H180v160Zm440 0h160v-160H620v160Z\"/>\n",
              "  </svg>\n",
              "    </button>\n",
              "\n",
              "  <style>\n",
              "    .colab-df-container {\n",
              "      display:flex;\n",
              "      gap: 12px;\n",
              "    }\n",
              "\n",
              "    .colab-df-convert {\n",
              "      background-color: #E8F0FE;\n",
              "      border: none;\n",
              "      border-radius: 50%;\n",
              "      cursor: pointer;\n",
              "      display: none;\n",
              "      fill: #1967D2;\n",
              "      height: 32px;\n",
              "      padding: 0 0 0 0;\n",
              "      width: 32px;\n",
              "    }\n",
              "\n",
              "    .colab-df-convert:hover {\n",
              "      background-color: #E2EBFA;\n",
              "      box-shadow: 0px 1px 2px rgba(60, 64, 67, 0.3), 0px 1px 3px 1px rgba(60, 64, 67, 0.15);\n",
              "      fill: #174EA6;\n",
              "    }\n",
              "\n",
              "    .colab-df-buttons div {\n",
              "      margin-bottom: 4px;\n",
              "    }\n",
              "\n",
              "    [theme=dark] .colab-df-convert {\n",
              "      background-color: #3B4455;\n",
              "      fill: #D2E3FC;\n",
              "    }\n",
              "\n",
              "    [theme=dark] .colab-df-convert:hover {\n",
              "      background-color: #434B5C;\n",
              "      box-shadow: 0px 1px 3px 1px rgba(0, 0, 0, 0.15);\n",
              "      filter: drop-shadow(0px 1px 2px rgba(0, 0, 0, 0.3));\n",
              "      fill: #FFFFFF;\n",
              "    }\n",
              "  </style>\n",
              "\n",
              "    <script>\n",
              "      const buttonEl =\n",
              "        document.querySelector('#df-0b5c9d95-9a70-4f57-b4a1-83c2ff8e803c button.colab-df-convert');\n",
              "      buttonEl.style.display =\n",
              "        google.colab.kernel.accessAllowed ? 'block' : 'none';\n",
              "\n",
              "      async function convertToInteractive(key) {\n",
              "        const element = document.querySelector('#df-0b5c9d95-9a70-4f57-b4a1-83c2ff8e803c');\n",
              "        const dataTable =\n",
              "          await google.colab.kernel.invokeFunction('convertToInteractive',\n",
              "                                                    [key], {});\n",
              "        if (!dataTable) return;\n",
              "\n",
              "        const docLinkHtml = 'Like what you see? Visit the ' +\n",
              "          '<a target=\"_blank\" href=https://colab.research.google.com/notebooks/data_table.ipynb>data table notebook</a>'\n",
              "          + ' to learn more about interactive tables.';\n",
              "        element.innerHTML = '';\n",
              "        dataTable['output_type'] = 'display_data';\n",
              "        await google.colab.output.renderOutput(dataTable, element);\n",
              "        const docLink = document.createElement('div');\n",
              "        docLink.innerHTML = docLinkHtml;\n",
              "        element.appendChild(docLink);\n",
              "      }\n",
              "    </script>\n",
              "  </div>\n",
              "\n",
              "\n",
              "<div id=\"df-73360af1-807f-4f9b-b4c8-1985cbdeb79a\">\n",
              "  <button class=\"colab-df-quickchart\" onclick=\"quickchart('df-73360af1-807f-4f9b-b4c8-1985cbdeb79a')\"\n",
              "            title=\"Suggest charts.\"\n",
              "            style=\"display:none;\">\n",
              "\n",
              "<svg xmlns=\"http://www.w3.org/2000/svg\" height=\"24px\"viewBox=\"0 0 24 24\"\n",
              "     width=\"24px\">\n",
              "    <g>\n",
              "        <path d=\"M19 3H5c-1.1 0-2 .9-2 2v14c0 1.1.9 2 2 2h14c1.1 0 2-.9 2-2V5c0-1.1-.9-2-2-2zM9 17H7v-7h2v7zm4 0h-2V7h2v10zm4 0h-2v-4h2v4z\"/>\n",
              "    </g>\n",
              "</svg>\n",
              "  </button>\n",
              "\n",
              "<style>\n",
              "  .colab-df-quickchart {\n",
              "      --bg-color: #E8F0FE;\n",
              "      --fill-color: #1967D2;\n",
              "      --hover-bg-color: #E2EBFA;\n",
              "      --hover-fill-color: #174EA6;\n",
              "      --disabled-fill-color: #AAA;\n",
              "      --disabled-bg-color: #DDD;\n",
              "  }\n",
              "\n",
              "  [theme=dark] .colab-df-quickchart {\n",
              "      --bg-color: #3B4455;\n",
              "      --fill-color: #D2E3FC;\n",
              "      --hover-bg-color: #434B5C;\n",
              "      --hover-fill-color: #FFFFFF;\n",
              "      --disabled-bg-color: #3B4455;\n",
              "      --disabled-fill-color: #666;\n",
              "  }\n",
              "\n",
              "  .colab-df-quickchart {\n",
              "    background-color: var(--bg-color);\n",
              "    border: none;\n",
              "    border-radius: 50%;\n",
              "    cursor: pointer;\n",
              "    display: none;\n",
              "    fill: var(--fill-color);\n",
              "    height: 32px;\n",
              "    padding: 0;\n",
              "    width: 32px;\n",
              "  }\n",
              "\n",
              "  .colab-df-quickchart:hover {\n",
              "    background-color: var(--hover-bg-color);\n",
              "    box-shadow: 0 1px 2px rgba(60, 64, 67, 0.3), 0 1px 3px 1px rgba(60, 64, 67, 0.15);\n",
              "    fill: var(--button-hover-fill-color);\n",
              "  }\n",
              "\n",
              "  .colab-df-quickchart-complete:disabled,\n",
              "  .colab-df-quickchart-complete:disabled:hover {\n",
              "    background-color: var(--disabled-bg-color);\n",
              "    fill: var(--disabled-fill-color);\n",
              "    box-shadow: none;\n",
              "  }\n",
              "\n",
              "  .colab-df-spinner {\n",
              "    border: 2px solid var(--fill-color);\n",
              "    border-color: transparent;\n",
              "    border-bottom-color: var(--fill-color);\n",
              "    animation:\n",
              "      spin 1s steps(1) infinite;\n",
              "  }\n",
              "\n",
              "  @keyframes spin {\n",
              "    0% {\n",
              "      border-color: transparent;\n",
              "      border-bottom-color: var(--fill-color);\n",
              "      border-left-color: var(--fill-color);\n",
              "    }\n",
              "    20% {\n",
              "      border-color: transparent;\n",
              "      border-left-color: var(--fill-color);\n",
              "      border-top-color: var(--fill-color);\n",
              "    }\n",
              "    30% {\n",
              "      border-color: transparent;\n",
              "      border-left-color: var(--fill-color);\n",
              "      border-top-color: var(--fill-color);\n",
              "      border-right-color: var(--fill-color);\n",
              "    }\n",
              "    40% {\n",
              "      border-color: transparent;\n",
              "      border-right-color: var(--fill-color);\n",
              "      border-top-color: var(--fill-color);\n",
              "    }\n",
              "    60% {\n",
              "      border-color: transparent;\n",
              "      border-right-color: var(--fill-color);\n",
              "    }\n",
              "    80% {\n",
              "      border-color: transparent;\n",
              "      border-right-color: var(--fill-color);\n",
              "      border-bottom-color: var(--fill-color);\n",
              "    }\n",
              "    90% {\n",
              "      border-color: transparent;\n",
              "      border-bottom-color: var(--fill-color);\n",
              "    }\n",
              "  }\n",
              "</style>\n",
              "\n",
              "  <script>\n",
              "    async function quickchart(key) {\n",
              "      const quickchartButtonEl =\n",
              "        document.querySelector('#' + key + ' button');\n",
              "      quickchartButtonEl.disabled = true;  // To prevent multiple clicks.\n",
              "      quickchartButtonEl.classList.add('colab-df-spinner');\n",
              "      try {\n",
              "        const charts = await google.colab.kernel.invokeFunction(\n",
              "            'suggestCharts', [key], {});\n",
              "      } catch (error) {\n",
              "        console.error('Error during call to suggestCharts:', error);\n",
              "      }\n",
              "      quickchartButtonEl.classList.remove('colab-df-spinner');\n",
              "      quickchartButtonEl.classList.add('colab-df-quickchart-complete');\n",
              "    }\n",
              "    (() => {\n",
              "      let quickchartButtonEl =\n",
              "        document.querySelector('#df-73360af1-807f-4f9b-b4c8-1985cbdeb79a button');\n",
              "      quickchartButtonEl.style.display =\n",
              "        google.colab.kernel.accessAllowed ? 'block' : 'none';\n",
              "    })();\n",
              "  </script>\n",
              "</div>\n",
              "    </div>\n",
              "  </div>\n"
            ],
            "text/plain": [
              "   keyword location                                               text  target\n",
              "id                                                                            \n",
              "1      NaN      NaN  Our Deeds are the Reason of this #earthquake M...       1\n",
              "4      NaN      NaN             Forest fire near La Ronge Sask. Canada       1\n",
              "5      NaN      NaN  All residents asked to 'shelter in place' are ...       1\n",
              "6      NaN      NaN  13,000 people receive #wildfires evacuation or...       1\n",
              "7      NaN      NaN  Just got sent this photo from Ruby #Alaska as ...       1"
            ]
          },
          "execution_count": 9,
          "metadata": {},
          "output_type": "execute_result"
        }
      ],
      "source": [
        "train_df.head()"
      ]
    },
    {
      "cell_type": "code",
      "execution_count": null,
      "metadata": {
        "colab": {
          "base_uri": "https://localhost:8080/"
        },
        "id": "qkWKj1JcAJ2Q",
        "outputId": "2930b681-686c-4993-e467-3eae7ee6e9c8"
      },
      "outputs": [
        {
          "name": "stdout",
          "output_type": "stream",
          "text": [
            "<class 'pandas.core.frame.DataFrame'>\n",
            "Int64Index: 7613 entries, 1 to 10873\n",
            "Data columns (total 4 columns):\n",
            " #   Column    Non-Null Count  Dtype \n",
            "---  ------    --------------  ----- \n",
            " 0   keyword   7552 non-null   object\n",
            " 1   location  5080 non-null   object\n",
            " 2   text      7613 non-null   object\n",
            " 3   target    7613 non-null   int64 \n",
            "dtypes: int64(1), object(3)\n",
            "memory usage: 297.4+ KB\n"
          ]
        }
      ],
      "source": [
        "train_df.info()"
      ]
    },
    {
      "cell_type": "code",
      "execution_count": null,
      "metadata": {
        "colab": {
          "base_uri": "https://localhost:8080/",
          "height": 237
        },
        "id": "wBy0L_R5AJ2Q",
        "outputId": "a0885885-12f9-43f6-a80c-8ab2759355ba"
      },
      "outputs": [
        {
          "data": {
            "text/html": [
              "\n",
              "  <div id=\"df-0f3f9d4e-2e57-4153-8941-2f08e13fba73\" class=\"colab-df-container\">\n",
              "    <div>\n",
              "<style scoped>\n",
              "    .dataframe tbody tr th:only-of-type {\n",
              "        vertical-align: middle;\n",
              "    }\n",
              "\n",
              "    .dataframe tbody tr th {\n",
              "        vertical-align: top;\n",
              "    }\n",
              "\n",
              "    .dataframe thead th {\n",
              "        text-align: right;\n",
              "    }\n",
              "</style>\n",
              "<table border=\"1\" class=\"dataframe\">\n",
              "  <thead>\n",
              "    <tr style=\"text-align: right;\">\n",
              "      <th></th>\n",
              "      <th>keyword</th>\n",
              "      <th>location</th>\n",
              "      <th>text</th>\n",
              "    </tr>\n",
              "    <tr>\n",
              "      <th>id</th>\n",
              "      <th></th>\n",
              "      <th></th>\n",
              "      <th></th>\n",
              "    </tr>\n",
              "  </thead>\n",
              "  <tbody>\n",
              "    <tr>\n",
              "      <th>0</th>\n",
              "      <td>NaN</td>\n",
              "      <td>NaN</td>\n",
              "      <td>Just happened a terrible car crash</td>\n",
              "    </tr>\n",
              "    <tr>\n",
              "      <th>2</th>\n",
              "      <td>NaN</td>\n",
              "      <td>NaN</td>\n",
              "      <td>Heard about #earthquake is different cities, s...</td>\n",
              "    </tr>\n",
              "    <tr>\n",
              "      <th>3</th>\n",
              "      <td>NaN</td>\n",
              "      <td>NaN</td>\n",
              "      <td>there is a forest fire at spot pond, geese are...</td>\n",
              "    </tr>\n",
              "    <tr>\n",
              "      <th>9</th>\n",
              "      <td>NaN</td>\n",
              "      <td>NaN</td>\n",
              "      <td>Apocalypse lighting. #Spokane #wildfires</td>\n",
              "    </tr>\n",
              "    <tr>\n",
              "      <th>11</th>\n",
              "      <td>NaN</td>\n",
              "      <td>NaN</td>\n",
              "      <td>Typhoon Soudelor kills 28 in China and Taiwan</td>\n",
              "    </tr>\n",
              "  </tbody>\n",
              "</table>\n",
              "</div>\n",
              "    <div class=\"colab-df-buttons\">\n",
              "\n",
              "  <div class=\"colab-df-container\">\n",
              "    <button class=\"colab-df-convert\" onclick=\"convertToInteractive('df-0f3f9d4e-2e57-4153-8941-2f08e13fba73')\"\n",
              "            title=\"Convert this dataframe to an interactive table.\"\n",
              "            style=\"display:none;\">\n",
              "\n",
              "  <svg xmlns=\"http://www.w3.org/2000/svg\" height=\"24px\" viewBox=\"0 -960 960 960\">\n",
              "    <path d=\"M120-120v-720h720v720H120Zm60-500h600v-160H180v160Zm220 220h160v-160H400v160Zm0 220h160v-160H400v160ZM180-400h160v-160H180v160Zm440 0h160v-160H620v160ZM180-180h160v-160H180v160Zm440 0h160v-160H620v160Z\"/>\n",
              "  </svg>\n",
              "    </button>\n",
              "\n",
              "  <style>\n",
              "    .colab-df-container {\n",
              "      display:flex;\n",
              "      gap: 12px;\n",
              "    }\n",
              "\n",
              "    .colab-df-convert {\n",
              "      background-color: #E8F0FE;\n",
              "      border: none;\n",
              "      border-radius: 50%;\n",
              "      cursor: pointer;\n",
              "      display: none;\n",
              "      fill: #1967D2;\n",
              "      height: 32px;\n",
              "      padding: 0 0 0 0;\n",
              "      width: 32px;\n",
              "    }\n",
              "\n",
              "    .colab-df-convert:hover {\n",
              "      background-color: #E2EBFA;\n",
              "      box-shadow: 0px 1px 2px rgba(60, 64, 67, 0.3), 0px 1px 3px 1px rgba(60, 64, 67, 0.15);\n",
              "      fill: #174EA6;\n",
              "    }\n",
              "\n",
              "    .colab-df-buttons div {\n",
              "      margin-bottom: 4px;\n",
              "    }\n",
              "\n",
              "    [theme=dark] .colab-df-convert {\n",
              "      background-color: #3B4455;\n",
              "      fill: #D2E3FC;\n",
              "    }\n",
              "\n",
              "    [theme=dark] .colab-df-convert:hover {\n",
              "      background-color: #434B5C;\n",
              "      box-shadow: 0px 1px 3px 1px rgba(0, 0, 0, 0.15);\n",
              "      filter: drop-shadow(0px 1px 2px rgba(0, 0, 0, 0.3));\n",
              "      fill: #FFFFFF;\n",
              "    }\n",
              "  </style>\n",
              "\n",
              "    <script>\n",
              "      const buttonEl =\n",
              "        document.querySelector('#df-0f3f9d4e-2e57-4153-8941-2f08e13fba73 button.colab-df-convert');\n",
              "      buttonEl.style.display =\n",
              "        google.colab.kernel.accessAllowed ? 'block' : 'none';\n",
              "\n",
              "      async function convertToInteractive(key) {\n",
              "        const element = document.querySelector('#df-0f3f9d4e-2e57-4153-8941-2f08e13fba73');\n",
              "        const dataTable =\n",
              "          await google.colab.kernel.invokeFunction('convertToInteractive',\n",
              "                                                    [key], {});\n",
              "        if (!dataTable) return;\n",
              "\n",
              "        const docLinkHtml = 'Like what you see? Visit the ' +\n",
              "          '<a target=\"_blank\" href=https://colab.research.google.com/notebooks/data_table.ipynb>data table notebook</a>'\n",
              "          + ' to learn more about interactive tables.';\n",
              "        element.innerHTML = '';\n",
              "        dataTable['output_type'] = 'display_data';\n",
              "        await google.colab.output.renderOutput(dataTable, element);\n",
              "        const docLink = document.createElement('div');\n",
              "        docLink.innerHTML = docLinkHtml;\n",
              "        element.appendChild(docLink);\n",
              "      }\n",
              "    </script>\n",
              "  </div>\n",
              "\n",
              "\n",
              "<div id=\"df-c462126a-5287-41aa-a6f0-6acb348cd163\">\n",
              "  <button class=\"colab-df-quickchart\" onclick=\"quickchart('df-c462126a-5287-41aa-a6f0-6acb348cd163')\"\n",
              "            title=\"Suggest charts.\"\n",
              "            style=\"display:none;\">\n",
              "\n",
              "<svg xmlns=\"http://www.w3.org/2000/svg\" height=\"24px\"viewBox=\"0 0 24 24\"\n",
              "     width=\"24px\">\n",
              "    <g>\n",
              "        <path d=\"M19 3H5c-1.1 0-2 .9-2 2v14c0 1.1.9 2 2 2h14c1.1 0 2-.9 2-2V5c0-1.1-.9-2-2-2zM9 17H7v-7h2v7zm4 0h-2V7h2v10zm4 0h-2v-4h2v4z\"/>\n",
              "    </g>\n",
              "</svg>\n",
              "  </button>\n",
              "\n",
              "<style>\n",
              "  .colab-df-quickchart {\n",
              "      --bg-color: #E8F0FE;\n",
              "      --fill-color: #1967D2;\n",
              "      --hover-bg-color: #E2EBFA;\n",
              "      --hover-fill-color: #174EA6;\n",
              "      --disabled-fill-color: #AAA;\n",
              "      --disabled-bg-color: #DDD;\n",
              "  }\n",
              "\n",
              "  [theme=dark] .colab-df-quickchart {\n",
              "      --bg-color: #3B4455;\n",
              "      --fill-color: #D2E3FC;\n",
              "      --hover-bg-color: #434B5C;\n",
              "      --hover-fill-color: #FFFFFF;\n",
              "      --disabled-bg-color: #3B4455;\n",
              "      --disabled-fill-color: #666;\n",
              "  }\n",
              "\n",
              "  .colab-df-quickchart {\n",
              "    background-color: var(--bg-color);\n",
              "    border: none;\n",
              "    border-radius: 50%;\n",
              "    cursor: pointer;\n",
              "    display: none;\n",
              "    fill: var(--fill-color);\n",
              "    height: 32px;\n",
              "    padding: 0;\n",
              "    width: 32px;\n",
              "  }\n",
              "\n",
              "  .colab-df-quickchart:hover {\n",
              "    background-color: var(--hover-bg-color);\n",
              "    box-shadow: 0 1px 2px rgba(60, 64, 67, 0.3), 0 1px 3px 1px rgba(60, 64, 67, 0.15);\n",
              "    fill: var(--button-hover-fill-color);\n",
              "  }\n",
              "\n",
              "  .colab-df-quickchart-complete:disabled,\n",
              "  .colab-df-quickchart-complete:disabled:hover {\n",
              "    background-color: var(--disabled-bg-color);\n",
              "    fill: var(--disabled-fill-color);\n",
              "    box-shadow: none;\n",
              "  }\n",
              "\n",
              "  .colab-df-spinner {\n",
              "    border: 2px solid var(--fill-color);\n",
              "    border-color: transparent;\n",
              "    border-bottom-color: var(--fill-color);\n",
              "    animation:\n",
              "      spin 1s steps(1) infinite;\n",
              "  }\n",
              "\n",
              "  @keyframes spin {\n",
              "    0% {\n",
              "      border-color: transparent;\n",
              "      border-bottom-color: var(--fill-color);\n",
              "      border-left-color: var(--fill-color);\n",
              "    }\n",
              "    20% {\n",
              "      border-color: transparent;\n",
              "      border-left-color: var(--fill-color);\n",
              "      border-top-color: var(--fill-color);\n",
              "    }\n",
              "    30% {\n",
              "      border-color: transparent;\n",
              "      border-left-color: var(--fill-color);\n",
              "      border-top-color: var(--fill-color);\n",
              "      border-right-color: var(--fill-color);\n",
              "    }\n",
              "    40% {\n",
              "      border-color: transparent;\n",
              "      border-right-color: var(--fill-color);\n",
              "      border-top-color: var(--fill-color);\n",
              "    }\n",
              "    60% {\n",
              "      border-color: transparent;\n",
              "      border-right-color: var(--fill-color);\n",
              "    }\n",
              "    80% {\n",
              "      border-color: transparent;\n",
              "      border-right-color: var(--fill-color);\n",
              "      border-bottom-color: var(--fill-color);\n",
              "    }\n",
              "    90% {\n",
              "      border-color: transparent;\n",
              "      border-bottom-color: var(--fill-color);\n",
              "    }\n",
              "  }\n",
              "</style>\n",
              "\n",
              "  <script>\n",
              "    async function quickchart(key) {\n",
              "      const quickchartButtonEl =\n",
              "        document.querySelector('#' + key + ' button');\n",
              "      quickchartButtonEl.disabled = true;  // To prevent multiple clicks.\n",
              "      quickchartButtonEl.classList.add('colab-df-spinner');\n",
              "      try {\n",
              "        const charts = await google.colab.kernel.invokeFunction(\n",
              "            'suggestCharts', [key], {});\n",
              "      } catch (error) {\n",
              "        console.error('Error during call to suggestCharts:', error);\n",
              "      }\n",
              "      quickchartButtonEl.classList.remove('colab-df-spinner');\n",
              "      quickchartButtonEl.classList.add('colab-df-quickchart-complete');\n",
              "    }\n",
              "    (() => {\n",
              "      let quickchartButtonEl =\n",
              "        document.querySelector('#df-c462126a-5287-41aa-a6f0-6acb348cd163 button');\n",
              "      quickchartButtonEl.style.display =\n",
              "        google.colab.kernel.accessAllowed ? 'block' : 'none';\n",
              "    })();\n",
              "  </script>\n",
              "</div>\n",
              "    </div>\n",
              "  </div>\n"
            ],
            "text/plain": [
              "   keyword location                                               text\n",
              "id                                                                    \n",
              "0      NaN      NaN                 Just happened a terrible car crash\n",
              "2      NaN      NaN  Heard about #earthquake is different cities, s...\n",
              "3      NaN      NaN  there is a forest fire at spot pond, geese are...\n",
              "9      NaN      NaN           Apocalypse lighting. #Spokane #wildfires\n",
              "11     NaN      NaN      Typhoon Soudelor kills 28 in China and Taiwan"
            ]
          },
          "execution_count": 11,
          "metadata": {},
          "output_type": "execute_result"
        }
      ],
      "source": [
        "test_df.head()"
      ]
    },
    {
      "cell_type": "code",
      "execution_count": null,
      "metadata": {
        "colab": {
          "base_uri": "https://localhost:8080/"
        },
        "id": "QHxJrmBdAJ2R",
        "outputId": "e10aa0ee-cba4-4fc9-9c8c-db5eb0f6c9df"
      },
      "outputs": [
        {
          "name": "stdout",
          "output_type": "stream",
          "text": [
            "<class 'pandas.core.frame.DataFrame'>\n",
            "Int64Index: 7613 entries, 1 to 10873\n",
            "Data columns (total 4 columns):\n",
            " #   Column    Non-Null Count  Dtype \n",
            "---  ------    --------------  ----- \n",
            " 0   keyword   7552 non-null   object\n",
            " 1   location  5080 non-null   object\n",
            " 2   text      7613 non-null   object\n",
            " 3   target    7613 non-null   int64 \n",
            "dtypes: int64(1), object(3)\n",
            "memory usage: 297.4+ KB\n"
          ]
        }
      ],
      "source": [
        "train_df.info()"
      ]
    },
    {
      "cell_type": "code",
      "execution_count": null,
      "metadata": {
        "colab": {
          "base_uri": "https://localhost:8080/"
        },
        "id": "p3sPCmnyAJ2R",
        "outputId": "b28add18-4130-4c46-8a6e-bca998c38684"
      },
      "outputs": [
        {
          "name": "stdout",
          "output_type": "stream",
          "text": [
            "Train dataset, missing values: 2594\n",
            "Test dataset, missing values: 1131\n"
          ]
        }
      ],
      "source": [
        "print('Train dataset, missing values:', train_df.isna().sum().sum())\n",
        "print('Test dataset, missing values:', test_df.isna().sum().sum())"
      ]
    },
    {
      "cell_type": "markdown",
      "metadata": {
        "id": "-Bz0CXrUAJ2R"
      },
      "source": [
        "Check keywords and location values."
      ]
    },
    {
      "cell_type": "code",
      "execution_count": null,
      "metadata": {
        "colab": {
          "base_uri": "https://localhost:8080/"
        },
        "id": "9cNGpk4fAJ2R",
        "outputId": "8c743cd9-7e20-46fb-e9e7-259d80a24dfa"
      },
      "outputs": [
        {
          "data": {
            "text/plain": [
              "fatalities               45\n",
              "deluge                   42\n",
              "armageddon               42\n",
              "sinking                  41\n",
              "damage                   41\n",
              "                         ..\n",
              "forest%20fire            19\n",
              "epicentre                12\n",
              "threat                   11\n",
              "inundation               10\n",
              "radiation%20emergency     9\n",
              "Name: keyword, Length: 221, dtype: int64"
            ]
          },
          "execution_count": 14,
          "metadata": {},
          "output_type": "execute_result"
        }
      ],
      "source": [
        "train_df[\"keyword\"].value_counts()"
      ]
    },
    {
      "cell_type": "code",
      "execution_count": null,
      "metadata": {
        "colab": {
          "base_uri": "https://localhost:8080/"
        },
        "id": "bQ3lCIpRAJ2R",
        "outputId": "37d787be-4ccd-45df-81dc-30a5ac628287"
      },
      "outputs": [
        {
          "data": {
            "text/plain": [
              "USA                    104\n",
              "New York                71\n",
              "United States           50\n",
              "London                  45\n",
              "Canada                  29\n",
              "                      ... \n",
              "MontrÌ©al, QuÌ©bec       1\n",
              "Montreal                 1\n",
              "ÌÏT: 6.4682,3.18287      1\n",
              "Live4Heed??              1\n",
              "Lincoln                  1\n",
              "Name: location, Length: 3341, dtype: int64"
            ]
          },
          "execution_count": 15,
          "metadata": {},
          "output_type": "execute_result"
        }
      ],
      "source": [
        "train_df[\"location\"].value_counts()"
      ]
    },
    {
      "cell_type": "markdown",
      "metadata": {
        "id": "VvAtsa4MAJ2R"
      },
      "source": [
        "### Check duplicates"
      ]
    },
    {
      "cell_type": "markdown",
      "metadata": {
        "id": "z2fPpQ52AJ2R"
      },
      "source": [
        "Check the training set for duplicates that are mislabeled. Prior to training, target values should be relabeled as they may affect the training score."
      ]
    },
    {
      "cell_type": "code",
      "execution_count": null,
      "metadata": {
        "colab": {
          "base_uri": "https://localhost:8080/",
          "height": 237
        },
        "id": "Ul5QBlQCAJ2R",
        "outputId": "620bca59-66a3-4566-c675-0da2d1e600aa"
      },
      "outputs": [
        {
          "data": {
            "text/html": [
              "\n",
              "  <div id=\"df-c31acab2-6877-404b-9484-0aedc6f60855\" class=\"colab-df-container\">\n",
              "    <div>\n",
              "<style scoped>\n",
              "    .dataframe tbody tr th:only-of-type {\n",
              "        vertical-align: middle;\n",
              "    }\n",
              "\n",
              "    .dataframe tbody tr th {\n",
              "        vertical-align: top;\n",
              "    }\n",
              "\n",
              "    .dataframe thead th {\n",
              "        text-align: right;\n",
              "    }\n",
              "</style>\n",
              "<table border=\"1\" class=\"dataframe\">\n",
              "  <thead>\n",
              "    <tr style=\"text-align: right;\">\n",
              "      <th></th>\n",
              "      <th>keyword</th>\n",
              "      <th>location</th>\n",
              "      <th>text</th>\n",
              "      <th>target</th>\n",
              "    </tr>\n",
              "    <tr>\n",
              "      <th>id</th>\n",
              "      <th></th>\n",
              "      <th></th>\n",
              "      <th></th>\n",
              "      <th></th>\n",
              "    </tr>\n",
              "  </thead>\n",
              "  <tbody>\n",
              "    <tr>\n",
              "      <th>6094</th>\n",
              "      <td>hellfire</td>\n",
              "      <td>Jubail IC, Saudi Arabia.</td>\n",
              "      <td>#Allah describes piling up #wealth thinking it...</td>\n",
              "      <td>0</td>\n",
              "    </tr>\n",
              "    <tr>\n",
              "      <th>6105</th>\n",
              "      <td>hellfire</td>\n",
              "      <td>?????? ??? ?????? ????????</td>\n",
              "      <td>#Allah describes piling up #wealth thinking it...</td>\n",
              "      <td>0</td>\n",
              "    </tr>\n",
              "    <tr>\n",
              "      <th>6123</th>\n",
              "      <td>hellfire</td>\n",
              "      <td>?????? ???? ??????</td>\n",
              "      <td>#Allah describes piling up #wealth thinking it...</td>\n",
              "      <td>1</td>\n",
              "    </tr>\n",
              "    <tr>\n",
              "      <th>6031</th>\n",
              "      <td>hazardous</td>\n",
              "      <td>New Delhi, Delhi</td>\n",
              "      <td>#foodscare #offers2go #NestleIndia slips into ...</td>\n",
              "      <td>0</td>\n",
              "    </tr>\n",
              "    <tr>\n",
              "      <th>5996</th>\n",
              "      <td>hazardous</td>\n",
              "      <td>NaN</td>\n",
              "      <td>#foodscare #offers2go #NestleIndia slips into ...</td>\n",
              "      <td>1</td>\n",
              "    </tr>\n",
              "  </tbody>\n",
              "</table>\n",
              "</div>\n",
              "    <div class=\"colab-df-buttons\">\n",
              "\n",
              "  <div class=\"colab-df-container\">\n",
              "    <button class=\"colab-df-convert\" onclick=\"convertToInteractive('df-c31acab2-6877-404b-9484-0aedc6f60855')\"\n",
              "            title=\"Convert this dataframe to an interactive table.\"\n",
              "            style=\"display:none;\">\n",
              "\n",
              "  <svg xmlns=\"http://www.w3.org/2000/svg\" height=\"24px\" viewBox=\"0 -960 960 960\">\n",
              "    <path d=\"M120-120v-720h720v720H120Zm60-500h600v-160H180v160Zm220 220h160v-160H400v160Zm0 220h160v-160H400v160ZM180-400h160v-160H180v160Zm440 0h160v-160H620v160ZM180-180h160v-160H180v160Zm440 0h160v-160H620v160Z\"/>\n",
              "  </svg>\n",
              "    </button>\n",
              "\n",
              "  <style>\n",
              "    .colab-df-container {\n",
              "      display:flex;\n",
              "      gap: 12px;\n",
              "    }\n",
              "\n",
              "    .colab-df-convert {\n",
              "      background-color: #E8F0FE;\n",
              "      border: none;\n",
              "      border-radius: 50%;\n",
              "      cursor: pointer;\n",
              "      display: none;\n",
              "      fill: #1967D2;\n",
              "      height: 32px;\n",
              "      padding: 0 0 0 0;\n",
              "      width: 32px;\n",
              "    }\n",
              "\n",
              "    .colab-df-convert:hover {\n",
              "      background-color: #E2EBFA;\n",
              "      box-shadow: 0px 1px 2px rgba(60, 64, 67, 0.3), 0px 1px 3px 1px rgba(60, 64, 67, 0.15);\n",
              "      fill: #174EA6;\n",
              "    }\n",
              "\n",
              "    .colab-df-buttons div {\n",
              "      margin-bottom: 4px;\n",
              "    }\n",
              "\n",
              "    [theme=dark] .colab-df-convert {\n",
              "      background-color: #3B4455;\n",
              "      fill: #D2E3FC;\n",
              "    }\n",
              "\n",
              "    [theme=dark] .colab-df-convert:hover {\n",
              "      background-color: #434B5C;\n",
              "      box-shadow: 0px 1px 3px 1px rgba(0, 0, 0, 0.15);\n",
              "      filter: drop-shadow(0px 1px 2px rgba(0, 0, 0, 0.3));\n",
              "      fill: #FFFFFF;\n",
              "    }\n",
              "  </style>\n",
              "\n",
              "    <script>\n",
              "      const buttonEl =\n",
              "        document.querySelector('#df-c31acab2-6877-404b-9484-0aedc6f60855 button.colab-df-convert');\n",
              "      buttonEl.style.display =\n",
              "        google.colab.kernel.accessAllowed ? 'block' : 'none';\n",
              "\n",
              "      async function convertToInteractive(key) {\n",
              "        const element = document.querySelector('#df-c31acab2-6877-404b-9484-0aedc6f60855');\n",
              "        const dataTable =\n",
              "          await google.colab.kernel.invokeFunction('convertToInteractive',\n",
              "                                                    [key], {});\n",
              "        if (!dataTable) return;\n",
              "\n",
              "        const docLinkHtml = 'Like what you see? Visit the ' +\n",
              "          '<a target=\"_blank\" href=https://colab.research.google.com/notebooks/data_table.ipynb>data table notebook</a>'\n",
              "          + ' to learn more about interactive tables.';\n",
              "        element.innerHTML = '';\n",
              "        dataTable['output_type'] = 'display_data';\n",
              "        await google.colab.output.renderOutput(dataTable, element);\n",
              "        const docLink = document.createElement('div');\n",
              "        docLink.innerHTML = docLinkHtml;\n",
              "        element.appendChild(docLink);\n",
              "      }\n",
              "    </script>\n",
              "  </div>\n",
              "\n",
              "\n",
              "<div id=\"df-0d5ca200-eef0-403f-a080-30dc61518c19\">\n",
              "  <button class=\"colab-df-quickchart\" onclick=\"quickchart('df-0d5ca200-eef0-403f-a080-30dc61518c19')\"\n",
              "            title=\"Suggest charts.\"\n",
              "            style=\"display:none;\">\n",
              "\n",
              "<svg xmlns=\"http://www.w3.org/2000/svg\" height=\"24px\"viewBox=\"0 0 24 24\"\n",
              "     width=\"24px\">\n",
              "    <g>\n",
              "        <path d=\"M19 3H5c-1.1 0-2 .9-2 2v14c0 1.1.9 2 2 2h14c1.1 0 2-.9 2-2V5c0-1.1-.9-2-2-2zM9 17H7v-7h2v7zm4 0h-2V7h2v10zm4 0h-2v-4h2v4z\"/>\n",
              "    </g>\n",
              "</svg>\n",
              "  </button>\n",
              "\n",
              "<style>\n",
              "  .colab-df-quickchart {\n",
              "      --bg-color: #E8F0FE;\n",
              "      --fill-color: #1967D2;\n",
              "      --hover-bg-color: #E2EBFA;\n",
              "      --hover-fill-color: #174EA6;\n",
              "      --disabled-fill-color: #AAA;\n",
              "      --disabled-bg-color: #DDD;\n",
              "  }\n",
              "\n",
              "  [theme=dark] .colab-df-quickchart {\n",
              "      --bg-color: #3B4455;\n",
              "      --fill-color: #D2E3FC;\n",
              "      --hover-bg-color: #434B5C;\n",
              "      --hover-fill-color: #FFFFFF;\n",
              "      --disabled-bg-color: #3B4455;\n",
              "      --disabled-fill-color: #666;\n",
              "  }\n",
              "\n",
              "  .colab-df-quickchart {\n",
              "    background-color: var(--bg-color);\n",
              "    border: none;\n",
              "    border-radius: 50%;\n",
              "    cursor: pointer;\n",
              "    display: none;\n",
              "    fill: var(--fill-color);\n",
              "    height: 32px;\n",
              "    padding: 0;\n",
              "    width: 32px;\n",
              "  }\n",
              "\n",
              "  .colab-df-quickchart:hover {\n",
              "    background-color: var(--hover-bg-color);\n",
              "    box-shadow: 0 1px 2px rgba(60, 64, 67, 0.3), 0 1px 3px 1px rgba(60, 64, 67, 0.15);\n",
              "    fill: var(--button-hover-fill-color);\n",
              "  }\n",
              "\n",
              "  .colab-df-quickchart-complete:disabled,\n",
              "  .colab-df-quickchart-complete:disabled:hover {\n",
              "    background-color: var(--disabled-bg-color);\n",
              "    fill: var(--disabled-fill-color);\n",
              "    box-shadow: none;\n",
              "  }\n",
              "\n",
              "  .colab-df-spinner {\n",
              "    border: 2px solid var(--fill-color);\n",
              "    border-color: transparent;\n",
              "    border-bottom-color: var(--fill-color);\n",
              "    animation:\n",
              "      spin 1s steps(1) infinite;\n",
              "  }\n",
              "\n",
              "  @keyframes spin {\n",
              "    0% {\n",
              "      border-color: transparent;\n",
              "      border-bottom-color: var(--fill-color);\n",
              "      border-left-color: var(--fill-color);\n",
              "    }\n",
              "    20% {\n",
              "      border-color: transparent;\n",
              "      border-left-color: var(--fill-color);\n",
              "      border-top-color: var(--fill-color);\n",
              "    }\n",
              "    30% {\n",
              "      border-color: transparent;\n",
              "      border-left-color: var(--fill-color);\n",
              "      border-top-color: var(--fill-color);\n",
              "      border-right-color: var(--fill-color);\n",
              "    }\n",
              "    40% {\n",
              "      border-color: transparent;\n",
              "      border-right-color: var(--fill-color);\n",
              "      border-top-color: var(--fill-color);\n",
              "    }\n",
              "    60% {\n",
              "      border-color: transparent;\n",
              "      border-right-color: var(--fill-color);\n",
              "    }\n",
              "    80% {\n",
              "      border-color: transparent;\n",
              "      border-right-color: var(--fill-color);\n",
              "      border-bottom-color: var(--fill-color);\n",
              "    }\n",
              "    90% {\n",
              "      border-color: transparent;\n",
              "      border-bottom-color: var(--fill-color);\n",
              "    }\n",
              "  }\n",
              "</style>\n",
              "\n",
              "  <script>\n",
              "    async function quickchart(key) {\n",
              "      const quickchartButtonEl =\n",
              "        document.querySelector('#' + key + ' button');\n",
              "      quickchartButtonEl.disabled = true;  // To prevent multiple clicks.\n",
              "      quickchartButtonEl.classList.add('colab-df-spinner');\n",
              "      try {\n",
              "        const charts = await google.colab.kernel.invokeFunction(\n",
              "            'suggestCharts', [key], {});\n",
              "      } catch (error) {\n",
              "        console.error('Error during call to suggestCharts:', error);\n",
              "      }\n",
              "      quickchartButtonEl.classList.remove('colab-df-spinner');\n",
              "      quickchartButtonEl.classList.add('colab-df-quickchart-complete');\n",
              "    }\n",
              "    (() => {\n",
              "      let quickchartButtonEl =\n",
              "        document.querySelector('#df-0d5ca200-eef0-403f-a080-30dc61518c19 button');\n",
              "      quickchartButtonEl.style.display =\n",
              "        google.colab.kernel.accessAllowed ? 'block' : 'none';\n",
              "    })();\n",
              "  </script>\n",
              "</div>\n",
              "    </div>\n",
              "  </div>\n"
            ],
            "text/plain": [
              "        keyword                    location  \\\n",
              "id                                            \n",
              "6094   hellfire    Jubail IC, Saudi Arabia.   \n",
              "6105   hellfire  ?????? ??? ?????? ????????   \n",
              "6123   hellfire          ?????? ???? ??????   \n",
              "6031  hazardous            New Delhi, Delhi   \n",
              "5996  hazardous                         NaN   \n",
              "\n",
              "                                                   text  target  \n",
              "id                                                               \n",
              "6094  #Allah describes piling up #wealth thinking it...       0  \n",
              "6105  #Allah describes piling up #wealth thinking it...       0  \n",
              "6123  #Allah describes piling up #wealth thinking it...       1  \n",
              "6031  #foodscare #offers2go #NestleIndia slips into ...       0  \n",
              "5996  #foodscare #offers2go #NestleIndia slips into ...       1  "
            ]
          },
          "execution_count": 16,
          "metadata": {},
          "output_type": "execute_result"
        }
      ],
      "source": [
        "duplicates = train_df.duplicated(subset=['text'], keep=False)\n",
        "duplicates_mislabeled = (train_df[duplicates]\n",
        "                         .groupby(['text'])\n",
        "                         .filter(lambda x: len(x['target'].unique()) > 1)\n",
        "                         .sort_values(by='text'))\n",
        "duplicates_mislabeled.head()"
      ]
    },
    {
      "cell_type": "code",
      "execution_count": null,
      "metadata": {
        "colab": {
          "base_uri": "https://localhost:8080/"
        },
        "id": "IP2fU6J9AJ2R",
        "outputId": "e0bbf583-10ba-4218-ac82-9c910c1d7097"
      },
      "outputs": [
        {
          "data": {
            "text/plain": [
              "(55, 4)"
            ]
          },
          "execution_count": 17,
          "metadata": {},
          "output_type": "execute_result"
        }
      ],
      "source": [
        "duplicates_mislabeled.shape"
      ]
    },
    {
      "cell_type": "code",
      "execution_count": null,
      "metadata": {
        "colab": {
          "base_uri": "https://localhost:8080/"
        },
        "id": "9PVu65M_AJ2R",
        "outputId": "84eb26a2-2050-41a5-8f84-1799d2325edb"
      },
      "outputs": [
        {
          "name": "stdout",
          "output_type": "stream",
          "text": [
            "6094 0 #Allah describes piling up #wealth thinking it would last #forever as the description of the people of #Hellfire in Surah Humaza. #Reflect\n",
            "6105 0 #Allah describes piling up #wealth thinking it would last #forever as the description of the people of #Hellfire in Surah Humaza. #Reflect\n",
            "6123 1 #Allah describes piling up #wealth thinking it would last #forever as the description of the people of #Hellfire in Surah Humaza. #Reflect\n",
            "6031 0 #foodscare #offers2go #NestleIndia slips into loss after #Magginoodle #ban unsafe and hazardous for #humanconsumption\n",
            "5996 1 #foodscare #offers2go #NestleIndia slips into loss after #Magginoodle #ban unsafe and hazardous for #humanconsumption\n",
            "6023 1 #foodscare #offers2go #NestleIndia slips into loss after #Magginoodle #ban unsafe and hazardous for #humanconsumption\n",
            "4076 0 .POTUS #StrategicPatience is a strategy for #Genocide; refugees; IDP Internally displaced people; horror; etc. https://t.co/rqWuoy1fm4\n",
            "4072 1 .POTUS #StrategicPatience is a strategy for #Genocide; refugees; IDP Internally displaced people; horror; etc. https://t.co/rqWuoy1fm4\n",
            "4068 1 .POTUS #StrategicPatience is a strategy for #Genocide; refugees; IDP Internally displaced people; horror; etc. https://t.co/rqWuoy1fm4\n",
            "4077 1 .POTUS #StrategicPatience is a strategy for #Genocide; refugees; IDP Internally displaced people; horror; etc. https://t.co/rqWuoy1fm4\n",
            "6548 1 CLEARED:incident with injury:I-495  inner loop Exit 31 - MD 97/Georgia Ave Silver Spring\n",
            "6537 1 CLEARED:incident with injury:I-495  inner loop Exit 31 - MD 97/Georgia Ave Silver Spring\n",
            "6566 0 CLEARED:incident with injury:I-495  inner loop Exit 31 - MD 97/Georgia Ave Silver Spring\n",
            "6017 0 Caution: breathing may be hazardous to your health.\n",
            "6012 1 Caution: breathing may be hazardous to your health.\n",
            "4684 0 He came to a land which was engulfed in tribal war and turned it into a land of peace i.e. Madinah. #ProphetMuhammad #islam\n",
            "4656 0 He came to a land which was engulfed in tribal war and turned it into a land of peace i.e. Madinah. #ProphetMuhammad #islam\n",
            "4659 1 He came to a land which was engulfed in tribal war and turned it into a land of peace i.e. Madinah. #ProphetMuhammad #islam\n",
            "4669 1 He came to a land which was engulfed in tribal war and turned it into a land of peace i.e. Madinah. #ProphetMuhammad #islam\n",
            "4672 0 He came to a land which was engulfed in tribal war and turned it into a land of peace i.e. Madinah. #ProphetMuhammad #islam\n",
            "4691 0 He came to a land which was engulfed in tribal war and turned it into a land of peace i.e. Madinah. #ProphetMuhammad #islam\n",
            "6088 0 Hellfire is surrounded by desires so be careful and donÛªt let your desires control you! #Afterlife\n",
            "6125 0 Hellfire is surrounded by desires so be careful and donÛªt let your desires control you! #Afterlife\n",
            "6112 1 Hellfire is surrounded by desires so be careful and donÛªt let your desires control you! #Afterlife\n",
            "6134 1 Hellfire! We donÛªt even want to think about it or mention it so letÛªs not do anything that leads to it #islam!\n",
            "6113 0 Hellfire! We donÛªt even want to think about it or mention it so letÛªs not do anything that leads to it #islam!\n",
            "1752 0 I Pledge Allegiance To The P.O.P.E. And The Burning Buildings of Epic City. ??????\n",
            "1968 1 I Pledge Allegiance To The P.O.P.E. And The Burning Buildings of Epic City. ??????\n",
            "9472 1 In #islam saving a person is equal in reward to saving all humans! Islam is the opposite of terrorism!\n",
            "9470 0 In #islam saving a person is equal in reward to saving all humans! Islam is the opposite of terrorism!\n",
            "1922 0 Mmmmmm I'm burning.... I'm burning buildings I'm building.... Oooooohhhh oooh ooh...\n",
            "1723 1 Mmmmmm I'm burning.... I'm burning buildings I'm building.... Oooooohhhh oooh ooh...\n",
            "6223 1 RT NotExplained: The only known image of infamous hijacker D.B. Cooper. http://t.co/JlzK2HdeTG\n",
            "6220 0 RT NotExplained: The only known image of infamous hijacker D.B. Cooper. http://t.co/JlzK2HdeTG\n",
            "6111 0 The Prophet (peace be upon him) said 'Save yourself from Hellfire even if it is by giving half a date in charity.'\n",
            "6087 0 The Prophet (peace be upon him) said 'Save yourself from Hellfire even if it is by giving half a date in charity.'\n",
            "6132 1 The Prophet (peace be upon him) said 'Save yourself from Hellfire even if it is by giving half a date in charity.'\n",
            "6090 0 The Prophet (peace be upon him) said 'Save yourself from Hellfire even if it is by giving half a date in charity.'\n",
            "6097 1 The Prophet (peace be upon him) said 'Save yourself from Hellfire even if it is by giving half a date in charity.'\n",
            "6118 0 The Prophet (peace be upon him) said 'Save yourself from Hellfire even if it is by giving half a date in charity.'\n",
            "881 1 To fight bioterrorism sir.\n",
            "916 0 To fight bioterrorism sir.\n",
            "898 0 To fight bioterrorism sir.\n",
            "907 1 To fight bioterrorism sir.\n",
            "5699 0 Who is bringing the tornadoes and floods. Who is bringing the climate change. God is after America He is plaguing her\n",
            " \n",
            "#FARRAKHAN #QUOTE\n",
            "5662 1 Who is bringing the tornadoes and floods. Who is bringing the climate change. God is after America He is plaguing her\n",
            " \n",
            "#FARRAKHAN #QUOTE\n",
            "5710 0 Who is bringing the tornadoes and floods. Who is bringing the climate change. God is after America He is plaguing her\n",
            " \n",
            "#FARRAKHAN #QUOTE\n",
            "1760 1 like for the music video I want some real action shit like burning buildings and police chases not some weak ben winston shit\n",
            "1950 0 like for the music video I want some real action shit like burning buildings and police chases not some weak ben winston shit\n",
            "8714 0 that horrible sinking feeling when youÛªve been at home on your phone for a while and you realise its been on 3G this whole time\n",
            "8698 1 that horrible sinking feeling when youÛªve been at home on your phone for a while and you realise its been on 3G this whole time\n",
            "8702 0 that horrible sinking feeling when youÛªve been at home on your phone for a while and you realise its been on 3G this whole time\n",
            "8739 1 that horrible sinking feeling when youÛªve been at home on your phone for a while and you realise its been on 3G this whole time\n",
            "8018 1 wowo--=== 12000 Nigerian refugees repatriated from Cameroon\n",
            "8044 0 wowo--=== 12000 Nigerian refugees repatriated from Cameroon\n"
          ]
        }
      ],
      "source": [
        "for i,row in duplicates_mislabeled.sort_values('text').iterrows():\n",
        "    print(i, row['target'], row['text'])"
      ]
    },
    {
      "cell_type": "code",
      "execution_count": null,
      "metadata": {
        "id": "rrNOWk5NAJ2R"
      },
      "outputs": [],
      "source": [
        "relabel_ids_to_1 = [4076, 4072, 4068, 4077, 6566, 6548, 6537, 6017, 6012, 5699, 5662, 5710]\n",
        "relabel_ids_to_0 = [881, 898, 907, 916, 1723, 1922, 1752, 1968, 6094, 6105, 6123, 6031, 5996, 6023, 4684, 4656, 4659, 4669, 4672, 4691, 6088, 6125, 6112, 6134, 6113, 9472, 9470, 6223, 6220, 6087, 6132, 6090, 6097, 6118, 6111, 1760, 1950, 8698, 8702, 8714, 8739, 8018, 8044]"
      ]
    },
    {
      "cell_type": "markdown",
      "metadata": {
        "id": "Sp3rKViIAJ2S"
      },
      "source": [
        "### Strings length"
      ]
    },
    {
      "cell_type": "markdown",
      "metadata": {
        "id": "KshMk9fYAJ2S"
      },
      "source": [
        "Explore the length of tweets."
      ]
    },
    {
      "cell_type": "code",
      "execution_count": null,
      "metadata": {
        "colab": {
          "base_uri": "https://localhost:8080/"
        },
        "id": "Tna5SypKAJ2S",
        "outputId": "02af7b14-011f-4380-e8c5-bfb8f5d3a2c4"
      },
      "outputs": [
        {
          "data": {
            "text/plain": [
              "id\n",
              "1         69\n",
              "4         38\n",
              "5        133\n",
              "6         65\n",
              "7         88\n",
              "        ... \n",
              "10869     83\n",
              "10870    125\n",
              "10871     65\n",
              "10872    137\n",
              "10873     94\n",
              "Name: text, Length: 7613, dtype: int64"
            ]
          },
          "execution_count": 20,
          "metadata": {},
          "output_type": "execute_result"
        }
      ],
      "source": [
        "tweets_chars_len = train_df['text'].str.len()\n",
        "tweets_chars_len"
      ]
    },
    {
      "cell_type": "code",
      "execution_count": null,
      "metadata": {
        "colab": {
          "base_uri": "https://localhost:8080/"
        },
        "id": "oDDMqvC4AJ2U",
        "outputId": "e19f4f97-a44e-4817-b594-8eaf74c36d66"
      },
      "outputs": [
        {
          "data": {
            "text/plain": [
              "count    7613.000000\n",
              "mean      101.037436\n",
              "std        33.781325\n",
              "min         7.000000\n",
              "25%        78.000000\n",
              "50%       107.000000\n",
              "75%       133.000000\n",
              "max       157.000000\n",
              "Name: text, dtype: float64"
            ]
          },
          "execution_count": 21,
          "metadata": {},
          "output_type": "execute_result"
        }
      ],
      "source": [
        "tweets_chars_len.describe()"
      ]
    },
    {
      "cell_type": "markdown",
      "metadata": {
        "id": "qwrGHw2SAJ2U"
      },
      "source": [
        "Check tweets with max and min length."
      ]
    },
    {
      "cell_type": "code",
      "execution_count": null,
      "metadata": {
        "id": "iGbeOjXnAJ2U"
      },
      "outputs": [],
      "source": [
        "max_chars_len_index = tweets_chars_len.argmax()\n",
        "min_chars_len_index = tweets_chars_len.argmin()"
      ]
    },
    {
      "cell_type": "code",
      "execution_count": null,
      "metadata": {
        "colab": {
          "base_uri": "https://localhost:8080/"
        },
        "id": "_QnphmYZAJ2U",
        "outputId": "199c03f7-e349-4533-9dbd-3a93b6cd9e3c"
      },
      "outputs": [
        {
          "data": {
            "text/plain": [
              "(keyword     burned\n",
              " location       NaN\n",
              " target           0\n",
              " Name: 1832, dtype: object,\n",
              " \"when you're taking a shower and someone flushes the toilet and you have .1 second to GTFO or you get burned??????????????????????????????????????????????????\")"
            ]
          },
          "execution_count": 23,
          "metadata": {},
          "output_type": "execute_result"
        }
      ],
      "source": [
        "train_df.iloc[max_chars_len_index][['keyword', 'location', 'target']], train_df.iloc[max_chars_len_index]['text']"
      ]
    },
    {
      "cell_type": "code",
      "execution_count": null,
      "metadata": {
        "colab": {
          "base_uri": "https://localhost:8080/"
        },
        "id": "dHsyFN2qAJ2U",
        "outputId": "9eb57695-fa2d-4346-dcfc-f3c6fff48efe"
      },
      "outputs": [
        {
          "data": {
            "text/plain": [
              "(keyword     crushed\n",
              " location        NaN\n",
              " target            0\n",
              " Name: 2703, dtype: object,\n",
              " 'Crushed')"
            ]
          },
          "execution_count": 24,
          "metadata": {},
          "output_type": "execute_result"
        }
      ],
      "source": [
        "train_df.iloc[min_chars_len_index][['keyword', 'location', 'target']], train_df.iloc[min_chars_len_index]['text']"
      ]
    },
    {
      "cell_type": "markdown",
      "metadata": {
        "id": "sAMzkgOXAJ2U"
      },
      "source": [
        "### Strings content"
      ]
    },
    {
      "cell_type": "markdown",
      "metadata": {
        "id": "5fA_v3RKAJ2U"
      },
      "source": [
        "Check how many tweets contain URLs."
      ]
    },
    {
      "cell_type": "code",
      "execution_count": null,
      "metadata": {
        "colab": {
          "base_uri": "https://localhost:8080/",
          "height": 455
        },
        "id": "TwXNI1U7AJ2V",
        "outputId": "a18cc451-b14f-40cc-c327-8d84166c8ea7"
      },
      "outputs": [
        {
          "data": {
            "text/html": [
              "\n",
              "  <div id=\"df-cdc97cef-af7d-4241-957a-dbc8bc4922e8\" class=\"colab-df-container\">\n",
              "    <div>\n",
              "<style scoped>\n",
              "    .dataframe tbody tr th:only-of-type {\n",
              "        vertical-align: middle;\n",
              "    }\n",
              "\n",
              "    .dataframe tbody tr th {\n",
              "        vertical-align: top;\n",
              "    }\n",
              "\n",
              "    .dataframe thead th {\n",
              "        text-align: right;\n",
              "    }\n",
              "</style>\n",
              "<table border=\"1\" class=\"dataframe\">\n",
              "  <thead>\n",
              "    <tr style=\"text-align: right;\">\n",
              "      <th></th>\n",
              "      <th>keyword</th>\n",
              "      <th>location</th>\n",
              "      <th>text</th>\n",
              "      <th>target</th>\n",
              "    </tr>\n",
              "    <tr>\n",
              "      <th>id</th>\n",
              "      <th></th>\n",
              "      <th></th>\n",
              "      <th></th>\n",
              "      <th></th>\n",
              "    </tr>\n",
              "  </thead>\n",
              "  <tbody>\n",
              "    <tr>\n",
              "      <th>48</th>\n",
              "      <td>ablaze</td>\n",
              "      <td>Birmingham</td>\n",
              "      <td>@bbcmtd Wholesale Markets ablaze http://t.co/l...</td>\n",
              "      <td>1</td>\n",
              "    </tr>\n",
              "    <tr>\n",
              "      <th>49</th>\n",
              "      <td>ablaze</td>\n",
              "      <td>Est. September 2012 - Bristol</td>\n",
              "      <td>We always try to bring the heavy. #metal #RT h...</td>\n",
              "      <td>0</td>\n",
              "    </tr>\n",
              "    <tr>\n",
              "      <th>50</th>\n",
              "      <td>ablaze</td>\n",
              "      <td>AFRICA</td>\n",
              "      <td>#AFRICANBAZE: Breaking news:Nigeria flag set a...</td>\n",
              "      <td>1</td>\n",
              "    </tr>\n",
              "    <tr>\n",
              "      <th>53</th>\n",
              "      <td>ablaze</td>\n",
              "      <td>London, UK</td>\n",
              "      <td>On plus side LOOK AT THE SKY LAST NIGHT IT WAS...</td>\n",
              "      <td>0</td>\n",
              "    </tr>\n",
              "    <tr>\n",
              "      <th>55</th>\n",
              "      <td>ablaze</td>\n",
              "      <td>World Wide!!</td>\n",
              "      <td>INEC Office in Abia Set Ablaze - http://t.co/3...</td>\n",
              "      <td>1</td>\n",
              "    </tr>\n",
              "    <tr>\n",
              "      <th>...</th>\n",
              "      <td>...</td>\n",
              "      <td>...</td>\n",
              "      <td>...</td>\n",
              "      <td>...</td>\n",
              "    </tr>\n",
              "    <tr>\n",
              "      <th>10866</th>\n",
              "      <td>NaN</td>\n",
              "      <td>NaN</td>\n",
              "      <td>Suicide bomber kills 15 in Saudi security site...</td>\n",
              "      <td>1</td>\n",
              "    </tr>\n",
              "    <tr>\n",
              "      <th>10867</th>\n",
              "      <td>NaN</td>\n",
              "      <td>NaN</td>\n",
              "      <td>#stormchase Violent Record Breaking EF-5 El Re...</td>\n",
              "      <td>1</td>\n",
              "    </tr>\n",
              "    <tr>\n",
              "      <th>10869</th>\n",
              "      <td>NaN</td>\n",
              "      <td>NaN</td>\n",
              "      <td>Two giant cranes holding a bridge collapse int...</td>\n",
              "      <td>1</td>\n",
              "    </tr>\n",
              "    <tr>\n",
              "      <th>10871</th>\n",
              "      <td>NaN</td>\n",
              "      <td>NaN</td>\n",
              "      <td>M1.94 [01:04 UTC]?5km S of Volcano Hawaii. htt...</td>\n",
              "      <td>1</td>\n",
              "    </tr>\n",
              "    <tr>\n",
              "      <th>10873</th>\n",
              "      <td>NaN</td>\n",
              "      <td>NaN</td>\n",
              "      <td>The Latest: More Homes Razed by Northern Calif...</td>\n",
              "      <td>1</td>\n",
              "    </tr>\n",
              "  </tbody>\n",
              "</table>\n",
              "<p>3604 rows × 4 columns</p>\n",
              "</div>\n",
              "    <div class=\"colab-df-buttons\">\n",
              "\n",
              "  <div class=\"colab-df-container\">\n",
              "    <button class=\"colab-df-convert\" onclick=\"convertToInteractive('df-cdc97cef-af7d-4241-957a-dbc8bc4922e8')\"\n",
              "            title=\"Convert this dataframe to an interactive table.\"\n",
              "            style=\"display:none;\">\n",
              "\n",
              "  <svg xmlns=\"http://www.w3.org/2000/svg\" height=\"24px\" viewBox=\"0 -960 960 960\">\n",
              "    <path d=\"M120-120v-720h720v720H120Zm60-500h600v-160H180v160Zm220 220h160v-160H400v160Zm0 220h160v-160H400v160ZM180-400h160v-160H180v160Zm440 0h160v-160H620v160ZM180-180h160v-160H180v160Zm440 0h160v-160H620v160Z\"/>\n",
              "  </svg>\n",
              "    </button>\n",
              "\n",
              "  <style>\n",
              "    .colab-df-container {\n",
              "      display:flex;\n",
              "      gap: 12px;\n",
              "    }\n",
              "\n",
              "    .colab-df-convert {\n",
              "      background-color: #E8F0FE;\n",
              "      border: none;\n",
              "      border-radius: 50%;\n",
              "      cursor: pointer;\n",
              "      display: none;\n",
              "      fill: #1967D2;\n",
              "      height: 32px;\n",
              "      padding: 0 0 0 0;\n",
              "      width: 32px;\n",
              "    }\n",
              "\n",
              "    .colab-df-convert:hover {\n",
              "      background-color: #E2EBFA;\n",
              "      box-shadow: 0px 1px 2px rgba(60, 64, 67, 0.3), 0px 1px 3px 1px rgba(60, 64, 67, 0.15);\n",
              "      fill: #174EA6;\n",
              "    }\n",
              "\n",
              "    .colab-df-buttons div {\n",
              "      margin-bottom: 4px;\n",
              "    }\n",
              "\n",
              "    [theme=dark] .colab-df-convert {\n",
              "      background-color: #3B4455;\n",
              "      fill: #D2E3FC;\n",
              "    }\n",
              "\n",
              "    [theme=dark] .colab-df-convert:hover {\n",
              "      background-color: #434B5C;\n",
              "      box-shadow: 0px 1px 3px 1px rgba(0, 0, 0, 0.15);\n",
              "      filter: drop-shadow(0px 1px 2px rgba(0, 0, 0, 0.3));\n",
              "      fill: #FFFFFF;\n",
              "    }\n",
              "  </style>\n",
              "\n",
              "    <script>\n",
              "      const buttonEl =\n",
              "        document.querySelector('#df-cdc97cef-af7d-4241-957a-dbc8bc4922e8 button.colab-df-convert');\n",
              "      buttonEl.style.display =\n",
              "        google.colab.kernel.accessAllowed ? 'block' : 'none';\n",
              "\n",
              "      async function convertToInteractive(key) {\n",
              "        const element = document.querySelector('#df-cdc97cef-af7d-4241-957a-dbc8bc4922e8');\n",
              "        const dataTable =\n",
              "          await google.colab.kernel.invokeFunction('convertToInteractive',\n",
              "                                                    [key], {});\n",
              "        if (!dataTable) return;\n",
              "\n",
              "        const docLinkHtml = 'Like what you see? Visit the ' +\n",
              "          '<a target=\"_blank\" href=https://colab.research.google.com/notebooks/data_table.ipynb>data table notebook</a>'\n",
              "          + ' to learn more about interactive tables.';\n",
              "        element.innerHTML = '';\n",
              "        dataTable['output_type'] = 'display_data';\n",
              "        await google.colab.output.renderOutput(dataTable, element);\n",
              "        const docLink = document.createElement('div');\n",
              "        docLink.innerHTML = docLinkHtml;\n",
              "        element.appendChild(docLink);\n",
              "      }\n",
              "    </script>\n",
              "  </div>\n",
              "\n",
              "\n",
              "<div id=\"df-be1b4aee-c2a2-44a5-b987-8016e5bf6151\">\n",
              "  <button class=\"colab-df-quickchart\" onclick=\"quickchart('df-be1b4aee-c2a2-44a5-b987-8016e5bf6151')\"\n",
              "            title=\"Suggest charts.\"\n",
              "            style=\"display:none;\">\n",
              "\n",
              "<svg xmlns=\"http://www.w3.org/2000/svg\" height=\"24px\"viewBox=\"0 0 24 24\"\n",
              "     width=\"24px\">\n",
              "    <g>\n",
              "        <path d=\"M19 3H5c-1.1 0-2 .9-2 2v14c0 1.1.9 2 2 2h14c1.1 0 2-.9 2-2V5c0-1.1-.9-2-2-2zM9 17H7v-7h2v7zm4 0h-2V7h2v10zm4 0h-2v-4h2v4z\"/>\n",
              "    </g>\n",
              "</svg>\n",
              "  </button>\n",
              "\n",
              "<style>\n",
              "  .colab-df-quickchart {\n",
              "      --bg-color: #E8F0FE;\n",
              "      --fill-color: #1967D2;\n",
              "      --hover-bg-color: #E2EBFA;\n",
              "      --hover-fill-color: #174EA6;\n",
              "      --disabled-fill-color: #AAA;\n",
              "      --disabled-bg-color: #DDD;\n",
              "  }\n",
              "\n",
              "  [theme=dark] .colab-df-quickchart {\n",
              "      --bg-color: #3B4455;\n",
              "      --fill-color: #D2E3FC;\n",
              "      --hover-bg-color: #434B5C;\n",
              "      --hover-fill-color: #FFFFFF;\n",
              "      --disabled-bg-color: #3B4455;\n",
              "      --disabled-fill-color: #666;\n",
              "  }\n",
              "\n",
              "  .colab-df-quickchart {\n",
              "    background-color: var(--bg-color);\n",
              "    border: none;\n",
              "    border-radius: 50%;\n",
              "    cursor: pointer;\n",
              "    display: none;\n",
              "    fill: var(--fill-color);\n",
              "    height: 32px;\n",
              "    padding: 0;\n",
              "    width: 32px;\n",
              "  }\n",
              "\n",
              "  .colab-df-quickchart:hover {\n",
              "    background-color: var(--hover-bg-color);\n",
              "    box-shadow: 0 1px 2px rgba(60, 64, 67, 0.3), 0 1px 3px 1px rgba(60, 64, 67, 0.15);\n",
              "    fill: var(--button-hover-fill-color);\n",
              "  }\n",
              "\n",
              "  .colab-df-quickchart-complete:disabled,\n",
              "  .colab-df-quickchart-complete:disabled:hover {\n",
              "    background-color: var(--disabled-bg-color);\n",
              "    fill: var(--disabled-fill-color);\n",
              "    box-shadow: none;\n",
              "  }\n",
              "\n",
              "  .colab-df-spinner {\n",
              "    border: 2px solid var(--fill-color);\n",
              "    border-color: transparent;\n",
              "    border-bottom-color: var(--fill-color);\n",
              "    animation:\n",
              "      spin 1s steps(1) infinite;\n",
              "  }\n",
              "\n",
              "  @keyframes spin {\n",
              "    0% {\n",
              "      border-color: transparent;\n",
              "      border-bottom-color: var(--fill-color);\n",
              "      border-left-color: var(--fill-color);\n",
              "    }\n",
              "    20% {\n",
              "      border-color: transparent;\n",
              "      border-left-color: var(--fill-color);\n",
              "      border-top-color: var(--fill-color);\n",
              "    }\n",
              "    30% {\n",
              "      border-color: transparent;\n",
              "      border-left-color: var(--fill-color);\n",
              "      border-top-color: var(--fill-color);\n",
              "      border-right-color: var(--fill-color);\n",
              "    }\n",
              "    40% {\n",
              "      border-color: transparent;\n",
              "      border-right-color: var(--fill-color);\n",
              "      border-top-color: var(--fill-color);\n",
              "    }\n",
              "    60% {\n",
              "      border-color: transparent;\n",
              "      border-right-color: var(--fill-color);\n",
              "    }\n",
              "    80% {\n",
              "      border-color: transparent;\n",
              "      border-right-color: var(--fill-color);\n",
              "      border-bottom-color: var(--fill-color);\n",
              "    }\n",
              "    90% {\n",
              "      border-color: transparent;\n",
              "      border-bottom-color: var(--fill-color);\n",
              "    }\n",
              "  }\n",
              "</style>\n",
              "\n",
              "  <script>\n",
              "    async function quickchart(key) {\n",
              "      const quickchartButtonEl =\n",
              "        document.querySelector('#' + key + ' button');\n",
              "      quickchartButtonEl.disabled = true;  // To prevent multiple clicks.\n",
              "      quickchartButtonEl.classList.add('colab-df-spinner');\n",
              "      try {\n",
              "        const charts = await google.colab.kernel.invokeFunction(\n",
              "            'suggestCharts', [key], {});\n",
              "      } catch (error) {\n",
              "        console.error('Error during call to suggestCharts:', error);\n",
              "      }\n",
              "      quickchartButtonEl.classList.remove('colab-df-spinner');\n",
              "      quickchartButtonEl.classList.add('colab-df-quickchart-complete');\n",
              "    }\n",
              "    (() => {\n",
              "      let quickchartButtonEl =\n",
              "        document.querySelector('#df-be1b4aee-c2a2-44a5-b987-8016e5bf6151 button');\n",
              "      quickchartButtonEl.style.display =\n",
              "        google.colab.kernel.accessAllowed ? 'block' : 'none';\n",
              "    })();\n",
              "  </script>\n",
              "</div>\n",
              "    </div>\n",
              "  </div>\n"
            ],
            "text/plain": [
              "      keyword                       location  \\\n",
              "id                                             \n",
              "48     ablaze                     Birmingham   \n",
              "49     ablaze  Est. September 2012 - Bristol   \n",
              "50     ablaze                         AFRICA   \n",
              "53     ablaze                     London, UK   \n",
              "55     ablaze                   World Wide!!   \n",
              "...       ...                            ...   \n",
              "10866     NaN                            NaN   \n",
              "10867     NaN                            NaN   \n",
              "10869     NaN                            NaN   \n",
              "10871     NaN                            NaN   \n",
              "10873     NaN                            NaN   \n",
              "\n",
              "                                                    text  target  \n",
              "id                                                                \n",
              "48     @bbcmtd Wholesale Markets ablaze http://t.co/l...       1  \n",
              "49     We always try to bring the heavy. #metal #RT h...       0  \n",
              "50     #AFRICANBAZE: Breaking news:Nigeria flag set a...       1  \n",
              "53     On plus side LOOK AT THE SKY LAST NIGHT IT WAS...       0  \n",
              "55     INEC Office in Abia Set Ablaze - http://t.co/3...       1  \n",
              "...                                                  ...     ...  \n",
              "10866  Suicide bomber kills 15 in Saudi security site...       1  \n",
              "10867  #stormchase Violent Record Breaking EF-5 El Re...       1  \n",
              "10869  Two giant cranes holding a bridge collapse int...       1  \n",
              "10871  M1.94 [01:04 UTC]?5km S of Volcano Hawaii. htt...       1  \n",
              "10873  The Latest: More Homes Razed by Northern Calif...       1  \n",
              "\n",
              "[3604 rows x 4 columns]"
            ]
          },
          "execution_count": 25,
          "metadata": {},
          "output_type": "execute_result"
        }
      ],
      "source": [
        "train_df.query('text.str.contains(\"http://\")')"
      ]
    },
    {
      "cell_type": "code",
      "execution_count": null,
      "metadata": {
        "colab": {
          "base_uri": "https://localhost:8080/",
          "height": 35
        },
        "id": "XczKpANiAJ2V",
        "outputId": "13ac8cd3-3704-46ed-9f56-7340aced8c9d"
      },
      "outputs": [
        {
          "data": {
            "application/vnd.google.colaboratory.intrinsic+json": {
              "type": "string"
            },
            "text/plain": [
              "'@bbcmtd Wholesale Markets ablaze http://t.co/lHYXEOHY6C'"
            ]
          },
          "execution_count": 26,
          "metadata": {},
          "output_type": "execute_result"
        }
      ],
      "source": [
        "train_df.loc[48, 'text']"
      ]
    },
    {
      "cell_type": "code",
      "execution_count": null,
      "metadata": {
        "colab": {
          "base_uri": "https://localhost:8080/",
          "height": 455
        },
        "id": "4mGz3XL7AJ2V",
        "outputId": "0b4c3076-b297-4ba0-df70-fbe83b0f207d"
      },
      "outputs": [
        {
          "data": {
            "text/html": [
              "\n",
              "  <div id=\"df-2d070edc-82de-4ca6-9b00-19b0355cb4c5\" class=\"colab-df-container\">\n",
              "    <div>\n",
              "<style scoped>\n",
              "    .dataframe tbody tr th:only-of-type {\n",
              "        vertical-align: middle;\n",
              "    }\n",
              "\n",
              "    .dataframe tbody tr th {\n",
              "        vertical-align: top;\n",
              "    }\n",
              "\n",
              "    .dataframe thead th {\n",
              "        text-align: right;\n",
              "    }\n",
              "</style>\n",
              "<table border=\"1\" class=\"dataframe\">\n",
              "  <thead>\n",
              "    <tr style=\"text-align: right;\">\n",
              "      <th></th>\n",
              "      <th>keyword</th>\n",
              "      <th>location</th>\n",
              "      <th>text</th>\n",
              "      <th>target</th>\n",
              "    </tr>\n",
              "    <tr>\n",
              "      <th>id</th>\n",
              "      <th></th>\n",
              "      <th></th>\n",
              "      <th></th>\n",
              "      <th></th>\n",
              "    </tr>\n",
              "  </thead>\n",
              "  <tbody>\n",
              "    <tr>\n",
              "      <th>23</th>\n",
              "      <td>NaN</td>\n",
              "      <td>NaN</td>\n",
              "      <td>What's up man?</td>\n",
              "      <td>0</td>\n",
              "    </tr>\n",
              "    <tr>\n",
              "      <th>24</th>\n",
              "      <td>NaN</td>\n",
              "      <td>NaN</td>\n",
              "      <td>I love fruits</td>\n",
              "      <td>0</td>\n",
              "    </tr>\n",
              "    <tr>\n",
              "      <th>25</th>\n",
              "      <td>NaN</td>\n",
              "      <td>NaN</td>\n",
              "      <td>Summer is lovely</td>\n",
              "      <td>0</td>\n",
              "    </tr>\n",
              "    <tr>\n",
              "      <th>26</th>\n",
              "      <td>NaN</td>\n",
              "      <td>NaN</td>\n",
              "      <td>My car is so fast</td>\n",
              "      <td>0</td>\n",
              "    </tr>\n",
              "    <tr>\n",
              "      <th>28</th>\n",
              "      <td>NaN</td>\n",
              "      <td>NaN</td>\n",
              "      <td>What a goooooooaaaaaal!!!!!!</td>\n",
              "      <td>0</td>\n",
              "    </tr>\n",
              "    <tr>\n",
              "      <th>...</th>\n",
              "      <td>...</td>\n",
              "      <td>...</td>\n",
              "      <td>...</td>\n",
              "      <td>...</td>\n",
              "    </tr>\n",
              "    <tr>\n",
              "      <th>10833</th>\n",
              "      <td>wrecked</td>\n",
              "      <td>Lincoln</td>\n",
              "      <td>@engineshed Great atmosphere at the British Li...</td>\n",
              "      <td>0</td>\n",
              "    </tr>\n",
              "    <tr>\n",
              "      <th>10834</th>\n",
              "      <td>wrecked</td>\n",
              "      <td>NaN</td>\n",
              "      <td>Cramer: Iger's 3 words that wrecked Disney's s...</td>\n",
              "      <td>0</td>\n",
              "    </tr>\n",
              "    <tr>\n",
              "      <th>10837</th>\n",
              "      <td>NaN</td>\n",
              "      <td>NaN</td>\n",
              "      <td>These boxes are ready to explode! Exploding Ki...</td>\n",
              "      <td>0</td>\n",
              "    </tr>\n",
              "    <tr>\n",
              "      <th>10841</th>\n",
              "      <td>NaN</td>\n",
              "      <td>NaN</td>\n",
              "      <td>Sirens everywhere!</td>\n",
              "      <td>0</td>\n",
              "    </tr>\n",
              "    <tr>\n",
              "      <th>10848</th>\n",
              "      <td>NaN</td>\n",
              "      <td>NaN</td>\n",
              "      <td>I just heard a really loud bang and everyone i...</td>\n",
              "      <td>0</td>\n",
              "    </tr>\n",
              "  </tbody>\n",
              "</table>\n",
              "<p>4342 rows × 4 columns</p>\n",
              "</div>\n",
              "    <div class=\"colab-df-buttons\">\n",
              "\n",
              "  <div class=\"colab-df-container\">\n",
              "    <button class=\"colab-df-convert\" onclick=\"convertToInteractive('df-2d070edc-82de-4ca6-9b00-19b0355cb4c5')\"\n",
              "            title=\"Convert this dataframe to an interactive table.\"\n",
              "            style=\"display:none;\">\n",
              "\n",
              "  <svg xmlns=\"http://www.w3.org/2000/svg\" height=\"24px\" viewBox=\"0 -960 960 960\">\n",
              "    <path d=\"M120-120v-720h720v720H120Zm60-500h600v-160H180v160Zm220 220h160v-160H400v160Zm0 220h160v-160H400v160ZM180-400h160v-160H180v160Zm440 0h160v-160H620v160ZM180-180h160v-160H180v160Zm440 0h160v-160H620v160Z\"/>\n",
              "  </svg>\n",
              "    </button>\n",
              "\n",
              "  <style>\n",
              "    .colab-df-container {\n",
              "      display:flex;\n",
              "      gap: 12px;\n",
              "    }\n",
              "\n",
              "    .colab-df-convert {\n",
              "      background-color: #E8F0FE;\n",
              "      border: none;\n",
              "      border-radius: 50%;\n",
              "      cursor: pointer;\n",
              "      display: none;\n",
              "      fill: #1967D2;\n",
              "      height: 32px;\n",
              "      padding: 0 0 0 0;\n",
              "      width: 32px;\n",
              "    }\n",
              "\n",
              "    .colab-df-convert:hover {\n",
              "      background-color: #E2EBFA;\n",
              "      box-shadow: 0px 1px 2px rgba(60, 64, 67, 0.3), 0px 1px 3px 1px rgba(60, 64, 67, 0.15);\n",
              "      fill: #174EA6;\n",
              "    }\n",
              "\n",
              "    .colab-df-buttons div {\n",
              "      margin-bottom: 4px;\n",
              "    }\n",
              "\n",
              "    [theme=dark] .colab-df-convert {\n",
              "      background-color: #3B4455;\n",
              "      fill: #D2E3FC;\n",
              "    }\n",
              "\n",
              "    [theme=dark] .colab-df-convert:hover {\n",
              "      background-color: #434B5C;\n",
              "      box-shadow: 0px 1px 3px 1px rgba(0, 0, 0, 0.15);\n",
              "      filter: drop-shadow(0px 1px 2px rgba(0, 0, 0, 0.3));\n",
              "      fill: #FFFFFF;\n",
              "    }\n",
              "  </style>\n",
              "\n",
              "    <script>\n",
              "      const buttonEl =\n",
              "        document.querySelector('#df-2d070edc-82de-4ca6-9b00-19b0355cb4c5 button.colab-df-convert');\n",
              "      buttonEl.style.display =\n",
              "        google.colab.kernel.accessAllowed ? 'block' : 'none';\n",
              "\n",
              "      async function convertToInteractive(key) {\n",
              "        const element = document.querySelector('#df-2d070edc-82de-4ca6-9b00-19b0355cb4c5');\n",
              "        const dataTable =\n",
              "          await google.colab.kernel.invokeFunction('convertToInteractive',\n",
              "                                                    [key], {});\n",
              "        if (!dataTable) return;\n",
              "\n",
              "        const docLinkHtml = 'Like what you see? Visit the ' +\n",
              "          '<a target=\"_blank\" href=https://colab.research.google.com/notebooks/data_table.ipynb>data table notebook</a>'\n",
              "          + ' to learn more about interactive tables.';\n",
              "        element.innerHTML = '';\n",
              "        dataTable['output_type'] = 'display_data';\n",
              "        await google.colab.output.renderOutput(dataTable, element);\n",
              "        const docLink = document.createElement('div');\n",
              "        docLink.innerHTML = docLinkHtml;\n",
              "        element.appendChild(docLink);\n",
              "      }\n",
              "    </script>\n",
              "  </div>\n",
              "\n",
              "\n",
              "<div id=\"df-f8be2b0b-9c11-4507-bb6e-a0c697cec1d6\">\n",
              "  <button class=\"colab-df-quickchart\" onclick=\"quickchart('df-f8be2b0b-9c11-4507-bb6e-a0c697cec1d6')\"\n",
              "            title=\"Suggest charts.\"\n",
              "            style=\"display:none;\">\n",
              "\n",
              "<svg xmlns=\"http://www.w3.org/2000/svg\" height=\"24px\"viewBox=\"0 0 24 24\"\n",
              "     width=\"24px\">\n",
              "    <g>\n",
              "        <path d=\"M19 3H5c-1.1 0-2 .9-2 2v14c0 1.1.9 2 2 2h14c1.1 0 2-.9 2-2V5c0-1.1-.9-2-2-2zM9 17H7v-7h2v7zm4 0h-2V7h2v10zm4 0h-2v-4h2v4z\"/>\n",
              "    </g>\n",
              "</svg>\n",
              "  </button>\n",
              "\n",
              "<style>\n",
              "  .colab-df-quickchart {\n",
              "      --bg-color: #E8F0FE;\n",
              "      --fill-color: #1967D2;\n",
              "      --hover-bg-color: #E2EBFA;\n",
              "      --hover-fill-color: #174EA6;\n",
              "      --disabled-fill-color: #AAA;\n",
              "      --disabled-bg-color: #DDD;\n",
              "  }\n",
              "\n",
              "  [theme=dark] .colab-df-quickchart {\n",
              "      --bg-color: #3B4455;\n",
              "      --fill-color: #D2E3FC;\n",
              "      --hover-bg-color: #434B5C;\n",
              "      --hover-fill-color: #FFFFFF;\n",
              "      --disabled-bg-color: #3B4455;\n",
              "      --disabled-fill-color: #666;\n",
              "  }\n",
              "\n",
              "  .colab-df-quickchart {\n",
              "    background-color: var(--bg-color);\n",
              "    border: none;\n",
              "    border-radius: 50%;\n",
              "    cursor: pointer;\n",
              "    display: none;\n",
              "    fill: var(--fill-color);\n",
              "    height: 32px;\n",
              "    padding: 0;\n",
              "    width: 32px;\n",
              "  }\n",
              "\n",
              "  .colab-df-quickchart:hover {\n",
              "    background-color: var(--hover-bg-color);\n",
              "    box-shadow: 0 1px 2px rgba(60, 64, 67, 0.3), 0 1px 3px 1px rgba(60, 64, 67, 0.15);\n",
              "    fill: var(--button-hover-fill-color);\n",
              "  }\n",
              "\n",
              "  .colab-df-quickchart-complete:disabled,\n",
              "  .colab-df-quickchart-complete:disabled:hover {\n",
              "    background-color: var(--disabled-bg-color);\n",
              "    fill: var(--disabled-fill-color);\n",
              "    box-shadow: none;\n",
              "  }\n",
              "\n",
              "  .colab-df-spinner {\n",
              "    border: 2px solid var(--fill-color);\n",
              "    border-color: transparent;\n",
              "    border-bottom-color: var(--fill-color);\n",
              "    animation:\n",
              "      spin 1s steps(1) infinite;\n",
              "  }\n",
              "\n",
              "  @keyframes spin {\n",
              "    0% {\n",
              "      border-color: transparent;\n",
              "      border-bottom-color: var(--fill-color);\n",
              "      border-left-color: var(--fill-color);\n",
              "    }\n",
              "    20% {\n",
              "      border-color: transparent;\n",
              "      border-left-color: var(--fill-color);\n",
              "      border-top-color: var(--fill-color);\n",
              "    }\n",
              "    30% {\n",
              "      border-color: transparent;\n",
              "      border-left-color: var(--fill-color);\n",
              "      border-top-color: var(--fill-color);\n",
              "      border-right-color: var(--fill-color);\n",
              "    }\n",
              "    40% {\n",
              "      border-color: transparent;\n",
              "      border-right-color: var(--fill-color);\n",
              "      border-top-color: var(--fill-color);\n",
              "    }\n",
              "    60% {\n",
              "      border-color: transparent;\n",
              "      border-right-color: var(--fill-color);\n",
              "    }\n",
              "    80% {\n",
              "      border-color: transparent;\n",
              "      border-right-color: var(--fill-color);\n",
              "      border-bottom-color: var(--fill-color);\n",
              "    }\n",
              "    90% {\n",
              "      border-color: transparent;\n",
              "      border-bottom-color: var(--fill-color);\n",
              "    }\n",
              "  }\n",
              "</style>\n",
              "\n",
              "  <script>\n",
              "    async function quickchart(key) {\n",
              "      const quickchartButtonEl =\n",
              "        document.querySelector('#' + key + ' button');\n",
              "      quickchartButtonEl.disabled = true;  // To prevent multiple clicks.\n",
              "      quickchartButtonEl.classList.add('colab-df-spinner');\n",
              "      try {\n",
              "        const charts = await google.colab.kernel.invokeFunction(\n",
              "            'suggestCharts', [key], {});\n",
              "      } catch (error) {\n",
              "        console.error('Error during call to suggestCharts:', error);\n",
              "      }\n",
              "      quickchartButtonEl.classList.remove('colab-df-spinner');\n",
              "      quickchartButtonEl.classList.add('colab-df-quickchart-complete');\n",
              "    }\n",
              "    (() => {\n",
              "      let quickchartButtonEl =\n",
              "        document.querySelector('#df-f8be2b0b-9c11-4507-bb6e-a0c697cec1d6 button');\n",
              "      quickchartButtonEl.style.display =\n",
              "        google.colab.kernel.accessAllowed ? 'block' : 'none';\n",
              "    })();\n",
              "  </script>\n",
              "</div>\n",
              "    </div>\n",
              "  </div>\n"
            ],
            "text/plain": [
              "       keyword location                                               text  \\\n",
              "id                                                                           \n",
              "23         NaN      NaN                                     What's up man?   \n",
              "24         NaN      NaN                                      I love fruits   \n",
              "25         NaN      NaN                                   Summer is lovely   \n",
              "26         NaN      NaN                                  My car is so fast   \n",
              "28         NaN      NaN                       What a goooooooaaaaaal!!!!!!   \n",
              "...        ...      ...                                                ...   \n",
              "10833  wrecked  Lincoln  @engineshed Great atmosphere at the British Li...   \n",
              "10834  wrecked      NaN  Cramer: Iger's 3 words that wrecked Disney's s...   \n",
              "10837      NaN      NaN  These boxes are ready to explode! Exploding Ki...   \n",
              "10841      NaN      NaN                                 Sirens everywhere!   \n",
              "10848      NaN      NaN  I just heard a really loud bang and everyone i...   \n",
              "\n",
              "       target  \n",
              "id             \n",
              "23          0  \n",
              "24          0  \n",
              "25          0  \n",
              "26          0  \n",
              "28          0  \n",
              "...       ...  \n",
              "10833       0  \n",
              "10834       0  \n",
              "10837       0  \n",
              "10841       0  \n",
              "10848       0  \n",
              "\n",
              "[4342 rows x 4 columns]"
            ]
          },
          "execution_count": 27,
          "metadata": {},
          "output_type": "execute_result"
        }
      ],
      "source": [
        "train_df[train_df['target'] == 0]"
      ]
    },
    {
      "cell_type": "code",
      "execution_count": null,
      "metadata": {
        "colab": {
          "base_uri": "https://localhost:8080/",
          "height": 455
        },
        "id": "u1-KAiM7AJ2V",
        "outputId": "3eb0458c-049f-4935-e074-97813c2294ae"
      },
      "outputs": [
        {
          "data": {
            "text/html": [
              "\n",
              "  <div id=\"df-992736b7-a0a8-47f5-8017-6244750d2d95\" class=\"colab-df-container\">\n",
              "    <div>\n",
              "<style scoped>\n",
              "    .dataframe tbody tr th:only-of-type {\n",
              "        vertical-align: middle;\n",
              "    }\n",
              "\n",
              "    .dataframe tbody tr th {\n",
              "        vertical-align: top;\n",
              "    }\n",
              "\n",
              "    .dataframe thead th {\n",
              "        text-align: right;\n",
              "    }\n",
              "</style>\n",
              "<table border=\"1\" class=\"dataframe\">\n",
              "  <thead>\n",
              "    <tr style=\"text-align: right;\">\n",
              "      <th></th>\n",
              "      <th>keyword</th>\n",
              "      <th>location</th>\n",
              "      <th>text</th>\n",
              "      <th>target</th>\n",
              "    </tr>\n",
              "    <tr>\n",
              "      <th>id</th>\n",
              "      <th></th>\n",
              "      <th></th>\n",
              "      <th></th>\n",
              "      <th></th>\n",
              "    </tr>\n",
              "  </thead>\n",
              "  <tbody>\n",
              "    <tr>\n",
              "      <th>1</th>\n",
              "      <td>NaN</td>\n",
              "      <td>NaN</td>\n",
              "      <td>Our Deeds are the Reason of this #earthquake M...</td>\n",
              "      <td>1</td>\n",
              "    </tr>\n",
              "    <tr>\n",
              "      <th>4</th>\n",
              "      <td>NaN</td>\n",
              "      <td>NaN</td>\n",
              "      <td>Forest fire near La Ronge Sask. Canada</td>\n",
              "      <td>1</td>\n",
              "    </tr>\n",
              "    <tr>\n",
              "      <th>5</th>\n",
              "      <td>NaN</td>\n",
              "      <td>NaN</td>\n",
              "      <td>All residents asked to 'shelter in place' are ...</td>\n",
              "      <td>1</td>\n",
              "    </tr>\n",
              "    <tr>\n",
              "      <th>6</th>\n",
              "      <td>NaN</td>\n",
              "      <td>NaN</td>\n",
              "      <td>13,000 people receive #wildfires evacuation or...</td>\n",
              "      <td>1</td>\n",
              "    </tr>\n",
              "    <tr>\n",
              "      <th>7</th>\n",
              "      <td>NaN</td>\n",
              "      <td>NaN</td>\n",
              "      <td>Just got sent this photo from Ruby #Alaska as ...</td>\n",
              "      <td>1</td>\n",
              "    </tr>\n",
              "    <tr>\n",
              "      <th>...</th>\n",
              "      <td>...</td>\n",
              "      <td>...</td>\n",
              "      <td>...</td>\n",
              "      <td>...</td>\n",
              "    </tr>\n",
              "    <tr>\n",
              "      <th>10869</th>\n",
              "      <td>NaN</td>\n",
              "      <td>NaN</td>\n",
              "      <td>Two giant cranes holding a bridge collapse int...</td>\n",
              "      <td>1</td>\n",
              "    </tr>\n",
              "    <tr>\n",
              "      <th>10870</th>\n",
              "      <td>NaN</td>\n",
              "      <td>NaN</td>\n",
              "      <td>@aria_ahrary @TheTawniest The out of control w...</td>\n",
              "      <td>1</td>\n",
              "    </tr>\n",
              "    <tr>\n",
              "      <th>10871</th>\n",
              "      <td>NaN</td>\n",
              "      <td>NaN</td>\n",
              "      <td>M1.94 [01:04 UTC]?5km S of Volcano Hawaii. htt...</td>\n",
              "      <td>1</td>\n",
              "    </tr>\n",
              "    <tr>\n",
              "      <th>10872</th>\n",
              "      <td>NaN</td>\n",
              "      <td>NaN</td>\n",
              "      <td>Police investigating after an e-bike collided ...</td>\n",
              "      <td>1</td>\n",
              "    </tr>\n",
              "    <tr>\n",
              "      <th>10873</th>\n",
              "      <td>NaN</td>\n",
              "      <td>NaN</td>\n",
              "      <td>The Latest: More Homes Razed by Northern Calif...</td>\n",
              "      <td>1</td>\n",
              "    </tr>\n",
              "  </tbody>\n",
              "</table>\n",
              "<p>3271 rows × 4 columns</p>\n",
              "</div>\n",
              "    <div class=\"colab-df-buttons\">\n",
              "\n",
              "  <div class=\"colab-df-container\">\n",
              "    <button class=\"colab-df-convert\" onclick=\"convertToInteractive('df-992736b7-a0a8-47f5-8017-6244750d2d95')\"\n",
              "            title=\"Convert this dataframe to an interactive table.\"\n",
              "            style=\"display:none;\">\n",
              "\n",
              "  <svg xmlns=\"http://www.w3.org/2000/svg\" height=\"24px\" viewBox=\"0 -960 960 960\">\n",
              "    <path d=\"M120-120v-720h720v720H120Zm60-500h600v-160H180v160Zm220 220h160v-160H400v160Zm0 220h160v-160H400v160ZM180-400h160v-160H180v160Zm440 0h160v-160H620v160ZM180-180h160v-160H180v160Zm440 0h160v-160H620v160Z\"/>\n",
              "  </svg>\n",
              "    </button>\n",
              "\n",
              "  <style>\n",
              "    .colab-df-container {\n",
              "      display:flex;\n",
              "      gap: 12px;\n",
              "    }\n",
              "\n",
              "    .colab-df-convert {\n",
              "      background-color: #E8F0FE;\n",
              "      border: none;\n",
              "      border-radius: 50%;\n",
              "      cursor: pointer;\n",
              "      display: none;\n",
              "      fill: #1967D2;\n",
              "      height: 32px;\n",
              "      padding: 0 0 0 0;\n",
              "      width: 32px;\n",
              "    }\n",
              "\n",
              "    .colab-df-convert:hover {\n",
              "      background-color: #E2EBFA;\n",
              "      box-shadow: 0px 1px 2px rgba(60, 64, 67, 0.3), 0px 1px 3px 1px rgba(60, 64, 67, 0.15);\n",
              "      fill: #174EA6;\n",
              "    }\n",
              "\n",
              "    .colab-df-buttons div {\n",
              "      margin-bottom: 4px;\n",
              "    }\n",
              "\n",
              "    [theme=dark] .colab-df-convert {\n",
              "      background-color: #3B4455;\n",
              "      fill: #D2E3FC;\n",
              "    }\n",
              "\n",
              "    [theme=dark] .colab-df-convert:hover {\n",
              "      background-color: #434B5C;\n",
              "      box-shadow: 0px 1px 3px 1px rgba(0, 0, 0, 0.15);\n",
              "      filter: drop-shadow(0px 1px 2px rgba(0, 0, 0, 0.3));\n",
              "      fill: #FFFFFF;\n",
              "    }\n",
              "  </style>\n",
              "\n",
              "    <script>\n",
              "      const buttonEl =\n",
              "        document.querySelector('#df-992736b7-a0a8-47f5-8017-6244750d2d95 button.colab-df-convert');\n",
              "      buttonEl.style.display =\n",
              "        google.colab.kernel.accessAllowed ? 'block' : 'none';\n",
              "\n",
              "      async function convertToInteractive(key) {\n",
              "        const element = document.querySelector('#df-992736b7-a0a8-47f5-8017-6244750d2d95');\n",
              "        const dataTable =\n",
              "          await google.colab.kernel.invokeFunction('convertToInteractive',\n",
              "                                                    [key], {});\n",
              "        if (!dataTable) return;\n",
              "\n",
              "        const docLinkHtml = 'Like what you see? Visit the ' +\n",
              "          '<a target=\"_blank\" href=https://colab.research.google.com/notebooks/data_table.ipynb>data table notebook</a>'\n",
              "          + ' to learn more about interactive tables.';\n",
              "        element.innerHTML = '';\n",
              "        dataTable['output_type'] = 'display_data';\n",
              "        await google.colab.output.renderOutput(dataTable, element);\n",
              "        const docLink = document.createElement('div');\n",
              "        docLink.innerHTML = docLinkHtml;\n",
              "        element.appendChild(docLink);\n",
              "      }\n",
              "    </script>\n",
              "  </div>\n",
              "\n",
              "\n",
              "<div id=\"df-dc711017-3bae-441e-a53b-3185b3c46e6f\">\n",
              "  <button class=\"colab-df-quickchart\" onclick=\"quickchart('df-dc711017-3bae-441e-a53b-3185b3c46e6f')\"\n",
              "            title=\"Suggest charts.\"\n",
              "            style=\"display:none;\">\n",
              "\n",
              "<svg xmlns=\"http://www.w3.org/2000/svg\" height=\"24px\"viewBox=\"0 0 24 24\"\n",
              "     width=\"24px\">\n",
              "    <g>\n",
              "        <path d=\"M19 3H5c-1.1 0-2 .9-2 2v14c0 1.1.9 2 2 2h14c1.1 0 2-.9 2-2V5c0-1.1-.9-2-2-2zM9 17H7v-7h2v7zm4 0h-2V7h2v10zm4 0h-2v-4h2v4z\"/>\n",
              "    </g>\n",
              "</svg>\n",
              "  </button>\n",
              "\n",
              "<style>\n",
              "  .colab-df-quickchart {\n",
              "      --bg-color: #E8F0FE;\n",
              "      --fill-color: #1967D2;\n",
              "      --hover-bg-color: #E2EBFA;\n",
              "      --hover-fill-color: #174EA6;\n",
              "      --disabled-fill-color: #AAA;\n",
              "      --disabled-bg-color: #DDD;\n",
              "  }\n",
              "\n",
              "  [theme=dark] .colab-df-quickchart {\n",
              "      --bg-color: #3B4455;\n",
              "      --fill-color: #D2E3FC;\n",
              "      --hover-bg-color: #434B5C;\n",
              "      --hover-fill-color: #FFFFFF;\n",
              "      --disabled-bg-color: #3B4455;\n",
              "      --disabled-fill-color: #666;\n",
              "  }\n",
              "\n",
              "  .colab-df-quickchart {\n",
              "    background-color: var(--bg-color);\n",
              "    border: none;\n",
              "    border-radius: 50%;\n",
              "    cursor: pointer;\n",
              "    display: none;\n",
              "    fill: var(--fill-color);\n",
              "    height: 32px;\n",
              "    padding: 0;\n",
              "    width: 32px;\n",
              "  }\n",
              "\n",
              "  .colab-df-quickchart:hover {\n",
              "    background-color: var(--hover-bg-color);\n",
              "    box-shadow: 0 1px 2px rgba(60, 64, 67, 0.3), 0 1px 3px 1px rgba(60, 64, 67, 0.15);\n",
              "    fill: var(--button-hover-fill-color);\n",
              "  }\n",
              "\n",
              "  .colab-df-quickchart-complete:disabled,\n",
              "  .colab-df-quickchart-complete:disabled:hover {\n",
              "    background-color: var(--disabled-bg-color);\n",
              "    fill: var(--disabled-fill-color);\n",
              "    box-shadow: none;\n",
              "  }\n",
              "\n",
              "  .colab-df-spinner {\n",
              "    border: 2px solid var(--fill-color);\n",
              "    border-color: transparent;\n",
              "    border-bottom-color: var(--fill-color);\n",
              "    animation:\n",
              "      spin 1s steps(1) infinite;\n",
              "  }\n",
              "\n",
              "  @keyframes spin {\n",
              "    0% {\n",
              "      border-color: transparent;\n",
              "      border-bottom-color: var(--fill-color);\n",
              "      border-left-color: var(--fill-color);\n",
              "    }\n",
              "    20% {\n",
              "      border-color: transparent;\n",
              "      border-left-color: var(--fill-color);\n",
              "      border-top-color: var(--fill-color);\n",
              "    }\n",
              "    30% {\n",
              "      border-color: transparent;\n",
              "      border-left-color: var(--fill-color);\n",
              "      border-top-color: var(--fill-color);\n",
              "      border-right-color: var(--fill-color);\n",
              "    }\n",
              "    40% {\n",
              "      border-color: transparent;\n",
              "      border-right-color: var(--fill-color);\n",
              "      border-top-color: var(--fill-color);\n",
              "    }\n",
              "    60% {\n",
              "      border-color: transparent;\n",
              "      border-right-color: var(--fill-color);\n",
              "    }\n",
              "    80% {\n",
              "      border-color: transparent;\n",
              "      border-right-color: var(--fill-color);\n",
              "      border-bottom-color: var(--fill-color);\n",
              "    }\n",
              "    90% {\n",
              "      border-color: transparent;\n",
              "      border-bottom-color: var(--fill-color);\n",
              "    }\n",
              "  }\n",
              "</style>\n",
              "\n",
              "  <script>\n",
              "    async function quickchart(key) {\n",
              "      const quickchartButtonEl =\n",
              "        document.querySelector('#' + key + ' button');\n",
              "      quickchartButtonEl.disabled = true;  // To prevent multiple clicks.\n",
              "      quickchartButtonEl.classList.add('colab-df-spinner');\n",
              "      try {\n",
              "        const charts = await google.colab.kernel.invokeFunction(\n",
              "            'suggestCharts', [key], {});\n",
              "      } catch (error) {\n",
              "        console.error('Error during call to suggestCharts:', error);\n",
              "      }\n",
              "      quickchartButtonEl.classList.remove('colab-df-spinner');\n",
              "      quickchartButtonEl.classList.add('colab-df-quickchart-complete');\n",
              "    }\n",
              "    (() => {\n",
              "      let quickchartButtonEl =\n",
              "        document.querySelector('#df-dc711017-3bae-441e-a53b-3185b3c46e6f button');\n",
              "      quickchartButtonEl.style.display =\n",
              "        google.colab.kernel.accessAllowed ? 'block' : 'none';\n",
              "    })();\n",
              "  </script>\n",
              "</div>\n",
              "    </div>\n",
              "  </div>\n"
            ],
            "text/plain": [
              "      keyword location                                               text  \\\n",
              "id                                                                          \n",
              "1         NaN      NaN  Our Deeds are the Reason of this #earthquake M...   \n",
              "4         NaN      NaN             Forest fire near La Ronge Sask. Canada   \n",
              "5         NaN      NaN  All residents asked to 'shelter in place' are ...   \n",
              "6         NaN      NaN  13,000 people receive #wildfires evacuation or...   \n",
              "7         NaN      NaN  Just got sent this photo from Ruby #Alaska as ...   \n",
              "...       ...      ...                                                ...   \n",
              "10869     NaN      NaN  Two giant cranes holding a bridge collapse int...   \n",
              "10870     NaN      NaN  @aria_ahrary @TheTawniest The out of control w...   \n",
              "10871     NaN      NaN  M1.94 [01:04 UTC]?5km S of Volcano Hawaii. htt...   \n",
              "10872     NaN      NaN  Police investigating after an e-bike collided ...   \n",
              "10873     NaN      NaN  The Latest: More Homes Razed by Northern Calif...   \n",
              "\n",
              "       target  \n",
              "id             \n",
              "1           1  \n",
              "4           1  \n",
              "5           1  \n",
              "6           1  \n",
              "7           1  \n",
              "...       ...  \n",
              "10869       1  \n",
              "10870       1  \n",
              "10871       1  \n",
              "10872       1  \n",
              "10873       1  \n",
              "\n",
              "[3271 rows x 4 columns]"
            ]
          },
          "execution_count": 28,
          "metadata": {},
          "output_type": "execute_result"
        }
      ],
      "source": [
        "train_df[train_df['target'] == 1]"
      ]
    },
    {
      "cell_type": "markdown",
      "metadata": {
        "id": "_rdr6_fJAJ2V"
      },
      "source": [
        "### Vocabulary analysys"
      ]
    },
    {
      "cell_type": "markdown",
      "metadata": {
        "id": "D5s5Gw-IAJ2V"
      },
      "source": [
        "The TextVectorization layer explores the basic vocabulary of the dataset. For other tokenizers, of course, this information may be different."
      ]
    },
    {
      "cell_type": "code",
      "execution_count": null,
      "metadata": {
        "colab": {
          "base_uri": "https://localhost:8080/"
        },
        "id": "phGgTUESAJ2W",
        "outputId": "6d05e009-ef96-4b32-d86d-b92585809b29"
      },
      "outputs": [
        {
          "name": "stdout",
          "output_type": "stream",
          "text": [
            "Vocabulary size: 27985\n"
          ]
        }
      ],
      "source": [
        "text_vec_layer_eda = tf.keras.layers.TextVectorization(\n",
        "    standardize=\"lower\", ragged=True)\n",
        "text_vec_layer_eda.adapt(train_df['text'])\n",
        "vocab_size_eda = text_vec_layer_eda.vocabulary_size()\n",
        "print(f\"Vocabulary size: {vocab_size_eda}\")"
      ]
    },
    {
      "cell_type": "code",
      "execution_count": null,
      "metadata": {
        "colab": {
          "base_uri": "https://localhost:8080/"
        },
        "id": "rbMAcRrsAJ2W",
        "outputId": "9f406e39-f3ce-4dc0-83a8-8102c4a48e17"
      },
      "outputs": [
        {
          "data": {
            "text/plain": [
              "array(['', '[UNK]', 'the', ..., '!!!!!!!!!!!#metrofmtalk', '!!!!!',\n",
              "       '!!!!'], dtype='<U62')"
            ]
          },
          "execution_count": 30,
          "metadata": {},
          "output_type": "execute_result"
        }
      ],
      "source": [
        "vocab_eda = text_vec_layer_eda.get_vocabulary()\n",
        "vocab_eda_np = np.array(vocab_eda)\n",
        "vocab_eda_np"
      ]
    },
    {
      "cell_type": "code",
      "execution_count": null,
      "metadata": {
        "colab": {
          "base_uri": "https://localhost:8080/"
        },
        "id": "_uetquCUAJ2W",
        "outputId": "5cfceeb9-02fa-40e6-c6e8-fb829477f08c"
      },
      "outputs": [
        {
          "name": "stdout",
          "output_type": "stream",
          "text": [
            "['http://t.co/qew4c5m1xd' 'http://t.co/q2eblokeve'\n",
            " 'http://t.co/ksawlyux02' ... '(http://t.co/ed1vpitswy):'\n",
            " '(http://t.co/18xq3fmuge)' \"'quantit\\x89Û_https://t.co/64cymg1ltg\"]\n",
            "Unique urls count in vocab: 4599\n"
          ]
        }
      ],
      "source": [
        "vocab_urls = vocab_eda_np[np.char.find(vocab_eda_np, 'http') >= 0]\n",
        "print(vocab_urls)\n",
        "print(\"Unique urls count in vocab:\", len(vocab_urls))"
      ]
    },
    {
      "cell_type": "markdown",
      "metadata": {
        "id": "5DZ6c8v9AJ2W"
      },
      "source": [
        "Get tokenized data."
      ]
    },
    {
      "cell_type": "code",
      "execution_count": null,
      "metadata": {
        "id": "l6rstFt7AJ2W"
      },
      "outputs": [],
      "source": [
        "tweets_tokenized = text_vec_layer_eda(train_df['text'])"
      ]
    },
    {
      "cell_type": "markdown",
      "metadata": {
        "id": "wuWPddtCAJ2W"
      },
      "source": [
        "Get the number of tokens in each tweet and plot their frequency."
      ]
    },
    {
      "cell_type": "code",
      "execution_count": null,
      "metadata": {
        "colab": {
          "base_uri": "https://localhost:8080/"
        },
        "id": "EEg8T7uOAJ2W",
        "outputId": "a308aa4b-a7bb-4644-e767-56e3357048e4"
      },
      "outputs": [
        {
          "data": {
            "text/plain": [
              "array([13,  7, 22,  8, 16, 18, 14, 15, 12, 10,  9, 27, 12,  7])"
            ]
          },
          "execution_count": 33,
          "metadata": {},
          "output_type": "execute_result"
        }
      ],
      "source": [
        "tweets_tokens_counts = tweets_tokenized.row_lengths().numpy()\n",
        "tweets_tokens_counts[:14]"
      ]
    },
    {
      "cell_type": "code",
      "execution_count": null,
      "metadata": {
        "colab": {
          "base_uri": "https://localhost:8080/",
          "height": 472
        },
        "id": "AZX24b8_AJ2W",
        "outputId": "5299324f-977c-4cf2-ff96-26d5cfaaddb2"
      },
      "outputs": [
        {
          "data": {
            "image/png": "[encoded data removed]",
            "text/plain": [
              "<Figure size 640x480 with 1 Axes>"
            ]
          },
          "metadata": {},
          "output_type": "display_data"
        }
      ],
      "source": [
        "plt.hist(tweets_tokens_counts, bins=31, alpha=0.5, ec='black')\n",
        "plt.xlabel('Tokens counts')\n",
        "plt.ylabel('Frequency')\n",
        "plt.title('Frequency of Tokens Counts')\n",
        "plt.show()"
      ]
    },
    {
      "cell_type": "markdown",
      "metadata": {
        "id": "uoLdRYU5AJ2W"
      },
      "source": [
        "Check tweets for maximum word count."
      ]
    },
    {
      "cell_type": "code",
      "execution_count": null,
      "metadata": {
        "colab": {
          "base_uri": "https://localhost:8080/"
        },
        "id": "JSb5Bka2AJ2X",
        "outputId": "7de60ed6-78f8-406d-b5fc-f1d45f176465"
      },
      "outputs": [
        {
          "name": "stdout",
          "output_type": "stream",
          "text": [
            "Max words count: 31\n"
          ]
        }
      ],
      "source": [
        "max_tokens_count = tweets_tokenized.bounding_shape().numpy()[1]\n",
        "print(f\"Max words count: {max_tokens_count}\")"
      ]
    },
    {
      "cell_type": "code",
      "execution_count": null,
      "metadata": {
        "colab": {
          "base_uri": "https://localhost:8080/"
        },
        "id": "IH5quOFEAJ2X",
        "outputId": "15c63512-f0e4-4331-cbfb-531769ea9ed1"
      },
      "outputs": [
        {
          "data": {
            "text/plain": [
              "array([ 954, 4432, 5005])"
            ]
          },
          "execution_count": 36,
          "metadata": {},
          "output_type": "execute_result"
        }
      ],
      "source": [
        "tweets_max_tokens = np.where(tweets_tokens_counts == max_tokens_count)[0]\n",
        "tweets_max_tokens"
      ]
    },
    {
      "cell_type": "code",
      "execution_count": null,
      "metadata": {
        "colab": {
          "base_uri": "https://localhost:8080/"
        },
        "id": "iMT51UeGAJ2X",
        "outputId": "a0b10719-5d78-4714-cc33-14497910dec2"
      },
      "outputs": [
        {
          "data": {
            "text/plain": [
              "(keyword     military\n",
              " location         NaN\n",
              " target             0\n",
              " Name: 7138, dtype: object,\n",
              " 'I remember when I worked at Mcdonalds I use to be hours late because we used military time and I use to mess up when I had to be there :/')"
            ]
          },
          "execution_count": 37,
          "metadata": {},
          "output_type": "execute_result"
        }
      ],
      "source": [
        "tweet_max_tokens = train_df.iloc[tweets_max_tokens[-1]]\n",
        "tweet_max_tokens[['keyword', 'location', 'target']], tweet_max_tokens['text']"
      ]
    },
    {
      "cell_type": "markdown",
      "metadata": {
        "id": "TQIaMujMAJ2X"
      },
      "source": [
        "See how the TextVectorization layer works. Convert sample tweet to tokens and vice versa."
      ]
    },
    {
      "cell_type": "code",
      "execution_count": null,
      "metadata": {
        "colab": {
          "base_uri": "https://localhost:8080/"
        },
        "id": "tE93OIWZAJ2X",
        "outputId": "978f8dc3-3610-4f31-aadb-5719ecbd8914"
      },
      "outputs": [
        {
          "data": {
            "text/plain": [
              "<tf.Tensor: shape=(31,), dtype=int64, numpy=\n",
              "array([   8,  525,   43,    8, 2045,   17, 5771,    8,  491,    5,   23,\n",
              "        653, 1435,  146,   47,  468,  254,  105,    7,    8,  491,    5,\n",
              "       2536,   32,   43,    8,   90,    5,   23,   75, 4603])>"
            ]
          },
          "execution_count": 38,
          "metadata": {},
          "output_type": "execute_result"
        }
      ],
      "source": [
        "tweet_max_tokens_ids = text_vec_layer_eda(tweet_max_tokens['text'])\n",
        "tweet_max_tokens_ids"
      ]
    },
    {
      "cell_type": "code",
      "execution_count": null,
      "metadata": {
        "colab": {
          "base_uri": "https://localhost:8080/"
        },
        "id": "L2BLOKViAJ2X",
        "outputId": "3e80bcc0-d753-496c-c052-89b20122f955"
      },
      "outputs": [
        {
          "data": {
            "text/plain": [
              "['i',\n",
              " 'remember',\n",
              " 'when',\n",
              " 'i',\n",
              " 'worked',\n",
              " 'at',\n",
              " 'mcdonalds',\n",
              " 'i',\n",
              " 'use',\n",
              " 'to',\n",
              " 'be',\n",
              " 'hours',\n",
              " 'late',\n",
              " 'because',\n",
              " 'we',\n",
              " 'used',\n",
              " 'military',\n",
              " 'time',\n",
              " 'and',\n",
              " 'i',\n",
              " 'use',\n",
              " 'to',\n",
              " 'mess',\n",
              " 'up',\n",
              " 'when',\n",
              " 'i',\n",
              " 'had',\n",
              " 'to',\n",
              " 'be',\n",
              " 'there',\n",
              " ':/']"
            ]
          },
          "execution_count": 39,
          "metadata": {},
          "output_type": "execute_result"
        }
      ],
      "source": [
        "[text_vec_layer_eda.get_vocabulary()[i] for i in tweet_max_tokens_ids]"
      ]
    },
    {
      "cell_type": "markdown",
      "metadata": {
        "id": "Vd9ktcXsAJ2X"
      },
      "source": [
        "## Explore Target Variable <a class=\"anchor\" id=\"exploretargetvariable\"></a>"
      ]
    },
    {
      "cell_type": "code",
      "execution_count": null,
      "metadata": {
        "colab": {
          "base_uri": "https://localhost:8080/"
        },
        "id": "5Gt5JzkFAJ2X",
        "outputId": "8b0f965c-6d66-49ef-c24b-34a38642253a"
      },
      "outputs": [
        {
          "data": {
            "text/plain": [
              "array([1, 0])"
            ]
          },
          "execution_count": 40,
          "metadata": {},
          "output_type": "execute_result"
        }
      ],
      "source": [
        "labels = train_df['target']\n",
        "labels.unique()"
      ]
    },
    {
      "cell_type": "code",
      "execution_count": null,
      "metadata": {
        "colab": {
          "base_uri": "https://localhost:8080/"
        },
        "id": "jHYOQMAmAJ2X",
        "outputId": "8c2767b1-0a0a-4e43-c97e-2f6cb76f8d22"
      },
      "outputs": [
        {
          "name": "stdout",
          "output_type": "stream",
          "text": [
            "No missing values\n"
          ]
        }
      ],
      "source": [
        "if labels.isnull().sum()==0:\n",
        "    print(\"No missing values\")\n",
        "else:\n",
        "    print(label.isnull().sum(), 'missing values found in dataset')"
      ]
    },
    {
      "cell_type": "code",
      "execution_count": null,
      "metadata": {
        "id": "JBZOzCTbAJ2X"
      },
      "outputs": [],
      "source": [
        "def plot_label(label):\n",
        "    fig = px.pie(label.value_counts(), names=label.map({1:'Disaster (1)', 0:'No disaster (0)'}),\n",
        "        color_discrete_sequence=['green', 'red'], width=500, height=500)\n",
        "    fig.update_traces(textinfo='percent+value')\n",
        "    fig.show()"
      ]
    },
    {
      "cell_type": "code",
      "execution_count": null,
      "metadata": {
        "colab": {
          "base_uri": "https://localhost:8080/",
          "height": 517
        },
        "id": "m58qXUo1AJ2Y",
        "outputId": "0c0b5a11-2a5f-42a2-86cd-aa284f8b9cfb"
      },
      "outputs": [
        {
          "data": {
            "text/html": [
              "<html>\n",
              "<head><meta charset=\"utf-8\" /></head>\n",
              "<body>\n",
              "    <div>            <script src=\"https://cdnjs.cloudflare.com/ajax/libs/mathjax/2.7.5/MathJax.js?config=TeX-AMS-MML_SVG\"></script><script type=\"text/javascript\">if (window.MathJax && window.MathJax.Hub && window.MathJax.Hub.Config) {window.MathJax.Hub.Config({SVG: {font: \"STIX-Web\"}});}</script>                <script type=\"text/javascript\">window.PlotlyConfig = {MathJaxConfig: 'local'};</script>\n",
              "        <script charset=\"utf-8\" src=\"https://cdn.plot.ly/plotly-2.24.1.min.js\"></script>                <div id=\"4988873b-191f-4145-9a52-413e94877545\" class=\"plotly-graph-div\" style=\"height:500px; width:500px;\"></div>            <script type=\"text/javascript\">                                    window.PLOTLYENV=window.PLOTLYENV || {};                                    if (document.getElementById(\"4988873b-191f-4145-9a52-413e94877545\")) {                    Plotly.newPlot(                        \"4988873b-191f-4145-9a52-413e94877545\",                        [{\"domain\":{\"x\":[0.0,1.0],\"y\":[0.0,1.0]},\"hovertemplate\":\"label=%{label}\\u003cextra\\u003e\\u003c\\u002fextra\\u003e\",\"labels\":[\"Disaster (1)\",\"Disaster (1)\",\"Disaster (1)\",\"Disaster (1)\",\"Disaster (1)\",\"Disaster (1)\",\"Disaster (1)\",\"Disaster (1)\",\"Disaster (1)\",\"Disaster (1)\",\"Disaster (1)\",\"Disaster (1)\",\"Disaster (1)\",\"Disaster (1)\",\"Disaster (1)\",\"No disaster (0)\",\"No disaster (0)\",\"No disaster (0)\",\"No disaster (0)\",\"No disaster (0)\",\"No disaster (0)\",\"No disaster (0)\",\"No disaster (0)\",\"No disaster (0)\",\"No disaster (0)\",\"No disaster (0)\",\"No disaster (0)\",\"No disaster (0)\",\"No disaster (0)\",\"No disaster (0)\",\"No disaster (0)\",\"Disaster (1)\",\"No disaster (0)\",\"Disaster (1)\",\"No disaster (0)\",\"No disaster (0)\",\"No disaster (0)\",\"Disaster (1)\",\"Disaster (1)\",\"No disaster (0)\",\"No disaster (0)\",\"No disaster (0)\",\"No disaster (0)\",\"No disaster (0)\",\"No disaster (0)\",\"No disaster (0)\",\"Disaster (1)\",\"No disaster (0)\",\"No disaster (0)\",\"No disaster (0)\",\"Disaster (1)\",\"Disaster (1)\",\"No disaster (0)\",\"Disaster (1)\",\"No disaster (0)\",\"Disaster (1)\",\"Disaster (1)\",\"No disaster (0)\",\"No disaster (0)\",\"Disaster (1)\",\"No disaster (0)\",\"No disaster (0)\",\"No disaster (0)\",\"Disaster (1)\",\"No disaster (0)\",\"Disaster (1)\",\"No disaster (0)\",\"No disaster (0)\",\"Disaster (1)\",\"Disaster (1)\",\"No disaster (0)\",\"No disaster (0)\",\"Disaster (1)\",\"Disaster (1)\",\"Disaster (1)\",\"No disaster (0)\",\"No disaster (0)\",\"Disaster (1)\",\"Disaster (1)\",\"Disaster (1)\",\"No disaster (0)\",\"Disaster (1)\",\"No disaster (0)\",\"Disaster (1)\",\"Disaster (1)\",\"Disaster (1)\",\"Disaster (1)\",\"Disaster (1)\",\"Disaster (1)\",\"Disaster (1)\",\"No disaster (0)\",\"Disaster (1)\",\"Disaster (1)\",\"Disaster (1)\",\"Disaster (1)\",\"Disaster (1)\",\"No disaster (0)\",\"Disaster (1)\",\"No disaster (0)\",\"Disaster (1)\",\"Disaster (1)\",\"No disaster (0)\",\"No disaster (0)\",\"No disaster (0)\",\"No disaster (0)\",\"No disaster (0)\",\"No disaster (0)\",\"No disaster (0)\",\"No disaster (0)\",\"No disaster (0)\",\"No disaster (0)\",\"No disaster (0)\",\"No disaster (0)\",\"No disaster (0)\",\"No disaster (0)\",\"No disaster (0)\",\"No disaster (0)\",\"No disaster (0)\",\"No disaster (0)\",\"No disaster (0)\",\"No disaster (0)\",\"No disaster (0)\",\"No disaster (0)\",\"No disaster (0)\",\"No disaster (0)\",\"No disaster (0)\",\"No disaster (0)\",\"No disaster (0)\",\"No disaster (0)\",\"No disaster (0)\",\"No disaster (0)\",\"No disaster (0)\",\"No disaster (0)\",\"No disaster (0)\",\"No disaster (0)\",\"No disaster (0)\",\"Disaster (1)\",\"Disaster (1)\",\"No disaster (0)\",\"Disaster (1)\",\"Disaster (1)\",\"Disaster (1)\",\"Disaster (1)\",\"Disaster (1)\",\"Disaster (1)\",\"Disaster (1)\",\"Disaster (1)\",\"Disaster (1)\",\"Disaster (1)\",\"No disaster (0)\",\"No disaster (0)\",\"Disaster (1)\",\"Disaster (1)\",\"Disaster (1)\",\"Disaster (1)\",\"Disaster (1)\",\"Disaster (1)\",\"Disaster (1)\",\"Disaster (1)\",\"Disaster (1)\",\"Disaster (1)\",\"Disaster (1)\",\"Disaster (1)\",\"Disaster (1)\",\"Disaster (1)\",\"Disaster (1)\",\"No disaster (0)\",\"No disaster (0)\",\"Disaster (1)\",\"Disaster (1)\",\"Disaster (1)\",\"Disaster (1)\",\"Disaster (1)\",\"Disaster (1)\",\"Disaster (1)\",\"No disaster (0)\",\"Disaster (1)\",\"Disaster (1)\",\"No disaster (0)\",\"No disaster (0)\",\"Disaster (1)\",\"No disaster (0)\",\"Disaster (1)\",\"Disaster (1)\",\"No disaster (0)\",\"No disaster (0)\",\"No disaster (0)\",\"Disaster (1)\",\"No disaster (0)\",\"No disaster (0)\",\"Disaster (1)\",\"Disaster (1)\",\"No disaster (0)\",\"No disaster (0)\",\"No disaster (0)\",\"Disaster (1)\",\"Disaster (1)\",\"Disaster (1)\",\"No disaster (0)\",\"No disaster (0)\",\"No disaster (0)\",\"Disaster (1)\",\"Disaster (1)\",\"Disaster (1)\",\"Disaster (1)\",\"No disaster (0)\",\"No disaster (0)\",\"Disaster (1)\",\"No disaster (0)\",\"No disaster (0)\",\"No disaster (0)\",\"No disaster (0)\",\"No disaster (0)\",\"No disaster (0)\",\"Disaster (1)\",\"No disaster (0)\",\"No disaster (0)\",\"No disaster (0)\",\"Disaster (1)\",\"No disaster (0)\",\"Disaster (1)\",\"No disaster (0)\",\"No disaster (0)\",\"No disaster (0)\",\"Disaster (1)\",\"Disaster (1)\",\"No disaster (0)\",\"Disaster (1)\",\"No disaster (0)\",\"Disaster (1)\",\"Disaster (1)\",\"No disaster (0)\",\"No disaster (0)\",\"No disaster (0)\",\"Disaster (1)\",\"No disaster (0)\",\"No disaster (0)\",\"No disaster (0)\",\"Disaster (1)\",\"Disaster (1)\",\"No disaster (0)\",\"No disaster (0)\",\"No disaster (0)\",\"Disaster (1)\",\"No disaster (0)\",\"No disaster (0)\",\"No disaster (0)\",\"Disaster (1)\",\"No disaster (0)\",\"Disaster (1)\",\"No disaster (0)\",\"Disaster (1)\",\"No disaster (0)\",\"Disaster (1)\",\"No disaster (0)\",\"No disaster (0)\",\"Disaster (1)\",\"Disaster (1)\",\"No disaster (0)\",\"No disaster (0)\",\"No disaster (0)\",\"No disaster (0)\",\"No disaster (0)\",\"No disaster (0)\",\"Disaster (1)\",\"No disaster (0)\",\"No disaster (0)\",\"No disaster (0)\",\"No disaster (0)\",\"Disaster (1)\",\"No disaster (0)\",\"Disaster (1)\",\"No disaster (0)\",\"Disaster (1)\",\"No disaster (0)\",\"No disaster (0)\",\"No disaster (0)\",\"Disaster (1)\",\"No disaster (0)\",\"No disaster (0)\",\"No disaster (0)\",\"Disaster (1)\",\"No disaster (0)\",\"No disaster (0)\",\"No disaster (0)\",\"Disaster (1)\",\"No disaster (0)\",\"No disaster (0)\",\"No disaster (0)\",\"No disaster (0)\",\"Disaster (1)\",\"No disaster (0)\",\"No disaster (0)\",\"No disaster (0)\",\"Disaster (1)\",\"No disaster (0)\",\"No disaster (0)\",\"No disaster (0)\",\"No disaster (0)\",\"Disaster (1)\",\"Disaster (1)\",\"Disaster (1)\",\"No disaster (0)\",\"No disaster (0)\",\"No disaster (0)\",\"No disaster (0)\",\"No disaster (0)\",\"No disaster (0)\",\"No disaster (0)\",\"No disaster (0)\",\"No disaster (0)\",\"No disaster (0)\",\"No disaster (0)\",\"No disaster (0)\",\"No disaster (0)\",\"No disaster (0)\",\"No disaster (0)\",\"Disaster (1)\",\"No disaster (0)\",\"No disaster (0)\",\"No disaster (0)\",\"Disaster (1)\",\"No disaster (0)\",\"No disaster (0)\",\"No disaster (0)\",\"Disaster (1)\",\"No disaster (0)\",\"No disaster (0)\",\"No disaster (0)\",\"No disaster (0)\",\"No disaster (0)\",\"Disaster (1)\",\"No disaster (0)\",\"No disaster (0)\",\"No disaster (0)\",\"No disaster (0)\",\"No disaster (0)\",\"No disaster (0)\",\"No disaster (0)\",\"No disaster (0)\",\"No disaster (0)\",\"No disaster (0)\",\"Disaster (1)\",\"No disaster (0)\",\"No disaster (0)\",\"No disaster (0)\",\"No disaster (0)\",\"No disaster (0)\",\"No disaster (0)\",\"No disaster (0)\",\"No disaster (0)\",\"No disaster (0)\",\"No disaster (0)\",\"No disaster (0)\",\"Disaster (1)\",\"No disaster (0)\",\"Disaster (1)\",\"No disaster (0)\",\"Disaster (1)\",\"No disaster (0)\",\"No disaster (0)\",\"Disaster (1)\",\"No disaster (0)\",\"No disaster (0)\",\"No disaster (0)\",\"No disaster (0)\",\"No disaster (0)\",\"No disaster (0)\",\"No disaster (0)\",\"No disaster (0)\",\"No disaster (0)\",\"No disaster (0)\",\"No disaster (0)\",\"No disaster (0)\",\"No disaster (0)\",\"Disaster (1)\",\"No disaster (0)\",\"No disaster (0)\",\"No disaster (0)\",\"No disaster (0)\",\"No disaster (0)\",\"Disaster (1)\",\"Disaster (1)\",\"No disaster (0)\",\"Disaster (1)\",\"Disaster (1)\",\"Disaster (1)\",\"Disaster (1)\",\"No disaster (0)\",\"No disaster (0)\",\"No disaster (0)\",\"Disaster (1)\",\"Disaster (1)\",\"Disaster (1)\",\"Disaster (1)\",\"Disaster (1)\",\"Disaster (1)\",\"No disaster (0)\",\"Disaster (1)\",\"Disaster (1)\",\"No disaster (0)\",\"No disaster (0)\",\"Disaster (1)\",\"Disaster (1)\",\"No disaster (0)\",\"No disaster (0)\",\"Disaster (1)\",\"Disaster (1)\",\"Disaster (1)\",\"Disaster (1)\",\"Disaster (1)\",\"Disaster (1)\",\"Disaster (1)\",\"No disaster (0)\",\"Disaster (1)\",\"No disaster (0)\",\"Disaster (1)\",\"Disaster (1)\",\"No disaster (0)\",\"No disaster (0)\",\"No disaster (0)\",\"No disaster (0)\",\"No disaster (0)\",\"No disaster (0)\",\"Disaster (1)\",\"No disaster (0)\",\"No disaster (0)\",\"No disaster (0)\",\"No disaster (0)\",\"No disaster (0)\",\"No disaster (0)\",\"No disaster (0)\",\"No disaster (0)\",\"No disaster (0)\",\"Disaster (1)\",\"No disaster (0)\",\"No disaster (0)\",\"Disaster (1)\",\"No disaster (0)\",\"No disaster (0)\",\"No disaster (0)\",\"No disaster (0)\",\"No disaster (0)\",\"No disaster (0)\",\"No disaster (0)\",\"Disaster (1)\",\"Disaster (1)\",\"No disaster (0)\",\"Disaster (1)\",\"Disaster (1)\",\"No disaster (0)\",\"Disaster (1)\",\"Disaster (1)\",\"No disaster (0)\",\"Disaster (1)\",\"Disaster (1)\",\"Disaster (1)\",\"Disaster (1)\",\"Disaster (1)\",\"Disaster (1)\",\"Disaster (1)\",\"Disaster (1)\",\"Disaster (1)\",\"No disaster (0)\",\"No disaster (0)\",\"No disaster (0)\",\"Disaster (1)\",\"Disaster (1)\",\"Disaster (1)\",\"No disaster (0)\",\"Disaster (1)\",\"Disaster (1)\",\"Disaster (1)\",\"Disaster (1)\",\"Disaster (1)\",\"Disaster (1)\",\"No disaster (0)\",\"No disaster (0)\",\"Disaster (1)\",\"No disaster (0)\",\"Disaster (1)\",\"No disaster (0)\",\"No disaster (0)\",\"Disaster (1)\",\"No disaster (0)\",\"No disaster (0)\",\"No disaster (0)\",\"No disaster (0)\",\"No disaster (0)\",\"Disaster (1)\",\"Disaster (1)\",\"Disaster (1)\",\"Disaster (1)\",\"Disaster (1)\",\"Disaster (1)\",\"Disaster (1)\",\"No disaster (0)\",\"No disaster (0)\",\"No disaster (0)\",\"Disaster (1)\",\"Disaster (1)\",\"No disaster (0)\",\"Disaster (1)\",\"No disaster (0)\",\"Disaster (1)\",\"Disaster (1)\",\"Disaster (1)\",\"No disaster (0)\",\"Disaster (1)\",\"No disaster (0)\",\"Disaster (1)\",\"Disaster (1)\",\"Disaster (1)\",\"Disaster (1)\",\"Disaster (1)\",\"No disaster (0)\",\"Disaster (1)\",\"No disaster (0)\",\"No disaster (0)\",\"No disaster (0)\",\"No disaster (0)\",\"No disaster (0)\",\"No disaster (0)\",\"No disaster (0)\",\"No disaster (0)\",\"No disaster (0)\",\"No disaster (0)\",\"No disaster (0)\",\"No disaster (0)\",\"No disaster (0)\",\"No disaster (0)\",\"No disaster (0)\",\"No disaster (0)\",\"Disaster (1)\",\"No disaster (0)\",\"Disaster (1)\",\"No disaster (0)\",\"No disaster (0)\",\"No disaster (0)\",\"No disaster (0)\",\"No disaster (0)\",\"No disaster (0)\",\"No disaster (0)\",\"No disaster (0)\",\"Disaster (1)\",\"Disaster (1)\",\"No disaster (0)\",\"Disaster (1)\",\"Disaster (1)\",\"No disaster (0)\",\"No disaster (0)\",\"No disaster (0)\",\"Disaster (1)\",\"No disaster (0)\",\"No disaster (0)\",\"No disaster (0)\",\"Disaster (1)\",\"No disaster (0)\",\"No disaster (0)\",\"No disaster (0)\",\"No disaster (0)\",\"No disaster (0)\",\"No disaster (0)\",\"Disaster (1)\",\"No disaster (0)\",\"No disaster (0)\",\"No disaster (0)\",\"No disaster (0)\",\"No disaster (0)\",\"No disaster (0)\",\"No disaster (0)\",\"No disaster (0)\",\"No disaster (0)\",\"Disaster (1)\",\"No disaster (0)\",\"No disaster (0)\",\"Disaster (1)\",\"Disaster (1)\",\"No disaster (0)\",\"Disaster (1)\",\"Disaster (1)\",\"Disaster (1)\",\"No disaster (0)\",\"No disaster (0)\",\"No disaster (0)\",\"Disaster (1)\",\"Disaster (1)\",\"Disaster (1)\",\"Disaster (1)\",\"No disaster (0)\",\"Disaster (1)\",\"No disaster (0)\",\"Disaster (1)\",\"Disaster (1)\",\"No disaster (0)\",\"No disaster (0)\",\"Disaster (1)\",\"No disaster (0)\",\"Disaster (1)\",\"Disaster (1)\",\"No disaster (0)\",\"Disaster (1)\",\"Disaster (1)\",\"Disaster (1)\",\"Disaster (1)\",\"No disaster (0)\",\"No disaster (0)\",\"Disaster (1)\",\"Disaster (1)\",\"No disaster (0)\",\"Disaster (1)\",\"Disaster (1)\",\"Disaster (1)\",\"No disaster (0)\",\"Disaster (1)\",\"Disaster (1)\",\"Disaster (1)\",\"Disaster (1)\",\"No disaster (0)\",\"No disaster (0)\",\"Disaster (1)\",\"Disaster (1)\",\"Disaster (1)\",\"Disaster (1)\",\"No disaster (0)\",\"Disaster (1)\",\"Disaster (1)\",\"No disaster (0)\",\"Disaster (1)\",\"No disaster (0)\",\"Disaster (1)\",\"No disaster (0)\",\"Disaster (1)\",\"Disaster (1)\",\"No disaster (0)\",\"Disaster (1)\",\"No disaster (0)\",\"Disaster (1)\",\"Disaster (1)\",\"Disaster (1)\",\"No disaster (0)\",\"No disaster (0)\",\"No disaster (0)\",\"No disaster (0)\",\"No disaster (0)\",\"No disaster (0)\",\"No disaster (0)\",\"Disaster (1)\",\"No disaster (0)\",\"Disaster (1)\",\"No disaster (0)\",\"No disaster (0)\",\"No disaster (0)\",\"Disaster (1)\",\"Disaster (1)\",\"No disaster (0)\",\"No disaster (0)\",\"No disaster (0)\",\"No disaster (0)\",\"No disaster (0)\",\"No disaster (0)\",\"No disaster (0)\",\"No disaster (0)\",\"No disaster (0)\",\"No disaster (0)\",\"No disaster (0)\",\"No disaster (0)\",\"No disaster (0)\",\"No disaster (0)\",\"Disaster (1)\",\"No disaster (0)\",\"No disaster (0)\",\"No disaster (0)\",\"No disaster (0)\",\"No disaster (0)\",\"No disaster (0)\",\"No disaster (0)\",\"No disaster (0)\",\"No disaster (0)\",\"No disaster (0)\",\"Disaster (1)\",\"No disaster (0)\",\"No disaster (0)\",\"No disaster (0)\",\"No disaster (0)\",\"No disaster (0)\",\"No disaster (0)\",\"No disaster (0)\",\"No disaster (0)\",\"No disaster (0)\",\"No disaster (0)\",\"No disaster (0)\",\"No disaster (0)\",\"No disaster (0)\",\"No disaster (0)\",\"No disaster (0)\",\"No disaster (0)\",\"No disaster (0)\",\"No disaster (0)\",\"No disaster (0)\",\"No disaster (0)\",\"No disaster (0)\",\"No disaster (0)\",\"No disaster (0)\",\"No disaster (0)\",\"No disaster (0)\",\"No disaster (0)\",\"No disaster (0)\",\"No disaster (0)\",\"No disaster (0)\",\"No disaster (0)\",\"No disaster (0)\",\"No disaster (0)\",\"No disaster (0)\",\"No disaster (0)\",\"No disaster (0)\",\"No disaster (0)\",\"No disaster (0)\",\"No disaster (0)\",\"Disaster (1)\",\"No disaster (0)\",\"No disaster (0)\",\"No disaster (0)\",\"No disaster (0)\",\"No disaster (0)\",\"No disaster (0)\",\"No disaster (0)\",\"No disaster (0)\",\"Disaster (1)\",\"No disaster (0)\",\"No disaster (0)\",\"No disaster (0)\",\"No disaster (0)\",\"Disaster (1)\",\"No disaster (0)\",\"Disaster (1)\",\"No disaster (0)\",\"No disaster (0)\",\"No disaster (0)\",\"No disaster (0)\",\"No disaster (0)\",\"No disaster (0)\",\"No disaster (0)\",\"No disaster (0)\",\"Disaster (1)\",\"No disaster (0)\",\"No disaster (0)\",\"No disaster (0)\",\"No disaster (0)\",\"No disaster (0)\",\"No disaster (0)\",\"No disaster (0)\",\"No disaster (0)\",\"Disaster (1)\",\"No disaster (0)\",\"No disaster (0)\",\"No disaster (0)\",\"No disaster (0)\",\"No disaster (0)\",\"No disaster (0)\",\"No disaster (0)\",\"No disaster (0)\",\"No disaster (0)\",\"No disaster (0)\",\"No disaster (0)\",\"No disaster (0)\",\"No disaster (0)\",\"No disaster (0)\",\"No disaster (0)\",\"No disaster (0)\",\"No disaster (0)\",\"No disaster (0)\",\"No disaster (0)\",\"No disaster (0)\",\"No disaster (0)\",\"Disaster (1)\",\"No disaster (0)\",\"No disaster (0)\",\"No disaster (0)\",\"No disaster (0)\",\"No disaster (0)\",\"No disaster (0)\",\"No disaster (0)\",\"No disaster (0)\",\"No disaster (0)\",\"No disaster (0)\",\"No disaster (0)\",\"No disaster (0)\",\"No disaster (0)\",\"Disaster (1)\",\"No disaster (0)\",\"No disaster (0)\",\"No disaster (0)\",\"No disaster (0)\",\"No disaster (0)\",\"No disaster (0)\",\"No disaster (0)\",\"No disaster (0)\",\"No disaster (0)\",\"No disaster (0)\",\"No disaster (0)\",\"No disaster (0)\",\"No disaster (0)\",\"No disaster (0)\",\"No disaster (0)\",\"No disaster (0)\",\"No disaster (0)\",\"No disaster (0)\",\"Disaster (1)\",\"No disaster (0)\",\"No disaster (0)\",\"No disaster (0)\",\"No disaster (0)\",\"No disaster (0)\",\"No disaster (0)\",\"No disaster (0)\",\"No disaster (0)\",\"No disaster (0)\",\"No disaster (0)\",\"Disaster (1)\",\"No disaster (0)\",\"Disaster (1)\",\"No disaster (0)\",\"No disaster (0)\",\"No disaster (0)\",\"No disaster (0)\",\"No disaster (0)\",\"No disaster (0)\",\"No disaster (0)\",\"No disaster (0)\",\"No disaster (0)\",\"No disaster (0)\",\"No disaster (0)\",\"No disaster (0)\",\"No disaster (0)\",\"No disaster (0)\",\"Disaster (1)\",\"No disaster (0)\",\"No disaster (0)\",\"No disaster (0)\",\"No disaster (0)\",\"No disaster (0)\",\"Disaster (1)\",\"No disaster (0)\",\"No disaster (0)\",\"No disaster (0)\",\"No disaster (0)\",\"No disaster (0)\",\"No disaster (0)\",\"No disaster (0)\",\"No disaster (0)\",\"No disaster (0)\",\"No disaster (0)\",\"No disaster (0)\",\"No disaster (0)\",\"No disaster (0)\",\"No disaster (0)\",\"Disaster (1)\",\"No disaster (0)\",\"No disaster (0)\",\"No disaster (0)\",\"No disaster (0)\",\"No disaster (0)\",\"Disaster (1)\",\"No disaster (0)\",\"No disaster (0)\",\"No disaster (0)\",\"No disaster (0)\",\"No disaster (0)\",\"No disaster (0)\",\"Disaster (1)\",\"No disaster (0)\",\"No disaster (0)\",\"No disaster (0)\",\"No disaster (0)\",\"Disaster (1)\",\"No disaster (0)\",\"No disaster (0)\",\"No disaster (0)\",\"No disaster (0)\",\"No disaster (0)\",\"No disaster (0)\",\"Disaster (1)\",\"No disaster (0)\",\"No disaster (0)\",\"No disaster (0)\",\"No disaster (0)\",\"No disaster (0)\",\"No disaster (0)\",\"No disaster (0)\",\"No disaster (0)\",\"No disaster (0)\",\"No disaster (0)\",\"No disaster (0)\",\"Disaster (1)\",\"Disaster (1)\",\"No disaster (0)\",\"No disaster (0)\",\"No disaster (0)\",\"No disaster (0)\",\"No disaster (0)\",\"No disaster (0)\",\"No disaster (0)\",\"No disaster (0)\",\"No disaster (0)\",\"No disaster (0)\",\"No disaster (0)\",\"No disaster (0)\",\"No disaster (0)\",\"No disaster (0)\",\"No disaster (0)\",\"No disaster (0)\",\"No disaster (0)\",\"No disaster (0)\",\"No disaster (0)\",\"Disaster (1)\",\"No disaster (0)\",\"No disaster (0)\",\"No disaster (0)\",\"No disaster (0)\",\"No disaster (0)\",\"No disaster (0)\",\"No disaster (0)\",\"No disaster (0)\",\"No disaster (0)\",\"No disaster (0)\",\"Disaster (1)\",\"No disaster (0)\",\"No disaster (0)\",\"Disaster (1)\",\"No disaster (0)\",\"No disaster (0)\",\"Disaster (1)\",\"No disaster (0)\",\"No disaster (0)\",\"No disaster (0)\",\"No disaster (0)\",\"No disaster (0)\",\"No disaster (0)\",\"Disaster (1)\",\"No disaster (0)\",\"No disaster (0)\",\"No disaster (0)\",\"No disaster (0)\",\"No disaster (0)\",\"No disaster (0)\",\"No disaster (0)\",\"No disaster (0)\",\"No disaster (0)\",\"Disaster (1)\",\"No disaster (0)\",\"No disaster (0)\",\"No disaster (0)\",\"No disaster (0)\",\"No disaster (0)\",\"No disaster (0)\",\"No disaster (0)\",\"No disaster (0)\",\"No disaster (0)\",\"No disaster (0)\",\"No disaster (0)\",\"No disaster (0)\",\"No disaster (0)\",\"No disaster (0)\",\"No disaster (0)\",\"No disaster (0)\",\"No disaster (0)\",\"No disaster (0)\",\"No disaster (0)\",\"No disaster (0)\",\"No disaster (0)\",\"No disaster (0)\",\"No disaster (0)\",\"No disaster (0)\",\"Disaster (1)\",\"No disaster (0)\",\"No disaster (0)\",\"No disaster (0)\",\"No disaster (0)\",\"No disaster (0)\",\"No disaster (0)\",\"No disaster (0)\",\"No disaster (0)\",\"No disaster (0)\",\"No disaster (0)\",\"No disaster (0)\",\"No disaster (0)\",\"No disaster (0)\",\"Disaster (1)\",\"No disaster (0)\",\"No disaster (0)\",\"Disaster (1)\",\"No disaster (0)\",\"No disaster (0)\",\"No disaster (0)\",\"No disaster (0)\",\"No disaster (0)\",\"No disaster (0)\",\"No disaster (0)\",\"No disaster (0)\",\"No disaster (0)\",\"No disaster (0)\",\"No disaster (0)\",\"No disaster (0)\",\"No disaster (0)\",\"Disaster (1)\",\"No disaster (0)\",\"No disaster (0)\",\"No disaster (0)\",\"No disaster (0)\",\"No disaster (0)\",\"No disaster (0)\",\"No disaster (0)\",\"No disaster (0)\",\"Disaster (1)\",\"Disaster (1)\",\"No disaster (0)\",\"No disaster (0)\",\"Disaster (1)\",\"No disaster (0)\",\"No disaster (0)\",\"No disaster (0)\",\"No disaster (0)\",\"No disaster (0)\",\"No disaster (0)\",\"No disaster (0)\",\"No disaster (0)\",\"No disaster (0)\",\"No disaster (0)\",\"No disaster (0)\",\"No disaster (0)\",\"No disaster (0)\",\"No disaster (0)\",\"No disaster (0)\",\"No disaster (0)\",\"No disaster (0)\",\"No disaster (0)\",\"No disaster (0)\",\"No disaster (0)\",\"No disaster (0)\",\"No disaster (0)\",\"No disaster (0)\",\"No disaster (0)\",\"No disaster (0)\",\"No disaster (0)\",\"No disaster (0)\",\"No disaster (0)\",\"No disaster (0)\",\"No disaster (0)\",\"No disaster (0)\",\"No disaster (0)\",\"No disaster (0)\",\"No disaster (0)\",\"No disaster (0)\",\"No disaster (0)\",\"No disaster (0)\",\"No disaster (0)\",\"No disaster (0)\",\"No disaster (0)\",\"No disaster (0)\",\"No disaster (0)\",\"Disaster (1)\",\"No disaster (0)\",\"Disaster (1)\",\"Disaster (1)\",\"No disaster (0)\",\"No disaster (0)\",\"No disaster (0)\",\"No disaster (0)\",\"No disaster (0)\",\"Disaster (1)\",\"No disaster (0)\",\"No disaster (0)\",\"Disaster (1)\",\"No disaster (0)\",\"Disaster (1)\",\"Disaster (1)\",\"Disaster (1)\",\"No disaster (0)\",\"No disaster (0)\",\"Disaster (1)\",\"Disaster (1)\",\"No disaster (0)\",\"Disaster (1)\",\"No disaster (0)\",\"Disaster (1)\",\"No disaster (0)\",\"No disaster (0)\",\"Disaster (1)\",\"Disaster (1)\",\"Disaster (1)\",\"No disaster (0)\",\"No disaster (0)\",\"No disaster (0)\",\"No disaster (0)\",\"Disaster (1)\",\"Disaster (1)\",\"No disaster (0)\",\"No disaster (0)\",\"Disaster (1)\",\"Disaster (1)\",\"Disaster (1)\",\"Disaster (1)\",\"Disaster (1)\",\"Disaster (1)\",\"No disaster (0)\",\"No disaster (0)\",\"Disaster (1)\",\"No disaster (0)\",\"No disaster (0)\",\"Disaster (1)\",\"Disaster (1)\",\"No disaster (0)\",\"No disaster (0)\",\"No disaster (0)\",\"No disaster (0)\",\"Disaster (1)\",\"No disaster (0)\",\"No disaster (0)\",\"Disaster (1)\",\"Disaster (1)\",\"Disaster (1)\",\"No disaster (0)\",\"No disaster (0)\",\"Disaster (1)\",\"No disaster (0)\",\"Disaster (1)\",\"Disaster (1)\",\"Disaster (1)\",\"No disaster (0)\",\"No disaster (0)\",\"Disaster (1)\",\"Disaster (1)\",\"Disaster (1)\",\"Disaster (1)\",\"Disaster (1)\",\"Disaster (1)\",\"Disaster (1)\",\"Disaster (1)\",\"Disaster (1)\",\"Disaster (1)\",\"Disaster (1)\",\"Disaster (1)\",\"Disaster (1)\",\"Disaster (1)\",\"Disaster (1)\",\"Disaster (1)\",\"Disaster (1)\",\"Disaster (1)\",\"Disaster (1)\",\"Disaster (1)\",\"Disaster (1)\",\"Disaster (1)\",\"Disaster (1)\",\"Disaster (1)\",\"No disaster (0)\",\"Disaster (1)\",\"No disaster (0)\",\"Disaster (1)\",\"Disaster (1)\",\"No disaster (0)\",\"Disaster (1)\",\"Disaster (1)\",\"Disaster (1)\",\"Disaster (1)\",\"Disaster (1)\",\"Disaster (1)\",\"Disaster (1)\",\"Disaster (1)\",\"Disaster (1)\",\"Disaster (1)\",\"Disaster (1)\",\"Disaster (1)\",\"Disaster (1)\",\"No disaster (0)\",\"Disaster (1)\",\"Disaster (1)\",\"Disaster (1)\",\"No disaster (0)\",\"Disaster (1)\",\"Disaster (1)\",\"Disaster (1)\",\"Disaster (1)\",\"Disaster (1)\",\"Disaster (1)\",\"Disaster (1)\",\"No disaster (0)\",\"Disaster (1)\",\"Disaster (1)\",\"Disaster (1)\",\"No disaster (0)\",\"Disaster (1)\",\"Disaster (1)\",\"No disaster (0)\",\"Disaster (1)\",\"No disaster (0)\",\"Disaster (1)\",\"Disaster (1)\",\"Disaster (1)\",\"Disaster (1)\",\"No disaster (0)\",\"Disaster (1)\",\"Disaster (1)\",\"No disaster (0)\",\"No disaster (0)\",\"Disaster (1)\",\"No disaster (0)\",\"Disaster (1)\",\"Disaster (1)\",\"Disaster (1)\",\"No disaster (0)\",\"Disaster (1)\",\"No disaster (0)\",\"Disaster (1)\",\"No disaster (0)\",\"Disaster (1)\",\"Disaster (1)\",\"Disaster (1)\",\"Disaster (1)\",\"Disaster (1)\",\"Disaster (1)\",\"Disaster (1)\",\"Disaster (1)\",\"Disaster (1)\",\"No disaster (0)\",\"No disaster (0)\",\"No disaster (0)\",\"Disaster (1)\",\"Disaster (1)\",\"Disaster (1)\",\"Disaster (1)\",\"Disaster (1)\",\"No disaster (0)\",\"Disaster (1)\",\"Disaster (1)\",\"Disaster (1)\",\"Disaster (1)\",\"Disaster (1)\",\"No disaster (0)\",\"Disaster (1)\",\"Disaster (1)\",\"Disaster (1)\",\"Disaster (1)\",\"Disaster (1)\",\"Disaster (1)\",\"Disaster (1)\",\"No disaster (0)\",\"No disaster (0)\",\"Disaster (1)\",\"Disaster (1)\",\"No disaster (0)\",\"Disaster (1)\",\"Disaster (1)\",\"Disaster (1)\",\"Disaster (1)\",\"Disaster (1)\",\"Disaster (1)\",\"Disaster (1)\",\"Disaster (1)\",\"Disaster (1)\",\"Disaster (1)\",\"Disaster (1)\",\"Disaster (1)\",\"No disaster (0)\",\"Disaster (1)\",\"No disaster (0)\",\"No disaster (0)\",\"No disaster (0)\",\"No disaster (0)\",\"No disaster (0)\",\"No disaster (0)\",\"No disaster (0)\",\"No disaster (0)\",\"No disaster (0)\",\"Disaster (1)\",\"No disaster (0)\",\"No disaster (0)\",\"Disaster (1)\",\"No disaster (0)\",\"Disaster (1)\",\"No disaster (0)\",\"No disaster (0)\",\"No disaster (0)\",\"No disaster (0)\",\"No disaster (0)\",\"No disaster (0)\",\"No disaster (0)\",\"No disaster (0)\",\"No disaster (0)\",\"Disaster (1)\",\"No disaster (0)\",\"No disaster (0)\",\"Disaster (1)\",\"No disaster (0)\",\"No disaster (0)\",\"Disaster (1)\",\"No disaster (0)\",\"No disaster (0)\",\"No disaster (0)\",\"No disaster (0)\",\"Disaster (1)\",\"No disaster (0)\",\"No disaster (0)\",\"Disaster (1)\",\"Disaster (1)\",\"No disaster (0)\",\"Disaster (1)\",\"No disaster (0)\",\"No disaster (0)\",\"Disaster (1)\",\"Disaster (1)\",\"No disaster (0)\",\"No disaster (0)\",\"No disaster (0)\",\"No disaster (0)\",\"Disaster (1)\",\"No disaster (0)\",\"No disaster (0)\",\"No disaster (0)\",\"No disaster (0)\",\"No disaster (0)\",\"Disaster (1)\",\"No disaster (0)\",\"Disaster (1)\",\"Disaster (1)\",\"No disaster (0)\",\"No disaster (0)\",\"No disaster (0)\",\"No disaster (0)\",\"No disaster (0)\",\"Disaster (1)\",\"No disaster (0)\",\"No disaster (0)\",\"Disaster (1)\",\"Disaster (1)\",\"Disaster (1)\",\"No disaster (0)\",\"No disaster (0)\",\"No disaster (0)\",\"Disaster (1)\",\"Disaster (1)\",\"No disaster (0)\",\"No disaster (0)\",\"Disaster (1)\",\"Disaster (1)\",\"Disaster (1)\",\"Disaster (1)\",\"No disaster (0)\",\"No disaster (0)\",\"No disaster (0)\",\"No disaster (0)\",\"Disaster (1)\",\"No disaster (0)\",\"Disaster (1)\",\"No disaster (0)\",\"No disaster (0)\",\"Disaster (1)\",\"Disaster (1)\",\"No disaster (0)\",\"Disaster (1)\",\"Disaster (1)\",\"Disaster (1)\",\"No disaster (0)\",\"Disaster (1)\",\"Disaster (1)\",\"Disaster (1)\",\"Disaster (1)\",\"Disaster (1)\",\"Disaster (1)\",\"Disaster (1)\",\"No disaster (0)\",\"Disaster (1)\",\"Disaster (1)\",\"Disaster (1)\",\"No disaster (0)\",\"Disaster (1)\",\"Disaster (1)\",\"No disaster (0)\",\"No disaster (0)\",\"Disaster (1)\",\"Disaster (1)\",\"Disaster (1)\",\"Disaster (1)\",\"No disaster (0)\",\"Disaster (1)\",\"Disaster (1)\",\"No disaster (0)\",\"Disaster (1)\",\"Disaster (1)\",\"Disaster (1)\",\"No disaster (0)\",\"Disaster (1)\",\"No disaster (0)\",\"Disaster (1)\",\"Disaster (1)\",\"Disaster (1)\",\"Disaster (1)\",\"Disaster (1)\",\"No disaster (0)\",\"Disaster (1)\",\"Disaster (1)\",\"Disaster (1)\",\"Disaster (1)\",\"Disaster (1)\",\"No disaster (0)\",\"Disaster (1)\",\"No disaster (0)\",\"Disaster (1)\",\"Disaster (1)\",\"Disaster (1)\",\"Disaster (1)\",\"Disaster (1)\",\"Disaster (1)\",\"Disaster (1)\",\"Disaster (1)\",\"Disaster (1)\",\"Disaster (1)\",\"Disaster (1)\",\"No disaster (0)\",\"Disaster (1)\",\"Disaster (1)\",\"No disaster (0)\",\"Disaster (1)\",\"Disaster (1)\",\"Disaster (1)\",\"Disaster (1)\",\"No disaster (0)\",\"Disaster (1)\",\"No disaster (0)\",\"No disaster (0)\",\"Disaster (1)\",\"No disaster (0)\",\"Disaster (1)\",\"Disaster (1)\",\"Disaster (1)\",\"No disaster (0)\",\"No disaster (0)\",\"Disaster (1)\",\"No disaster (0)\",\"No disaster (0)\",\"Disaster (1)\",\"Disaster (1)\",\"Disaster (1)\",\"Disaster (1)\",\"No disaster (0)\",\"No disaster (0)\",\"No disaster (0)\",\"No disaster (0)\",\"No disaster (0)\",\"Disaster (1)\",\"No disaster (0)\",\"No disaster (0)\",\"No disaster (0)\",\"No disaster (0)\",\"Disaster (1)\",\"No disaster (0)\",\"No disaster (0)\",\"Disaster (1)\",\"Disaster (1)\",\"Disaster (1)\",\"No disaster (0)\",\"Disaster (1)\",\"No disaster (0)\",\"No disaster (0)\",\"No disaster (0)\",\"No disaster (0)\",\"No disaster (0)\",\"No disaster (0)\",\"No disaster (0)\",\"No disaster (0)\",\"Disaster (1)\",\"No disaster (0)\",\"Disaster (1)\",\"No disaster (0)\",\"No disaster (0)\",\"Disaster (1)\",\"No disaster (0)\",\"No disaster (0)\",\"No disaster (0)\",\"No disaster (0)\",\"No disaster (0)\",\"No disaster (0)\",\"No disaster (0)\",\"No disaster (0)\",\"No disaster (0)\",\"Disaster (1)\",\"No disaster (0)\",\"Disaster (1)\",\"No disaster (0)\",\"No disaster (0)\",\"No disaster (0)\",\"No disaster (0)\",\"No disaster (0)\",\"Disaster (1)\",\"No disaster (0)\",\"No disaster (0)\",\"No disaster (0)\",\"Disaster (1)\",\"No disaster (0)\",\"Disaster (1)\",\"No disaster (0)\",\"Disaster (1)\",\"Disaster (1)\",\"Disaster (1)\",\"Disaster (1)\",\"Disaster (1)\",\"Disaster (1)\",\"No disaster (0)\",\"No disaster (0)\",\"Disaster (1)\",\"Disaster (1)\",\"No disaster (0)\",\"Disaster (1)\",\"No disaster (0)\",\"Disaster (1)\",\"Disaster (1)\",\"Disaster (1)\",\"Disaster (1)\",\"Disaster (1)\",\"Disaster (1)\",\"Disaster (1)\",\"Disaster (1)\",\"Disaster (1)\",\"No disaster (0)\",\"No disaster (0)\",\"No disaster (0)\",\"No disaster (0)\",\"No disaster (0)\",\"No disaster (0)\",\"Disaster (1)\",\"Disaster (1)\",\"Disaster (1)\",\"No disaster (0)\",\"Disaster (1)\",\"No disaster (0)\",\"No disaster (0)\",\"Disaster (1)\",\"No disaster (0)\",\"Disaster (1)\",\"Disaster (1)\",\"Disaster (1)\",\"No disaster (0)\",\"No disaster (0)\",\"No disaster (0)\",\"No disaster (0)\",\"Disaster (1)\",\"No disaster (0)\",\"No disaster (0)\",\"No disaster (0)\",\"Disaster (1)\",\"Disaster (1)\",\"No disaster (0)\",\"No disaster (0)\",\"Disaster (1)\",\"No disaster (0)\",\"No disaster (0)\",\"No disaster (0)\",\"Disaster (1)\",\"Disaster (1)\",\"Disaster (1)\",\"No disaster (0)\",\"No disaster (0)\",\"No disaster (0)\",\"No disaster (0)\",\"No disaster (0)\",\"Disaster (1)\",\"No disaster (0)\",\"Disaster (1)\",\"No disaster (0)\",\"No disaster (0)\",\"Disaster (1)\",\"No disaster (0)\",\"No disaster (0)\",\"No disaster (0)\",\"No disaster (0)\",\"Disaster (1)\",\"No disaster (0)\",\"No disaster (0)\",\"No disaster (0)\",\"No disaster (0)\",\"No disaster (0)\",\"Disaster (1)\",\"No disaster (0)\",\"No disaster (0)\",\"No disaster (0)\",\"No disaster (0)\",\"Disaster (1)\",\"Disaster (1)\",\"No disaster (0)\",\"No disaster (0)\",\"No disaster (0)\",\"Disaster (1)\",\"No disaster (0)\",\"No disaster (0)\",\"No disaster (0)\",\"No disaster (0)\",\"Disaster (1)\",\"No disaster (0)\",\"Disaster (1)\",\"No disaster (0)\",\"No disaster (0)\",\"Disaster (1)\",\"No disaster (0)\",\"Disaster (1)\",\"Disaster (1)\",\"No disaster (0)\",\"No disaster (0)\",\"No disaster (0)\",\"Disaster (1)\",\"No disaster (0)\",\"No disaster (0)\",\"No disaster (0)\",\"No disaster (0)\",\"Disaster (1)\",\"Disaster (1)\",\"No disaster (0)\",\"No disaster (0)\",\"No disaster (0)\",\"Disaster (1)\",\"No disaster (0)\",\"Disaster (1)\",\"Disaster (1)\",\"No disaster (0)\",\"Disaster (1)\",\"Disaster (1)\",\"No disaster (0)\",\"No disaster (0)\",\"Disaster (1)\",\"No disaster (0)\",\"Disaster (1)\",\"No disaster (0)\",\"No disaster (0)\",\"Disaster (1)\",\"No disaster (0)\",\"No disaster (0)\",\"Disaster (1)\",\"No disaster (0)\",\"Disaster (1)\",\"No disaster (0)\",\"Disaster (1)\",\"Disaster (1)\",\"Disaster (1)\",\"No disaster (0)\",\"No disaster (0)\",\"No disaster (0)\",\"Disaster (1)\",\"No disaster (0)\",\"Disaster (1)\",\"No disaster (0)\",\"No disaster (0)\",\"No disaster (0)\",\"No disaster (0)\",\"No disaster (0)\",\"Disaster (1)\",\"No disaster (0)\",\"No disaster (0)\",\"No disaster (0)\",\"No disaster (0)\",\"No disaster (0)\",\"Disaster (1)\",\"No disaster (0)\",\"Disaster (1)\",\"Disaster (1)\",\"Disaster (1)\",\"No disaster (0)\",\"No disaster (0)\",\"No disaster (0)\",\"No disaster (0)\",\"No disaster (0)\",\"No disaster (0)\",\"No disaster (0)\",\"No disaster (0)\",\"No disaster (0)\",\"No disaster (0)\",\"No disaster (0)\",\"No disaster (0)\",\"No disaster (0)\",\"No disaster (0)\",\"No disaster (0)\",\"No disaster (0)\",\"No disaster (0)\",\"No disaster (0)\",\"No disaster (0)\",\"No disaster (0)\",\"No disaster (0)\",\"No disaster (0)\",\"Disaster (1)\",\"No disaster (0)\",\"No disaster (0)\",\"No disaster (0)\",\"No disaster (0)\",\"Disaster (1)\",\"No disaster (0)\",\"Disaster (1)\",\"No disaster (0)\",\"No disaster (0)\",\"No disaster (0)\",\"No disaster (0)\",\"No disaster (0)\",\"No disaster (0)\",\"No disaster (0)\",\"No disaster (0)\",\"No disaster (0)\",\"Disaster (1)\",\"Disaster (1)\",\"No disaster (0)\",\"No disaster (0)\",\"Disaster (1)\",\"No disaster (0)\",\"No disaster (0)\",\"Disaster (1)\",\"Disaster (1)\",\"Disaster (1)\",\"Disaster (1)\",\"Disaster (1)\",\"No disaster (0)\",\"Disaster (1)\",\"Disaster (1)\",\"No disaster (0)\",\"Disaster (1)\",\"Disaster (1)\",\"Disaster (1)\",\"No disaster (0)\",\"No disaster (0)\",\"No disaster (0)\",\"Disaster (1)\",\"Disaster (1)\",\"No disaster (0)\",\"Disaster (1)\",\"No disaster (0)\",\"Disaster (1)\",\"No disaster (0)\",\"No disaster (0)\",\"Disaster (1)\",\"Disaster (1)\",\"Disaster (1)\",\"Disaster (1)\",\"Disaster (1)\",\"Disaster (1)\",\"Disaster (1)\",\"Disaster (1)\",\"Disaster (1)\",\"Disaster (1)\",\"Disaster (1)\",\"Disaster (1)\",\"Disaster (1)\",\"No disaster (0)\",\"No disaster (0)\",\"Disaster (1)\",\"Disaster (1)\",\"Disaster (1)\",\"Disaster (1)\",\"No disaster (0)\",\"No disaster (0)\",\"No disaster (0)\",\"No disaster (0)\",\"Disaster (1)\",\"Disaster (1)\",\"Disaster (1)\",\"No disaster (0)\",\"Disaster (1)\",\"Disaster (1)\",\"Disaster (1)\",\"Disaster (1)\",\"Disaster (1)\",\"Disaster (1)\",\"Disaster (1)\",\"Disaster (1)\",\"Disaster (1)\",\"No disaster (0)\",\"Disaster (1)\",\"Disaster (1)\",\"Disaster (1)\",\"Disaster (1)\",\"Disaster (1)\",\"Disaster (1)\",\"No disaster (0)\",\"No disaster (0)\",\"No disaster (0)\",\"No disaster (0)\",\"No disaster (0)\",\"No disaster (0)\",\"Disaster (1)\",\"No disaster (0)\",\"No disaster (0)\",\"No disaster (0)\",\"Disaster (1)\",\"Disaster (1)\",\"Disaster (1)\",\"No disaster (0)\",\"No disaster (0)\",\"Disaster (1)\",\"Disaster (1)\",\"No disaster (0)\",\"No disaster (0)\",\"Disaster (1)\",\"No disaster (0)\",\"No disaster (0)\",\"Disaster (1)\",\"No disaster (0)\",\"No disaster (0)\",\"Disaster (1)\",\"No disaster (0)\",\"No disaster (0)\",\"No disaster (0)\",\"Disaster (1)\",\"No disaster (0)\",\"Disaster (1)\",\"Disaster (1)\",\"No disaster (0)\",\"No disaster (0)\",\"No disaster (0)\",\"Disaster (1)\",\"Disaster (1)\",\"No disaster (0)\",\"Disaster (1)\",\"Disaster (1)\",\"Disaster (1)\",\"Disaster (1)\",\"Disaster (1)\",\"No disaster (0)\",\"Disaster (1)\",\"Disaster (1)\",\"No disaster (0)\",\"No disaster (0)\",\"No disaster (0)\",\"Disaster (1)\",\"Disaster (1)\",\"Disaster (1)\",\"Disaster (1)\",\"Disaster (1)\",\"Disaster (1)\",\"Disaster (1)\",\"No disaster (0)\",\"Disaster (1)\",\"No disaster (0)\",\"No disaster (0)\",\"No disaster (0)\",\"No disaster (0)\",\"No disaster (0)\",\"No disaster (0)\",\"Disaster (1)\",\"Disaster (1)\",\"Disaster (1)\",\"Disaster (1)\",\"No disaster (0)\",\"No disaster (0)\",\"Disaster (1)\",\"No disaster (0)\",\"No disaster (0)\",\"No disaster (0)\",\"No disaster (0)\",\"No disaster (0)\",\"Disaster (1)\",\"No disaster (0)\",\"No disaster (0)\",\"No disaster (0)\",\"No disaster (0)\",\"No disaster (0)\",\"No disaster (0)\",\"No disaster (0)\",\"Disaster (1)\",\"No disaster (0)\",\"No disaster (0)\",\"No disaster (0)\",\"No disaster (0)\",\"No disaster (0)\",\"No disaster (0)\",\"No disaster (0)\",\"No disaster (0)\",\"No disaster (0)\",\"No disaster (0)\",\"No disaster (0)\",\"Disaster (1)\",\"No disaster (0)\",\"No disaster (0)\",\"No disaster (0)\",\"No disaster (0)\",\"No disaster (0)\",\"No disaster (0)\",\"No disaster (0)\",\"No disaster (0)\",\"No disaster (0)\",\"No disaster (0)\",\"No disaster (0)\",\"No disaster (0)\",\"No disaster (0)\",\"No disaster (0)\",\"No disaster (0)\",\"No disaster (0)\",\"No disaster (0)\",\"Disaster (1)\",\"Disaster (1)\",\"No disaster (0)\",\"No disaster (0)\",\"No disaster (0)\",\"No disaster (0)\",\"No disaster (0)\",\"No disaster (0)\",\"No disaster (0)\",\"No disaster (0)\",\"No disaster (0)\",\"No disaster (0)\",\"No disaster (0)\",\"No disaster (0)\",\"No disaster (0)\",\"Disaster (1)\",\"No disaster (0)\",\"Disaster (1)\",\"No disaster (0)\",\"No disaster (0)\",\"No disaster (0)\",\"No disaster (0)\",\"No disaster (0)\",\"Disaster (1)\",\"No disaster (0)\",\"No disaster (0)\",\"No disaster (0)\",\"No disaster (0)\",\"Disaster (1)\",\"No disaster (0)\",\"No disaster (0)\",\"No disaster (0)\",\"No disaster (0)\",\"No disaster (0)\",\"No disaster (0)\",\"No disaster (0)\",\"No disaster (0)\",\"No disaster (0)\",\"No disaster (0)\",\"Disaster (1)\",\"No disaster (0)\",\"No disaster (0)\",\"Disaster (1)\",\"Disaster (1)\",\"No disaster (0)\",\"No disaster (0)\",\"No disaster (0)\",\"No disaster (0)\",\"No disaster (0)\",\"No disaster (0)\",\"No disaster (0)\",\"No disaster (0)\",\"No disaster (0)\",\"No disaster (0)\",\"No disaster (0)\",\"No disaster (0)\",\"No disaster (0)\",\"No disaster (0)\",\"No disaster (0)\",\"No disaster (0)\",\"Disaster (1)\",\"No disaster (0)\",\"No disaster (0)\",\"Disaster (1)\",\"No disaster (0)\",\"Disaster (1)\",\"Disaster (1)\",\"Disaster (1)\",\"Disaster (1)\",\"Disaster (1)\",\"Disaster (1)\",\"Disaster (1)\",\"Disaster (1)\",\"Disaster (1)\",\"No disaster (0)\",\"No disaster (0)\",\"Disaster (1)\",\"Disaster (1)\",\"Disaster (1)\",\"Disaster (1)\",\"No disaster (0)\",\"No disaster (0)\",\"No disaster (0)\",\"Disaster (1)\",\"Disaster (1)\",\"No disaster (0)\",\"No disaster (0)\",\"No disaster (0)\",\"Disaster (1)\",\"Disaster (1)\",\"No disaster (0)\",\"No disaster (0)\",\"No disaster (0)\",\"No disaster (0)\",\"No disaster (0)\",\"Disaster (1)\",\"No disaster (0)\",\"No disaster (0)\",\"No disaster (0)\",\"Disaster (1)\",\"No disaster (0)\",\"No disaster (0)\",\"No disaster (0)\",\"No disaster (0)\",\"Disaster (1)\",\"Disaster (1)\",\"Disaster (1)\",\"No disaster (0)\",\"Disaster (1)\",\"No disaster (0)\",\"No disaster (0)\",\"Disaster (1)\",\"Disaster (1)\",\"No disaster (0)\",\"Disaster (1)\",\"No disaster (0)\",\"Disaster (1)\",\"Disaster (1)\",\"Disaster (1)\",\"Disaster (1)\",\"No disaster (0)\",\"No disaster (0)\",\"Disaster (1)\",\"No disaster (0)\",\"Disaster (1)\",\"Disaster (1)\",\"Disaster (1)\",\"No disaster (0)\",\"No disaster (0)\",\"No disaster (0)\",\"Disaster (1)\",\"Disaster (1)\",\"No disaster (0)\",\"No disaster (0)\",\"No disaster (0)\",\"Disaster (1)\",\"No disaster (0)\",\"Disaster (1)\",\"No disaster (0)\",\"Disaster (1)\",\"No disaster (0)\",\"No disaster (0)\",\"Disaster (1)\",\"No disaster (0)\",\"No disaster (0)\",\"No disaster (0)\",\"No disaster (0)\",\"No disaster (0)\",\"No disaster (0)\",\"Disaster (1)\",\"No disaster (0)\",\"No disaster (0)\",\"No disaster (0)\",\"No disaster (0)\",\"No disaster (0)\",\"No disaster (0)\",\"No disaster (0)\",\"No disaster (0)\",\"No disaster (0)\",\"Disaster (1)\",\"Disaster (1)\",\"No disaster (0)\",\"No disaster (0)\",\"No disaster (0)\",\"No disaster (0)\",\"No disaster (0)\",\"Disaster (1)\",\"No disaster (0)\",\"No disaster (0)\",\"Disaster (1)\",\"No disaster (0)\",\"No disaster (0)\",\"No disaster (0)\",\"No disaster (0)\",\"No disaster (0)\",\"No disaster (0)\",\"No disaster (0)\",\"Disaster (1)\",\"No disaster (0)\",\"No disaster (0)\",\"Disaster (1)\",\"No disaster (0)\",\"No disaster (0)\",\"No disaster (0)\",\"No disaster (0)\",\"Disaster (1)\",\"No disaster (0)\",\"No disaster (0)\",\"No disaster (0)\",\"No disaster (0)\",\"No disaster (0)\",\"Disaster (1)\",\"No disaster (0)\",\"Disaster (1)\",\"Disaster (1)\",\"No disaster (0)\",\"No disaster (0)\",\"No disaster (0)\",\"No disaster (0)\",\"No disaster (0)\",\"Disaster (1)\",\"No disaster (0)\",\"No disaster (0)\",\"Disaster (1)\",\"No disaster (0)\",\"Disaster (1)\",\"No disaster (0)\",\"No disaster (0)\",\"No disaster (0)\",\"No disaster (0)\",\"No disaster (0)\",\"No disaster (0)\",\"No disaster (0)\",\"Disaster (1)\",\"Disaster (1)\",\"No disaster (0)\",\"Disaster (1)\",\"No disaster (0)\",\"No disaster (0)\",\"No disaster (0)\",\"No disaster (0)\",\"No disaster (0)\",\"Disaster (1)\",\"Disaster (1)\",\"No disaster (0)\",\"No disaster (0)\",\"No disaster (0)\",\"No disaster (0)\",\"No disaster (0)\",\"No disaster (0)\",\"No disaster (0)\",\"No disaster (0)\",\"No disaster (0)\",\"Disaster (1)\",\"Disaster (1)\",\"No disaster (0)\",\"Disaster (1)\",\"Disaster (1)\",\"Disaster (1)\",\"Disaster (1)\",\"No disaster (0)\",\"Disaster (1)\",\"Disaster (1)\",\"Disaster (1)\",\"No disaster (0)\",\"Disaster (1)\",\"No disaster (0)\",\"No disaster (0)\",\"No disaster (0)\",\"Disaster (1)\",\"Disaster (1)\",\"Disaster (1)\",\"Disaster (1)\",\"Disaster (1)\",\"No disaster (0)\",\"No disaster (0)\",\"Disaster (1)\",\"No disaster (0)\",\"Disaster (1)\",\"No disaster (0)\",\"Disaster (1)\",\"Disaster (1)\",\"No disaster (0)\",\"Disaster (1)\",\"Disaster (1)\",\"Disaster (1)\",\"Disaster (1)\",\"Disaster (1)\",\"No disaster (0)\",\"Disaster (1)\",\"Disaster (1)\",\"Disaster (1)\",\"Disaster (1)\",\"Disaster (1)\",\"Disaster (1)\",\"Disaster (1)\",\"Disaster (1)\",\"Disaster (1)\",\"Disaster (1)\",\"Disaster (1)\",\"Disaster (1)\",\"Disaster (1)\",\"Disaster (1)\",\"Disaster (1)\",\"Disaster (1)\",\"Disaster (1)\",\"Disaster (1)\",\"Disaster (1)\",\"Disaster (1)\",\"Disaster (1)\",\"Disaster (1)\",\"Disaster (1)\",\"Disaster (1)\",\"Disaster (1)\",\"Disaster (1)\",\"Disaster (1)\",\"Disaster (1)\",\"Disaster (1)\",\"Disaster (1)\",\"Disaster (1)\",\"Disaster (1)\",\"Disaster (1)\",\"Disaster (1)\",\"Disaster (1)\",\"Disaster (1)\",\"Disaster (1)\",\"Disaster (1)\",\"Disaster (1)\",\"Disaster (1)\",\"No disaster (0)\",\"No disaster (0)\",\"No disaster (0)\",\"No disaster (0)\",\"No disaster (0)\",\"No disaster (0)\",\"Disaster (1)\",\"Disaster (1)\",\"No disaster (0)\",\"No disaster (0)\",\"No disaster (0)\",\"No disaster (0)\",\"No disaster (0)\",\"No disaster (0)\",\"No disaster (0)\",\"No disaster (0)\",\"No disaster (0)\",\"No disaster (0)\",\"No disaster (0)\",\"No disaster (0)\",\"Disaster (1)\",\"No disaster (0)\",\"Disaster (1)\",\"No disaster (0)\",\"No disaster (0)\",\"No disaster (0)\",\"No disaster (0)\",\"No disaster (0)\",\"No disaster (0)\",\"No disaster (0)\",\"No disaster (0)\",\"No disaster (0)\",\"No disaster (0)\",\"No disaster (0)\",\"No disaster (0)\",\"No disaster (0)\",\"Disaster (1)\",\"No disaster (0)\",\"No disaster (0)\",\"Disaster (1)\",\"No disaster (0)\",\"No disaster (0)\",\"No disaster (0)\",\"No disaster (0)\",\"No disaster (0)\",\"Disaster (1)\",\"No disaster (0)\",\"No disaster (0)\",\"No disaster (0)\",\"No disaster (0)\",\"Disaster (1)\",\"No disaster (0)\",\"No disaster (0)\",\"No disaster (0)\",\"No disaster (0)\",\"Disaster (1)\",\"No disaster (0)\",\"Disaster (1)\",\"No disaster (0)\",\"No disaster (0)\",\"Disaster (1)\",\"No disaster (0)\",\"No disaster (0)\",\"No disaster (0)\",\"No disaster (0)\",\"No disaster (0)\",\"Disaster (1)\",\"No disaster (0)\",\"Disaster (1)\",\"Disaster (1)\",\"No disaster (0)\",\"No disaster (0)\",\"No disaster (0)\",\"No disaster (0)\",\"No disaster (0)\",\"No disaster (0)\",\"No disaster (0)\",\"No disaster (0)\",\"No disaster (0)\",\"Disaster (1)\",\"No disaster (0)\",\"No disaster (0)\",\"No disaster (0)\",\"No disaster (0)\",\"No disaster (0)\",\"Disaster (1)\",\"No disaster (0)\",\"No disaster (0)\",\"No disaster (0)\",\"No disaster (0)\",\"No disaster (0)\",\"Disaster (1)\",\"No disaster (0)\",\"No disaster (0)\",\"No disaster (0)\",\"No disaster (0)\",\"No disaster (0)\",\"No disaster (0)\",\"No disaster (0)\",\"Disaster (1)\",\"No disaster (0)\",\"No disaster (0)\",\"No disaster (0)\",\"No disaster (0)\",\"No disaster (0)\",\"No disaster (0)\",\"No disaster (0)\",\"No disaster (0)\",\"No disaster (0)\",\"No disaster (0)\",\"Disaster (1)\",\"Disaster (1)\",\"No disaster (0)\",\"No disaster (0)\",\"No disaster (0)\",\"No disaster (0)\",\"No disaster (0)\",\"No disaster (0)\",\"Disaster (1)\",\"No disaster (0)\",\"No disaster (0)\",\"Disaster (1)\",\"No disaster (0)\",\"No disaster (0)\",\"Disaster (1)\",\"No disaster (0)\",\"No disaster (0)\",\"No disaster (0)\",\"No disaster (0)\",\"Disaster (1)\",\"Disaster (1)\",\"Disaster (1)\",\"No disaster (0)\",\"No disaster (0)\",\"No disaster (0)\",\"No disaster (0)\",\"No disaster (0)\",\"No disaster (0)\",\"No disaster (0)\",\"No disaster (0)\",\"Disaster (1)\",\"Disaster (1)\",\"Disaster (1)\",\"Disaster (1)\",\"No disaster (0)\",\"No disaster (0)\",\"Disaster (1)\",\"No disaster (0)\",\"Disaster (1)\",\"No disaster (0)\",\"No disaster (0)\",\"No disaster (0)\",\"No disaster (0)\",\"No disaster (0)\",\"No disaster (0)\",\"No disaster (0)\",\"Disaster (1)\",\"No disaster (0)\",\"No disaster (0)\",\"No disaster (0)\",\"No disaster (0)\",\"Disaster (1)\",\"No disaster (0)\",\"No disaster (0)\",\"No disaster (0)\",\"No disaster (0)\",\"No disaster (0)\",\"Disaster (1)\",\"No disaster (0)\",\"No disaster (0)\",\"No disaster (0)\",\"No disaster (0)\",\"No disaster (0)\",\"Disaster (1)\",\"Disaster (1)\",\"Disaster (1)\",\"Disaster (1)\",\"Disaster (1)\",\"No disaster (0)\",\"Disaster (1)\",\"No disaster (0)\",\"Disaster (1)\",\"No disaster (0)\",\"No disaster (0)\",\"Disaster (1)\",\"No disaster (0)\",\"Disaster (1)\",\"Disaster (1)\",\"No disaster (0)\",\"No disaster (0)\",\"Disaster (1)\",\"Disaster (1)\",\"Disaster (1)\",\"No disaster (0)\",\"No disaster (0)\",\"Disaster (1)\",\"No disaster (0)\",\"No disaster (0)\",\"No disaster (0)\",\"Disaster (1)\",\"Disaster (1)\",\"Disaster (1)\",\"Disaster (1)\",\"No disaster (0)\",\"Disaster (1)\",\"Disaster (1)\",\"No disaster (0)\",\"Disaster (1)\",\"Disaster (1)\",\"Disaster (1)\",\"Disaster (1)\",\"Disaster (1)\",\"No disaster (0)\",\"No disaster (0)\",\"Disaster (1)\",\"Disaster (1)\",\"No disaster (0)\",\"Disaster (1)\",\"Disaster (1)\",\"Disaster (1)\",\"Disaster (1)\",\"No disaster (0)\",\"Disaster (1)\",\"No disaster (0)\",\"Disaster (1)\",\"No disaster (0)\",\"Disaster (1)\",\"Disaster (1)\",\"Disaster (1)\",\"No disaster (0)\",\"No disaster (0)\",\"No disaster (0)\",\"Disaster (1)\",\"Disaster (1)\",\"Disaster (1)\",\"Disaster (1)\",\"No disaster (0)\",\"Disaster (1)\",\"Disaster (1)\",\"Disaster (1)\",\"Disaster (1)\",\"Disaster (1)\",\"Disaster (1)\",\"Disaster (1)\",\"Disaster (1)\",\"Disaster (1)\",\"Disaster (1)\",\"Disaster (1)\",\"Disaster (1)\",\"Disaster (1)\",\"Disaster (1)\",\"Disaster (1)\",\"Disaster (1)\",\"Disaster (1)\",\"Disaster (1)\",\"Disaster (1)\",\"Disaster (1)\",\"Disaster (1)\",\"Disaster (1)\",\"Disaster (1)\",\"Disaster (1)\",\"Disaster (1)\",\"Disaster (1)\",\"Disaster (1)\",\"Disaster (1)\",\"Disaster (1)\",\"Disaster (1)\",\"Disaster (1)\",\"Disaster (1)\",\"Disaster (1)\",\"Disaster (1)\",\"Disaster (1)\",\"Disaster (1)\",\"Disaster (1)\",\"Disaster (1)\",\"Disaster (1)\",\"Disaster (1)\",\"Disaster (1)\",\"Disaster (1)\",\"No disaster (0)\",\"No disaster (0)\",\"Disaster (1)\",\"No disaster (0)\",\"No disaster (0)\",\"No disaster (0)\",\"No disaster (0)\",\"No disaster (0)\",\"No disaster (0)\",\"Disaster (1)\",\"No disaster (0)\",\"No disaster (0)\",\"Disaster (1)\",\"No disaster (0)\",\"Disaster (1)\",\"No disaster (0)\",\"No disaster (0)\",\"No disaster (0)\",\"No disaster (0)\",\"No disaster (0)\",\"No disaster (0)\",\"Disaster (1)\",\"No disaster (0)\",\"No disaster (0)\",\"No disaster (0)\",\"Disaster (1)\",\"No disaster (0)\",\"No disaster (0)\",\"Disaster (1)\",\"Disaster (1)\",\"No disaster (0)\",\"No disaster (0)\",\"Disaster (1)\",\"No disaster (0)\",\"No disaster (0)\",\"No disaster (0)\",\"No disaster (0)\",\"Disaster (1)\",\"No disaster (0)\",\"No disaster (0)\",\"No disaster (0)\",\"No disaster (0)\",\"No disaster (0)\",\"Disaster (1)\",\"No disaster (0)\",\"No disaster (0)\",\"No disaster (0)\",\"No disaster (0)\",\"No disaster (0)\",\"No disaster (0)\",\"No disaster (0)\",\"No disaster (0)\",\"Disaster (1)\",\"No disaster (0)\",\"No disaster (0)\",\"No disaster (0)\",\"No disaster (0)\",\"Disaster (1)\",\"No disaster (0)\",\"No disaster (0)\",\"No disaster (0)\",\"No disaster (0)\",\"No disaster (0)\",\"No disaster (0)\",\"No disaster (0)\",\"Disaster (1)\",\"No disaster (0)\",\"No disaster (0)\",\"No disaster (0)\",\"No disaster (0)\",\"No disaster (0)\",\"No disaster (0)\",\"No disaster (0)\",\"Disaster (1)\",\"No disaster (0)\",\"Disaster (1)\",\"Disaster (1)\",\"Disaster (1)\",\"No disaster (0)\",\"No disaster (0)\",\"No disaster (0)\",\"No disaster (0)\",\"No disaster (0)\",\"No disaster (0)\",\"Disaster (1)\",\"Disaster (1)\",\"No disaster (0)\",\"No disaster (0)\",\"No disaster (0)\",\"No disaster (0)\",\"Disaster (1)\",\"No disaster (0)\",\"No disaster (0)\",\"No disaster (0)\",\"Disaster (1)\",\"No disaster (0)\",\"No disaster (0)\",\"No disaster (0)\",\"No disaster (0)\",\"No disaster (0)\",\"No disaster (0)\",\"No disaster (0)\",\"No disaster (0)\",\"No disaster (0)\",\"No disaster (0)\",\"No disaster (0)\",\"No disaster (0)\",\"No disaster (0)\",\"No disaster (0)\",\"Disaster (1)\",\"Disaster (1)\",\"No disaster (0)\",\"No disaster (0)\",\"No disaster (0)\",\"No disaster (0)\",\"No disaster (0)\",\"Disaster (1)\",\"Disaster (1)\",\"No disaster (0)\",\"No disaster (0)\",\"No disaster (0)\",\"No disaster (0)\",\"Disaster (1)\",\"Disaster (1)\",\"Disaster (1)\",\"No disaster (0)\",\"No disaster (0)\",\"No disaster (0)\",\"No disaster (0)\",\"No disaster (0)\",\"No disaster (0)\",\"Disaster (1)\",\"No disaster (0)\",\"Disaster (1)\",\"No disaster (0)\",\"No disaster (0)\",\"No disaster (0)\",\"No disaster (0)\",\"No disaster (0)\",\"No disaster (0)\",\"No disaster (0)\",\"No disaster (0)\",\"No disaster (0)\",\"No disaster (0)\",\"No disaster (0)\",\"Disaster (1)\",\"No disaster (0)\",\"No disaster (0)\",\"Disaster (1)\",\"No disaster (0)\",\"Disaster (1)\",\"No disaster (0)\",\"No disaster (0)\",\"No disaster (0)\",\"No disaster (0)\",\"No disaster (0)\",\"No disaster (0)\",\"No disaster (0)\",\"No disaster (0)\",\"No disaster (0)\",\"No disaster (0)\",\"No disaster (0)\",\"No disaster (0)\",\"No disaster (0)\",\"Disaster (1)\",\"Disaster (1)\",\"No disaster (0)\",\"No disaster (0)\",\"Disaster (1)\",\"Disaster (1)\",\"No disaster (0)\",\"No disaster (0)\",\"No disaster (0)\",\"No disaster (0)\",\"Disaster (1)\",\"Disaster (1)\",\"No disaster (0)\",\"No disaster (0)\",\"No disaster (0)\",\"Disaster (1)\",\"No disaster (0)\",\"No disaster (0)\",\"No disaster (0)\",\"Disaster (1)\",\"No disaster (0)\",\"Disaster (1)\",\"No disaster (0)\",\"No disaster (0)\",\"No disaster (0)\",\"No disaster (0)\",\"No disaster (0)\",\"No disaster (0)\",\"No disaster (0)\",\"No disaster (0)\",\"No disaster (0)\",\"No disaster (0)\",\"Disaster (1)\",\"Disaster (1)\",\"No disaster (0)\",\"No disaster (0)\",\"No disaster (0)\",\"Disaster (1)\",\"No disaster (0)\",\"No disaster (0)\",\"No disaster (0)\",\"No disaster (0)\",\"No disaster (0)\",\"Disaster (1)\",\"Disaster (1)\",\"No disaster (0)\",\"No disaster (0)\",\"No disaster (0)\",\"Disaster (1)\",\"Disaster (1)\",\"No disaster (0)\",\"No disaster (0)\",\"Disaster (1)\",\"No disaster (0)\",\"No disaster (0)\",\"No disaster (0)\",\"No disaster (0)\",\"No disaster (0)\",\"No disaster (0)\",\"No disaster (0)\",\"Disaster (1)\",\"Disaster (1)\",\"No disaster (0)\",\"No disaster (0)\",\"No disaster (0)\",\"No disaster (0)\",\"Disaster (1)\",\"No disaster (0)\",\"Disaster (1)\",\"No disaster (0)\",\"No disaster (0)\",\"No disaster (0)\",\"Disaster (1)\",\"Disaster (1)\",\"Disaster (1)\",\"Disaster (1)\",\"Disaster (1)\",\"Disaster (1)\",\"Disaster (1)\",\"Disaster (1)\",\"Disaster (1)\",\"Disaster (1)\",\"Disaster (1)\",\"Disaster (1)\",\"No disaster (0)\",\"Disaster (1)\",\"No disaster (0)\",\"No disaster (0)\",\"No disaster (0)\",\"No disaster (0)\",\"No disaster (0)\",\"No disaster (0)\",\"No disaster (0)\",\"Disaster (1)\",\"Disaster (1)\",\"Disaster (1)\",\"Disaster (1)\",\"No disaster (0)\",\"No disaster (0)\",\"No disaster (0)\",\"No disaster (0)\",\"Disaster (1)\",\"Disaster (1)\",\"Disaster (1)\",\"Disaster (1)\",\"Disaster (1)\",\"Disaster (1)\",\"No disaster (0)\",\"Disaster (1)\",\"Disaster (1)\",\"Disaster (1)\",\"Disaster (1)\",\"Disaster (1)\",\"No disaster (0)\",\"Disaster (1)\",\"Disaster (1)\",\"Disaster (1)\",\"Disaster (1)\",\"Disaster (1)\",\"Disaster (1)\",\"No disaster (0)\",\"Disaster (1)\",\"No disaster (0)\",\"No disaster (0)\",\"Disaster (1)\",\"Disaster (1)\",\"No disaster (0)\",\"Disaster (1)\",\"Disaster (1)\",\"Disaster (1)\",\"No disaster (0)\",\"Disaster (1)\",\"Disaster (1)\",\"Disaster (1)\",\"Disaster (1)\",\"No disaster (0)\",\"Disaster (1)\",\"No disaster (0)\",\"No disaster (0)\",\"Disaster (1)\",\"No disaster (0)\",\"No disaster (0)\",\"Disaster (1)\",\"No disaster (0)\",\"Disaster (1)\",\"Disaster (1)\",\"No disaster (0)\",\"No disaster (0)\",\"Disaster (1)\",\"No disaster (0)\",\"Disaster (1)\",\"Disaster (1)\",\"Disaster (1)\",\"Disaster (1)\",\"Disaster (1)\",\"Disaster (1)\",\"Disaster (1)\",\"No disaster (0)\",\"No disaster (0)\",\"No disaster (0)\",\"No disaster (0)\",\"Disaster (1)\",\"No disaster (0)\",\"No disaster (0)\",\"Disaster (1)\",\"No disaster (0)\",\"No disaster (0)\",\"No disaster (0)\",\"No disaster (0)\",\"Disaster (1)\",\"No disaster (0)\",\"No disaster (0)\",\"No disaster (0)\",\"Disaster (1)\",\"Disaster (1)\",\"Disaster (1)\",\"Disaster (1)\",\"Disaster (1)\",\"No disaster (0)\",\"Disaster (1)\",\"No disaster (0)\",\"Disaster (1)\",\"No disaster (0)\",\"Disaster (1)\",\"Disaster (1)\",\"Disaster (1)\",\"Disaster (1)\",\"Disaster (1)\",\"Disaster (1)\",\"No disaster (0)\",\"Disaster (1)\",\"No disaster (0)\",\"Disaster (1)\",\"Disaster (1)\",\"Disaster (1)\",\"No disaster (0)\",\"Disaster (1)\",\"No disaster (0)\",\"Disaster (1)\",\"Disaster (1)\",\"Disaster (1)\",\"Disaster (1)\",\"Disaster (1)\",\"No disaster (0)\",\"Disaster (1)\",\"Disaster (1)\",\"No disaster (0)\",\"Disaster (1)\",\"No disaster (0)\",\"Disaster (1)\",\"Disaster (1)\",\"Disaster (1)\",\"Disaster (1)\",\"Disaster (1)\",\"Disaster (1)\",\"Disaster (1)\",\"Disaster (1)\",\"Disaster (1)\",\"Disaster (1)\",\"Disaster (1)\",\"Disaster (1)\",\"Disaster (1)\",\"No disaster (0)\",\"No disaster (0)\",\"Disaster (1)\",\"Disaster (1)\",\"Disaster (1)\",\"Disaster (1)\",\"No disaster (0)\",\"Disaster (1)\",\"Disaster (1)\",\"No disaster (0)\",\"Disaster (1)\",\"Disaster (1)\",\"No disaster (0)\",\"Disaster (1)\",\"Disaster (1)\",\"Disaster (1)\",\"Disaster (1)\",\"Disaster (1)\",\"Disaster (1)\",\"Disaster (1)\",\"No disaster (0)\",\"No disaster (0)\",\"No disaster (0)\",\"Disaster (1)\",\"No disaster (0)\",\"No disaster (0)\",\"No disaster (0)\",\"No disaster (0)\",\"No disaster (0)\",\"No disaster (0)\",\"No disaster (0)\",\"No disaster (0)\",\"No disaster (0)\",\"No disaster (0)\",\"No disaster (0)\",\"No disaster (0)\",\"No disaster (0)\",\"No disaster (0)\",\"No disaster (0)\",\"No disaster (0)\",\"Disaster (1)\",\"No disaster (0)\",\"No disaster (0)\",\"No disaster (0)\",\"No disaster (0)\",\"No disaster (0)\",\"No disaster (0)\",\"No disaster (0)\",\"No disaster (0)\",\"No disaster (0)\",\"Disaster (1)\",\"No disaster (0)\",\"No disaster (0)\",\"No disaster (0)\",\"No disaster (0)\",\"No disaster (0)\",\"Disaster (1)\",\"Disaster (1)\",\"Disaster (1)\",\"No disaster (0)\",\"No disaster (0)\",\"No disaster (0)\",\"No disaster (0)\",\"No disaster (0)\",\"No disaster (0)\",\"Disaster (1)\",\"Disaster (1)\",\"No disaster (0)\",\"No disaster (0)\",\"No disaster (0)\",\"Disaster (1)\",\"No disaster (0)\",\"Disaster (1)\",\"No disaster (0)\",\"No disaster (0)\",\"Disaster (1)\",\"Disaster (1)\",\"No disaster (0)\",\"No disaster (0)\",\"Disaster (1)\",\"Disaster (1)\",\"Disaster (1)\",\"Disaster (1)\",\"No disaster (0)\",\"No disaster (0)\",\"Disaster (1)\",\"No disaster (0)\",\"Disaster (1)\",\"No disaster (0)\",\"No disaster (0)\",\"No disaster (0)\",\"No disaster (0)\",\"No disaster (0)\",\"No disaster (0)\",\"No disaster (0)\",\"Disaster (1)\",\"Disaster (1)\",\"No disaster (0)\",\"No disaster (0)\",\"No disaster (0)\",\"Disaster (1)\",\"No disaster (0)\",\"No disaster (0)\",\"Disaster (1)\",\"No disaster (0)\",\"Disaster (1)\",\"No disaster (0)\",\"No disaster (0)\",\"No disaster (0)\",\"Disaster (1)\",\"Disaster (1)\",\"Disaster (1)\",\"Disaster (1)\",\"No disaster (0)\",\"No disaster (0)\",\"No disaster (0)\",\"No disaster (0)\",\"No disaster (0)\",\"No disaster (0)\",\"No disaster (0)\",\"No disaster (0)\",\"No disaster (0)\",\"No disaster (0)\",\"No disaster (0)\",\"No disaster (0)\",\"No disaster (0)\",\"No disaster (0)\",\"Disaster (1)\",\"Disaster (1)\",\"Disaster (1)\",\"Disaster (1)\",\"Disaster (1)\",\"Disaster (1)\",\"Disaster (1)\",\"Disaster (1)\",\"Disaster (1)\",\"No disaster (0)\",\"No disaster (0)\",\"No disaster (0)\",\"Disaster (1)\",\"Disaster (1)\",\"Disaster (1)\",\"Disaster (1)\",\"Disaster (1)\",\"No disaster (0)\",\"Disaster (1)\",\"No disaster (0)\",\"No disaster (0)\",\"No disaster (0)\",\"Disaster (1)\",\"Disaster (1)\",\"Disaster (1)\",\"No disaster (0)\",\"Disaster (1)\",\"No disaster (0)\",\"Disaster (1)\",\"Disaster (1)\",\"No disaster (0)\",\"Disaster (1)\",\"Disaster (1)\",\"Disaster (1)\",\"No disaster (0)\",\"Disaster (1)\",\"Disaster (1)\",\"Disaster (1)\",\"Disaster (1)\",\"No disaster (0)\",\"Disaster (1)\",\"Disaster (1)\",\"No disaster (0)\",\"Disaster (1)\",\"Disaster (1)\",\"Disaster (1)\",\"Disaster (1)\",\"Disaster (1)\",\"Disaster (1)\",\"Disaster (1)\",\"Disaster (1)\",\"No disaster (0)\",\"Disaster (1)\",\"No disaster (0)\",\"Disaster (1)\",\"Disaster (1)\",\"Disaster (1)\",\"Disaster (1)\",\"Disaster (1)\",\"Disaster (1)\",\"No disaster (0)\",\"Disaster (1)\",\"Disaster (1)\",\"No disaster (0)\",\"No disaster (0)\",\"No disaster (0)\",\"No disaster (0)\",\"Disaster (1)\",\"Disaster (1)\",\"Disaster (1)\",\"Disaster (1)\",\"Disaster (1)\",\"Disaster (1)\",\"Disaster (1)\",\"No disaster (0)\",\"No disaster (0)\",\"No disaster (0)\",\"No disaster (0)\",\"No disaster (0)\",\"No disaster (0)\",\"No disaster (0)\",\"No disaster (0)\",\"No disaster (0)\",\"No disaster (0)\",\"No disaster (0)\",\"No disaster (0)\",\"No disaster (0)\",\"No disaster (0)\",\"No disaster (0)\",\"No disaster (0)\",\"No disaster (0)\",\"No disaster (0)\",\"No disaster (0)\",\"No disaster (0)\",\"No disaster (0)\",\"No disaster (0)\",\"No disaster (0)\",\"No disaster (0)\",\"No disaster (0)\",\"No disaster (0)\",\"No disaster (0)\",\"No disaster (0)\",\"Disaster (1)\",\"No disaster (0)\",\"No disaster (0)\",\"No disaster (0)\",\"No disaster (0)\",\"Disaster (1)\",\"No disaster (0)\",\"No disaster (0)\",\"No disaster (0)\",\"No disaster (0)\",\"No disaster (0)\",\"No disaster (0)\",\"No disaster (0)\",\"No disaster (0)\",\"Disaster (1)\",\"Disaster (1)\",\"Disaster (1)\",\"No disaster (0)\",\"Disaster (1)\",\"No disaster (0)\",\"No disaster (0)\",\"No disaster (0)\",\"Disaster (1)\",\"Disaster (1)\",\"No disaster (0)\",\"Disaster (1)\",\"No disaster (0)\",\"No disaster (0)\",\"No disaster (0)\",\"Disaster (1)\",\"Disaster (1)\",\"No disaster (0)\",\"Disaster (1)\",\"Disaster (1)\",\"No disaster (0)\",\"No disaster (0)\",\"No disaster (0)\",\"Disaster (1)\",\"No disaster (0)\",\"Disaster (1)\",\"Disaster (1)\",\"No disaster (0)\",\"No disaster (0)\",\"No disaster (0)\",\"No disaster (0)\",\"No disaster (0)\",\"Disaster (1)\",\"No disaster (0)\",\"No disaster (0)\",\"Disaster (1)\",\"No disaster (0)\",\"No disaster (0)\",\"No disaster (0)\",\"No disaster (0)\",\"Disaster (1)\",\"Disaster (1)\",\"No disaster (0)\",\"No disaster (0)\",\"Disaster (1)\",\"No disaster (0)\",\"No disaster (0)\",\"No disaster (0)\",\"Disaster (1)\",\"No disaster (0)\",\"Disaster (1)\",\"No disaster (0)\",\"Disaster (1)\",\"No disaster (0)\",\"Disaster (1)\",\"No disaster (0)\",\"Disaster (1)\",\"Disaster (1)\",\"No disaster (0)\",\"No disaster (0)\",\"Disaster (1)\",\"No disaster (0)\",\"Disaster (1)\",\"Disaster (1)\",\"Disaster (1)\",\"Disaster (1)\",\"No disaster (0)\",\"No disaster (0)\",\"No disaster (0)\",\"Disaster (1)\",\"Disaster (1)\",\"No disaster (0)\",\"No disaster (0)\",\"No disaster (0)\",\"Disaster (1)\",\"Disaster (1)\",\"Disaster (1)\",\"No disaster (0)\",\"Disaster (1)\",\"Disaster (1)\",\"No disaster (0)\",\"No disaster (0)\",\"No disaster (0)\",\"Disaster (1)\",\"Disaster (1)\",\"No disaster (0)\",\"Disaster (1)\",\"Disaster (1)\",\"Disaster (1)\",\"No disaster (0)\",\"Disaster (1)\",\"Disaster (1)\",\"Disaster (1)\",\"Disaster (1)\",\"No disaster (0)\",\"Disaster (1)\",\"No disaster (0)\",\"Disaster (1)\",\"Disaster (1)\",\"No disaster (0)\",\"Disaster (1)\",\"Disaster (1)\",\"Disaster (1)\",\"No disaster (0)\",\"Disaster (1)\",\"No disaster (0)\",\"No disaster (0)\",\"No disaster (0)\",\"No disaster (0)\",\"No disaster (0)\",\"No disaster (0)\",\"No disaster (0)\",\"Disaster (1)\",\"No disaster (0)\",\"Disaster (1)\",\"No disaster (0)\",\"Disaster (1)\",\"No disaster (0)\",\"No disaster (0)\",\"No disaster (0)\",\"Disaster (1)\",\"No disaster (0)\",\"No disaster (0)\",\"No disaster (0)\",\"No disaster (0)\",\"Disaster (1)\",\"No disaster (0)\",\"No disaster (0)\",\"No disaster (0)\",\"Disaster (1)\",\"Disaster (1)\",\"Disaster (1)\",\"No disaster (0)\",\"Disaster (1)\",\"Disaster (1)\",\"Disaster (1)\",\"Disaster (1)\",\"No disaster (0)\",\"No disaster (0)\",\"Disaster (1)\",\"Disaster (1)\",\"No disaster (0)\",\"Disaster (1)\",\"No disaster (0)\",\"No disaster (0)\",\"No disaster (0)\",\"Disaster (1)\",\"No disaster (0)\",\"Disaster (1)\",\"No disaster (0)\",\"No disaster (0)\",\"No disaster (0)\",\"Disaster (1)\",\"No disaster (0)\",\"No disaster (0)\",\"No disaster (0)\",\"Disaster (1)\",\"No disaster (0)\",\"No disaster (0)\",\"Disaster (1)\",\"Disaster (1)\",\"Disaster (1)\",\"No disaster (0)\",\"Disaster (1)\",\"Disaster (1)\",\"No disaster (0)\",\"No disaster (0)\",\"No disaster (0)\",\"No disaster (0)\",\"No disaster (0)\",\"No disaster (0)\",\"No disaster (0)\",\"Disaster (1)\",\"No disaster (0)\",\"No disaster (0)\",\"No disaster (0)\",\"No disaster (0)\",\"Disaster (1)\",\"Disaster (1)\",\"Disaster (1)\",\"Disaster (1)\",\"No disaster (0)\",\"Disaster (1)\",\"Disaster (1)\",\"Disaster (1)\",\"Disaster (1)\",\"No disaster (0)\",\"Disaster (1)\",\"No disaster (0)\",\"Disaster (1)\",\"No disaster (0)\",\"No disaster (0)\",\"No disaster (0)\",\"Disaster (1)\",\"Disaster (1)\",\"No disaster (0)\",\"Disaster (1)\",\"Disaster (1)\",\"No disaster (0)\",\"No disaster (0)\",\"Disaster (1)\",\"Disaster (1)\",\"Disaster (1)\",\"No disaster (0)\",\"Disaster (1)\",\"Disaster (1)\",\"No disaster (0)\",\"Disaster (1)\",\"Disaster (1)\",\"No disaster (0)\",\"Disaster (1)\",\"No disaster (0)\",\"Disaster (1)\",\"Disaster (1)\",\"Disaster (1)\",\"No disaster (0)\",\"No disaster (0)\",\"Disaster (1)\",\"Disaster (1)\",\"Disaster (1)\",\"Disaster (1)\",\"Disaster (1)\",\"Disaster (1)\",\"Disaster (1)\",\"Disaster (1)\",\"Disaster (1)\",\"Disaster (1)\",\"Disaster (1)\",\"Disaster (1)\",\"Disaster (1)\",\"No disaster (0)\",\"Disaster (1)\",\"Disaster (1)\",\"Disaster (1)\",\"Disaster (1)\",\"No disaster (0)\",\"Disaster (1)\",\"Disaster (1)\",\"Disaster (1)\",\"Disaster (1)\",\"Disaster (1)\",\"Disaster (1)\",\"Disaster (1)\",\"Disaster (1)\",\"No disaster (0)\",\"Disaster (1)\",\"Disaster (1)\",\"Disaster (1)\",\"Disaster (1)\",\"Disaster (1)\",\"No disaster (0)\",\"Disaster (1)\",\"Disaster (1)\",\"Disaster (1)\",\"Disaster (1)\",\"No disaster (0)\",\"Disaster (1)\",\"Disaster (1)\",\"Disaster (1)\",\"Disaster (1)\",\"Disaster (1)\",\"Disaster (1)\",\"Disaster (1)\",\"Disaster (1)\",\"Disaster (1)\",\"Disaster (1)\",\"Disaster (1)\",\"Disaster (1)\",\"Disaster (1)\",\"No disaster (0)\",\"Disaster (1)\",\"Disaster (1)\",\"Disaster (1)\",\"Disaster (1)\",\"No disaster (0)\",\"No disaster (0)\",\"Disaster (1)\",\"No disaster (0)\",\"Disaster (1)\",\"Disaster (1)\",\"Disaster (1)\",\"Disaster (1)\",\"Disaster (1)\",\"Disaster (1)\",\"No disaster (0)\",\"No disaster (0)\",\"No disaster (0)\",\"Disaster (1)\",\"Disaster (1)\",\"No disaster (0)\",\"No disaster (0)\",\"No disaster (0)\",\"No disaster (0)\",\"No disaster (0)\",\"No disaster (0)\",\"No disaster (0)\",\"No disaster (0)\",\"No disaster (0)\",\"No disaster (0)\",\"No disaster (0)\",\"No disaster (0)\",\"Disaster (1)\",\"No disaster (0)\",\"Disaster (1)\",\"No disaster (0)\",\"No disaster (0)\",\"No disaster (0)\",\"No disaster (0)\",\"No disaster (0)\",\"No disaster (0)\",\"No disaster (0)\",\"No disaster (0)\",\"No disaster (0)\",\"No disaster (0)\",\"Disaster (1)\",\"No disaster (0)\",\"No disaster (0)\",\"No disaster (0)\",\"No disaster (0)\",\"No disaster (0)\",\"No disaster (0)\",\"No disaster (0)\",\"No disaster (0)\",\"No disaster (0)\",\"No disaster (0)\",\"No disaster (0)\",\"No disaster (0)\",\"Disaster (1)\",\"No disaster (0)\",\"Disaster (1)\",\"No disaster (0)\",\"Disaster (1)\",\"No disaster (0)\",\"Disaster (1)\",\"Disaster (1)\",\"No disaster (0)\",\"No disaster (0)\",\"No disaster (0)\",\"Disaster (1)\",\"No disaster (0)\",\"No disaster (0)\",\"No disaster (0)\",\"No disaster (0)\",\"No disaster (0)\",\"No disaster (0)\",\"No disaster (0)\",\"No disaster (0)\",\"No disaster (0)\",\"No disaster (0)\",\"Disaster (1)\",\"No disaster (0)\",\"No disaster (0)\",\"No disaster (0)\",\"No disaster (0)\",\"Disaster (1)\",\"No disaster (0)\",\"No disaster (0)\",\"Disaster (1)\",\"No disaster (0)\",\"No disaster (0)\",\"No disaster (0)\",\"Disaster (1)\",\"Disaster (1)\",\"Disaster (1)\",\"Disaster (1)\",\"Disaster (1)\",\"Disaster (1)\",\"Disaster (1)\",\"No disaster (0)\",\"Disaster (1)\",\"Disaster (1)\",\"Disaster (1)\",\"Disaster (1)\",\"Disaster (1)\",\"No disaster (0)\",\"No disaster (0)\",\"No disaster (0)\",\"Disaster (1)\",\"Disaster (1)\",\"No disaster (0)\",\"Disaster (1)\",\"No disaster (0)\",\"Disaster (1)\",\"No disaster (0)\",\"No disaster (0)\",\"No disaster (0)\",\"No disaster (0)\",\"No disaster (0)\",\"Disaster (1)\",\"No disaster (0)\",\"Disaster (1)\",\"No disaster (0)\",\"No disaster (0)\",\"No disaster (0)\",\"Disaster (1)\",\"Disaster (1)\",\"No disaster (0)\",\"No disaster (0)\",\"No disaster (0)\",\"No disaster (0)\",\"No disaster (0)\",\"No disaster (0)\",\"No disaster (0)\",\"Disaster (1)\",\"Disaster (1)\",\"No disaster (0)\",\"Disaster (1)\",\"Disaster (1)\",\"Disaster (1)\",\"No disaster (0)\",\"No disaster (0)\",\"Disaster (1)\",\"No disaster (0)\",\"Disaster (1)\",\"Disaster (1)\",\"Disaster (1)\",\"No disaster (0)\",\"Disaster (1)\",\"Disaster (1)\",\"No disaster (0)\",\"No disaster (0)\",\"No disaster (0)\",\"Disaster (1)\",\"No disaster (0)\",\"No disaster (0)\",\"No disaster (0)\",\"No disaster (0)\",\"No disaster (0)\",\"No disaster (0)\",\"No disaster (0)\",\"No disaster (0)\",\"Disaster (1)\",\"No disaster (0)\",\"Disaster (1)\",\"Disaster (1)\",\"No disaster (0)\",\"No disaster (0)\",\"No disaster (0)\",\"No disaster (0)\",\"Disaster (1)\",\"No disaster (0)\",\"Disaster (1)\",\"Disaster (1)\",\"Disaster (1)\",\"Disaster (1)\",\"No disaster (0)\",\"Disaster (1)\",\"No disaster (0)\",\"Disaster (1)\",\"Disaster (1)\",\"Disaster (1)\",\"Disaster (1)\",\"No disaster (0)\",\"Disaster (1)\",\"Disaster (1)\",\"Disaster (1)\",\"Disaster (1)\",\"Disaster (1)\",\"No disaster (0)\",\"Disaster (1)\",\"Disaster (1)\",\"Disaster (1)\",\"Disaster (1)\",\"No disaster (0)\",\"Disaster (1)\",\"No disaster (0)\",\"Disaster (1)\",\"Disaster (1)\",\"No disaster (0)\",\"Disaster (1)\",\"Disaster (1)\",\"No disaster (0)\",\"Disaster (1)\",\"No disaster (0)\",\"Disaster (1)\",\"Disaster (1)\",\"No disaster (0)\",\"Disaster (1)\",\"No disaster (0)\",\"Disaster (1)\",\"No disaster (0)\",\"Disaster (1)\",\"No disaster (0)\",\"Disaster (1)\",\"Disaster (1)\",\"Disaster (1)\",\"No disaster (0)\",\"Disaster (1)\",\"Disaster (1)\",\"Disaster (1)\",\"Disaster (1)\",\"No disaster (0)\",\"Disaster (1)\",\"No disaster (0)\",\"Disaster (1)\",\"Disaster (1)\",\"Disaster (1)\",\"No disaster (0)\",\"Disaster (1)\",\"No disaster (0)\",\"No disaster (0)\",\"Disaster (1)\",\"Disaster (1)\",\"Disaster (1)\",\"Disaster (1)\",\"Disaster (1)\",\"Disaster (1)\",\"Disaster (1)\",\"Disaster (1)\",\"Disaster (1)\",\"No disaster (0)\",\"No disaster (0)\",\"Disaster (1)\",\"Disaster (1)\",\"No disaster (0)\",\"Disaster (1)\",\"Disaster (1)\",\"No disaster (0)\",\"Disaster (1)\",\"No disaster (0)\",\"Disaster (1)\",\"Disaster (1)\",\"No disaster (0)\",\"No disaster (0)\",\"Disaster (1)\",\"No disaster (0)\",\"No disaster (0)\",\"No disaster (0)\",\"No disaster (0)\",\"Disaster (1)\",\"Disaster (1)\",\"No disaster (0)\",\"Disaster (1)\",\"Disaster (1)\",\"Disaster (1)\",\"No disaster (0)\",\"Disaster (1)\",\"No disaster (0)\",\"No disaster (0)\",\"Disaster (1)\",\"No disaster (0)\",\"No disaster (0)\",\"No disaster (0)\",\"Disaster (1)\",\"Disaster (1)\",\"Disaster (1)\",\"Disaster (1)\",\"No disaster (0)\",\"Disaster (1)\",\"Disaster (1)\",\"Disaster (1)\",\"Disaster (1)\",\"Disaster (1)\",\"No disaster (0)\",\"No disaster (0)\",\"Disaster (1)\",\"No disaster (0)\",\"No disaster (0)\",\"No disaster (0)\",\"No disaster (0)\",\"Disaster (1)\",\"Disaster (1)\",\"No disaster (0)\",\"Disaster (1)\",\"No disaster (0)\",\"Disaster (1)\",\"No disaster (0)\",\"No disaster (0)\",\"No disaster (0)\",\"No disaster (0)\",\"No disaster (0)\",\"Disaster (1)\",\"No disaster (0)\",\"No disaster (0)\",\"No disaster (0)\",\"No disaster (0)\",\"No disaster (0)\",\"No disaster (0)\",\"No disaster (0)\",\"No disaster (0)\",\"Disaster (1)\",\"No disaster (0)\",\"No disaster (0)\",\"Disaster (1)\",\"Disaster (1)\",\"No disaster (0)\",\"No disaster (0)\",\"Disaster (1)\",\"No disaster (0)\",\"No disaster (0)\",\"No disaster (0)\",\"No disaster (0)\",\"No disaster (0)\",\"No disaster (0)\",\"No disaster (0)\",\"No disaster (0)\",\"No disaster (0)\",\"No disaster (0)\",\"No disaster (0)\",\"No disaster (0)\",\"No disaster (0)\",\"No disaster (0)\",\"No disaster (0)\",\"Disaster (1)\",\"No disaster (0)\",\"No disaster (0)\",\"Disaster (1)\",\"Disaster (1)\",\"No disaster (0)\",\"No disaster (0)\",\"No disaster (0)\",\"No disaster (0)\",\"No disaster (0)\",\"No disaster (0)\",\"No disaster (0)\",\"No disaster (0)\",\"No disaster (0)\",\"No disaster (0)\",\"No disaster (0)\",\"No disaster (0)\",\"Disaster (1)\",\"No disaster (0)\",\"Disaster (1)\",\"No disaster (0)\",\"No disaster (0)\",\"No disaster (0)\",\"No disaster (0)\",\"No disaster (0)\",\"No disaster (0)\",\"No disaster (0)\",\"No disaster (0)\",\"No disaster (0)\",\"No disaster (0)\",\"No disaster (0)\",\"Disaster (1)\",\"No disaster (0)\",\"No disaster (0)\",\"No disaster (0)\",\"No disaster (0)\",\"Disaster (1)\",\"No disaster (0)\",\"No disaster (0)\",\"Disaster (1)\",\"No disaster (0)\",\"No disaster (0)\",\"No disaster (0)\",\"No disaster (0)\",\"Disaster (1)\",\"No disaster (0)\",\"No disaster (0)\",\"No disaster (0)\",\"No disaster (0)\",\"No disaster (0)\",\"Disaster (1)\",\"No disaster (0)\",\"Disaster (1)\",\"Disaster (1)\",\"No disaster (0)\",\"No disaster (0)\",\"No disaster (0)\",\"Disaster (1)\",\"Disaster (1)\",\"Disaster (1)\",\"No disaster (0)\",\"No disaster (0)\",\"No disaster (0)\",\"Disaster (1)\",\"No disaster (0)\",\"Disaster (1)\",\"No disaster (0)\",\"No disaster (0)\",\"Disaster (1)\",\"Disaster (1)\",\"Disaster (1)\",\"Disaster (1)\",\"Disaster (1)\",\"Disaster (1)\",\"Disaster (1)\",\"No disaster (0)\",\"Disaster (1)\",\"Disaster (1)\",\"Disaster (1)\",\"Disaster (1)\",\"Disaster (1)\",\"No disaster (0)\",\"No disaster (0)\",\"Disaster (1)\",\"Disaster (1)\",\"Disaster (1)\",\"No disaster (0)\",\"No disaster (0)\",\"Disaster (1)\",\"Disaster (1)\",\"Disaster (1)\",\"Disaster (1)\",\"No disaster (0)\",\"No disaster (0)\",\"No disaster (0)\",\"No disaster (0)\",\"Disaster (1)\",\"Disaster (1)\",\"No disaster (0)\",\"Disaster (1)\",\"No disaster (0)\",\"No disaster (0)\",\"No disaster (0)\",\"No disaster (0)\",\"Disaster (1)\",\"No disaster (0)\",\"Disaster (1)\",\"No disaster (0)\",\"Disaster (1)\",\"Disaster (1)\",\"No disaster (0)\",\"No disaster (0)\",\"No disaster (0)\",\"No disaster (0)\",\"No disaster (0)\",\"Disaster (1)\",\"Disaster (1)\",\"No disaster (0)\",\"No disaster (0)\",\"No disaster (0)\",\"Disaster (1)\",\"No disaster (0)\",\"Disaster (1)\",\"Disaster (1)\",\"Disaster (1)\",\"Disaster (1)\",\"No disaster (0)\",\"Disaster (1)\",\"No disaster (0)\",\"No disaster (0)\",\"No disaster (0)\",\"No disaster (0)\",\"No disaster (0)\",\"No disaster (0)\",\"No disaster (0)\",\"No disaster (0)\",\"No disaster (0)\",\"No disaster (0)\",\"No disaster (0)\",\"Disaster (1)\",\"No disaster (0)\",\"No disaster (0)\",\"Disaster (1)\",\"Disaster (1)\",\"No disaster (0)\",\"Disaster (1)\",\"Disaster (1)\",\"Disaster (1)\",\"No disaster (0)\",\"Disaster (1)\",\"No disaster (0)\",\"No disaster (0)\",\"Disaster (1)\",\"No disaster (0)\",\"No disaster (0)\",\"Disaster (1)\",\"No disaster (0)\",\"No disaster (0)\",\"No disaster (0)\",\"Disaster (1)\",\"Disaster (1)\",\"Disaster (1)\",\"No disaster (0)\",\"No disaster (0)\",\"No disaster (0)\",\"No disaster (0)\",\"No disaster (0)\",\"No disaster (0)\",\"No disaster (0)\",\"No disaster (0)\",\"No disaster (0)\",\"No disaster (0)\",\"No disaster (0)\",\"Disaster (1)\",\"Disaster (1)\",\"No disaster (0)\",\"No disaster (0)\",\"Disaster (1)\",\"No disaster (0)\",\"No disaster (0)\",\"Disaster (1)\",\"No disaster (0)\",\"No disaster (0)\",\"No disaster (0)\",\"No disaster (0)\",\"No disaster (0)\",\"No disaster (0)\",\"No disaster (0)\",\"No disaster (0)\",\"No disaster (0)\",\"No disaster (0)\",\"No disaster (0)\",\"No disaster (0)\",\"No disaster (0)\",\"No disaster (0)\",\"No disaster (0)\",\"No disaster (0)\",\"No disaster (0)\",\"Disaster (1)\",\"No disaster (0)\",\"No disaster (0)\",\"Disaster (1)\",\"Disaster (1)\",\"No disaster (0)\",\"Disaster (1)\",\"Disaster (1)\",\"No disaster (0)\",\"No disaster (0)\",\"No disaster (0)\",\"Disaster (1)\",\"No disaster (0)\",\"No disaster (0)\",\"No disaster (0)\",\"Disaster (1)\",\"No disaster (0)\",\"No disaster (0)\",\"No disaster (0)\",\"Disaster (1)\",\"No disaster (0)\",\"No disaster (0)\",\"Disaster (1)\",\"Disaster (1)\",\"No disaster (0)\",\"Disaster (1)\",\"Disaster (1)\",\"No disaster (0)\",\"No disaster (0)\",\"No disaster (0)\",\"Disaster (1)\",\"No disaster (0)\",\"No disaster (0)\",\"Disaster (1)\",\"Disaster (1)\",\"Disaster (1)\",\"No disaster (0)\",\"Disaster (1)\",\"Disaster (1)\",\"Disaster (1)\",\"No disaster (0)\",\"Disaster (1)\",\"Disaster (1)\",\"No disaster (0)\",\"Disaster (1)\",\"No disaster (0)\",\"Disaster (1)\",\"Disaster (1)\",\"Disaster (1)\",\"Disaster (1)\",\"No disaster (0)\",\"Disaster (1)\",\"No disaster (0)\",\"Disaster (1)\",\"Disaster (1)\",\"Disaster (1)\",\"No disaster (0)\",\"Disaster (1)\",\"Disaster (1)\",\"Disaster (1)\",\"No disaster (0)\",\"No disaster (0)\",\"Disaster (1)\",\"Disaster (1)\",\"No disaster (0)\",\"Disaster (1)\",\"No disaster (0)\",\"Disaster (1)\",\"Disaster (1)\",\"No disaster (0)\",\"No disaster (0)\",\"Disaster (1)\",\"Disaster (1)\",\"Disaster (1)\",\"No disaster (0)\",\"Disaster (1)\",\"Disaster (1)\",\"Disaster (1)\",\"Disaster (1)\",\"Disaster (1)\",\"Disaster (1)\",\"Disaster (1)\",\"No disaster (0)\",\"Disaster (1)\",\"Disaster (1)\",\"No disaster (0)\",\"No disaster (0)\",\"No disaster (0)\",\"Disaster (1)\",\"Disaster (1)\",\"Disaster (1)\",\"Disaster (1)\",\"No disaster (0)\",\"Disaster (1)\",\"Disaster (1)\",\"No disaster (0)\",\"Disaster (1)\",\"Disaster (1)\",\"Disaster (1)\",\"Disaster (1)\",\"Disaster (1)\",\"Disaster (1)\",\"Disaster (1)\",\"No disaster (0)\",\"No disaster (0)\",\"Disaster (1)\",\"Disaster (1)\",\"Disaster (1)\",\"Disaster (1)\",\"No disaster (0)\",\"No disaster (0)\",\"Disaster (1)\",\"Disaster (1)\",\"Disaster (1)\",\"Disaster (1)\",\"Disaster (1)\",\"Disaster (1)\",\"Disaster (1)\",\"Disaster (1)\",\"Disaster (1)\",\"No disaster (0)\",\"Disaster (1)\",\"Disaster (1)\",\"Disaster (1)\",\"No disaster (0)\",\"Disaster (1)\",\"Disaster (1)\",\"Disaster (1)\",\"No disaster (0)\",\"No disaster (0)\",\"Disaster (1)\",\"Disaster (1)\",\"No disaster (0)\",\"Disaster (1)\",\"Disaster (1)\",\"Disaster (1)\",\"Disaster (1)\",\"Disaster (1)\",\"No disaster (0)\",\"Disaster (1)\",\"Disaster (1)\",\"Disaster (1)\",\"Disaster (1)\",\"Disaster (1)\",\"No disaster (0)\",\"Disaster (1)\",\"No disaster (0)\",\"Disaster (1)\",\"Disaster (1)\",\"Disaster (1)\",\"Disaster (1)\",\"Disaster (1)\",\"No disaster (0)\",\"Disaster (1)\",\"Disaster (1)\",\"Disaster (1)\",\"Disaster (1)\",\"Disaster (1)\",\"Disaster (1)\",\"Disaster (1)\",\"Disaster (1)\",\"Disaster (1)\",\"Disaster (1)\",\"No disaster (0)\",\"Disaster (1)\",\"No disaster (0)\",\"Disaster (1)\",\"No disaster (0)\",\"Disaster (1)\",\"Disaster (1)\",\"No disaster (0)\",\"No disaster (0)\",\"Disaster (1)\",\"No disaster (0)\",\"Disaster (1)\",\"No disaster (0)\",\"No disaster (0)\",\"No disaster (0)\",\"No disaster (0)\",\"Disaster (1)\",\"No disaster (0)\",\"Disaster (1)\",\"No disaster (0)\",\"No disaster (0)\",\"Disaster (1)\",\"Disaster (1)\",\"Disaster (1)\",\"No disaster (0)\",\"Disaster (1)\",\"Disaster (1)\",\"Disaster (1)\",\"No disaster (0)\",\"No disaster (0)\",\"Disaster (1)\",\"No disaster (0)\",\"Disaster (1)\",\"Disaster (1)\",\"Disaster (1)\",\"No disaster (0)\",\"No disaster (0)\",\"Disaster (1)\",\"Disaster (1)\",\"No disaster (0)\",\"No disaster (0)\",\"Disaster (1)\",\"Disaster (1)\",\"Disaster (1)\",\"Disaster (1)\",\"Disaster (1)\",\"No disaster (0)\",\"Disaster (1)\",\"Disaster (1)\",\"Disaster (1)\",\"Disaster (1)\",\"Disaster (1)\",\"Disaster (1)\",\"Disaster (1)\",\"No disaster (0)\",\"Disaster (1)\",\"No disaster (0)\",\"Disaster (1)\",\"Disaster (1)\",\"Disaster (1)\",\"No disaster (0)\",\"Disaster (1)\",\"Disaster (1)\",\"Disaster (1)\",\"Disaster (1)\",\"Disaster (1)\",\"No disaster (0)\",\"No disaster (0)\",\"No disaster (0)\",\"No disaster (0)\",\"No disaster (0)\",\"Disaster (1)\",\"Disaster (1)\",\"No disaster (0)\",\"No disaster (0)\",\"No disaster (0)\",\"No disaster (0)\",\"No disaster (0)\",\"No disaster (0)\",\"No disaster (0)\",\"No disaster (0)\",\"No disaster (0)\",\"Disaster (1)\",\"No disaster (0)\",\"No disaster (0)\",\"No disaster (0)\",\"No disaster (0)\",\"No disaster (0)\",\"No disaster (0)\",\"No disaster (0)\",\"No disaster (0)\",\"No disaster (0)\",\"No disaster (0)\",\"No disaster (0)\",\"No disaster (0)\",\"No disaster (0)\",\"No disaster (0)\",\"No disaster (0)\",\"No disaster (0)\",\"Disaster (1)\",\"No disaster (0)\",\"No disaster (0)\",\"No disaster (0)\",\"No disaster (0)\",\"No disaster (0)\",\"No disaster (0)\",\"No disaster (0)\",\"No disaster (0)\",\"No disaster (0)\",\"No disaster (0)\",\"Disaster (1)\",\"No disaster (0)\",\"No disaster (0)\",\"No disaster (0)\",\"No disaster (0)\",\"No disaster (0)\",\"Disaster (1)\",\"No disaster (0)\",\"No disaster (0)\",\"No disaster (0)\",\"Disaster (1)\",\"No disaster (0)\",\"No disaster (0)\",\"No disaster (0)\",\"No disaster (0)\",\"No disaster (0)\",\"No disaster (0)\",\"No disaster (0)\",\"No disaster (0)\",\"No disaster (0)\",\"No disaster (0)\",\"Disaster (1)\",\"No disaster (0)\",\"No disaster (0)\",\"Disaster (1)\",\"No disaster (0)\",\"Disaster (1)\",\"No disaster (0)\",\"No disaster (0)\",\"No disaster (0)\",\"Disaster (1)\",\"No disaster (0)\",\"Disaster (1)\",\"Disaster (1)\",\"Disaster (1)\",\"No disaster (0)\",\"No disaster (0)\",\"Disaster (1)\",\"No disaster (0)\",\"Disaster (1)\",\"No disaster (0)\",\"Disaster (1)\",\"Disaster (1)\",\"Disaster (1)\",\"No disaster (0)\",\"No disaster (0)\",\"Disaster (1)\",\"No disaster (0)\",\"Disaster (1)\",\"No disaster (0)\",\"Disaster (1)\",\"No disaster (0)\",\"Disaster (1)\",\"No disaster (0)\",\"Disaster (1)\",\"Disaster (1)\",\"No disaster (0)\",\"Disaster (1)\",\"Disaster (1)\",\"Disaster (1)\",\"Disaster (1)\",\"Disaster (1)\",\"No disaster (0)\",\"Disaster (1)\",\"Disaster (1)\",\"Disaster (1)\",\"Disaster (1)\",\"No disaster (0)\",\"Disaster (1)\",\"No disaster (0)\",\"Disaster (1)\",\"Disaster (1)\",\"No disaster (0)\",\"Disaster (1)\",\"Disaster (1)\",\"Disaster (1)\",\"Disaster (1)\",\"Disaster (1)\",\"Disaster (1)\",\"Disaster (1)\",\"Disaster (1)\",\"Disaster (1)\",\"Disaster (1)\",\"Disaster (1)\",\"Disaster (1)\",\"Disaster (1)\",\"Disaster (1)\",\"Disaster (1)\",\"No disaster (0)\",\"Disaster (1)\",\"Disaster (1)\",\"No disaster (0)\",\"Disaster (1)\",\"Disaster (1)\",\"No disaster (0)\",\"No disaster (0)\",\"No disaster (0)\",\"Disaster (1)\",\"No disaster (0)\",\"Disaster (1)\",\"No disaster (0)\",\"No disaster (0)\",\"No disaster (0)\",\"No disaster (0)\",\"No disaster (0)\",\"No disaster (0)\",\"No disaster (0)\",\"No disaster (0)\",\"No disaster (0)\",\"No disaster (0)\",\"Disaster (1)\",\"No disaster (0)\",\"No disaster (0)\",\"No disaster (0)\",\"No disaster (0)\",\"No disaster (0)\",\"No disaster (0)\",\"No disaster (0)\",\"No disaster (0)\",\"No disaster (0)\",\"No disaster (0)\",\"No disaster (0)\",\"No disaster (0)\",\"Disaster (1)\",\"No disaster (0)\",\"No disaster (0)\",\"No disaster (0)\",\"No disaster (0)\",\"No disaster (0)\",\"Disaster (1)\",\"Disaster (1)\",\"No disaster (0)\",\"Disaster (1)\",\"No disaster (0)\",\"No disaster (0)\",\"No disaster (0)\",\"Disaster (1)\",\"No disaster (0)\",\"Disaster (1)\",\"Disaster (1)\",\"No disaster (0)\",\"Disaster (1)\",\"Disaster (1)\",\"No disaster (0)\",\"No disaster (0)\",\"No disaster (0)\",\"Disaster (1)\",\"Disaster (1)\",\"Disaster (1)\",\"Disaster (1)\",\"Disaster (1)\",\"No disaster (0)\",\"Disaster (1)\",\"Disaster (1)\",\"No disaster (0)\",\"No disaster (0)\",\"No disaster (0)\",\"No disaster (0)\",\"Disaster (1)\",\"Disaster (1)\",\"No disaster (0)\",\"No disaster (0)\",\"No disaster (0)\",\"Disaster (1)\",\"Disaster (1)\",\"No disaster (0)\",\"No disaster (0)\",\"No disaster (0)\",\"Disaster (1)\",\"Disaster (1)\",\"No disaster (0)\",\"No disaster (0)\",\"Disaster (1)\",\"Disaster (1)\",\"No disaster (0)\",\"Disaster (1)\",\"No disaster (0)\",\"No disaster (0)\",\"Disaster (1)\",\"Disaster (1)\",\"Disaster (1)\",\"Disaster (1)\",\"Disaster (1)\",\"No disaster (0)\",\"Disaster (1)\",\"No disaster (0)\",\"No disaster (0)\",\"No disaster (0)\",\"No disaster (0)\",\"Disaster (1)\",\"No disaster (0)\",\"Disaster (1)\",\"Disaster (1)\",\"Disaster (1)\",\"No disaster (0)\",\"Disaster (1)\",\"Disaster (1)\",\"No disaster (0)\",\"Disaster (1)\",\"Disaster (1)\",\"No disaster (0)\",\"No disaster (0)\",\"No disaster (0)\",\"Disaster (1)\",\"No disaster (0)\",\"No disaster (0)\",\"Disaster (1)\",\"Disaster (1)\",\"No disaster (0)\",\"No disaster (0)\",\"Disaster (1)\",\"No disaster (0)\",\"No disaster (0)\",\"Disaster (1)\",\"No disaster (0)\",\"No disaster (0)\",\"Disaster (1)\",\"No disaster (0)\",\"No disaster (0)\",\"No disaster (0)\",\"Disaster (1)\",\"Disaster (1)\",\"No disaster (0)\",\"No disaster (0)\",\"No disaster (0)\",\"No disaster (0)\",\"No disaster (0)\",\"Disaster (1)\",\"Disaster (1)\",\"Disaster (1)\",\"No disaster (0)\",\"No disaster (0)\",\"Disaster (1)\",\"Disaster (1)\",\"Disaster (1)\",\"Disaster (1)\",\"Disaster (1)\",\"No disaster (0)\",\"Disaster (1)\",\"Disaster (1)\",\"No disaster (0)\",\"No disaster (0)\",\"No disaster (0)\",\"Disaster (1)\",\"Disaster (1)\",\"No disaster (0)\",\"No disaster (0)\",\"No disaster (0)\",\"Disaster (1)\",\"No disaster (0)\",\"No disaster (0)\",\"No disaster (0)\",\"Disaster (1)\",\"Disaster (1)\",\"Disaster (1)\",\"Disaster (1)\",\"Disaster (1)\",\"Disaster (1)\",\"No disaster (0)\",\"No disaster (0)\",\"Disaster (1)\",\"No disaster (0)\",\"Disaster (1)\",\"Disaster (1)\",\"Disaster (1)\",\"Disaster (1)\",\"No disaster (0)\",\"No disaster (0)\",\"No disaster (0)\",\"No disaster (0)\",\"Disaster (1)\",\"Disaster (1)\",\"Disaster (1)\",\"Disaster (1)\",\"Disaster (1)\",\"Disaster (1)\",\"No disaster (0)\",\"Disaster (1)\",\"No disaster (0)\",\"Disaster (1)\",\"Disaster (1)\",\"No disaster (0)\",\"No disaster (0)\",\"Disaster (1)\",\"No disaster (0)\",\"No disaster (0)\",\"Disaster (1)\",\"No disaster (0)\",\"Disaster (1)\",\"Disaster (1)\",\"Disaster (1)\",\"Disaster (1)\",\"Disaster (1)\",\"Disaster (1)\",\"No disaster (0)\",\"Disaster (1)\",\"No disaster (0)\",\"No disaster (0)\",\"Disaster (1)\",\"Disaster (1)\",\"Disaster (1)\",\"Disaster (1)\",\"Disaster (1)\",\"Disaster (1)\",\"Disaster (1)\",\"Disaster (1)\",\"Disaster (1)\",\"No disaster (0)\",\"Disaster (1)\",\"No disaster (0)\",\"Disaster (1)\",\"No disaster (0)\",\"Disaster (1)\",\"No disaster (0)\",\"No disaster (0)\",\"Disaster (1)\",\"No disaster (0)\",\"Disaster (1)\",\"Disaster (1)\",\"No disaster (0)\",\"No disaster (0)\",\"Disaster (1)\",\"Disaster (1)\",\"No disaster (0)\",\"No disaster (0)\",\"Disaster (1)\",\"Disaster (1)\",\"Disaster (1)\",\"No disaster (0)\",\"No disaster (0)\",\"No disaster (0)\",\"No disaster (0)\",\"Disaster (1)\",\"Disaster (1)\",\"Disaster (1)\",\"Disaster (1)\",\"Disaster (1)\",\"Disaster (1)\",\"No disaster (0)\",\"No disaster (0)\",\"No disaster (0)\",\"Disaster (1)\",\"Disaster (1)\",\"No disaster (0)\",\"Disaster (1)\",\"Disaster (1)\",\"Disaster (1)\",\"Disaster (1)\",\"No disaster (0)\",\"Disaster (1)\",\"Disaster (1)\",\"Disaster (1)\",\"Disaster (1)\",\"No disaster (0)\",\"No disaster (0)\",\"No disaster (0)\",\"No disaster (0)\",\"Disaster (1)\",\"Disaster (1)\",\"Disaster (1)\",\"Disaster (1)\",\"No disaster (0)\",\"Disaster (1)\",\"No disaster (0)\",\"No disaster (0)\",\"Disaster (1)\",\"No disaster (0)\",\"Disaster (1)\",\"Disaster (1)\",\"Disaster (1)\",\"Disaster (1)\",\"Disaster (1)\",\"Disaster (1)\",\"Disaster (1)\",\"Disaster (1)\",\"No disaster (0)\",\"Disaster (1)\",\"Disaster (1)\",\"No disaster (0)\",\"Disaster (1)\",\"No disaster (0)\",\"No disaster (0)\",\"No disaster (0)\",\"No disaster (0)\",\"No disaster (0)\",\"No disaster (0)\",\"No disaster (0)\",\"Disaster (1)\",\"No disaster (0)\",\"No disaster (0)\",\"Disaster (1)\",\"Disaster (1)\",\"No disaster (0)\",\"No disaster (0)\",\"Disaster (1)\",\"Disaster (1)\",\"No disaster (0)\",\"No disaster (0)\",\"No disaster (0)\",\"No disaster (0)\",\"No disaster (0)\",\"No disaster (0)\",\"No disaster (0)\",\"Disaster (1)\",\"No disaster (0)\",\"No disaster (0)\",\"No disaster (0)\",\"Disaster (1)\",\"Disaster (1)\",\"No disaster (0)\",\"No disaster (0)\",\"No disaster (0)\",\"Disaster (1)\",\"No disaster (0)\",\"No disaster (0)\",\"Disaster (1)\",\"No disaster (0)\",\"Disaster (1)\",\"No disaster (0)\",\"Disaster (1)\",\"No disaster (0)\",\"No disaster (0)\",\"Disaster (1)\",\"Disaster (1)\",\"No disaster (0)\",\"No disaster (0)\",\"No disaster (0)\",\"Disaster (1)\",\"No disaster (0)\",\"Disaster (1)\",\"Disaster (1)\",\"No disaster (0)\",\"No disaster (0)\",\"No disaster (0)\",\"No disaster (0)\",\"No disaster (0)\",\"No disaster (0)\",\"No disaster (0)\",\"No disaster (0)\",\"No disaster (0)\",\"Disaster (1)\",\"Disaster (1)\",\"No disaster (0)\",\"No disaster (0)\",\"No disaster (0)\",\"No disaster (0)\",\"No disaster (0)\",\"No disaster (0)\",\"No disaster (0)\",\"Disaster (1)\",\"No disaster (0)\",\"No disaster (0)\",\"No disaster (0)\",\"No disaster (0)\",\"No disaster (0)\",\"Disaster (1)\",\"No disaster (0)\",\"No disaster (0)\",\"No disaster (0)\",\"No disaster (0)\",\"No disaster (0)\",\"No disaster (0)\",\"No disaster (0)\",\"No disaster (0)\",\"No disaster (0)\",\"No disaster (0)\",\"No disaster (0)\",\"No disaster (0)\",\"No disaster (0)\",\"No disaster (0)\",\"Disaster (1)\",\"No disaster (0)\",\"No disaster (0)\",\"No disaster (0)\",\"Disaster (1)\",\"No disaster (0)\",\"Disaster (1)\",\"No disaster (0)\",\"No disaster (0)\",\"Disaster (1)\",\"No disaster (0)\",\"No disaster (0)\",\"No disaster (0)\",\"Disaster (1)\",\"No disaster (0)\",\"No disaster (0)\",\"No disaster (0)\",\"No disaster (0)\",\"No disaster (0)\",\"Disaster (1)\",\"Disaster (1)\",\"No disaster (0)\",\"No disaster (0)\",\"No disaster (0)\",\"No disaster (0)\",\"No disaster (0)\",\"Disaster (1)\",\"Disaster (1)\",\"Disaster (1)\",\"No disaster (0)\",\"No disaster (0)\",\"Disaster (1)\",\"No disaster (0)\",\"Disaster (1)\",\"No disaster (0)\",\"Disaster (1)\",\"No disaster (0)\",\"No disaster (0)\",\"No disaster (0)\",\"Disaster (1)\",\"Disaster (1)\",\"No disaster (0)\",\"No disaster (0)\",\"Disaster (1)\",\"No disaster (0)\",\"No disaster (0)\",\"Disaster (1)\",\"Disaster (1)\",\"No disaster (0)\",\"Disaster (1)\",\"Disaster (1)\",\"No disaster (0)\",\"No disaster (0)\",\"No disaster (0)\",\"No disaster (0)\",\"No disaster (0)\",\"No disaster (0)\",\"Disaster (1)\",\"No disaster (0)\",\"No disaster (0)\",\"No disaster (0)\",\"Disaster (1)\",\"Disaster (1)\",\"No disaster (0)\",\"No disaster (0)\",\"No disaster (0)\",\"No disaster (0)\",\"No disaster (0)\",\"No disaster (0)\",\"No disaster (0)\",\"No disaster (0)\",\"No disaster (0)\",\"No disaster (0)\",\"No disaster (0)\",\"No disaster (0)\",\"No disaster (0)\",\"No disaster (0)\",\"No disaster (0)\",\"No disaster (0)\",\"No disaster (0)\",\"Disaster (1)\",\"No disaster (0)\",\"Disaster (1)\",\"No disaster (0)\",\"No disaster (0)\",\"No disaster (0)\",\"No disaster (0)\",\"No disaster (0)\",\"No disaster (0)\",\"No disaster (0)\",\"Disaster (1)\",\"No disaster (0)\",\"No disaster (0)\",\"Disaster (1)\",\"No disaster (0)\",\"No disaster (0)\",\"Disaster (1)\",\"Disaster (1)\",\"Disaster (1)\",\"No disaster (0)\",\"Disaster (1)\",\"Disaster (1)\",\"Disaster (1)\",\"No disaster (0)\",\"Disaster (1)\",\"No disaster (0)\",\"No disaster (0)\",\"Disaster (1)\",\"Disaster (1)\",\"Disaster (1)\",\"No disaster (0)\",\"Disaster (1)\",\"No disaster (0)\",\"No disaster (0)\",\"No disaster (0)\",\"No disaster (0)\",\"No disaster (0)\",\"Disaster (1)\",\"Disaster (1)\",\"Disaster (1)\",\"No disaster (0)\",\"No disaster (0)\",\"Disaster (1)\",\"No disaster (0)\",\"Disaster (1)\",\"No disaster (0)\",\"No disaster (0)\",\"No disaster (0)\",\"No disaster (0)\",\"No disaster (0)\",\"No disaster (0)\",\"Disaster (1)\",\"No disaster (0)\",\"No disaster (0)\",\"No disaster (0)\",\"No disaster (0)\",\"No disaster (0)\",\"Disaster (1)\",\"Disaster (1)\",\"No disaster (0)\",\"No disaster (0)\",\"No disaster (0)\",\"No disaster (0)\",\"No disaster (0)\",\"Disaster (1)\",\"No disaster (0)\",\"Disaster (1)\",\"No disaster (0)\",\"No disaster (0)\",\"No disaster (0)\",\"No disaster (0)\",\"No disaster (0)\",\"Disaster (1)\",\"No disaster (0)\",\"No disaster (0)\",\"Disaster (1)\",\"No disaster (0)\",\"No disaster (0)\",\"No disaster (0)\",\"No disaster (0)\",\"Disaster (1)\",\"Disaster (1)\",\"Disaster (1)\",\"Disaster (1)\",\"Disaster (1)\",\"Disaster (1)\",\"Disaster (1)\",\"Disaster (1)\",\"Disaster (1)\",\"No disaster (0)\",\"Disaster (1)\",\"Disaster (1)\",\"Disaster (1)\",\"Disaster (1)\",\"Disaster (1)\",\"Disaster (1)\",\"Disaster (1)\",\"Disaster (1)\",\"No disaster (0)\",\"No disaster (0)\",\"No disaster (0)\",\"Disaster (1)\",\"Disaster (1)\",\"No disaster (0)\",\"Disaster (1)\",\"Disaster (1)\",\"Disaster (1)\",\"Disaster (1)\",\"Disaster (1)\",\"Disaster (1)\",\"Disaster (1)\",\"Disaster (1)\",\"Disaster (1)\",\"No disaster (0)\",\"Disaster (1)\",\"Disaster (1)\",\"Disaster (1)\",\"No disaster (0)\",\"Disaster (1)\",\"Disaster (1)\",\"No disaster (0)\",\"No disaster (0)\",\"Disaster (1)\",\"No disaster (0)\",\"No disaster (0)\",\"Disaster (1)\",\"No disaster (0)\",\"Disaster (1)\",\"Disaster (1)\",\"Disaster (1)\",\"Disaster (1)\",\"No disaster (0)\",\"No disaster (0)\",\"No disaster (0)\",\"Disaster (1)\",\"Disaster (1)\",\"Disaster (1)\",\"Disaster (1)\",\"No disaster (0)\",\"Disaster (1)\",\"No disaster (0)\",\"No disaster (0)\",\"Disaster (1)\",\"Disaster (1)\",\"Disaster (1)\",\"Disaster (1)\",\"Disaster (1)\",\"Disaster (1)\",\"Disaster (1)\",\"Disaster (1)\",\"No disaster (0)\",\"No disaster (0)\",\"No disaster (0)\",\"Disaster (1)\",\"Disaster (1)\",\"Disaster (1)\",\"Disaster (1)\",\"Disaster (1)\",\"No disaster (0)\",\"No disaster (0)\",\"Disaster (1)\",\"Disaster (1)\",\"Disaster (1)\",\"Disaster (1)\",\"No disaster (0)\",\"Disaster (1)\",\"Disaster (1)\",\"No disaster (0)\",\"Disaster (1)\",\"No disaster (0)\",\"Disaster (1)\",\"No disaster (0)\",\"Disaster (1)\",\"Disaster (1)\",\"No disaster (0)\",\"Disaster (1)\",\"Disaster (1)\",\"Disaster (1)\",\"Disaster (1)\",\"Disaster (1)\",\"No disaster (0)\",\"No disaster (0)\",\"No disaster (0)\",\"No disaster (0)\",\"No disaster (0)\",\"Disaster (1)\",\"No disaster (0)\",\"No disaster (0)\",\"No disaster (0)\",\"No disaster (0)\",\"No disaster (0)\",\"No disaster (0)\",\"No disaster (0)\",\"No disaster (0)\",\"No disaster (0)\",\"No disaster (0)\",\"No disaster (0)\",\"No disaster (0)\",\"No disaster (0)\",\"No disaster (0)\",\"No disaster (0)\",\"No disaster (0)\",\"Disaster (1)\",\"No disaster (0)\",\"No disaster (0)\",\"No disaster (0)\",\"No disaster (0)\",\"No disaster (0)\",\"Disaster (1)\",\"No disaster (0)\",\"No disaster (0)\",\"No disaster (0)\",\"No disaster (0)\",\"No disaster (0)\",\"Disaster (1)\",\"No disaster (0)\",\"Disaster (1)\",\"No disaster (0)\",\"No disaster (0)\",\"No disaster (0)\",\"No disaster (0)\",\"No disaster (0)\",\"No disaster (0)\",\"No disaster (0)\",\"Disaster (1)\",\"No disaster (0)\",\"No disaster (0)\",\"No disaster (0)\",\"No disaster (0)\",\"No disaster (0)\",\"No disaster (0)\",\"No disaster (0)\",\"No disaster (0)\",\"No disaster (0)\",\"No disaster (0)\",\"No disaster (0)\",\"No disaster (0)\",\"No disaster (0)\",\"No disaster (0)\",\"No disaster (0)\",\"No disaster (0)\",\"Disaster (1)\",\"Disaster (1)\",\"No disaster (0)\",\"No disaster (0)\",\"No disaster (0)\",\"No disaster (0)\",\"Disaster (1)\",\"No disaster (0)\",\"Disaster (1)\",\"No disaster (0)\",\"No disaster (0)\",\"Disaster (1)\",\"No disaster (0)\",\"No disaster (0)\",\"No disaster (0)\",\"No disaster (0)\",\"No disaster (0)\",\"Disaster (1)\",\"No disaster (0)\",\"No disaster (0)\",\"Disaster (1)\",\"No disaster (0)\",\"No disaster (0)\",\"Disaster (1)\",\"No disaster (0)\",\"No disaster (0)\",\"No disaster (0)\",\"No disaster (0)\",\"No disaster (0)\",\"Disaster (1)\",\"No disaster (0)\",\"Disaster (1)\",\"No disaster (0)\",\"No disaster (0)\",\"No disaster (0)\",\"No disaster (0)\",\"No disaster (0)\",\"No disaster (0)\",\"Disaster (1)\",\"Disaster (1)\",\"No disaster (0)\",\"No disaster (0)\",\"No disaster (0)\",\"No disaster (0)\",\"No disaster (0)\",\"Disaster (1)\",\"No disaster (0)\",\"Disaster (1)\",\"No disaster (0)\",\"Disaster (1)\",\"No disaster (0)\",\"No disaster (0)\",\"No disaster (0)\",\"Disaster (1)\",\"No disaster (0)\",\"No disaster (0)\",\"No disaster (0)\",\"Disaster (1)\",\"Disaster (1)\",\"No disaster (0)\",\"No disaster (0)\",\"No disaster (0)\",\"Disaster (1)\",\"No disaster (0)\",\"Disaster (1)\",\"Disaster (1)\",\"No disaster (0)\",\"No disaster (0)\",\"No disaster (0)\",\"No disaster (0)\",\"No disaster (0)\",\"No disaster (0)\",\"Disaster (1)\",\"No disaster (0)\",\"No disaster (0)\",\"No disaster (0)\",\"Disaster (1)\",\"Disaster (1)\",\"Disaster (1)\",\"Disaster (1)\",\"No disaster (0)\",\"Disaster (1)\",\"No disaster (0)\",\"Disaster (1)\",\"Disaster (1)\",\"No disaster (0)\",\"Disaster (1)\",\"No disaster (0)\",\"Disaster (1)\",\"No disaster (0)\",\"Disaster (1)\",\"No disaster (0)\",\"No disaster (0)\",\"Disaster (1)\",\"Disaster (1)\",\"Disaster (1)\",\"Disaster (1)\",\"No disaster (0)\",\"Disaster (1)\",\"No disaster (0)\",\"Disaster (1)\",\"No disaster (0)\",\"No disaster (0)\",\"Disaster (1)\",\"Disaster (1)\",\"No disaster (0)\",\"No disaster (0)\",\"No disaster (0)\",\"Disaster (1)\",\"Disaster (1)\",\"No disaster (0)\",\"Disaster (1)\",\"Disaster (1)\",\"Disaster (1)\",\"Disaster (1)\",\"Disaster (1)\",\"Disaster (1)\",\"Disaster (1)\",\"Disaster (1)\",\"Disaster (1)\",\"Disaster (1)\",\"Disaster (1)\",\"Disaster (1)\",\"Disaster (1)\",\"Disaster (1)\",\"Disaster (1)\",\"Disaster (1)\",\"No disaster (0)\",\"Disaster (1)\",\"Disaster (1)\",\"Disaster (1)\",\"Disaster (1)\",\"Disaster (1)\",\"Disaster (1)\",\"Disaster (1)\",\"Disaster (1)\",\"Disaster (1)\",\"Disaster (1)\",\"Disaster (1)\",\"Disaster (1)\",\"No disaster (0)\",\"Disaster (1)\",\"No disaster (0)\",\"No disaster (0)\",\"No disaster (0)\",\"Disaster (1)\",\"No disaster (0)\",\"Disaster (1)\",\"No disaster (0)\",\"Disaster (1)\",\"No disaster (0)\",\"No disaster (0)\",\"No disaster (0)\",\"No disaster (0)\",\"Disaster (1)\",\"No disaster (0)\",\"Disaster (1)\",\"Disaster (1)\",\"Disaster (1)\",\"Disaster (1)\",\"No disaster (0)\",\"No disaster (0)\",\"Disaster (1)\",\"No disaster (0)\",\"No disaster (0)\",\"No disaster (0)\",\"Disaster (1)\",\"No disaster (0)\",\"No disaster (0)\",\"No disaster (0)\",\"Disaster (1)\",\"Disaster (1)\",\"Disaster (1)\",\"No disaster (0)\",\"No disaster (0)\",\"Disaster (1)\",\"No disaster (0)\",\"No disaster (0)\",\"No disaster (0)\",\"No disaster (0)\",\"No disaster (0)\",\"No disaster (0)\",\"No disaster (0)\",\"No disaster (0)\",\"Disaster (1)\",\"No disaster (0)\",\"No disaster (0)\",\"No disaster (0)\",\"No disaster (0)\",\"Disaster (1)\",\"Disaster (1)\",\"No disaster (0)\",\"No disaster (0)\",\"No disaster (0)\",\"No disaster (0)\",\"No disaster (0)\",\"No disaster (0)\",\"No disaster (0)\",\"No disaster (0)\",\"Disaster (1)\",\"No disaster (0)\",\"No disaster (0)\",\"No disaster (0)\",\"No disaster (0)\",\"No disaster (0)\",\"No disaster (0)\",\"No disaster (0)\",\"No disaster (0)\",\"No disaster (0)\",\"No disaster (0)\",\"No disaster (0)\",\"No disaster (0)\",\"No disaster (0)\",\"No disaster (0)\",\"No disaster (0)\",\"Disaster (1)\",\"No disaster (0)\",\"No disaster (0)\",\"No disaster (0)\",\"No disaster (0)\",\"No disaster (0)\",\"Disaster (1)\",\"No disaster (0)\",\"No disaster (0)\",\"No disaster (0)\",\"No disaster (0)\",\"No disaster (0)\",\"Disaster (1)\",\"No disaster (0)\",\"No disaster (0)\",\"No disaster (0)\",\"No disaster (0)\",\"No disaster (0)\",\"No disaster (0)\",\"Disaster (1)\",\"No disaster (0)\",\"No disaster (0)\",\"No disaster (0)\",\"No disaster (0)\",\"No disaster (0)\",\"Disaster (1)\",\"No disaster (0)\",\"No disaster (0)\",\"No disaster (0)\",\"No disaster (0)\",\"No disaster (0)\",\"Disaster (1)\",\"No disaster (0)\",\"No disaster (0)\",\"No disaster (0)\",\"Disaster (1)\",\"No disaster (0)\",\"No disaster (0)\",\"No disaster (0)\",\"No disaster (0)\",\"No disaster (0)\",\"No disaster (0)\",\"No disaster (0)\",\"No disaster (0)\",\"No disaster (0)\",\"No disaster (0)\",\"No disaster (0)\",\"No disaster (0)\",\"No disaster (0)\",\"No disaster (0)\",\"No disaster (0)\",\"No disaster (0)\",\"No disaster (0)\",\"Disaster (1)\",\"Disaster (1)\",\"Disaster (1)\",\"Disaster (1)\",\"Disaster (1)\",\"Disaster (1)\",\"Disaster (1)\",\"Disaster (1)\",\"Disaster (1)\",\"Disaster (1)\",\"Disaster (1)\",\"Disaster (1)\",\"Disaster (1)\",\"Disaster (1)\",\"Disaster (1)\",\"Disaster (1)\",\"Disaster (1)\",\"Disaster (1)\",\"Disaster (1)\",\"Disaster (1)\",\"Disaster (1)\",\"Disaster (1)\",\"Disaster (1)\",\"Disaster (1)\",\"Disaster (1)\",\"Disaster (1)\",\"No disaster (0)\",\"Disaster (1)\",\"Disaster (1)\",\"Disaster (1)\",\"Disaster (1)\",\"Disaster (1)\",\"Disaster (1)\",\"Disaster (1)\",\"Disaster (1)\",\"Disaster (1)\",\"Disaster (1)\",\"Disaster (1)\",\"Disaster (1)\",\"Disaster (1)\",\"Disaster (1)\",\"Disaster (1)\",\"Disaster (1)\",\"Disaster (1)\",\"Disaster (1)\",\"Disaster (1)\",\"Disaster (1)\",\"Disaster (1)\",\"Disaster (1)\",\"Disaster (1)\",\"Disaster (1)\",\"Disaster (1)\",\"Disaster (1)\",\"Disaster (1)\",\"Disaster (1)\",\"Disaster (1)\",\"Disaster (1)\",\"Disaster (1)\",\"Disaster (1)\",\"Disaster (1)\",\"Disaster (1)\",\"Disaster (1)\",\"No disaster (0)\",\"Disaster (1)\",\"Disaster (1)\",\"Disaster (1)\",\"Disaster (1)\",\"Disaster (1)\",\"Disaster (1)\",\"Disaster (1)\",\"Disaster (1)\",\"Disaster (1)\",\"Disaster (1)\",\"Disaster (1)\",\"Disaster (1)\",\"Disaster (1)\",\"Disaster (1)\",\"Disaster (1)\",\"Disaster (1)\",\"No disaster (0)\",\"Disaster (1)\",\"No disaster (0)\",\"No disaster (0)\",\"Disaster (1)\",\"No disaster (0)\",\"No disaster (0)\",\"No disaster (0)\",\"Disaster (1)\",\"No disaster (0)\",\"No disaster (0)\",\"No disaster (0)\",\"Disaster (1)\",\"No disaster (0)\",\"Disaster (1)\",\"No disaster (0)\",\"No disaster (0)\",\"No disaster (0)\",\"No disaster (0)\",\"Disaster (1)\",\"No disaster (0)\",\"No disaster (0)\",\"No disaster (0)\",\"No disaster (0)\",\"No disaster (0)\",\"No disaster (0)\",\"No disaster (0)\",\"No disaster (0)\",\"No disaster (0)\",\"No disaster (0)\",\"No disaster (0)\",\"No disaster (0)\",\"No disaster (0)\",\"No disaster (0)\",\"Disaster (1)\",\"Disaster (1)\",\"No disaster (0)\",\"No disaster (0)\",\"No disaster (0)\",\"No disaster (0)\",\"No disaster (0)\",\"No disaster (0)\",\"No disaster (0)\",\"No disaster (0)\",\"No disaster (0)\",\"No disaster (0)\",\"No disaster (0)\",\"No disaster (0)\",\"No disaster (0)\",\"No disaster (0)\",\"Disaster (1)\",\"No disaster (0)\",\"No disaster (0)\",\"No disaster (0)\",\"Disaster (1)\",\"No disaster (0)\",\"No disaster (0)\",\"No disaster (0)\",\"No disaster (0)\",\"No disaster (0)\",\"No disaster (0)\",\"No disaster (0)\",\"No disaster (0)\",\"No disaster (0)\",\"No disaster (0)\",\"No disaster (0)\",\"No disaster (0)\",\"Disaster (1)\",\"No disaster (0)\",\"No disaster (0)\",\"No disaster (0)\",\"No disaster (0)\",\"No disaster (0)\",\"No disaster (0)\",\"No disaster (0)\",\"No disaster (0)\",\"Disaster (1)\",\"No disaster (0)\",\"No disaster (0)\",\"No disaster (0)\",\"No disaster (0)\",\"No disaster (0)\",\"No disaster (0)\",\"No disaster (0)\",\"No disaster (0)\",\"No disaster (0)\",\"No disaster (0)\",\"No disaster (0)\",\"No disaster (0)\",\"No disaster (0)\",\"No disaster (0)\",\"Disaster (1)\",\"No disaster (0)\",\"No disaster (0)\",\"No disaster (0)\",\"No disaster (0)\",\"No disaster (0)\",\"No disaster (0)\",\"No disaster (0)\",\"No disaster (0)\",\"No disaster (0)\",\"No disaster (0)\",\"No disaster (0)\",\"No disaster (0)\",\"No disaster (0)\",\"No disaster (0)\",\"No disaster (0)\",\"Disaster (1)\",\"Disaster (1)\",\"Disaster (1)\",\"No disaster (0)\",\"Disaster (1)\",\"Disaster (1)\",\"Disaster (1)\",\"No disaster (0)\",\"No disaster (0)\",\"Disaster (1)\",\"Disaster (1)\",\"No disaster (0)\",\"Disaster (1)\",\"Disaster (1)\",\"No disaster (0)\",\"No disaster (0)\",\"No disaster (0)\",\"No disaster (0)\",\"No disaster (0)\",\"Disaster (1)\",\"Disaster (1)\",\"Disaster (1)\",\"No disaster (0)\",\"Disaster (1)\",\"No disaster (0)\",\"Disaster (1)\",\"No disaster (0)\",\"Disaster (1)\",\"Disaster (1)\",\"No disaster (0)\",\"Disaster (1)\",\"Disaster (1)\",\"No disaster (0)\",\"No disaster (0)\",\"Disaster (1)\",\"Disaster (1)\",\"No disaster (0)\",\"Disaster (1)\",\"No disaster (0)\",\"No disaster (0)\",\"Disaster (1)\",\"No disaster (0)\",\"No disaster (0)\",\"Disaster (1)\",\"No disaster (0)\",\"No disaster (0)\",\"No disaster (0)\",\"No disaster (0)\",\"No disaster (0)\",\"No disaster (0)\",\"Disaster (1)\",\"No disaster (0)\",\"No disaster (0)\",\"No disaster (0)\",\"No disaster (0)\",\"No disaster (0)\",\"No disaster (0)\",\"No disaster (0)\",\"No disaster (0)\",\"No disaster (0)\",\"No disaster (0)\",\"No disaster (0)\",\"No disaster (0)\",\"No disaster (0)\",\"No disaster (0)\",\"No disaster (0)\",\"No disaster (0)\",\"No disaster (0)\",\"No disaster (0)\",\"No disaster (0)\",\"Disaster (1)\",\"No disaster (0)\",\"No disaster (0)\",\"No disaster (0)\",\"No disaster (0)\",\"No disaster (0)\",\"Disaster (1)\",\"No disaster (0)\",\"No disaster (0)\",\"Disaster (1)\",\"Disaster (1)\",\"No disaster (0)\",\"Disaster (1)\",\"No disaster (0)\",\"No disaster (0)\",\"Disaster (1)\",\"No disaster (0)\",\"Disaster (1)\",\"Disaster (1)\",\"No disaster (0)\",\"No disaster (0)\",\"No disaster (0)\",\"Disaster (1)\",\"Disaster (1)\",\"No disaster (0)\",\"No disaster (0)\",\"Disaster (1)\",\"Disaster (1)\",\"Disaster (1)\",\"No disaster (0)\",\"No disaster (0)\",\"No disaster (0)\",\"Disaster (1)\",\"Disaster (1)\",\"No disaster (0)\",\"No disaster (0)\",\"No disaster (0)\",\"No disaster (0)\",\"No disaster (0)\",\"Disaster (1)\",\"Disaster (1)\",\"Disaster (1)\",\"No disaster (0)\",\"Disaster (1)\",\"Disaster (1)\",\"No disaster (0)\",\"No disaster (0)\",\"No disaster (0)\",\"Disaster (1)\",\"No disaster (0)\",\"Disaster (1)\",\"Disaster (1)\",\"No disaster (0)\",\"No disaster (0)\",\"Disaster (1)\",\"Disaster (1)\",\"Disaster (1)\",\"No disaster (0)\",\"Disaster (1)\",\"Disaster (1)\",\"No disaster (0)\",\"No disaster (0)\",\"No disaster (0)\",\"Disaster (1)\",\"Disaster (1)\",\"Disaster (1)\",\"No disaster (0)\",\"No disaster (0)\",\"Disaster (1)\",\"Disaster (1)\",\"No disaster (0)\",\"Disaster (1)\",\"No disaster (0)\",\"No disaster (0)\",\"No disaster (0)\",\"Disaster (1)\",\"No disaster (0)\",\"Disaster (1)\",\"Disaster (1)\",\"No disaster (0)\",\"Disaster (1)\",\"No disaster (0)\",\"Disaster (1)\",\"Disaster (1)\",\"Disaster (1)\",\"Disaster (1)\",\"Disaster (1)\",\"Disaster (1)\",\"Disaster (1)\",\"Disaster (1)\",\"Disaster (1)\",\"Disaster (1)\",\"Disaster (1)\",\"Disaster (1)\",\"Disaster (1)\",\"No disaster (0)\",\"Disaster (1)\",\"Disaster (1)\",\"Disaster (1)\",\"Disaster (1)\",\"Disaster (1)\",\"Disaster (1)\",\"Disaster (1)\",\"Disaster (1)\",\"Disaster (1)\",\"No disaster (0)\",\"Disaster (1)\",\"Disaster (1)\",\"Disaster (1)\",\"Disaster (1)\",\"Disaster (1)\",\"Disaster (1)\",\"Disaster (1)\",\"Disaster (1)\",\"Disaster (1)\",\"No disaster (0)\",\"Disaster (1)\",\"Disaster (1)\",\"No disaster (0)\",\"Disaster (1)\",\"No disaster (0)\",\"Disaster (1)\",\"No disaster (0)\",\"Disaster (1)\",\"Disaster (1)\",\"Disaster (1)\",\"No disaster (0)\",\"No disaster (0)\",\"Disaster (1)\",\"No disaster (0)\",\"Disaster (1)\",\"Disaster (1)\",\"Disaster (1)\",\"Disaster (1)\",\"No disaster (0)\",\"No disaster (0)\",\"Disaster (1)\",\"Disaster (1)\",\"Disaster (1)\",\"No disaster (0)\",\"Disaster (1)\",\"No disaster (0)\",\"Disaster (1)\",\"No disaster (0)\",\"No disaster (0)\",\"Disaster (1)\",\"No disaster (0)\",\"Disaster (1)\",\"No disaster (0)\",\"Disaster (1)\",\"Disaster (1)\",\"Disaster (1)\",\"Disaster (1)\",\"No disaster (0)\",\"No disaster (0)\",\"Disaster (1)\",\"No disaster (0)\",\"No disaster (0)\",\"No disaster (0)\",\"No disaster (0)\",\"No disaster (0)\",\"No disaster (0)\",\"No disaster (0)\",\"No disaster (0)\",\"No disaster (0)\",\"No disaster (0)\",\"No disaster (0)\",\"No disaster (0)\",\"Disaster (1)\",\"Disaster (1)\",\"No disaster (0)\",\"No disaster (0)\",\"Disaster (1)\",\"No disaster (0)\",\"Disaster (1)\",\"Disaster (1)\",\"Disaster (1)\",\"Disaster (1)\",\"No disaster (0)\",\"No disaster (0)\",\"No disaster (0)\",\"No disaster (0)\",\"Disaster (1)\",\"No disaster (0)\",\"Disaster (1)\",\"No disaster (0)\",\"Disaster (1)\",\"No disaster (0)\",\"No disaster (0)\",\"Disaster (1)\",\"No disaster (0)\",\"No disaster (0)\",\"Disaster (1)\",\"No disaster (0)\",\"No disaster (0)\",\"Disaster (1)\",\"Disaster (1)\",\"Disaster (1)\",\"Disaster (1)\",\"Disaster (1)\",\"No disaster (0)\",\"Disaster (1)\",\"No disaster (0)\",\"No disaster (0)\",\"No disaster (0)\",\"No disaster (0)\",\"No disaster (0)\",\"Disaster (1)\",\"Disaster (1)\",\"Disaster (1)\",\"Disaster (1)\",\"Disaster (1)\",\"Disaster (1)\",\"Disaster (1)\",\"Disaster (1)\",\"Disaster (1)\",\"No disaster (0)\",\"Disaster (1)\",\"No disaster (0)\",\"Disaster (1)\",\"Disaster (1)\",\"Disaster (1)\",\"Disaster (1)\",\"Disaster (1)\",\"Disaster (1)\",\"No disaster (0)\",\"Disaster (1)\",\"Disaster (1)\",\"Disaster (1)\",\"Disaster (1)\",\"Disaster (1)\",\"Disaster (1)\",\"Disaster (1)\",\"Disaster (1)\",\"Disaster (1)\",\"Disaster (1)\",\"Disaster (1)\",\"Disaster (1)\",\"Disaster (1)\",\"Disaster (1)\",\"Disaster (1)\",\"Disaster (1)\",\"Disaster (1)\",\"Disaster (1)\",\"No disaster (0)\",\"No disaster (0)\",\"Disaster (1)\",\"No disaster (0)\",\"No disaster (0)\",\"No disaster (0)\",\"No disaster (0)\",\"No disaster (0)\",\"No disaster (0)\",\"No disaster (0)\",\"Disaster (1)\",\"No disaster (0)\",\"No disaster (0)\",\"No disaster (0)\",\"No disaster (0)\",\"No disaster (0)\",\"No disaster (0)\",\"Disaster (1)\",\"No disaster (0)\",\"No disaster (0)\",\"No disaster (0)\",\"No disaster (0)\",\"No disaster (0)\",\"No disaster (0)\",\"No disaster (0)\",\"No disaster (0)\",\"Disaster (1)\",\"No disaster (0)\",\"No disaster (0)\",\"Disaster (1)\",\"No disaster (0)\",\"Disaster (1)\",\"No disaster (0)\",\"No disaster (0)\",\"Disaster (1)\",\"No disaster (0)\",\"Disaster (1)\",\"No disaster (0)\",\"Disaster (1)\",\"Disaster (1)\",\"Disaster (1)\",\"No disaster (0)\",\"No disaster (0)\",\"No disaster (0)\",\"Disaster (1)\",\"Disaster (1)\",\"Disaster (1)\",\"No disaster (0)\",\"Disaster (1)\",\"Disaster (1)\",\"Disaster (1)\",\"No disaster (0)\",\"Disaster (1)\",\"No disaster (0)\",\"Disaster (1)\",\"No disaster (0)\",\"Disaster (1)\",\"No disaster (0)\",\"Disaster (1)\",\"Disaster (1)\",\"No disaster (0)\",\"Disaster (1)\",\"Disaster (1)\",\"Disaster (1)\",\"Disaster (1)\",\"Disaster (1)\",\"No disaster (0)\",\"Disaster (1)\",\"Disaster (1)\",\"No disaster (0)\",\"No disaster (0)\",\"No disaster (0)\",\"Disaster (1)\",\"No disaster (0)\",\"No disaster (0)\",\"No disaster (0)\",\"No disaster (0)\",\"No disaster (0)\",\"Disaster (1)\",\"No disaster (0)\",\"Disaster (1)\",\"No disaster (0)\",\"Disaster (1)\",\"Disaster (1)\",\"Disaster (1)\",\"Disaster (1)\",\"No disaster (0)\",\"No disaster (0)\",\"No disaster (0)\",\"Disaster (1)\",\"Disaster (1)\",\"No disaster (0)\",\"Disaster (1)\",\"No disaster (0)\",\"No disaster (0)\",\"No disaster (0)\",\"No disaster (0)\",\"No disaster (0)\",\"No disaster (0)\",\"No disaster (0)\",\"No disaster (0)\",\"No disaster (0)\",\"No disaster (0)\",\"No disaster (0)\",\"No disaster (0)\",\"No disaster (0)\",\"No disaster (0)\",\"No disaster (0)\",\"No disaster (0)\",\"No disaster (0)\",\"No disaster (0)\",\"Disaster (1)\",\"No disaster (0)\",\"No disaster (0)\",\"No disaster (0)\",\"No disaster (0)\",\"No disaster (0)\",\"No disaster (0)\",\"No disaster (0)\",\"No disaster (0)\",\"No disaster (0)\",\"No disaster (0)\",\"No disaster (0)\",\"No disaster (0)\",\"No disaster (0)\",\"No disaster (0)\",\"No disaster (0)\",\"No disaster (0)\",\"No disaster (0)\",\"No disaster (0)\",\"No disaster (0)\",\"No disaster (0)\",\"No disaster (0)\",\"No disaster (0)\",\"No disaster (0)\",\"Disaster (1)\",\"Disaster (1)\",\"No disaster (0)\",\"Disaster (1)\",\"No disaster (0)\",\"Disaster (1)\",\"Disaster (1)\",\"Disaster (1)\",\"Disaster (1)\",\"Disaster (1)\",\"Disaster (1)\",\"Disaster (1)\",\"Disaster (1)\",\"Disaster (1)\",\"Disaster (1)\",\"Disaster (1)\",\"No disaster (0)\",\"Disaster (1)\",\"Disaster (1)\",\"Disaster (1)\",\"Disaster (1)\",\"Disaster (1)\",\"Disaster (1)\",\"No disaster (0)\",\"Disaster (1)\",\"Disaster (1)\",\"No disaster (0)\",\"Disaster (1)\",\"Disaster (1)\",\"Disaster (1)\",\"Disaster (1)\",\"Disaster (1)\",\"No disaster (0)\",\"No disaster (0)\",\"No disaster (0)\",\"Disaster (1)\",\"No disaster (0)\",\"No disaster (0)\",\"No disaster (0)\",\"No disaster (0)\",\"No disaster (0)\",\"Disaster (1)\",\"Disaster (1)\",\"No disaster (0)\",\"No disaster (0)\",\"No disaster (0)\",\"No disaster (0)\",\"No disaster (0)\",\"No disaster (0)\",\"No disaster (0)\",\"No disaster (0)\",\"No disaster (0)\",\"No disaster (0)\",\"No disaster (0)\",\"No disaster (0)\",\"No disaster (0)\",\"Disaster (1)\",\"No disaster (0)\",\"No disaster (0)\",\"No disaster (0)\",\"No disaster (0)\",\"No disaster (0)\",\"No disaster (0)\",\"No disaster (0)\",\"No disaster (0)\",\"No disaster (0)\",\"No disaster (0)\",\"Disaster (1)\",\"No disaster (0)\",\"No disaster (0)\",\"No disaster (0)\",\"No disaster (0)\",\"No disaster (0)\",\"No disaster (0)\",\"Disaster (1)\",\"No disaster (0)\",\"No disaster (0)\",\"No disaster (0)\",\"No disaster (0)\",\"No disaster (0)\",\"No disaster (0)\",\"No disaster (0)\",\"No disaster (0)\",\"No disaster (0)\",\"No disaster (0)\",\"No disaster (0)\",\"No disaster (0)\",\"No disaster (0)\",\"No disaster (0)\",\"No disaster (0)\",\"No disaster (0)\",\"No disaster (0)\",\"No disaster (0)\",\"No disaster (0)\",\"No disaster (0)\",\"No disaster (0)\",\"No disaster (0)\",\"Disaster (1)\",\"No disaster (0)\",\"No disaster (0)\",\"No disaster (0)\",\"No disaster (0)\",\"No disaster (0)\",\"No disaster (0)\",\"No disaster (0)\",\"No disaster (0)\",\"No disaster (0)\",\"No disaster (0)\",\"Disaster (1)\",\"No disaster (0)\",\"No disaster (0)\",\"No disaster (0)\",\"No disaster (0)\",\"No disaster (0)\",\"No disaster (0)\",\"No disaster (0)\",\"No disaster (0)\",\"No disaster (0)\",\"No disaster (0)\",\"No disaster (0)\",\"No disaster (0)\",\"No disaster (0)\",\"No disaster (0)\",\"No disaster (0)\",\"No disaster (0)\",\"No disaster (0)\",\"No disaster (0)\",\"No disaster (0)\",\"No disaster (0)\",\"Disaster (1)\",\"Disaster (1)\",\"No disaster (0)\",\"No disaster (0)\",\"No disaster (0)\",\"No disaster (0)\",\"Disaster (1)\",\"No disaster (0)\",\"Disaster (1)\",\"No disaster (0)\",\"No disaster (0)\",\"No disaster (0)\",\"Disaster (1)\",\"No disaster (0)\",\"Disaster (1)\",\"No disaster (0)\",\"Disaster (1)\",\"No disaster (0)\",\"No disaster (0)\",\"Disaster (1)\",\"No disaster (0)\",\"No disaster (0)\",\"No disaster (0)\",\"Disaster (1)\",\"No disaster (0)\",\"Disaster (1)\",\"No disaster (0)\",\"No disaster (0)\",\"Disaster (1)\",\"No disaster (0)\",\"Disaster (1)\",\"No disaster (0)\",\"No disaster (0)\",\"Disaster (1)\",\"Disaster (1)\",\"No disaster (0)\",\"Disaster (1)\",\"No disaster (0)\",\"Disaster (1)\",\"No disaster (0)\",\"Disaster (1)\",\"No disaster (0)\",\"Disaster (1)\",\"No disaster (0)\",\"No disaster (0)\",\"Disaster (1)\",\"Disaster (1)\",\"Disaster (1)\",\"Disaster (1)\",\"No disaster (0)\",\"Disaster (1)\",\"Disaster (1)\",\"Disaster (1)\",\"Disaster (1)\",\"No disaster (0)\",\"No disaster (0)\",\"No disaster (0)\",\"Disaster (1)\",\"Disaster (1)\",\"Disaster (1)\",\"Disaster (1)\",\"Disaster (1)\",\"Disaster (1)\",\"Disaster (1)\",\"Disaster (1)\",\"No disaster (0)\",\"Disaster (1)\",\"Disaster (1)\",\"Disaster (1)\",\"No disaster (0)\",\"Disaster (1)\",\"No disaster (0)\",\"Disaster (1)\",\"Disaster (1)\",\"No disaster (0)\",\"Disaster (1)\",\"No disaster (0)\",\"Disaster (1)\",\"Disaster (1)\",\"Disaster (1)\",\"No disaster (0)\",\"Disaster (1)\",\"No disaster (0)\",\"No disaster (0)\",\"No disaster (0)\",\"No disaster (0)\",\"Disaster (1)\",\"No disaster (0)\",\"No disaster (0)\",\"No disaster (0)\",\"Disaster (1)\",\"No disaster (0)\",\"No disaster (0)\",\"No disaster (0)\",\"No disaster (0)\",\"Disaster (1)\",\"No disaster (0)\",\"No disaster (0)\",\"No disaster (0)\",\"No disaster (0)\",\"No disaster (0)\",\"No disaster (0)\",\"No disaster (0)\",\"Disaster (1)\",\"No disaster (0)\",\"No disaster (0)\",\"No disaster (0)\",\"No disaster (0)\",\"No disaster (0)\",\"No disaster (0)\",\"No disaster (0)\",\"No disaster (0)\",\"No disaster (0)\",\"No disaster (0)\",\"Disaster (1)\",\"No disaster (0)\",\"No disaster (0)\",\"Disaster (1)\",\"Disaster (1)\",\"No disaster (0)\",\"No disaster (0)\",\"No disaster (0)\",\"No disaster (0)\",\"No disaster (0)\",\"No disaster (0)\",\"No disaster (0)\",\"Disaster (1)\",\"No disaster (0)\",\"No disaster (0)\",\"No disaster (0)\",\"No disaster (0)\",\"No disaster (0)\",\"No disaster (0)\",\"No disaster (0)\",\"No disaster (0)\",\"No disaster (0)\",\"No disaster (0)\",\"Disaster (1)\",\"Disaster (1)\",\"No disaster (0)\",\"No disaster (0)\",\"No disaster (0)\",\"No disaster (0)\",\"No disaster (0)\",\"No disaster (0)\",\"No disaster (0)\",\"No disaster (0)\",\"No disaster (0)\",\"No disaster (0)\",\"Disaster (1)\",\"No disaster (0)\",\"No disaster (0)\",\"No disaster (0)\",\"No disaster (0)\",\"No disaster (0)\",\"Disaster (1)\",\"No disaster (0)\",\"No disaster (0)\",\"No disaster (0)\",\"No disaster (0)\",\"No disaster (0)\",\"Disaster (1)\",\"Disaster (1)\",\"No disaster (0)\",\"No disaster (0)\",\"No disaster (0)\",\"No disaster (0)\",\"Disaster (1)\",\"No disaster (0)\",\"No disaster (0)\",\"No disaster (0)\",\"No disaster (0)\",\"Disaster (1)\",\"No disaster (0)\",\"No disaster (0)\",\"Disaster (1)\",\"No disaster (0)\",\"No disaster (0)\",\"Disaster (1)\",\"No disaster (0)\",\"No disaster (0)\",\"No disaster (0)\",\"Disaster (1)\",\"No disaster (0)\",\"No disaster (0)\",\"No disaster (0)\",\"No disaster (0)\",\"No disaster (0)\",\"No disaster (0)\",\"No disaster (0)\",\"No disaster (0)\",\"No disaster (0)\",\"No disaster (0)\",\"No disaster (0)\",\"No disaster (0)\",\"No disaster (0)\",\"No disaster (0)\",\"No disaster (0)\",\"No disaster (0)\",\"No disaster (0)\",\"No disaster (0)\",\"No disaster (0)\",\"No disaster (0)\",\"No disaster (0)\",\"No disaster (0)\",\"No disaster (0)\",\"No disaster (0)\",\"Disaster (1)\",\"No disaster (0)\",\"No disaster (0)\",\"No disaster (0)\",\"No disaster (0)\",\"No disaster (0)\",\"Disaster (1)\",\"No disaster (0)\",\"No disaster (0)\",\"Disaster (1)\",\"No disaster (0)\",\"No disaster (0)\",\"No disaster (0)\",\"No disaster (0)\",\"No disaster (0)\",\"No disaster (0)\",\"No disaster (0)\",\"No disaster (0)\",\"Disaster (1)\",\"No disaster (0)\",\"No disaster (0)\",\"No disaster (0)\",\"Disaster (1)\",\"No disaster (0)\",\"Disaster (1)\",\"No disaster (0)\",\"No disaster (0)\",\"Disaster (1)\",\"No disaster (0)\",\"Disaster (1)\",\"No disaster (0)\",\"Disaster (1)\",\"No disaster (0)\",\"No disaster (0)\",\"Disaster (1)\",\"Disaster (1)\",\"Disaster (1)\",\"No disaster (0)\",\"No disaster (0)\",\"No disaster (0)\",\"Disaster (1)\",\"Disaster (1)\",\"Disaster (1)\",\"No disaster (0)\",\"Disaster (1)\",\"No disaster (0)\",\"No disaster (0)\",\"No disaster (0)\",\"Disaster (1)\",\"Disaster (1)\",\"No disaster (0)\",\"No disaster (0)\",\"Disaster (1)\",\"Disaster (1)\",\"Disaster (1)\",\"No disaster (0)\",\"No disaster (0)\",\"Disaster (1)\",\"Disaster (1)\",\"Disaster (1)\",\"No disaster (0)\",\"No disaster (0)\",\"No disaster (0)\",\"Disaster (1)\",\"No disaster (0)\",\"No disaster (0)\",\"No disaster (0)\",\"No disaster (0)\",\"Disaster (1)\",\"Disaster (1)\",\"No disaster (0)\",\"Disaster (1)\",\"Disaster (1)\",\"No disaster (0)\",\"Disaster (1)\",\"No disaster (0)\",\"No disaster (0)\",\"Disaster (1)\",\"Disaster (1)\",\"Disaster (1)\",\"Disaster (1)\",\"No disaster (0)\",\"No disaster (0)\",\"No disaster (0)\",\"No disaster (0)\",\"No disaster (0)\",\"No disaster (0)\",\"No disaster (0)\",\"No disaster (0)\",\"No disaster (0)\",\"No disaster (0)\",\"No disaster (0)\",\"No disaster (0)\",\"No disaster (0)\",\"No disaster (0)\",\"No disaster (0)\",\"No disaster (0)\",\"No disaster (0)\",\"No disaster (0)\",\"No disaster (0)\",\"No disaster (0)\",\"No disaster (0)\",\"No disaster (0)\",\"No disaster (0)\",\"No disaster (0)\",\"Disaster (1)\",\"No disaster (0)\",\"No disaster (0)\",\"No disaster (0)\",\"Disaster (1)\",\"No disaster (0)\",\"No disaster (0)\",\"Disaster (1)\",\"No disaster (0)\",\"Disaster (1)\",\"Disaster (1)\",\"No disaster (0)\",\"Disaster (1)\",\"Disaster (1)\",\"Disaster (1)\",\"Disaster (1)\",\"No disaster (0)\",\"No disaster (0)\",\"Disaster (1)\",\"No disaster (0)\",\"Disaster (1)\",\"No disaster (0)\",\"Disaster (1)\",\"No disaster (0)\",\"Disaster (1)\",\"Disaster (1)\",\"Disaster (1)\",\"Disaster (1)\",\"Disaster (1)\",\"Disaster (1)\",\"No disaster (0)\",\"No disaster (0)\",\"No disaster (0)\",\"No disaster (0)\",\"No disaster (0)\",\"Disaster (1)\",\"Disaster (1)\",\"No disaster (0)\",\"Disaster (1)\",\"Disaster (1)\",\"Disaster (1)\",\"Disaster (1)\",\"Disaster (1)\",\"Disaster (1)\",\"No disaster (0)\",\"No disaster (0)\",\"Disaster (1)\",\"Disaster (1)\",\"Disaster (1)\",\"Disaster (1)\",\"Disaster (1)\",\"Disaster (1)\",\"Disaster (1)\",\"Disaster (1)\",\"Disaster (1)\",\"No disaster (0)\",\"Disaster (1)\",\"Disaster (1)\",\"Disaster (1)\",\"Disaster (1)\",\"Disaster (1)\",\"Disaster (1)\",\"Disaster (1)\",\"Disaster (1)\",\"Disaster (1)\",\"Disaster (1)\",\"Disaster (1)\",\"Disaster (1)\",\"Disaster (1)\",\"Disaster (1)\",\"Disaster (1)\",\"Disaster (1)\",\"Disaster (1)\",\"Disaster (1)\",\"Disaster (1)\",\"Disaster (1)\",\"Disaster (1)\",\"Disaster (1)\",\"Disaster (1)\",\"Disaster (1)\",\"Disaster (1)\",\"Disaster (1)\",\"Disaster (1)\",\"Disaster (1)\",\"Disaster (1)\",\"Disaster (1)\",\"Disaster (1)\",\"Disaster (1)\",\"Disaster (1)\",\"Disaster (1)\",\"Disaster (1)\",\"Disaster (1)\",\"Disaster (1)\",\"Disaster (1)\",\"Disaster (1)\",\"Disaster (1)\",\"Disaster (1)\",\"Disaster (1)\",\"Disaster (1)\",\"Disaster (1)\",\"Disaster (1)\",\"Disaster (1)\",\"Disaster (1)\",\"Disaster (1)\",\"Disaster (1)\",\"No disaster (0)\",\"Disaster (1)\",\"Disaster (1)\",\"Disaster (1)\",\"Disaster (1)\",\"Disaster (1)\",\"Disaster (1)\",\"Disaster (1)\",\"Disaster (1)\",\"Disaster (1)\",\"Disaster (1)\",\"Disaster (1)\",\"Disaster (1)\",\"Disaster (1)\",\"Disaster (1)\",\"Disaster (1)\",\"Disaster (1)\",\"Disaster (1)\",\"Disaster (1)\",\"Disaster (1)\",\"Disaster (1)\",\"Disaster (1)\",\"Disaster (1)\",\"Disaster (1)\",\"Disaster (1)\",\"Disaster (1)\",\"Disaster (1)\",\"Disaster (1)\",\"Disaster (1)\",\"Disaster (1)\",\"Disaster (1)\",\"No disaster (0)\",\"Disaster (1)\",\"Disaster (1)\",\"Disaster (1)\",\"Disaster (1)\",\"Disaster (1)\",\"Disaster (1)\",\"Disaster (1)\",\"No disaster (0)\",\"No disaster (0)\",\"Disaster (1)\",\"Disaster (1)\",\"Disaster (1)\",\"No disaster (0)\",\"No disaster (0)\",\"No disaster (0)\",\"No disaster (0)\",\"No disaster (0)\",\"Disaster (1)\",\"No disaster (0)\",\"No disaster (0)\",\"No disaster (0)\",\"No disaster (0)\",\"Disaster (1)\",\"No disaster (0)\",\"No disaster (0)\",\"No disaster (0)\",\"No disaster (0)\",\"No disaster (0)\",\"No disaster (0)\",\"No disaster (0)\",\"No disaster (0)\",\"No disaster (0)\",\"No disaster (0)\",\"No disaster (0)\",\"Disaster (1)\",\"No disaster (0)\",\"No disaster (0)\",\"No disaster (0)\",\"No disaster (0)\",\"No disaster (0)\",\"Disaster (1)\",\"No disaster (0)\",\"No disaster (0)\",\"No disaster (0)\",\"Disaster (1)\",\"No disaster (0)\",\"No disaster (0)\",\"No disaster (0)\",\"No disaster (0)\",\"No disaster (0)\",\"No disaster (0)\",\"No disaster (0)\",\"Disaster (1)\",\"No disaster (0)\",\"No disaster (0)\",\"No disaster (0)\",\"No disaster (0)\",\"No disaster (0)\",\"No disaster (0)\",\"Disaster (1)\",\"Disaster (1)\",\"Disaster (1)\",\"No disaster (0)\",\"No disaster (0)\",\"No disaster (0)\",\"No disaster (0)\",\"No disaster (0)\",\"No disaster (0)\",\"No disaster (0)\",\"No disaster (0)\",\"No disaster (0)\",\"No disaster (0)\",\"No disaster (0)\",\"Disaster (1)\",\"No disaster (0)\",\"No disaster (0)\",\"No disaster (0)\",\"No disaster (0)\",\"Disaster (1)\",\"No disaster (0)\",\"No disaster (0)\",\"No disaster (0)\",\"No disaster (0)\",\"Disaster (1)\",\"No disaster (0)\",\"Disaster (1)\",\"Disaster (1)\",\"No disaster (0)\",\"Disaster (1)\",\"No disaster (0)\",\"No disaster (0)\",\"No disaster (0)\",\"No disaster (0)\",\"No disaster (0)\",\"No disaster (0)\",\"No disaster (0)\",\"No disaster (0)\",\"No disaster (0)\",\"Disaster (1)\",\"Disaster (1)\",\"No disaster (0)\",\"No disaster (0)\",\"No disaster (0)\",\"Disaster (1)\",\"No disaster (0)\",\"Disaster (1)\",\"No disaster (0)\",\"No disaster (0)\",\"No disaster (0)\",\"Disaster (1)\",\"Disaster (1)\",\"No disaster (0)\",\"Disaster (1)\",\"Disaster (1)\",\"Disaster (1)\",\"Disaster (1)\",\"Disaster (1)\",\"Disaster (1)\",\"Disaster (1)\",\"Disaster (1)\",\"No disaster (0)\",\"Disaster (1)\",\"No disaster (0)\",\"No disaster (0)\",\"Disaster (1)\",\"No disaster (0)\",\"No disaster (0)\",\"Disaster (1)\",\"Disaster (1)\",\"Disaster (1)\",\"Disaster (1)\",\"Disaster (1)\",\"Disaster (1)\",\"No disaster (0)\",\"No disaster (0)\",\"Disaster (1)\",\"Disaster (1)\",\"Disaster (1)\",\"No disaster (0)\",\"Disaster (1)\",\"No disaster (0)\",\"Disaster (1)\",\"Disaster (1)\",\"Disaster (1)\",\"Disaster (1)\",\"Disaster (1)\",\"Disaster (1)\",\"Disaster (1)\",\"No disaster (0)\",\"No disaster (0)\",\"Disaster (1)\",\"Disaster (1)\",\"Disaster (1)\",\"Disaster (1)\",\"No disaster (0)\",\"Disaster (1)\",\"Disaster (1)\",\"Disaster (1)\",\"No disaster (0)\",\"Disaster (1)\",\"No disaster (0)\",\"No disaster (0)\",\"Disaster (1)\",\"Disaster (1)\",\"Disaster (1)\",\"Disaster (1)\",\"Disaster (1)\",\"Disaster (1)\",\"No disaster (0)\",\"No disaster (0)\",\"Disaster (1)\",\"No disaster (0)\",\"Disaster (1)\",\"Disaster (1)\",\"Disaster (1)\",\"No disaster (0)\",\"No disaster (0)\",\"Disaster (1)\",\"Disaster (1)\",\"Disaster (1)\",\"No disaster (0)\",\"Disaster (1)\",\"Disaster (1)\",\"Disaster (1)\",\"Disaster (1)\",\"Disaster (1)\",\"No disaster (0)\",\"Disaster (1)\",\"Disaster (1)\",\"Disaster (1)\",\"Disaster (1)\",\"No disaster (0)\",\"No disaster (0)\",\"Disaster (1)\",\"No disaster (0)\",\"Disaster (1)\",\"Disaster (1)\",\"Disaster (1)\",\"Disaster (1)\",\"Disaster (1)\",\"Disaster (1)\",\"Disaster (1)\",\"Disaster (1)\",\"Disaster (1)\",\"No disaster (0)\",\"No disaster (0)\",\"No disaster (0)\",\"No disaster (0)\",\"No disaster (0)\",\"No disaster (0)\",\"No disaster (0)\",\"No disaster (0)\",\"No disaster (0)\",\"No disaster (0)\",\"Disaster (1)\",\"Disaster (1)\",\"No disaster (0)\",\"No disaster (0)\",\"No disaster (0)\",\"No disaster (0)\",\"No disaster (0)\",\"No disaster (0)\",\"No disaster (0)\",\"No disaster (0)\",\"No disaster (0)\",\"Disaster (1)\",\"No disaster (0)\",\"Disaster (1)\",\"No disaster (0)\",\"No disaster (0)\",\"No disaster (0)\",\"No disaster (0)\",\"Disaster (1)\",\"No disaster (0)\",\"Disaster (1)\",\"No disaster (0)\",\"No disaster (0)\",\"Disaster (1)\",\"Disaster (1)\",\"Disaster (1)\",\"No disaster (0)\",\"No disaster (0)\",\"Disaster (1)\",\"No disaster (0)\",\"Disaster (1)\",\"No disaster (0)\",\"No disaster (0)\",\"Disaster (1)\",\"Disaster (1)\",\"No disaster (0)\",\"No disaster (0)\",\"No disaster (0)\",\"No disaster (0)\",\"Disaster (1)\",\"Disaster (1)\",\"Disaster (1)\",\"No disaster (0)\",\"Disaster (1)\",\"Disaster (1)\",\"Disaster (1)\",\"Disaster (1)\",\"Disaster (1)\",\"No disaster (0)\",\"No disaster (0)\",\"Disaster (1)\",\"Disaster (1)\",\"Disaster (1)\",\"Disaster (1)\",\"No disaster (0)\",\"Disaster (1)\",\"Disaster (1)\",\"Disaster (1)\",\"Disaster (1)\",\"No disaster (0)\",\"Disaster (1)\",\"Disaster (1)\",\"Disaster (1)\",\"Disaster (1)\",\"Disaster (1)\",\"Disaster (1)\",\"Disaster (1)\",\"Disaster (1)\",\"Disaster (1)\",\"No disaster (0)\",\"Disaster (1)\",\"No disaster (0)\",\"Disaster (1)\",\"No disaster (0)\",\"No disaster (0)\",\"No disaster (0)\",\"No disaster (0)\",\"No disaster (0)\",\"No disaster (0)\",\"No disaster (0)\",\"Disaster (1)\",\"Disaster (1)\",\"Disaster (1)\",\"No disaster (0)\",\"Disaster (1)\",\"Disaster (1)\",\"Disaster (1)\",\"No disaster (0)\",\"No disaster (0)\",\"Disaster (1)\",\"Disaster (1)\",\"Disaster (1)\",\"Disaster (1)\",\"No disaster (0)\",\"No disaster (0)\",\"Disaster (1)\",\"No disaster (0)\",\"Disaster (1)\",\"No disaster (0)\",\"No disaster (0)\",\"Disaster (1)\",\"No disaster (0)\",\"Disaster (1)\",\"Disaster (1)\",\"Disaster (1)\",\"No disaster (0)\",\"No disaster (0)\",\"No disaster (0)\",\"Disaster (1)\",\"Disaster (1)\",\"No disaster (0)\",\"No disaster (0)\",\"No disaster (0)\",\"No disaster (0)\",\"Disaster (1)\",\"No disaster (0)\",\"Disaster (1)\",\"No disaster (0)\",\"No disaster (0)\",\"Disaster (1)\",\"No disaster (0)\",\"Disaster (1)\",\"Disaster (1)\",\"Disaster (1)\",\"Disaster (1)\",\"No disaster (0)\",\"No disaster (0)\",\"Disaster (1)\",\"No disaster (0)\",\"Disaster (1)\",\"Disaster (1)\",\"Disaster (1)\",\"No disaster (0)\",\"Disaster (1)\",\"Disaster (1)\",\"Disaster (1)\",\"No disaster (0)\",\"Disaster (1)\",\"Disaster (1)\",\"Disaster (1)\",\"Disaster (1)\",\"Disaster (1)\",\"No disaster (0)\",\"Disaster (1)\",\"Disaster (1)\",\"No disaster (0)\",\"No disaster (0)\",\"No disaster (0)\",\"No disaster (0)\",\"Disaster (1)\",\"Disaster (1)\",\"No disaster (0)\",\"No disaster (0)\",\"No disaster (0)\",\"No disaster (0)\",\"No disaster (0)\",\"No disaster (0)\",\"Disaster (1)\",\"No disaster (0)\",\"No disaster (0)\",\"No disaster (0)\",\"Disaster (1)\",\"No disaster (0)\",\"Disaster (1)\",\"No disaster (0)\",\"No disaster (0)\",\"No disaster (0)\",\"No disaster (0)\",\"Disaster (1)\",\"Disaster (1)\",\"No disaster (0)\",\"No disaster (0)\",\"Disaster (1)\",\"No disaster (0)\",\"No disaster (0)\",\"No disaster (0)\",\"Disaster (1)\",\"No disaster (0)\",\"No disaster (0)\",\"Disaster (1)\",\"No disaster (0)\",\"No disaster (0)\",\"No disaster (0)\",\"No disaster (0)\",\"Disaster (1)\",\"Disaster (1)\",\"Disaster (1)\",\"Disaster (1)\",\"Disaster (1)\",\"No disaster (0)\",\"No disaster (0)\",\"No disaster (0)\",\"No disaster (0)\",\"No disaster (0)\",\"Disaster (1)\",\"No disaster (0)\",\"No disaster (0)\",\"No disaster (0)\",\"Disaster (1)\",\"Disaster (1)\",\"No disaster (0)\",\"No disaster (0)\",\"No disaster (0)\",\"No disaster (0)\",\"No disaster (0)\",\"Disaster (1)\",\"No disaster (0)\",\"No disaster (0)\",\"No disaster (0)\",\"No disaster (0)\",\"No disaster (0)\",\"No disaster (0)\",\"No disaster (0)\",\"No disaster (0)\",\"No disaster (0)\",\"Disaster (1)\",\"No disaster (0)\",\"No disaster (0)\",\"No disaster (0)\",\"No disaster (0)\",\"No disaster (0)\",\"No disaster (0)\",\"No disaster (0)\",\"No disaster (0)\",\"No disaster (0)\",\"No disaster (0)\",\"Disaster (1)\",\"No disaster (0)\",\"No disaster (0)\",\"No disaster (0)\",\"No disaster (0)\",\"No disaster (0)\",\"No disaster (0)\",\"No disaster (0)\",\"No disaster (0)\",\"No disaster (0)\",\"No disaster (0)\",\"No disaster (0)\",\"No disaster (0)\",\"No disaster (0)\",\"No disaster (0)\",\"No disaster (0)\",\"No disaster (0)\",\"No disaster (0)\",\"No disaster (0)\",\"Disaster (1)\",\"No disaster (0)\",\"Disaster (1)\",\"No disaster (0)\",\"No disaster (0)\",\"No disaster (0)\",\"No disaster (0)\",\"No disaster (0)\",\"No disaster (0)\",\"No disaster (0)\",\"Disaster (1)\",\"No disaster (0)\",\"Disaster (1)\",\"No disaster (0)\",\"No disaster (0)\",\"No disaster (0)\",\"No disaster (0)\",\"Disaster (1)\",\"No disaster (0)\",\"No disaster (0)\",\"No disaster (0)\",\"No disaster (0)\",\"No disaster (0)\",\"No disaster (0)\",\"No disaster (0)\",\"No disaster (0)\",\"No disaster (0)\",\"No disaster (0)\",\"No disaster (0)\",\"No disaster (0)\",\"No disaster (0)\",\"Disaster (1)\",\"Disaster (1)\",\"No disaster (0)\",\"No disaster (0)\",\"No disaster (0)\",\"No disaster (0)\",\"Disaster (1)\",\"No disaster (0)\",\"No disaster (0)\",\"Disaster (1)\",\"Disaster (1)\",\"No disaster (0)\",\"No disaster (0)\",\"No disaster (0)\",\"No disaster (0)\",\"No disaster (0)\",\"Disaster (1)\",\"No disaster (0)\",\"No disaster (0)\",\"Disaster (1)\",\"Disaster (1)\",\"No disaster (0)\",\"Disaster (1)\",\"Disaster (1)\",\"No disaster (0)\",\"No disaster (0)\",\"No disaster (0)\",\"No disaster (0)\",\"Disaster (1)\",\"No disaster (0)\",\"No disaster (0)\",\"No disaster (0)\",\"No disaster (0)\",\"Disaster (1)\",\"Disaster (1)\",\"No disaster (0)\",\"No disaster (0)\",\"Disaster (1)\",\"No disaster (0)\",\"No disaster (0)\",\"No disaster (0)\",\"No disaster (0)\",\"No disaster (0)\",\"No disaster (0)\",\"No disaster (0)\",\"No disaster (0)\",\"No disaster (0)\",\"No disaster (0)\",\"No disaster (0)\",\"No disaster (0)\",\"No disaster (0)\",\"No disaster (0)\",\"No disaster (0)\",\"Disaster (1)\",\"No disaster (0)\",\"No disaster (0)\",\"No disaster (0)\",\"No disaster (0)\",\"No disaster (0)\",\"Disaster (1)\",\"No disaster (0)\",\"No disaster (0)\",\"No disaster (0)\",\"No disaster (0)\",\"No disaster (0)\",\"No disaster (0)\",\"No disaster (0)\",\"No disaster (0)\",\"No disaster (0)\",\"No disaster (0)\",\"No disaster (0)\",\"No disaster (0)\",\"No disaster (0)\",\"Disaster (1)\",\"Disaster (1)\",\"Disaster (1)\",\"Disaster (1)\",\"Disaster (1)\",\"Disaster (1)\",\"Disaster (1)\",\"Disaster (1)\",\"Disaster (1)\",\"Disaster (1)\",\"Disaster (1)\",\"Disaster (1)\",\"Disaster (1)\",\"Disaster (1)\",\"Disaster (1)\",\"Disaster (1)\",\"Disaster (1)\",\"Disaster (1)\",\"Disaster (1)\",\"Disaster (1)\",\"Disaster (1)\",\"Disaster (1)\",\"Disaster (1)\",\"Disaster (1)\",\"Disaster (1)\",\"Disaster (1)\",\"No disaster (0)\",\"Disaster (1)\",\"Disaster (1)\",\"Disaster (1)\",\"Disaster (1)\",\"Disaster (1)\",\"Disaster (1)\",\"Disaster (1)\",\"Disaster (1)\",\"Disaster (1)\",\"Disaster (1)\",\"Disaster (1)\",\"No disaster (0)\",\"No disaster (0)\",\"No disaster (0)\",\"No disaster (0)\",\"No disaster (0)\",\"No disaster (0)\",\"No disaster (0)\",\"No disaster (0)\",\"No disaster (0)\",\"No disaster (0)\",\"No disaster (0)\",\"No disaster (0)\",\"No disaster (0)\",\"No disaster (0)\",\"No disaster (0)\",\"No disaster (0)\",\"Disaster (1)\",\"No disaster (0)\",\"Disaster (1)\",\"No disaster (0)\",\"No disaster (0)\",\"No disaster (0)\",\"No disaster (0)\",\"No disaster (0)\",\"No disaster (0)\",\"No disaster (0)\",\"Disaster (1)\",\"No disaster (0)\",\"No disaster (0)\",\"No disaster (0)\",\"Disaster (1)\",\"No disaster (0)\",\"No disaster (0)\",\"No disaster (0)\",\"No disaster (0)\",\"Disaster (1)\",\"Disaster (1)\",\"No disaster (0)\",\"Disaster (1)\",\"Disaster (1)\",\"Disaster (1)\",\"Disaster (1)\",\"Disaster (1)\",\"Disaster (1)\",\"Disaster (1)\",\"No disaster (0)\",\"No disaster (0)\",\"Disaster (1)\",\"No disaster (0)\",\"Disaster (1)\",\"Disaster (1)\",\"Disaster (1)\",\"No disaster (0)\",\"Disaster (1)\",\"Disaster (1)\",\"No disaster (0)\",\"No disaster (0)\",\"Disaster (1)\",\"Disaster (1)\",\"No disaster (0)\",\"Disaster (1)\",\"Disaster (1)\",\"Disaster (1)\",\"Disaster (1)\",\"Disaster (1)\",\"Disaster (1)\",\"Disaster (1)\",\"Disaster (1)\",\"Disaster (1)\",\"Disaster (1)\",\"Disaster (1)\",\"Disaster (1)\",\"Disaster (1)\",\"Disaster (1)\",\"Disaster (1)\",\"No disaster (0)\",\"Disaster (1)\",\"Disaster (1)\",\"Disaster (1)\",\"No disaster (0)\",\"Disaster (1)\",\"Disaster (1)\",\"Disaster (1)\",\"Disaster (1)\",\"No disaster (0)\",\"Disaster (1)\",\"No disaster (0)\",\"No disaster (0)\",\"Disaster (1)\",\"Disaster (1)\",\"Disaster (1)\",\"No disaster (0)\",\"No disaster (0)\",\"Disaster (1)\",\"No disaster (0)\",\"Disaster (1)\",\"Disaster (1)\",\"No disaster (0)\",\"No disaster (0)\",\"No disaster (0)\",\"No disaster (0)\",\"No disaster (0)\",\"Disaster (1)\",\"No disaster (0)\",\"No disaster (0)\",\"No disaster (0)\",\"No disaster (0)\",\"No disaster (0)\",\"No disaster (0)\",\"Disaster (1)\",\"Disaster (1)\",\"No disaster (0)\",\"Disaster (1)\",\"No disaster (0)\",\"No disaster (0)\",\"Disaster (1)\",\"No disaster (0)\",\"No disaster (0)\",\"No disaster (0)\",\"No disaster (0)\",\"Disaster (1)\",\"Disaster (1)\",\"Disaster (1)\",\"No disaster (0)\",\"Disaster (1)\",\"Disaster (1)\",\"No disaster (0)\",\"No disaster (0)\",\"No disaster (0)\",\"No disaster (0)\",\"No disaster (0)\",\"Disaster (1)\",\"No disaster (0)\",\"No disaster (0)\",\"No disaster (0)\",\"No disaster (0)\",\"No disaster (0)\",\"Disaster (1)\",\"Disaster (1)\",\"No disaster (0)\",\"Disaster (1)\",\"No disaster (0)\",\"Disaster (1)\",\"No disaster (0)\",\"No disaster (0)\",\"Disaster (1)\",\"No disaster (0)\",\"No disaster (0)\",\"Disaster (1)\",\"No disaster (0)\",\"No disaster (0)\",\"No disaster (0)\",\"No disaster (0)\",\"No disaster (0)\",\"No disaster (0)\",\"No disaster (0)\",\"Disaster (1)\",\"Disaster (1)\",\"Disaster (1)\",\"No disaster (0)\",\"Disaster (1)\",\"No disaster (0)\",\"No disaster (0)\",\"Disaster (1)\",\"No disaster (0)\",\"Disaster (1)\",\"Disaster (1)\",\"Disaster (1)\",\"No disaster (0)\",\"Disaster (1)\",\"No disaster (0)\",\"No disaster (0)\",\"Disaster (1)\",\"No disaster (0)\",\"No disaster (0)\",\"No disaster (0)\",\"Disaster (1)\",\"Disaster (1)\",\"No disaster (0)\",\"No disaster (0)\",\"No disaster (0)\",\"No disaster (0)\",\"Disaster (1)\",\"Disaster (1)\",\"Disaster (1)\",\"No disaster (0)\",\"No disaster (0)\",\"Disaster (1)\",\"No disaster (0)\",\"Disaster (1)\",\"Disaster (1)\",\"No disaster (0)\",\"No disaster (0)\",\"No disaster (0)\",\"No disaster (0)\",\"No disaster (0)\",\"No disaster (0)\",\"Disaster (1)\",\"Disaster (1)\",\"Disaster (1)\",\"No disaster (0)\",\"No disaster (0)\",\"Disaster (1)\",\"No disaster (0)\",\"No disaster (0)\",\"Disaster (1)\",\"No disaster (0)\",\"Disaster (1)\",\"No disaster (0)\",\"No disaster (0)\",\"No disaster (0)\",\"No disaster (0)\",\"No disaster (0)\",\"Disaster (1)\",\"No disaster (0)\",\"Disaster (1)\",\"Disaster (1)\",\"No disaster (0)\",\"Disaster (1)\",\"No disaster (0)\",\"Disaster (1)\",\"No disaster (0)\",\"No disaster (0)\",\"Disaster (1)\",\"No disaster (0)\",\"Disaster (1)\",\"Disaster (1)\",\"No disaster (0)\",\"No disaster (0)\",\"No disaster (0)\",\"Disaster (1)\",\"No disaster (0)\",\"No disaster (0)\",\"No disaster (0)\",\"No disaster (0)\",\"No disaster (0)\",\"No disaster (0)\",\"Disaster (1)\",\"Disaster (1)\",\"Disaster (1)\",\"Disaster (1)\",\"Disaster (1)\",\"Disaster (1)\",\"Disaster (1)\",\"Disaster (1)\",\"Disaster (1)\",\"Disaster (1)\",\"Disaster (1)\",\"Disaster (1)\",\"Disaster (1)\",\"Disaster (1)\",\"Disaster (1)\",\"Disaster (1)\",\"Disaster (1)\",\"Disaster (1)\",\"Disaster (1)\",\"No disaster (0)\",\"Disaster (1)\",\"Disaster (1)\",\"Disaster (1)\",\"Disaster (1)\",\"Disaster (1)\",\"No disaster (0)\",\"Disaster (1)\",\"No disaster (0)\",\"Disaster (1)\",\"Disaster (1)\",\"No disaster (0)\",\"Disaster (1)\",\"Disaster (1)\",\"Disaster (1)\",\"Disaster (1)\",\"Disaster (1)\",\"Disaster (1)\",\"Disaster (1)\",\"No disaster (0)\",\"Disaster (1)\",\"No disaster (0)\",\"Disaster (1)\",\"Disaster (1)\",\"Disaster (1)\",\"Disaster (1)\",\"Disaster (1)\",\"Disaster (1)\",\"Disaster (1)\",\"Disaster (1)\",\"Disaster (1)\",\"No disaster (0)\",\"Disaster (1)\",\"Disaster (1)\",\"Disaster (1)\",\"Disaster (1)\",\"Disaster (1)\",\"Disaster (1)\",\"Disaster (1)\",\"Disaster (1)\",\"No disaster (0)\",\"Disaster (1)\",\"Disaster (1)\",\"Disaster (1)\",\"Disaster (1)\",\"Disaster (1)\",\"Disaster (1)\",\"No disaster (0)\",\"Disaster (1)\",\"No disaster (0)\",\"Disaster (1)\",\"No disaster (0)\",\"Disaster (1)\",\"Disaster (1)\",\"Disaster (1)\",\"No disaster (0)\",\"No disaster (0)\",\"Disaster (1)\",\"Disaster (1)\",\"Disaster (1)\",\"No disaster (0)\",\"No disaster (0)\",\"Disaster (1)\",\"No disaster (0)\",\"No disaster (0)\",\"No disaster (0)\",\"No disaster (0)\",\"Disaster (1)\",\"No disaster (0)\",\"Disaster (1)\",\"No disaster (0)\",\"No disaster (0)\",\"No disaster (0)\",\"No disaster (0)\",\"Disaster (1)\",\"No disaster (0)\",\"No disaster (0)\",\"No disaster (0)\",\"Disaster (1)\",\"Disaster (1)\",\"No disaster (0)\",\"No disaster (0)\",\"No disaster (0)\",\"No disaster (0)\",\"Disaster (1)\",\"Disaster (1)\",\"No disaster (0)\",\"Disaster (1)\",\"Disaster (1)\",\"No disaster (0)\",\"No disaster (0)\",\"Disaster (1)\",\"Disaster (1)\",\"Disaster (1)\",\"Disaster (1)\",\"No disaster (0)\",\"Disaster (1)\",\"Disaster (1)\",\"Disaster (1)\",\"Disaster (1)\",\"Disaster (1)\",\"No disaster (0)\",\"Disaster (1)\",\"No disaster (0)\",\"No disaster (0)\",\"No disaster (0)\",\"No disaster (0)\",\"Disaster (1)\",\"Disaster (1)\",\"Disaster (1)\",\"Disaster (1)\",\"Disaster (1)\",\"Disaster (1)\",\"No disaster (0)\",\"Disaster (1)\",\"Disaster (1)\",\"Disaster (1)\",\"Disaster (1)\",\"Disaster (1)\",\"Disaster (1)\",\"No disaster (0)\",\"No disaster (0)\",\"Disaster (1)\",\"Disaster (1)\",\"Disaster (1)\",\"No disaster (0)\",\"No disaster (0)\",\"Disaster (1)\",\"No disaster (0)\",\"Disaster (1)\",\"No disaster (0)\",\"No disaster (0)\",\"No disaster (0)\",\"No disaster (0)\",\"No disaster (0)\",\"Disaster (1)\",\"No disaster (0)\",\"No disaster (0)\",\"No disaster (0)\",\"No disaster (0)\",\"No disaster (0)\",\"No disaster (0)\",\"No disaster (0)\",\"Disaster (1)\",\"No disaster (0)\",\"No disaster (0)\",\"No disaster (0)\",\"No disaster (0)\",\"No disaster (0)\",\"Disaster (1)\",\"Disaster (1)\",\"No disaster (0)\",\"No disaster (0)\",\"Disaster (1)\",\"Disaster (1)\",\"Disaster (1)\",\"No disaster (0)\",\"No disaster (0)\",\"Disaster (1)\",\"No disaster (0)\",\"No disaster (0)\",\"No disaster (0)\",\"No disaster (0)\",\"No disaster (0)\",\"Disaster (1)\",\"No disaster (0)\",\"No disaster (0)\",\"No disaster (0)\",\"No disaster (0)\",\"No disaster (0)\",\"Disaster (1)\",\"No disaster (0)\",\"No disaster (0)\",\"No disaster (0)\",\"No disaster (0)\",\"No disaster (0)\",\"No disaster (0)\",\"No disaster (0)\",\"Disaster (1)\",\"No disaster (0)\",\"Disaster (1)\",\"No disaster (0)\",\"No disaster (0)\",\"No disaster (0)\",\"Disaster (1)\",\"No disaster (0)\",\"No disaster (0)\",\"No disaster (0)\",\"No disaster (0)\",\"Disaster (1)\",\"No disaster (0)\",\"No disaster (0)\",\"No disaster (0)\",\"No disaster (0)\",\"Disaster (1)\",\"Disaster (1)\",\"Disaster (1)\",\"Disaster (1)\",\"Disaster (1)\",\"Disaster (1)\",\"Disaster (1)\",\"Disaster (1)\",\"Disaster (1)\",\"Disaster (1)\",\"Disaster (1)\",\"Disaster (1)\",\"Disaster (1)\",\"Disaster (1)\",\"Disaster (1)\",\"Disaster (1)\",\"Disaster (1)\",\"Disaster (1)\",\"Disaster (1)\",\"Disaster (1)\",\"Disaster (1)\",\"Disaster (1)\",\"Disaster (1)\",\"Disaster (1)\",\"Disaster (1)\",\"Disaster (1)\",\"Disaster (1)\",\"Disaster (1)\",\"Disaster (1)\",\"Disaster (1)\",\"Disaster (1)\",\"Disaster (1)\",\"Disaster (1)\",\"Disaster (1)\",\"Disaster (1)\",\"Disaster (1)\",\"Disaster (1)\",\"Disaster (1)\",\"Disaster (1)\",\"No disaster (0)\",\"No disaster (0)\",\"No disaster (0)\",\"No disaster (0)\",\"No disaster (0)\",\"No disaster (0)\",\"No disaster (0)\",\"No disaster (0)\",\"Disaster (1)\",\"No disaster (0)\",\"No disaster (0)\",\"No disaster (0)\",\"No disaster (0)\",\"No disaster (0)\",\"No disaster (0)\",\"Disaster (1)\",\"No disaster (0)\",\"No disaster (0)\",\"No disaster (0)\",\"No disaster (0)\",\"No disaster (0)\",\"No disaster (0)\",\"No disaster (0)\",\"No disaster (0)\",\"No disaster (0)\",\"No disaster (0)\",\"No disaster (0)\",\"No disaster (0)\",\"Disaster (1)\",\"No disaster (0)\",\"No disaster (0)\",\"No disaster (0)\",\"No disaster (0)\",\"No disaster (0)\",\"No disaster (0)\",\"No disaster (0)\",\"No disaster (0)\",\"No disaster (0)\",\"No disaster (0)\",\"Disaster (1)\",\"No disaster (0)\",\"Disaster (1)\",\"Disaster (1)\",\"No disaster (0)\",\"Disaster (1)\",\"Disaster (1)\",\"Disaster (1)\",\"Disaster (1)\",\"Disaster (1)\",\"No disaster (0)\",\"Disaster (1)\",\"Disaster (1)\",\"Disaster (1)\",\"Disaster (1)\",\"Disaster (1)\",\"Disaster (1)\",\"Disaster (1)\",\"Disaster (1)\",\"Disaster (1)\",\"Disaster (1)\",\"Disaster (1)\",\"Disaster (1)\",\"Disaster (1)\",\"Disaster (1)\",\"Disaster (1)\",\"Disaster (1)\",\"Disaster (1)\",\"Disaster (1)\",\"Disaster (1)\"],\"legendgroup\":\"\",\"name\":\"\",\"showlegend\":true,\"type\":\"pie\",\"textinfo\":\"percent+value\"}],                        {\"template\":{\"data\":{\"histogram2dcontour\":[{\"type\":\"histogram2dcontour\",\"colorbar\":{\"outlinewidth\":0,\"ticks\":\"\"},\"colorscale\":[[0.0,\"#0d0887\"],[0.1111111111111111,\"#46039f\"],[0.2222222222222222,\"#7201a8\"],[0.3333333333333333,\"#9c179e\"],[0.4444444444444444,\"#bd3786\"],[0.5555555555555556,\"#d8576b\"],[0.6666666666666666,\"#ed7953\"],[0.7777777777777778,\"#fb9f3a\"],[0.8888888888888888,\"#fdca26\"],[1.0,\"#f0f921\"]]}],\"choropleth\":[{\"type\":\"choropleth\",\"colorbar\":{\"outlinewidth\":0,\"ticks\":\"\"}}],\"histogram2d\":[{\"type\":\"histogram2d\",\"colorbar\":{\"outlinewidth\":0,\"ticks\":\"\"},\"colorscale\":[[0.0,\"#0d0887\"],[0.1111111111111111,\"#46039f\"],[0.2222222222222222,\"#7201a8\"],[0.3333333333333333,\"#9c179e\"],[0.4444444444444444,\"#bd3786\"],[0.5555555555555556,\"#d8576b\"],[0.6666666666666666,\"#ed7953\"],[0.7777777777777778,\"#fb9f3a\"],[0.8888888888888888,\"#fdca26\"],[1.0,\"#f0f921\"]]}],\"heatmap\":[{\"type\":\"heatmap\",\"colorbar\":{\"outlinewidth\":0,\"ticks\":\"\"},\"colorscale\":[[0.0,\"#0d0887\"],[0.1111111111111111,\"#46039f\"],[0.2222222222222222,\"#7201a8\"],[0.3333333333333333,\"#9c179e\"],[0.4444444444444444,\"#bd3786\"],[0.5555555555555556,\"#d8576b\"],[0.6666666666666666,\"#ed7953\"],[0.7777777777777778,\"#fb9f3a\"],[0.8888888888888888,\"#fdca26\"],[1.0,\"#f0f921\"]]}],\"heatmapgl\":[{\"type\":\"heatmapgl\",\"colorbar\":{\"outlinewidth\":0,\"ticks\":\"\"},\"colorscale\":[[0.0,\"#0d0887\"],[0.1111111111111111,\"#46039f\"],[0.2222222222222222,\"#7201a8\"],[0.3333333333333333,\"#9c179e\"],[0.4444444444444444,\"#bd3786\"],[0.5555555555555556,\"#d8576b\"],[0.6666666666666666,\"#ed7953\"],[0.7777777777777778,\"#fb9f3a\"],[0.8888888888888888,\"#fdca26\"],[1.0,\"#f0f921\"]]}],\"contourcarpet\":[{\"type\":\"contourcarpet\",\"colorbar\":{\"outlinewidth\":0,\"ticks\":\"\"}}],\"contour\":[{\"type\":\"contour\",\"colorbar\":{\"outlinewidth\":0,\"ticks\":\"\"},\"colorscale\":[[0.0,\"#0d0887\"],[0.1111111111111111,\"#46039f\"],[0.2222222222222222,\"#7201a8\"],[0.3333333333333333,\"#9c179e\"],[0.4444444444444444,\"#bd3786\"],[0.5555555555555556,\"#d8576b\"],[0.6666666666666666,\"#ed7953\"],[0.7777777777777778,\"#fb9f3a\"],[0.8888888888888888,\"#fdca26\"],[1.0,\"#f0f921\"]]}],\"surface\":[{\"type\":\"surface\",\"colorbar\":{\"outlinewidth\":0,\"ticks\":\"\"},\"colorscale\":[[0.0,\"#0d0887\"],[0.1111111111111111,\"#46039f\"],[0.2222222222222222,\"#7201a8\"],[0.3333333333333333,\"#9c179e\"],[0.4444444444444444,\"#bd3786\"],[0.5555555555555556,\"#d8576b\"],[0.6666666666666666,\"#ed7953\"],[0.7777777777777778,\"#fb9f3a\"],[0.8888888888888888,\"#fdca26\"],[1.0,\"#f0f921\"]]}],\"mesh3d\":[{\"type\":\"mesh3d\",\"colorbar\":{\"outlinewidth\":0,\"ticks\":\"\"}}],\"scatter\":[{\"fillpattern\":{\"fillmode\":\"overlay\",\"size\":10,\"solidity\":0.2},\"type\":\"scatter\"}],\"parcoords\":[{\"type\":\"parcoords\",\"line\":{\"colorbar\":{\"outlinewidth\":0,\"ticks\":\"\"}}}],\"scatterpolargl\":[{\"type\":\"scatterpolargl\",\"marker\":{\"colorbar\":{\"outlinewidth\":0,\"ticks\":\"\"}}}],\"bar\":[{\"error_x\":{\"color\":\"#2a3f5f\"},\"error_y\":{\"color\":\"#2a3f5f\"},\"marker\":{\"line\":{\"color\":\"#E5ECF6\",\"width\":0.5},\"pattern\":{\"fillmode\":\"overlay\",\"size\":10,\"solidity\":0.2}},\"type\":\"bar\"}],\"scattergeo\":[{\"type\":\"scattergeo\",\"marker\":{\"colorbar\":{\"outlinewidth\":0,\"ticks\":\"\"}}}],\"scatterpolar\":[{\"type\":\"scatterpolar\",\"marker\":{\"colorbar\":{\"outlinewidth\":0,\"ticks\":\"\"}}}],\"histogram\":[{\"marker\":{\"pattern\":{\"fillmode\":\"overlay\",\"size\":10,\"solidity\":0.2}},\"type\":\"histogram\"}],\"scattergl\":[{\"type\":\"scattergl\",\"marker\":{\"colorbar\":{\"outlinewidth\":0,\"ticks\":\"\"}}}],\"scatter3d\":[{\"type\":\"scatter3d\",\"line\":{\"colorbar\":{\"outlinewidth\":0,\"ticks\":\"\"}},\"marker\":{\"colorbar\":{\"outlinewidth\":0,\"ticks\":\"\"}}}],\"scattermapbox\":[{\"type\":\"scattermapbox\",\"marker\":{\"colorbar\":{\"outlinewidth\":0,\"ticks\":\"\"}}}],\"scatterternary\":[{\"type\":\"scatterternary\",\"marker\":{\"colorbar\":{\"outlinewidth\":0,\"ticks\":\"\"}}}],\"scattercarpet\":[{\"type\":\"scattercarpet\",\"marker\":{\"colorbar\":{\"outlinewidth\":0,\"ticks\":\"\"}}}],\"carpet\":[{\"aaxis\":{\"endlinecolor\":\"#2a3f5f\",\"gridcolor\":\"white\",\"linecolor\":\"white\",\"minorgridcolor\":\"white\",\"startlinecolor\":\"#2a3f5f\"},\"baxis\":{\"endlinecolor\":\"#2a3f5f\",\"gridcolor\":\"white\",\"linecolor\":\"white\",\"minorgridcolor\":\"white\",\"startlinecolor\":\"#2a3f5f\"},\"type\":\"carpet\"}],\"table\":[{\"cells\":{\"fill\":{\"color\":\"#EBF0F8\"},\"line\":{\"color\":\"white\"}},\"header\":{\"fill\":{\"color\":\"#C8D4E3\"},\"line\":{\"color\":\"white\"}},\"type\":\"table\"}],\"barpolar\":[{\"marker\":{\"line\":{\"color\":\"#E5ECF6\",\"width\":0.5},\"pattern\":{\"fillmode\":\"overlay\",\"size\":10,\"solidity\":0.2}},\"type\":\"barpolar\"}],\"pie\":[{\"automargin\":true,\"type\":\"pie\"}]},\"layout\":{\"autotypenumbers\":\"strict\",\"colorway\":[\"#636efa\",\"#EF553B\",\"#00cc96\",\"#ab63fa\",\"#FFA15A\",\"#19d3f3\",\"#FF6692\",\"#B6E880\",\"#FF97FF\",\"#FECB52\"],\"font\":{\"color\":\"#2a3f5f\"},\"hovermode\":\"closest\",\"hoverlabel\":{\"align\":\"left\"},\"paper_bgcolor\":\"white\",\"plot_bgcolor\":\"#E5ECF6\",\"polar\":{\"bgcolor\":\"#E5ECF6\",\"angularaxis\":{\"gridcolor\":\"white\",\"linecolor\":\"white\",\"ticks\":\"\"},\"radialaxis\":{\"gridcolor\":\"white\",\"linecolor\":\"white\",\"ticks\":\"\"}},\"ternary\":{\"bgcolor\":\"#E5ECF6\",\"aaxis\":{\"gridcolor\":\"white\",\"linecolor\":\"white\",\"ticks\":\"\"},\"baxis\":{\"gridcolor\":\"white\",\"linecolor\":\"white\",\"ticks\":\"\"},\"caxis\":{\"gridcolor\":\"white\",\"linecolor\":\"white\",\"ticks\":\"\"}},\"coloraxis\":{\"colorbar\":{\"outlinewidth\":0,\"ticks\":\"\"}},\"colorscale\":{\"sequential\":[[0.0,\"#0d0887\"],[0.1111111111111111,\"#46039f\"],[0.2222222222222222,\"#7201a8\"],[0.3333333333333333,\"#9c179e\"],[0.4444444444444444,\"#bd3786\"],[0.5555555555555556,\"#d8576b\"],[0.6666666666666666,\"#ed7953\"],[0.7777777777777778,\"#fb9f3a\"],[0.8888888888888888,\"#fdca26\"],[1.0,\"#f0f921\"]],\"sequentialminus\":[[0.0,\"#0d0887\"],[0.1111111111111111,\"#46039f\"],[0.2222222222222222,\"#7201a8\"],[0.3333333333333333,\"#9c179e\"],[0.4444444444444444,\"#bd3786\"],[0.5555555555555556,\"#d8576b\"],[0.6666666666666666,\"#ed7953\"],[0.7777777777777778,\"#fb9f3a\"],[0.8888888888888888,\"#fdca26\"],[1.0,\"#f0f921\"]],\"diverging\":[[0,\"#8e0152\"],[0.1,\"#c51b7d\"],[0.2,\"#de77ae\"],[0.3,\"#f1b6da\"],[0.4,\"#fde0ef\"],[0.5,\"#f7f7f7\"],[0.6,\"#e6f5d0\"],[0.7,\"#b8e186\"],[0.8,\"#7fbc41\"],[0.9,\"#4d9221\"],[1,\"#276419\"]]},\"xaxis\":{\"gridcolor\":\"white\",\"linecolor\":\"white\",\"ticks\":\"\",\"title\":{\"standoff\":15},\"zerolinecolor\":\"white\",\"automargin\":true,\"zerolinewidth\":2},\"yaxis\":{\"gridcolor\":\"white\",\"linecolor\":\"white\",\"ticks\":\"\",\"title\":{\"standoff\":15},\"zerolinecolor\":\"white\",\"automargin\":true,\"zerolinewidth\":2},\"scene\":{\"xaxis\":{\"backgroundcolor\":\"#E5ECF6\",\"gridcolor\":\"white\",\"linecolor\":\"white\",\"showbackground\":true,\"ticks\":\"\",\"zerolinecolor\":\"white\",\"gridwidth\":2},\"yaxis\":{\"backgroundcolor\":\"#E5ECF6\",\"gridcolor\":\"white\",\"linecolor\":\"white\",\"showbackground\":true,\"ticks\":\"\",\"zerolinecolor\":\"white\",\"gridwidth\":2},\"zaxis\":{\"backgroundcolor\":\"#E5ECF6\",\"gridcolor\":\"white\",\"linecolor\":\"white\",\"showbackground\":true,\"ticks\":\"\",\"zerolinecolor\":\"white\",\"gridwidth\":2}},\"shapedefaults\":{\"line\":{\"color\":\"#2a3f5f\"}},\"annotationdefaults\":{\"arrowcolor\":\"#2a3f5f\",\"arrowhead\":0,\"arrowwidth\":1},\"geo\":{\"bgcolor\":\"white\",\"landcolor\":\"#E5ECF6\",\"subunitcolor\":\"white\",\"showland\":true,\"showlakes\":true,\"lakecolor\":\"white\"},\"title\":{\"x\":0.05},\"mapbox\":{\"style\":\"light\"}}},\"legend\":{\"tracegroupgap\":0},\"margin\":{\"t\":60},\"piecolorway\":[\"green\",\"red\"],\"height\":500,\"width\":500},                        {\"responsive\": true}                    ).then(function(){\n",
              "                            \n",
              "var gd = document.getElementById('4988873b-191f-4145-9a52-413e94877545');\n",
              "var x = new MutationObserver(function (mutations, observer) {{\n",
              "        var display = window.getComputedStyle(gd).display;\n",
              "        if (!display || display === 'none') {{\n",
              "            console.log([gd, 'removed!']);\n",
              "            Plotly.purge(gd);\n",
              "            observer.disconnect();\n",
              "        }}\n",
              "}});\n",
              "\n",
              "// Listen for the removal of the full notebook cells\n",
              "var notebookContainer = gd.closest('#notebook-container');\n",
              "if (notebookContainer) {{\n",
              "    x.observe(notebookContainer, {childList: true});\n",
              "}}\n",
              "\n",
              "// Listen for the clearing of the current output cell\n",
              "var outputEl = gd.closest('.output');\n",
              "if (outputEl) {{\n",
              "    x.observe(outputEl, {childList: true});\n",
              "}}\n",
              "\n",
              "                        })                };                            </script>        </div>\n",
              "</body>\n",
              "</html>"
            ]
          },
          "metadata": {},
          "output_type": "display_data"
        }
      ],
      "source": [
        "plot_label(labels)"
      ]
    },
    {
      "cell_type": "markdown",
      "metadata": {
        "id": "gOfGbfjqAJ2Y"
      },
      "source": [
        "## EDA Summary <a class=\"anchor\" id=\"edasummary\"></a>"
      ]
    },
    {
      "cell_type": "markdown",
      "metadata": {
        "id": "A8k6_B3HAJ2Y"
      },
      "source": [
        "1. Training dataset has 7613 items with 3 features and 1 target label in column 'target'\n",
        "1. Test dataset has 3263 items with the same 3 features as training set. It doesn't have a 'target' column.\n",
        "1. There are 3 object/text features: 'keyword', 'location', 'text'\n",
        "1. Target is binary categorical.\n",
        "1. The following features have missing values: 'keyword', 'location'\n",
        "1. There are 18 duplicate and mislabeled items.\n",
        "\n",
        "Strategy for the feature ingineering:\n",
        "1. 'keyword', 'location' - leave as is.; these features do not seem to be that useful, so they can be dropped for neural network models.\n",
        "1. 'text' - remove (or replace) substrings like urls (starting with http), twitters accounts (starting with @).\n",
        "1. 'target' - relabel duplicate and mislabeled items."
      ]
    },
    {
      "cell_type": "markdown",
      "metadata": {
        "id": "QybG9QfEAJ2Y"
      },
      "source": [
        "# Data Preprocessing <a class=\"anchor\" id=\"datapreprocessing\"></a>"
      ]
    },
    {
      "cell_type": "markdown",
      "metadata": {
        "id": "oaMyoJgXAJ2Y"
      },
      "source": [
        "### Replace substrings"
      ]
    },
    {
      "cell_type": "code",
      "execution_count": null,
      "metadata": {
        "id": "BkKXVNQaAJ2Y"
      },
      "outputs": [],
      "source": [
        "def replace_substrings(df):\n",
        "    replacements = {\n",
        "        '@\\w+': '@user',\n",
        "        'https?\\S+': 'http',\n",
        "    }\n",
        "    df[\"text_new\"] = df[\"text\"].replace(replacements, regex=True)\n",
        "    return df"
      ]
    },
    {
      "cell_type": "code",
      "execution_count": null,
      "metadata": {
        "colab": {
          "base_uri": "https://localhost:8080/",
          "height": 237
        },
        "id": "CjZHAH5BAJ2Y",
        "outputId": "0824e5e5-f777-4067-c8bd-9206be39011e"
      },
      "outputs": [
        {
          "data": {
            "text/html": [
              "\n",
              "  <div id=\"df-4057ff0a-8706-4e21-8d7a-93d0f51e3f87\" class=\"colab-df-container\">\n",
              "    <div>\n",
              "<style scoped>\n",
              "    .dataframe tbody tr th:only-of-type {\n",
              "        vertical-align: middle;\n",
              "    }\n",
              "\n",
              "    .dataframe tbody tr th {\n",
              "        vertical-align: top;\n",
              "    }\n",
              "\n",
              "    .dataframe thead th {\n",
              "        text-align: right;\n",
              "    }\n",
              "</style>\n",
              "<table border=\"1\" class=\"dataframe\">\n",
              "  <thead>\n",
              "    <tr style=\"text-align: right;\">\n",
              "      <th></th>\n",
              "      <th>keyword</th>\n",
              "      <th>location</th>\n",
              "      <th>text</th>\n",
              "      <th>target</th>\n",
              "      <th>text_new</th>\n",
              "    </tr>\n",
              "    <tr>\n",
              "      <th>id</th>\n",
              "      <th></th>\n",
              "      <th></th>\n",
              "      <th></th>\n",
              "      <th></th>\n",
              "      <th></th>\n",
              "    </tr>\n",
              "  </thead>\n",
              "  <tbody>\n",
              "    <tr>\n",
              "      <th>44</th>\n",
              "      <td>NaN</td>\n",
              "      <td>NaN</td>\n",
              "      <td>The end!</td>\n",
              "      <td>0</td>\n",
              "      <td>The end!</td>\n",
              "    </tr>\n",
              "    <tr>\n",
              "      <th>48</th>\n",
              "      <td>ablaze</td>\n",
              "      <td>Birmingham</td>\n",
              "      <td>@bbcmtd Wholesale Markets ablaze http://t.co/l...</td>\n",
              "      <td>1</td>\n",
              "      <td>@user Wholesale Markets ablaze http</td>\n",
              "    </tr>\n",
              "    <tr>\n",
              "      <th>49</th>\n",
              "      <td>ablaze</td>\n",
              "      <td>Est. September 2012 - Bristol</td>\n",
              "      <td>We always try to bring the heavy. #metal #RT h...</td>\n",
              "      <td>0</td>\n",
              "      <td>We always try to bring the heavy. #metal #RT http</td>\n",
              "    </tr>\n",
              "    <tr>\n",
              "      <th>50</th>\n",
              "      <td>ablaze</td>\n",
              "      <td>AFRICA</td>\n",
              "      <td>#AFRICANBAZE: Breaking news:Nigeria flag set a...</td>\n",
              "      <td>1</td>\n",
              "      <td>#AFRICANBAZE: Breaking news:Nigeria flag set a...</td>\n",
              "    </tr>\n",
              "    <tr>\n",
              "      <th>52</th>\n",
              "      <td>ablaze</td>\n",
              "      <td>Philadelphia, PA</td>\n",
              "      <td>Crying out for more! Set me ablaze</td>\n",
              "      <td>0</td>\n",
              "      <td>Crying out for more! Set me ablaze</td>\n",
              "    </tr>\n",
              "  </tbody>\n",
              "</table>\n",
              "</div>\n",
              "    <div class=\"colab-df-buttons\">\n",
              "\n",
              "  <div class=\"colab-df-container\">\n",
              "    <button class=\"colab-df-convert\" onclick=\"convertToInteractive('df-4057ff0a-8706-4e21-8d7a-93d0f51e3f87')\"\n",
              "            title=\"Convert this dataframe to an interactive table.\"\n",
              "            style=\"display:none;\">\n",
              "\n",
              "  <svg xmlns=\"http://www.w3.org/2000/svg\" height=\"24px\" viewBox=\"0 -960 960 960\">\n",
              "    <path d=\"M120-120v-720h720v720H120Zm60-500h600v-160H180v160Zm220 220h160v-160H400v160Zm0 220h160v-160H400v160ZM180-400h160v-160H180v160Zm440 0h160v-160H620v160ZM180-180h160v-160H180v160Zm440 0h160v-160H620v160Z\"/>\n",
              "  </svg>\n",
              "    </button>\n",
              "\n",
              "  <style>\n",
              "    .colab-df-container {\n",
              "      display:flex;\n",
              "      gap: 12px;\n",
              "    }\n",
              "\n",
              "    .colab-df-convert {\n",
              "      background-color: #E8F0FE;\n",
              "      border: none;\n",
              "      border-radius: 50%;\n",
              "      cursor: pointer;\n",
              "      display: none;\n",
              "      fill: #1967D2;\n",
              "      height: 32px;\n",
              "      padding: 0 0 0 0;\n",
              "      width: 32px;\n",
              "    }\n",
              "\n",
              "    .colab-df-convert:hover {\n",
              "      background-color: #E2EBFA;\n",
              "      box-shadow: 0px 1px 2px rgba(60, 64, 67, 0.3), 0px 1px 3px 1px rgba(60, 64, 67, 0.15);\n",
              "      fill: #174EA6;\n",
              "    }\n",
              "\n",
              "    .colab-df-buttons div {\n",
              "      margin-bottom: 4px;\n",
              "    }\n",
              "\n",
              "    [theme=dark] .colab-df-convert {\n",
              "      background-color: #3B4455;\n",
              "      fill: #D2E3FC;\n",
              "    }\n",
              "\n",
              "    [theme=dark] .colab-df-convert:hover {\n",
              "      background-color: #434B5C;\n",
              "      box-shadow: 0px 1px 3px 1px rgba(0, 0, 0, 0.15);\n",
              "      filter: drop-shadow(0px 1px 2px rgba(0, 0, 0, 0.3));\n",
              "      fill: #FFFFFF;\n",
              "    }\n",
              "  </style>\n",
              "\n",
              "    <script>\n",
              "      const buttonEl =\n",
              "        document.querySelector('#df-4057ff0a-8706-4e21-8d7a-93d0f51e3f87 button.colab-df-convert');\n",
              "      buttonEl.style.display =\n",
              "        google.colab.kernel.accessAllowed ? 'block' : 'none';\n",
              "\n",
              "      async function convertToInteractive(key) {\n",
              "        const element = document.querySelector('#df-4057ff0a-8706-4e21-8d7a-93d0f51e3f87');\n",
              "        const dataTable =\n",
              "          await google.colab.kernel.invokeFunction('convertToInteractive',\n",
              "                                                    [key], {});\n",
              "        if (!dataTable) return;\n",
              "\n",
              "        const docLinkHtml = 'Like what you see? Visit the ' +\n",
              "          '<a target=\"_blank\" href=https://colab.research.google.com/notebooks/data_table.ipynb>data table notebook</a>'\n",
              "          + ' to learn more about interactive tables.';\n",
              "        element.innerHTML = '';\n",
              "        dataTable['output_type'] = 'display_data';\n",
              "        await google.colab.output.renderOutput(dataTable, element);\n",
              "        const docLink = document.createElement('div');\n",
              "        docLink.innerHTML = docLinkHtml;\n",
              "        element.appendChild(docLink);\n",
              "      }\n",
              "    </script>\n",
              "  </div>\n",
              "\n",
              "\n",
              "<div id=\"df-ed833aad-29b2-49cb-bf9c-c6df2bc499d2\">\n",
              "  <button class=\"colab-df-quickchart\" onclick=\"quickchart('df-ed833aad-29b2-49cb-bf9c-c6df2bc499d2')\"\n",
              "            title=\"Suggest charts.\"\n",
              "            style=\"display:none;\">\n",
              "\n",
              "<svg xmlns=\"http://www.w3.org/2000/svg\" height=\"24px\"viewBox=\"0 0 24 24\"\n",
              "     width=\"24px\">\n",
              "    <g>\n",
              "        <path d=\"M19 3H5c-1.1 0-2 .9-2 2v14c0 1.1.9 2 2 2h14c1.1 0 2-.9 2-2V5c0-1.1-.9-2-2-2zM9 17H7v-7h2v7zm4 0h-2V7h2v10zm4 0h-2v-4h2v4z\"/>\n",
              "    </g>\n",
              "</svg>\n",
              "  </button>\n",
              "\n",
              "<style>\n",
              "  .colab-df-quickchart {\n",
              "      --bg-color: #E8F0FE;\n",
              "      --fill-color: #1967D2;\n",
              "      --hover-bg-color: #E2EBFA;\n",
              "      --hover-fill-color: #174EA6;\n",
              "      --disabled-fill-color: #AAA;\n",
              "      --disabled-bg-color: #DDD;\n",
              "  }\n",
              "\n",
              "  [theme=dark] .colab-df-quickchart {\n",
              "      --bg-color: #3B4455;\n",
              "      --fill-color: #D2E3FC;\n",
              "      --hover-bg-color: #434B5C;\n",
              "      --hover-fill-color: #FFFFFF;\n",
              "      --disabled-bg-color: #3B4455;\n",
              "      --disabled-fill-color: #666;\n",
              "  }\n",
              "\n",
              "  .colab-df-quickchart {\n",
              "    background-color: var(--bg-color);\n",
              "    border: none;\n",
              "    border-radius: 50%;\n",
              "    cursor: pointer;\n",
              "    display: none;\n",
              "    fill: var(--fill-color);\n",
              "    height: 32px;\n",
              "    padding: 0;\n",
              "    width: 32px;\n",
              "  }\n",
              "\n",
              "  .colab-df-quickchart:hover {\n",
              "    background-color: var(--hover-bg-color);\n",
              "    box-shadow: 0 1px 2px rgba(60, 64, 67, 0.3), 0 1px 3px 1px rgba(60, 64, 67, 0.15);\n",
              "    fill: var(--button-hover-fill-color);\n",
              "  }\n",
              "\n",
              "  .colab-df-quickchart-complete:disabled,\n",
              "  .colab-df-quickchart-complete:disabled:hover {\n",
              "    background-color: var(--disabled-bg-color);\n",
              "    fill: var(--disabled-fill-color);\n",
              "    box-shadow: none;\n",
              "  }\n",
              "\n",
              "  .colab-df-spinner {\n",
              "    border: 2px solid var(--fill-color);\n",
              "    border-color: transparent;\n",
              "    border-bottom-color: var(--fill-color);\n",
              "    animation:\n",
              "      spin 1s steps(1) infinite;\n",
              "  }\n",
              "\n",
              "  @keyframes spin {\n",
              "    0% {\n",
              "      border-color: transparent;\n",
              "      border-bottom-color: var(--fill-color);\n",
              "      border-left-color: var(--fill-color);\n",
              "    }\n",
              "    20% {\n",
              "      border-color: transparent;\n",
              "      border-left-color: var(--fill-color);\n",
              "      border-top-color: var(--fill-color);\n",
              "    }\n",
              "    30% {\n",
              "      border-color: transparent;\n",
              "      border-left-color: var(--fill-color);\n",
              "      border-top-color: var(--fill-color);\n",
              "      border-right-color: var(--fill-color);\n",
              "    }\n",
              "    40% {\n",
              "      border-color: transparent;\n",
              "      border-right-color: var(--fill-color);\n",
              "      border-top-color: var(--fill-color);\n",
              "    }\n",
              "    60% {\n",
              "      border-color: transparent;\n",
              "      border-right-color: var(--fill-color);\n",
              "    }\n",
              "    80% {\n",
              "      border-color: transparent;\n",
              "      border-right-color: var(--fill-color);\n",
              "      border-bottom-color: var(--fill-color);\n",
              "    }\n",
              "    90% {\n",
              "      border-color: transparent;\n",
              "      border-bottom-color: var(--fill-color);\n",
              "    }\n",
              "  }\n",
              "</style>\n",
              "\n",
              "  <script>\n",
              "    async function quickchart(key) {\n",
              "      const quickchartButtonEl =\n",
              "        document.querySelector('#' + key + ' button');\n",
              "      quickchartButtonEl.disabled = true;  // To prevent multiple clicks.\n",
              "      quickchartButtonEl.classList.add('colab-df-spinner');\n",
              "      try {\n",
              "        const charts = await google.colab.kernel.invokeFunction(\n",
              "            'suggestCharts', [key], {});\n",
              "      } catch (error) {\n",
              "        console.error('Error during call to suggestCharts:', error);\n",
              "      }\n",
              "      quickchartButtonEl.classList.remove('colab-df-spinner');\n",
              "      quickchartButtonEl.classList.add('colab-df-quickchart-complete');\n",
              "    }\n",
              "    (() => {\n",
              "      let quickchartButtonEl =\n",
              "        document.querySelector('#df-ed833aad-29b2-49cb-bf9c-c6df2bc499d2 button');\n",
              "      quickchartButtonEl.style.display =\n",
              "        google.colab.kernel.accessAllowed ? 'block' : 'none';\n",
              "    })();\n",
              "  </script>\n",
              "</div>\n",
              "    </div>\n",
              "  </div>\n"
            ],
            "text/plain": [
              "   keyword                       location  \\\n",
              "id                                          \n",
              "44     NaN                            NaN   \n",
              "48  ablaze                     Birmingham   \n",
              "49  ablaze  Est. September 2012 - Bristol   \n",
              "50  ablaze                         AFRICA   \n",
              "52  ablaze               Philadelphia, PA   \n",
              "\n",
              "                                                 text  target  \\\n",
              "id                                                              \n",
              "44                                           The end!       0   \n",
              "48  @bbcmtd Wholesale Markets ablaze http://t.co/l...       1   \n",
              "49  We always try to bring the heavy. #metal #RT h...       0   \n",
              "50  #AFRICANBAZE: Breaking news:Nigeria flag set a...       1   \n",
              "52                 Crying out for more! Set me ablaze       0   \n",
              "\n",
              "                                             text_new  \n",
              "id                                                     \n",
              "44                                           The end!  \n",
              "48                @user Wholesale Markets ablaze http  \n",
              "49  We always try to bring the heavy. #metal #RT http  \n",
              "50  #AFRICANBAZE: Breaking news:Nigeria flag set a...  \n",
              "52                 Crying out for more! Set me ablaze  "
            ]
          },
          "execution_count": 45,
          "metadata": {},
          "output_type": "execute_result"
        }
      ],
      "source": [
        "train_df = replace_substrings(train_df)\n",
        "train_df[30:35]"
      ]
    },
    {
      "cell_type": "code",
      "execution_count": null,
      "metadata": {
        "colab": {
          "base_uri": "https://localhost:8080/",
          "height": 237
        },
        "id": "A7nOxOZxAJ2Y",
        "outputId": "14f0bdd6-0730-4683-e0e9-a89dde02dc49"
      },
      "outputs": [
        {
          "data": {
            "text/html": [
              "\n",
              "  <div id=\"df-e413117a-c631-4761-910a-f5829a7735d8\" class=\"colab-df-container\">\n",
              "    <div>\n",
              "<style scoped>\n",
              "    .dataframe tbody tr th:only-of-type {\n",
              "        vertical-align: middle;\n",
              "    }\n",
              "\n",
              "    .dataframe tbody tr th {\n",
              "        vertical-align: top;\n",
              "    }\n",
              "\n",
              "    .dataframe thead th {\n",
              "        text-align: right;\n",
              "    }\n",
              "</style>\n",
              "<table border=\"1\" class=\"dataframe\">\n",
              "  <thead>\n",
              "    <tr style=\"text-align: right;\">\n",
              "      <th></th>\n",
              "      <th>keyword</th>\n",
              "      <th>location</th>\n",
              "      <th>text</th>\n",
              "      <th>text_new</th>\n",
              "    </tr>\n",
              "    <tr>\n",
              "      <th>id</th>\n",
              "      <th></th>\n",
              "      <th></th>\n",
              "      <th></th>\n",
              "      <th></th>\n",
              "    </tr>\n",
              "  </thead>\n",
              "  <tbody>\n",
              "    <tr>\n",
              "      <th>69</th>\n",
              "      <td>ablaze</td>\n",
              "      <td>threeonefive.</td>\n",
              "      <td>beware world ablaze sierra leone &amp;amp; guap.</td>\n",
              "      <td>beware world ablaze sierra leone &amp;amp; guap.</td>\n",
              "    </tr>\n",
              "    <tr>\n",
              "      <th>70</th>\n",
              "      <td>ablaze</td>\n",
              "      <td>Washington State</td>\n",
              "      <td>Burning Man Ablaze! by Turban Diva http://t.co...</td>\n",
              "      <td>Burning Man Ablaze! by Turban Diva http via @user</td>\n",
              "    </tr>\n",
              "    <tr>\n",
              "      <th>72</th>\n",
              "      <td>ablaze</td>\n",
              "      <td>Whoop Ass, Georgia</td>\n",
              "      <td>Not a diss song. People will take 1 thing and ...</td>\n",
              "      <td>Not a diss song. People will take 1 thing and ...</td>\n",
              "    </tr>\n",
              "    <tr>\n",
              "      <th>75</th>\n",
              "      <td>ablaze</td>\n",
              "      <td>India</td>\n",
              "      <td>Rape victim dies as she sets herself ablaze: A...</td>\n",
              "      <td>Rape victim dies as she sets herself ablaze: A...</td>\n",
              "    </tr>\n",
              "    <tr>\n",
              "      <th>84</th>\n",
              "      <td>ablaze</td>\n",
              "      <td>NaN</td>\n",
              "      <td>SETTING MYSELF ABLAZE http://t.co/6vMe7P5XhC</td>\n",
              "      <td>SETTING MYSELF ABLAZE http</td>\n",
              "    </tr>\n",
              "  </tbody>\n",
              "</table>\n",
              "</div>\n",
              "    <div class=\"colab-df-buttons\">\n",
              "\n",
              "  <div class=\"colab-df-container\">\n",
              "    <button class=\"colab-df-convert\" onclick=\"convertToInteractive('df-e413117a-c631-4761-910a-f5829a7735d8')\"\n",
              "            title=\"Convert this dataframe to an interactive table.\"\n",
              "            style=\"display:none;\">\n",
              "\n",
              "  <svg xmlns=\"http://www.w3.org/2000/svg\" height=\"24px\" viewBox=\"0 -960 960 960\">\n",
              "    <path d=\"M120-120v-720h720v720H120Zm60-500h600v-160H180v160Zm220 220h160v-160H400v160Zm0 220h160v-160H400v160ZM180-400h160v-160H180v160Zm440 0h160v-160H620v160ZM180-180h160v-160H180v160Zm440 0h160v-160H620v160Z\"/>\n",
              "  </svg>\n",
              "    </button>\n",
              "\n",
              "  <style>\n",
              "    .colab-df-container {\n",
              "      display:flex;\n",
              "      gap: 12px;\n",
              "    }\n",
              "\n",
              "    .colab-df-convert {\n",
              "      background-color: #E8F0FE;\n",
              "      border: none;\n",
              "      border-radius: 50%;\n",
              "      cursor: pointer;\n",
              "      display: none;\n",
              "      fill: #1967D2;\n",
              "      height: 32px;\n",
              "      padding: 0 0 0 0;\n",
              "      width: 32px;\n",
              "    }\n",
              "\n",
              "    .colab-df-convert:hover {\n",
              "      background-color: #E2EBFA;\n",
              "      box-shadow: 0px 1px 2px rgba(60, 64, 67, 0.3), 0px 1px 3px 1px rgba(60, 64, 67, 0.15);\n",
              "      fill: #174EA6;\n",
              "    }\n",
              "\n",
              "    .colab-df-buttons div {\n",
              "      margin-bottom: 4px;\n",
              "    }\n",
              "\n",
              "    [theme=dark] .colab-df-convert {\n",
              "      background-color: #3B4455;\n",
              "      fill: #D2E3FC;\n",
              "    }\n",
              "\n",
              "    [theme=dark] .colab-df-convert:hover {\n",
              "      background-color: #434B5C;\n",
              "      box-shadow: 0px 1px 3px 1px rgba(0, 0, 0, 0.15);\n",
              "      filter: drop-shadow(0px 1px 2px rgba(0, 0, 0, 0.3));\n",
              "      fill: #FFFFFF;\n",
              "    }\n",
              "  </style>\n",
              "\n",
              "    <script>\n",
              "      const buttonEl =\n",
              "        document.querySelector('#df-e413117a-c631-4761-910a-f5829a7735d8 button.colab-df-convert');\n",
              "      buttonEl.style.display =\n",
              "        google.colab.kernel.accessAllowed ? 'block' : 'none';\n",
              "\n",
              "      async function convertToInteractive(key) {\n",
              "        const element = document.querySelector('#df-e413117a-c631-4761-910a-f5829a7735d8');\n",
              "        const dataTable =\n",
              "          await google.colab.kernel.invokeFunction('convertToInteractive',\n",
              "                                                    [key], {});\n",
              "        if (!dataTable) return;\n",
              "\n",
              "        const docLinkHtml = 'Like what you see? Visit the ' +\n",
              "          '<a target=\"_blank\" href=https://colab.research.google.com/notebooks/data_table.ipynb>data table notebook</a>'\n",
              "          + ' to learn more about interactive tables.';\n",
              "        element.innerHTML = '';\n",
              "        dataTable['output_type'] = 'display_data';\n",
              "        await google.colab.output.renderOutput(dataTable, element);\n",
              "        const docLink = document.createElement('div');\n",
              "        docLink.innerHTML = docLinkHtml;\n",
              "        element.appendChild(docLink);\n",
              "      }\n",
              "    </script>\n",
              "  </div>\n",
              "\n",
              "\n",
              "<div id=\"df-f0770094-15b5-4c8d-b97b-3b542357efda\">\n",
              "  <button class=\"colab-df-quickchart\" onclick=\"quickchart('df-f0770094-15b5-4c8d-b97b-3b542357efda')\"\n",
              "            title=\"Suggest charts.\"\n",
              "            style=\"display:none;\">\n",
              "\n",
              "<svg xmlns=\"http://www.w3.org/2000/svg\" height=\"24px\"viewBox=\"0 0 24 24\"\n",
              "     width=\"24px\">\n",
              "    <g>\n",
              "        <path d=\"M19 3H5c-1.1 0-2 .9-2 2v14c0 1.1.9 2 2 2h14c1.1 0 2-.9 2-2V5c0-1.1-.9-2-2-2zM9 17H7v-7h2v7zm4 0h-2V7h2v10zm4 0h-2v-4h2v4z\"/>\n",
              "    </g>\n",
              "</svg>\n",
              "  </button>\n",
              "\n",
              "<style>\n",
              "  .colab-df-quickchart {\n",
              "      --bg-color: #E8F0FE;\n",
              "      --fill-color: #1967D2;\n",
              "      --hover-bg-color: #E2EBFA;\n",
              "      --hover-fill-color: #174EA6;\n",
              "      --disabled-fill-color: #AAA;\n",
              "      --disabled-bg-color: #DDD;\n",
              "  }\n",
              "\n",
              "  [theme=dark] .colab-df-quickchart {\n",
              "      --bg-color: #3B4455;\n",
              "      --fill-color: #D2E3FC;\n",
              "      --hover-bg-color: #434B5C;\n",
              "      --hover-fill-color: #FFFFFF;\n",
              "      --disabled-bg-color: #3B4455;\n",
              "      --disabled-fill-color: #666;\n",
              "  }\n",
              "\n",
              "  .colab-df-quickchart {\n",
              "    background-color: var(--bg-color);\n",
              "    border: none;\n",
              "    border-radius: 50%;\n",
              "    cursor: pointer;\n",
              "    display: none;\n",
              "    fill: var(--fill-color);\n",
              "    height: 32px;\n",
              "    padding: 0;\n",
              "    width: 32px;\n",
              "  }\n",
              "\n",
              "  .colab-df-quickchart:hover {\n",
              "    background-color: var(--hover-bg-color);\n",
              "    box-shadow: 0 1px 2px rgba(60, 64, 67, 0.3), 0 1px 3px 1px rgba(60, 64, 67, 0.15);\n",
              "    fill: var(--button-hover-fill-color);\n",
              "  }\n",
              "\n",
              "  .colab-df-quickchart-complete:disabled,\n",
              "  .colab-df-quickchart-complete:disabled:hover {\n",
              "    background-color: var(--disabled-bg-color);\n",
              "    fill: var(--disabled-fill-color);\n",
              "    box-shadow: none;\n",
              "  }\n",
              "\n",
              "  .colab-df-spinner {\n",
              "    border: 2px solid var(--fill-color);\n",
              "    border-color: transparent;\n",
              "    border-bottom-color: var(--fill-color);\n",
              "    animation:\n",
              "      spin 1s steps(1) infinite;\n",
              "  }\n",
              "\n",
              "  @keyframes spin {\n",
              "    0% {\n",
              "      border-color: transparent;\n",
              "      border-bottom-color: var(--fill-color);\n",
              "      border-left-color: var(--fill-color);\n",
              "    }\n",
              "    20% {\n",
              "      border-color: transparent;\n",
              "      border-left-color: var(--fill-color);\n",
              "      border-top-color: var(--fill-color);\n",
              "    }\n",
              "    30% {\n",
              "      border-color: transparent;\n",
              "      border-left-color: var(--fill-color);\n",
              "      border-top-color: var(--fill-color);\n",
              "      border-right-color: var(--fill-color);\n",
              "    }\n",
              "    40% {\n",
              "      border-color: transparent;\n",
              "      border-right-color: var(--fill-color);\n",
              "      border-top-color: var(--fill-color);\n",
              "    }\n",
              "    60% {\n",
              "      border-color: transparent;\n",
              "      border-right-color: var(--fill-color);\n",
              "    }\n",
              "    80% {\n",
              "      border-color: transparent;\n",
              "      border-right-color: var(--fill-color);\n",
              "      border-bottom-color: var(--fill-color);\n",
              "    }\n",
              "    90% {\n",
              "      border-color: transparent;\n",
              "      border-bottom-color: var(--fill-color);\n",
              "    }\n",
              "  }\n",
              "</style>\n",
              "\n",
              "  <script>\n",
              "    async function quickchart(key) {\n",
              "      const quickchartButtonEl =\n",
              "        document.querySelector('#' + key + ' button');\n",
              "      quickchartButtonEl.disabled = true;  // To prevent multiple clicks.\n",
              "      quickchartButtonEl.classList.add('colab-df-spinner');\n",
              "      try {\n",
              "        const charts = await google.colab.kernel.invokeFunction(\n",
              "            'suggestCharts', [key], {});\n",
              "      } catch (error) {\n",
              "        console.error('Error during call to suggestCharts:', error);\n",
              "      }\n",
              "      quickchartButtonEl.classList.remove('colab-df-spinner');\n",
              "      quickchartButtonEl.classList.add('colab-df-quickchart-complete');\n",
              "    }\n",
              "    (() => {\n",
              "      let quickchartButtonEl =\n",
              "        document.querySelector('#df-f0770094-15b5-4c8d-b97b-3b542357efda button');\n",
              "      quickchartButtonEl.style.display =\n",
              "        google.colab.kernel.accessAllowed ? 'block' : 'none';\n",
              "    })();\n",
              "  </script>\n",
              "</div>\n",
              "    </div>\n",
              "  </div>\n"
            ],
            "text/plain": [
              "   keyword            location  \\\n",
              "id                               \n",
              "69  ablaze      threeonefive.    \n",
              "70  ablaze    Washington State   \n",
              "72  ablaze  Whoop Ass, Georgia   \n",
              "75  ablaze               India   \n",
              "84  ablaze                 NaN   \n",
              "\n",
              "                                                 text  \\\n",
              "id                                                      \n",
              "69       beware world ablaze sierra leone &amp; guap.   \n",
              "70  Burning Man Ablaze! by Turban Diva http://t.co...   \n",
              "72  Not a diss song. People will take 1 thing and ...   \n",
              "75  Rape victim dies as she sets herself ablaze: A...   \n",
              "84       SETTING MYSELF ABLAZE http://t.co/6vMe7P5XhC   \n",
              "\n",
              "                                             text_new  \n",
              "id                                                     \n",
              "69       beware world ablaze sierra leone &amp; guap.  \n",
              "70  Burning Man Ablaze! by Turban Diva http via @user  \n",
              "72  Not a diss song. People will take 1 thing and ...  \n",
              "75  Rape victim dies as she sets herself ablaze: A...  \n",
              "84                         SETTING MYSELF ABLAZE http  "
            ]
          },
          "execution_count": 46,
          "metadata": {},
          "output_type": "execute_result"
        }
      ],
      "source": [
        "test_df = replace_substrings(test_df)\n",
        "test_df[20:25]"
      ]
    },
    {
      "cell_type": "markdown",
      "metadata": {
        "id": "d-1uOSrXAJ2Y"
      },
      "source": [
        "### Relabel"
      ]
    },
    {
      "cell_type": "markdown",
      "metadata": {
        "id": "JSSn29ipAJ2Y"
      },
      "source": [
        "Relabel mislabeled duplicates."
      ]
    },
    {
      "cell_type": "code",
      "execution_count": null,
      "metadata": {
        "id": "UzlQB16-AJ2Z"
      },
      "outputs": [],
      "source": [
        "train_df['target_relabeled'] = train_df['target'].copy()"
      ]
    },
    {
      "cell_type": "code",
      "execution_count": null,
      "metadata": {
        "colab": {
          "base_uri": "https://localhost:8080/",
          "height": 237
        },
        "id": "k0B3q32pAJ2Z",
        "outputId": "6d5483e7-19fc-4444-8465-4b8830bf1ea0"
      },
      "outputs": [
        {
          "data": {
            "text/html": [
              "\n",
              "  <div id=\"df-e638d29a-33c5-47c3-ac5e-ef76f39c0e45\" class=\"colab-df-container\">\n",
              "    <div>\n",
              "<style scoped>\n",
              "    .dataframe tbody tr th:only-of-type {\n",
              "        vertical-align: middle;\n",
              "    }\n",
              "\n",
              "    .dataframe tbody tr th {\n",
              "        vertical-align: top;\n",
              "    }\n",
              "\n",
              "    .dataframe thead th {\n",
              "        text-align: right;\n",
              "    }\n",
              "</style>\n",
              "<table border=\"1\" class=\"dataframe\">\n",
              "  <thead>\n",
              "    <tr style=\"text-align: right;\">\n",
              "      <th></th>\n",
              "      <th>keyword</th>\n",
              "      <th>location</th>\n",
              "      <th>text</th>\n",
              "      <th>target</th>\n",
              "      <th>text_new</th>\n",
              "      <th>target_relabeled</th>\n",
              "    </tr>\n",
              "    <tr>\n",
              "      <th>id</th>\n",
              "      <th></th>\n",
              "      <th></th>\n",
              "      <th></th>\n",
              "      <th></th>\n",
              "      <th></th>\n",
              "      <th></th>\n",
              "    </tr>\n",
              "  </thead>\n",
              "  <tbody>\n",
              "    <tr>\n",
              "      <th>881</th>\n",
              "      <td>bioterrorism</td>\n",
              "      <td>NaN</td>\n",
              "      <td>To fight bioterrorism sir.</td>\n",
              "      <td>1</td>\n",
              "      <td>To fight bioterrorism sir.</td>\n",
              "      <td>0</td>\n",
              "    </tr>\n",
              "    <tr>\n",
              "      <th>898</th>\n",
              "      <td>bioterrorism</td>\n",
              "      <td>NaN</td>\n",
              "      <td>To fight bioterrorism sir.</td>\n",
              "      <td>0</td>\n",
              "      <td>To fight bioterrorism sir.</td>\n",
              "      <td>0</td>\n",
              "    </tr>\n",
              "    <tr>\n",
              "      <th>907</th>\n",
              "      <td>bioterrorism</td>\n",
              "      <td>NaN</td>\n",
              "      <td>To fight bioterrorism sir.</td>\n",
              "      <td>1</td>\n",
              "      <td>To fight bioterrorism sir.</td>\n",
              "      <td>0</td>\n",
              "    </tr>\n",
              "    <tr>\n",
              "      <th>916</th>\n",
              "      <td>bioterrorism</td>\n",
              "      <td>NaN</td>\n",
              "      <td>To fight bioterrorism sir.</td>\n",
              "      <td>0</td>\n",
              "      <td>To fight bioterrorism sir.</td>\n",
              "      <td>0</td>\n",
              "    </tr>\n",
              "    <tr>\n",
              "      <th>1723</th>\n",
              "      <td>buildings%20burning</td>\n",
              "      <td>Mackay, QLD, Australia</td>\n",
              "      <td>Mmmmmm I'm burning.... I'm burning buildings I...</td>\n",
              "      <td>1</td>\n",
              "      <td>Mmmmmm I'm burning.... I'm burning buildings I...</td>\n",
              "      <td>0</td>\n",
              "    </tr>\n",
              "  </tbody>\n",
              "</table>\n",
              "</div>\n",
              "    <div class=\"colab-df-buttons\">\n",
              "\n",
              "  <div class=\"colab-df-container\">\n",
              "    <button class=\"colab-df-convert\" onclick=\"convertToInteractive('df-e638d29a-33c5-47c3-ac5e-ef76f39c0e45')\"\n",
              "            title=\"Convert this dataframe to an interactive table.\"\n",
              "            style=\"display:none;\">\n",
              "\n",
              "  <svg xmlns=\"http://www.w3.org/2000/svg\" height=\"24px\" viewBox=\"0 -960 960 960\">\n",
              "    <path d=\"M120-120v-720h720v720H120Zm60-500h600v-160H180v160Zm220 220h160v-160H400v160Zm0 220h160v-160H400v160ZM180-400h160v-160H180v160Zm440 0h160v-160H620v160ZM180-180h160v-160H180v160Zm440 0h160v-160H620v160Z\"/>\n",
              "  </svg>\n",
              "    </button>\n",
              "\n",
              "  <style>\n",
              "    .colab-df-container {\n",
              "      display:flex;\n",
              "      gap: 12px;\n",
              "    }\n",
              "\n",
              "    .colab-df-convert {\n",
              "      background-color: #E8F0FE;\n",
              "      border: none;\n",
              "      border-radius: 50%;\n",
              "      cursor: pointer;\n",
              "      display: none;\n",
              "      fill: #1967D2;\n",
              "      height: 32px;\n",
              "      padding: 0 0 0 0;\n",
              "      width: 32px;\n",
              "    }\n",
              "\n",
              "    .colab-df-convert:hover {\n",
              "      background-color: #E2EBFA;\n",
              "      box-shadow: 0px 1px 2px rgba(60, 64, 67, 0.3), 0px 1px 3px 1px rgba(60, 64, 67, 0.15);\n",
              "      fill: #174EA6;\n",
              "    }\n",
              "\n",
              "    .colab-df-buttons div {\n",
              "      margin-bottom: 4px;\n",
              "    }\n",
              "\n",
              "    [theme=dark] .colab-df-convert {\n",
              "      background-color: #3B4455;\n",
              "      fill: #D2E3FC;\n",
              "    }\n",
              "\n",
              "    [theme=dark] .colab-df-convert:hover {\n",
              "      background-color: #434B5C;\n",
              "      box-shadow: 0px 1px 3px 1px rgba(0, 0, 0, 0.15);\n",
              "      filter: drop-shadow(0px 1px 2px rgba(0, 0, 0, 0.3));\n",
              "      fill: #FFFFFF;\n",
              "    }\n",
              "  </style>\n",
              "\n",
              "    <script>\n",
              "      const buttonEl =\n",
              "        document.querySelector('#df-e638d29a-33c5-47c3-ac5e-ef76f39c0e45 button.colab-df-convert');\n",
              "      buttonEl.style.display =\n",
              "        google.colab.kernel.accessAllowed ? 'block' : 'none';\n",
              "\n",
              "      async function convertToInteractive(key) {\n",
              "        const element = document.querySelector('#df-e638d29a-33c5-47c3-ac5e-ef76f39c0e45');\n",
              "        const dataTable =\n",
              "          await google.colab.kernel.invokeFunction('convertToInteractive',\n",
              "                                                    [key], {});\n",
              "        if (!dataTable) return;\n",
              "\n",
              "        const docLinkHtml = 'Like what you see? Visit the ' +\n",
              "          '<a target=\"_blank\" href=https://colab.research.google.com/notebooks/data_table.ipynb>data table notebook</a>'\n",
              "          + ' to learn more about interactive tables.';\n",
              "        element.innerHTML = '';\n",
              "        dataTable['output_type'] = 'display_data';\n",
              "        await google.colab.output.renderOutput(dataTable, element);\n",
              "        const docLink = document.createElement('div');\n",
              "        docLink.innerHTML = docLinkHtml;\n",
              "        element.appendChild(docLink);\n",
              "      }\n",
              "    </script>\n",
              "  </div>\n",
              "\n",
              "\n",
              "<div id=\"df-a68fe6bb-edc2-4a6a-a9a9-abbc7a446077\">\n",
              "  <button class=\"colab-df-quickchart\" onclick=\"quickchart('df-a68fe6bb-edc2-4a6a-a9a9-abbc7a446077')\"\n",
              "            title=\"Suggest charts.\"\n",
              "            style=\"display:none;\">\n",
              "\n",
              "<svg xmlns=\"http://www.w3.org/2000/svg\" height=\"24px\"viewBox=\"0 0 24 24\"\n",
              "     width=\"24px\">\n",
              "    <g>\n",
              "        <path d=\"M19 3H5c-1.1 0-2 .9-2 2v14c0 1.1.9 2 2 2h14c1.1 0 2-.9 2-2V5c0-1.1-.9-2-2-2zM9 17H7v-7h2v7zm4 0h-2V7h2v10zm4 0h-2v-4h2v4z\"/>\n",
              "    </g>\n",
              "</svg>\n",
              "  </button>\n",
              "\n",
              "<style>\n",
              "  .colab-df-quickchart {\n",
              "      --bg-color: #E8F0FE;\n",
              "      --fill-color: #1967D2;\n",
              "      --hover-bg-color: #E2EBFA;\n",
              "      --hover-fill-color: #174EA6;\n",
              "      --disabled-fill-color: #AAA;\n",
              "      --disabled-bg-color: #DDD;\n",
              "  }\n",
              "\n",
              "  [theme=dark] .colab-df-quickchart {\n",
              "      --bg-color: #3B4455;\n",
              "      --fill-color: #D2E3FC;\n",
              "      --hover-bg-color: #434B5C;\n",
              "      --hover-fill-color: #FFFFFF;\n",
              "      --disabled-bg-color: #3B4455;\n",
              "      --disabled-fill-color: #666;\n",
              "  }\n",
              "\n",
              "  .colab-df-quickchart {\n",
              "    background-color: var(--bg-color);\n",
              "    border: none;\n",
              "    border-radius: 50%;\n",
              "    cursor: pointer;\n",
              "    display: none;\n",
              "    fill: var(--fill-color);\n",
              "    height: 32px;\n",
              "    padding: 0;\n",
              "    width: 32px;\n",
              "  }\n",
              "\n",
              "  .colab-df-quickchart:hover {\n",
              "    background-color: var(--hover-bg-color);\n",
              "    box-shadow: 0 1px 2px rgba(60, 64, 67, 0.3), 0 1px 3px 1px rgba(60, 64, 67, 0.15);\n",
              "    fill: var(--button-hover-fill-color);\n",
              "  }\n",
              "\n",
              "  .colab-df-quickchart-complete:disabled,\n",
              "  .colab-df-quickchart-complete:disabled:hover {\n",
              "    background-color: var(--disabled-bg-color);\n",
              "    fill: var(--disabled-fill-color);\n",
              "    box-shadow: none;\n",
              "  }\n",
              "\n",
              "  .colab-df-spinner {\n",
              "    border: 2px solid var(--fill-color);\n",
              "    border-color: transparent;\n",
              "    border-bottom-color: var(--fill-color);\n",
              "    animation:\n",
              "      spin 1s steps(1) infinite;\n",
              "  }\n",
              "\n",
              "  @keyframes spin {\n",
              "    0% {\n",
              "      border-color: transparent;\n",
              "      border-bottom-color: var(--fill-color);\n",
              "      border-left-color: var(--fill-color);\n",
              "    }\n",
              "    20% {\n",
              "      border-color: transparent;\n",
              "      border-left-color: var(--fill-color);\n",
              "      border-top-color: var(--fill-color);\n",
              "    }\n",
              "    30% {\n",
              "      border-color: transparent;\n",
              "      border-left-color: var(--fill-color);\n",
              "      border-top-color: var(--fill-color);\n",
              "      border-right-color: var(--fill-color);\n",
              "    }\n",
              "    40% {\n",
              "      border-color: transparent;\n",
              "      border-right-color: var(--fill-color);\n",
              "      border-top-color: var(--fill-color);\n",
              "    }\n",
              "    60% {\n",
              "      border-color: transparent;\n",
              "      border-right-color: var(--fill-color);\n",
              "    }\n",
              "    80% {\n",
              "      border-color: transparent;\n",
              "      border-right-color: var(--fill-color);\n",
              "      border-bottom-color: var(--fill-color);\n",
              "    }\n",
              "    90% {\n",
              "      border-color: transparent;\n",
              "      border-bottom-color: var(--fill-color);\n",
              "    }\n",
              "  }\n",
              "</style>\n",
              "\n",
              "  <script>\n",
              "    async function quickchart(key) {\n",
              "      const quickchartButtonEl =\n",
              "        document.querySelector('#' + key + ' button');\n",
              "      quickchartButtonEl.disabled = true;  // To prevent multiple clicks.\n",
              "      quickchartButtonEl.classList.add('colab-df-spinner');\n",
              "      try {\n",
              "        const charts = await google.colab.kernel.invokeFunction(\n",
              "            'suggestCharts', [key], {});\n",
              "      } catch (error) {\n",
              "        console.error('Error during call to suggestCharts:', error);\n",
              "      }\n",
              "      quickchartButtonEl.classList.remove('colab-df-spinner');\n",
              "      quickchartButtonEl.classList.add('colab-df-quickchart-complete');\n",
              "    }\n",
              "    (() => {\n",
              "      let quickchartButtonEl =\n",
              "        document.querySelector('#df-a68fe6bb-edc2-4a6a-a9a9-abbc7a446077 button');\n",
              "      quickchartButtonEl.style.display =\n",
              "        google.colab.kernel.accessAllowed ? 'block' : 'none';\n",
              "    })();\n",
              "  </script>\n",
              "</div>\n",
              "    </div>\n",
              "  </div>\n"
            ],
            "text/plain": [
              "                  keyword                location  \\\n",
              "id                                                  \n",
              "881          bioterrorism                     NaN   \n",
              "898          bioterrorism                     NaN   \n",
              "907          bioterrorism                     NaN   \n",
              "916          bioterrorism                     NaN   \n",
              "1723  buildings%20burning  Mackay, QLD, Australia   \n",
              "\n",
              "                                                   text  target  \\\n",
              "id                                                                \n",
              "881                          To fight bioterrorism sir.       1   \n",
              "898                          To fight bioterrorism sir.       0   \n",
              "907                          To fight bioterrorism sir.       1   \n",
              "916                          To fight bioterrorism sir.       0   \n",
              "1723  Mmmmmm I'm burning.... I'm burning buildings I...       1   \n",
              "\n",
              "                                               text_new  target_relabeled  \n",
              "id                                                                         \n",
              "881                          To fight bioterrorism sir.                 0  \n",
              "898                          To fight bioterrorism sir.                 0  \n",
              "907                          To fight bioterrorism sir.                 0  \n",
              "916                          To fight bioterrorism sir.                 0  \n",
              "1723  Mmmmmm I'm burning.... I'm burning buildings I...                 0  "
            ]
          },
          "execution_count": 48,
          "metadata": {},
          "output_type": "execute_result"
        }
      ],
      "source": [
        "train_df.loc[relabel_ids_to_0, ['target_relabeled']] = 0\n",
        "train_df.loc[relabel_ids_to_0].head()"
      ]
    },
    {
      "cell_type": "code",
      "execution_count": null,
      "metadata": {
        "colab": {
          "base_uri": "https://localhost:8080/",
          "height": 237
        },
        "id": "Kc-idWVHAJ2Z",
        "outputId": "150ff00e-bcd7-462f-eba8-ff2efe93abc6"
      },
      "outputs": [
        {
          "data": {
            "text/html": [
              "\n",
              "  <div id=\"df-cfecf665-a0e3-4e43-92f0-253ade9fbb11\" class=\"colab-df-container\">\n",
              "    <div>\n",
              "<style scoped>\n",
              "    .dataframe tbody tr th:only-of-type {\n",
              "        vertical-align: middle;\n",
              "    }\n",
              "\n",
              "    .dataframe tbody tr th {\n",
              "        vertical-align: top;\n",
              "    }\n",
              "\n",
              "    .dataframe thead th {\n",
              "        text-align: right;\n",
              "    }\n",
              "</style>\n",
              "<table border=\"1\" class=\"dataframe\">\n",
              "  <thead>\n",
              "    <tr style=\"text-align: right;\">\n",
              "      <th></th>\n",
              "      <th>keyword</th>\n",
              "      <th>location</th>\n",
              "      <th>text</th>\n",
              "      <th>target</th>\n",
              "      <th>text_new</th>\n",
              "      <th>target_relabeled</th>\n",
              "    </tr>\n",
              "    <tr>\n",
              "      <th>id</th>\n",
              "      <th></th>\n",
              "      <th></th>\n",
              "      <th></th>\n",
              "      <th></th>\n",
              "      <th></th>\n",
              "      <th></th>\n",
              "    </tr>\n",
              "  </thead>\n",
              "  <tbody>\n",
              "    <tr>\n",
              "      <th>4076</th>\n",
              "      <td>displaced</td>\n",
              "      <td>Pedophile hunting ground</td>\n",
              "      <td>.POTUS #StrategicPatience is a strategy for #G...</td>\n",
              "      <td>0</td>\n",
              "      <td>.POTUS #StrategicPatience is a strategy for #G...</td>\n",
              "      <td>1</td>\n",
              "    </tr>\n",
              "    <tr>\n",
              "      <th>4072</th>\n",
              "      <td>displaced</td>\n",
              "      <td>Pedophile hunting ground</td>\n",
              "      <td>.POTUS #StrategicPatience is a strategy for #G...</td>\n",
              "      <td>1</td>\n",
              "      <td>.POTUS #StrategicPatience is a strategy for #G...</td>\n",
              "      <td>1</td>\n",
              "    </tr>\n",
              "    <tr>\n",
              "      <th>4068</th>\n",
              "      <td>displaced</td>\n",
              "      <td>Pedophile hunting ground</td>\n",
              "      <td>.POTUS #StrategicPatience is a strategy for #G...</td>\n",
              "      <td>1</td>\n",
              "      <td>.POTUS #StrategicPatience is a strategy for #G...</td>\n",
              "      <td>1</td>\n",
              "    </tr>\n",
              "    <tr>\n",
              "      <th>4077</th>\n",
              "      <td>displaced</td>\n",
              "      <td>Pedophile hunting ground</td>\n",
              "      <td>.POTUS #StrategicPatience is a strategy for #G...</td>\n",
              "      <td>1</td>\n",
              "      <td>.POTUS #StrategicPatience is a strategy for #G...</td>\n",
              "      <td>1</td>\n",
              "    </tr>\n",
              "    <tr>\n",
              "      <th>6566</th>\n",
              "      <td>injury</td>\n",
              "      <td>NaN</td>\n",
              "      <td>CLEARED:incident with injury:I-495  inner loop...</td>\n",
              "      <td>0</td>\n",
              "      <td>CLEARED:incident with injury:I-495  inner loop...</td>\n",
              "      <td>1</td>\n",
              "    </tr>\n",
              "  </tbody>\n",
              "</table>\n",
              "</div>\n",
              "    <div class=\"colab-df-buttons\">\n",
              "\n",
              "  <div class=\"colab-df-container\">\n",
              "    <button class=\"colab-df-convert\" onclick=\"convertToInteractive('df-cfecf665-a0e3-4e43-92f0-253ade9fbb11')\"\n",
              "            title=\"Convert this dataframe to an interactive table.\"\n",
              "            style=\"display:none;\">\n",
              "\n",
              "  <svg xmlns=\"http://www.w3.org/2000/svg\" height=\"24px\" viewBox=\"0 -960 960 960\">\n",
              "    <path d=\"M120-120v-720h720v720H120Zm60-500h600v-160H180v160Zm220 220h160v-160H400v160Zm0 220h160v-160H400v160ZM180-400h160v-160H180v160Zm440 0h160v-160H620v160ZM180-180h160v-160H180v160Zm440 0h160v-160H620v160Z\"/>\n",
              "  </svg>\n",
              "    </button>\n",
              "\n",
              "  <style>\n",
              "    .colab-df-container {\n",
              "      display:flex;\n",
              "      gap: 12px;\n",
              "    }\n",
              "\n",
              "    .colab-df-convert {\n",
              "      background-color: #E8F0FE;\n",
              "      border: none;\n",
              "      border-radius: 50%;\n",
              "      cursor: pointer;\n",
              "      display: none;\n",
              "      fill: #1967D2;\n",
              "      height: 32px;\n",
              "      padding: 0 0 0 0;\n",
              "      width: 32px;\n",
              "    }\n",
              "\n",
              "    .colab-df-convert:hover {\n",
              "      background-color: #E2EBFA;\n",
              "      box-shadow: 0px 1px 2px rgba(60, 64, 67, 0.3), 0px 1px 3px 1px rgba(60, 64, 67, 0.15);\n",
              "      fill: #174EA6;\n",
              "    }\n",
              "\n",
              "    .colab-df-buttons div {\n",
              "      margin-bottom: 4px;\n",
              "    }\n",
              "\n",
              "    [theme=dark] .colab-df-convert {\n",
              "      background-color: #3B4455;\n",
              "      fill: #D2E3FC;\n",
              "    }\n",
              "\n",
              "    [theme=dark] .colab-df-convert:hover {\n",
              "      background-color: #434B5C;\n",
              "      box-shadow: 0px 1px 3px 1px rgba(0, 0, 0, 0.15);\n",
              "      filter: drop-shadow(0px 1px 2px rgba(0, 0, 0, 0.3));\n",
              "      fill: #FFFFFF;\n",
              "    }\n",
              "  </style>\n",
              "\n",
              "    <script>\n",
              "      const buttonEl =\n",
              "        document.querySelector('#df-cfecf665-a0e3-4e43-92f0-253ade9fbb11 button.colab-df-convert');\n",
              "      buttonEl.style.display =\n",
              "        google.colab.kernel.accessAllowed ? 'block' : 'none';\n",
              "\n",
              "      async function convertToInteractive(key) {\n",
              "        const element = document.querySelector('#df-cfecf665-a0e3-4e43-92f0-253ade9fbb11');\n",
              "        const dataTable =\n",
              "          await google.colab.kernel.invokeFunction('convertToInteractive',\n",
              "                                                    [key], {});\n",
              "        if (!dataTable) return;\n",
              "\n",
              "        const docLinkHtml = 'Like what you see? Visit the ' +\n",
              "          '<a target=\"_blank\" href=https://colab.research.google.com/notebooks/data_table.ipynb>data table notebook</a>'\n",
              "          + ' to learn more about interactive tables.';\n",
              "        element.innerHTML = '';\n",
              "        dataTable['output_type'] = 'display_data';\n",
              "        await google.colab.output.renderOutput(dataTable, element);\n",
              "        const docLink = document.createElement('div');\n",
              "        docLink.innerHTML = docLinkHtml;\n",
              "        element.appendChild(docLink);\n",
              "      }\n",
              "    </script>\n",
              "  </div>\n",
              "\n",
              "\n",
              "<div id=\"df-c547ab7a-c9ab-49a2-8084-d528d4fc60cd\">\n",
              "  <button class=\"colab-df-quickchart\" onclick=\"quickchart('df-c547ab7a-c9ab-49a2-8084-d528d4fc60cd')\"\n",
              "            title=\"Suggest charts.\"\n",
              "            style=\"display:none;\">\n",
              "\n",
              "<svg xmlns=\"http://www.w3.org/2000/svg\" height=\"24px\"viewBox=\"0 0 24 24\"\n",
              "     width=\"24px\">\n",
              "    <g>\n",
              "        <path d=\"M19 3H5c-1.1 0-2 .9-2 2v14c0 1.1.9 2 2 2h14c1.1 0 2-.9 2-2V5c0-1.1-.9-2-2-2zM9 17H7v-7h2v7zm4 0h-2V7h2v10zm4 0h-2v-4h2v4z\"/>\n",
              "    </g>\n",
              "</svg>\n",
              "  </button>\n",
              "\n",
              "<style>\n",
              "  .colab-df-quickchart {\n",
              "      --bg-color: #E8F0FE;\n",
              "      --fill-color: #1967D2;\n",
              "      --hover-bg-color: #E2EBFA;\n",
              "      --hover-fill-color: #174EA6;\n",
              "      --disabled-fill-color: #AAA;\n",
              "      --disabled-bg-color: #DDD;\n",
              "  }\n",
              "\n",
              "  [theme=dark] .colab-df-quickchart {\n",
              "      --bg-color: #3B4455;\n",
              "      --fill-color: #D2E3FC;\n",
              "      --hover-bg-color: #434B5C;\n",
              "      --hover-fill-color: #FFFFFF;\n",
              "      --disabled-bg-color: #3B4455;\n",
              "      --disabled-fill-color: #666;\n",
              "  }\n",
              "\n",
              "  .colab-df-quickchart {\n",
              "    background-color: var(--bg-color);\n",
              "    border: none;\n",
              "    border-radius: 50%;\n",
              "    cursor: pointer;\n",
              "    display: none;\n",
              "    fill: var(--fill-color);\n",
              "    height: 32px;\n",
              "    padding: 0;\n",
              "    width: 32px;\n",
              "  }\n",
              "\n",
              "  .colab-df-quickchart:hover {\n",
              "    background-color: var(--hover-bg-color);\n",
              "    box-shadow: 0 1px 2px rgba(60, 64, 67, 0.3), 0 1px 3px 1px rgba(60, 64, 67, 0.15);\n",
              "    fill: var(--button-hover-fill-color);\n",
              "  }\n",
              "\n",
              "  .colab-df-quickchart-complete:disabled,\n",
              "  .colab-df-quickchart-complete:disabled:hover {\n",
              "    background-color: var(--disabled-bg-color);\n",
              "    fill: var(--disabled-fill-color);\n",
              "    box-shadow: none;\n",
              "  }\n",
              "\n",
              "  .colab-df-spinner {\n",
              "    border: 2px solid var(--fill-color);\n",
              "    border-color: transparent;\n",
              "    border-bottom-color: var(--fill-color);\n",
              "    animation:\n",
              "      spin 1s steps(1) infinite;\n",
              "  }\n",
              "\n",
              "  @keyframes spin {\n",
              "    0% {\n",
              "      border-color: transparent;\n",
              "      border-bottom-color: var(--fill-color);\n",
              "      border-left-color: var(--fill-color);\n",
              "    }\n",
              "    20% {\n",
              "      border-color: transparent;\n",
              "      border-left-color: var(--fill-color);\n",
              "      border-top-color: var(--fill-color);\n",
              "    }\n",
              "    30% {\n",
              "      border-color: transparent;\n",
              "      border-left-color: var(--fill-color);\n",
              "      border-top-color: var(--fill-color);\n",
              "      border-right-color: var(--fill-color);\n",
              "    }\n",
              "    40% {\n",
              "      border-color: transparent;\n",
              "      border-right-color: var(--fill-color);\n",
              "      border-top-color: var(--fill-color);\n",
              "    }\n",
              "    60% {\n",
              "      border-color: transparent;\n",
              "      border-right-color: var(--fill-color);\n",
              "    }\n",
              "    80% {\n",
              "      border-color: transparent;\n",
              "      border-right-color: var(--fill-color);\n",
              "      border-bottom-color: var(--fill-color);\n",
              "    }\n",
              "    90% {\n",
              "      border-color: transparent;\n",
              "      border-bottom-color: var(--fill-color);\n",
              "    }\n",
              "  }\n",
              "</style>\n",
              "\n",
              "  <script>\n",
              "    async function quickchart(key) {\n",
              "      const quickchartButtonEl =\n",
              "        document.querySelector('#' + key + ' button');\n",
              "      quickchartButtonEl.disabled = true;  // To prevent multiple clicks.\n",
              "      quickchartButtonEl.classList.add('colab-df-spinner');\n",
              "      try {\n",
              "        const charts = await google.colab.kernel.invokeFunction(\n",
              "            'suggestCharts', [key], {});\n",
              "      } catch (error) {\n",
              "        console.error('Error during call to suggestCharts:', error);\n",
              "      }\n",
              "      quickchartButtonEl.classList.remove('colab-df-spinner');\n",
              "      quickchartButtonEl.classList.add('colab-df-quickchart-complete');\n",
              "    }\n",
              "    (() => {\n",
              "      let quickchartButtonEl =\n",
              "        document.querySelector('#df-c547ab7a-c9ab-49a2-8084-d528d4fc60cd button');\n",
              "      quickchartButtonEl.style.display =\n",
              "        google.colab.kernel.accessAllowed ? 'block' : 'none';\n",
              "    })();\n",
              "  </script>\n",
              "</div>\n",
              "    </div>\n",
              "  </div>\n"
            ],
            "text/plain": [
              "        keyword                  location  \\\n",
              "id                                          \n",
              "4076  displaced  Pedophile hunting ground   \n",
              "4072  displaced  Pedophile hunting ground   \n",
              "4068  displaced  Pedophile hunting ground   \n",
              "4077  displaced  Pedophile hunting ground   \n",
              "6566     injury                       NaN   \n",
              "\n",
              "                                                   text  target  \\\n",
              "id                                                                \n",
              "4076  .POTUS #StrategicPatience is a strategy for #G...       0   \n",
              "4072  .POTUS #StrategicPatience is a strategy for #G...       1   \n",
              "4068  .POTUS #StrategicPatience is a strategy for #G...       1   \n",
              "4077  .POTUS #StrategicPatience is a strategy for #G...       1   \n",
              "6566  CLEARED:incident with injury:I-495  inner loop...       0   \n",
              "\n",
              "                                               text_new  target_relabeled  \n",
              "id                                                                         \n",
              "4076  .POTUS #StrategicPatience is a strategy for #G...                 1  \n",
              "4072  .POTUS #StrategicPatience is a strategy for #G...                 1  \n",
              "4068  .POTUS #StrategicPatience is a strategy for #G...                 1  \n",
              "4077  .POTUS #StrategicPatience is a strategy for #G...                 1  \n",
              "6566  CLEARED:incident with injury:I-495  inner loop...                 1  "
            ]
          },
          "execution_count": 49,
          "metadata": {},
          "output_type": "execute_result"
        }
      ],
      "source": [
        "train_df.loc[relabel_ids_to_1, ['target_relabeled']] = 1\n",
        "train_df.loc[relabel_ids_to_1].head()"
      ]
    },
    {
      "cell_type": "markdown",
      "metadata": {
        "id": "MjbXSHVgAJ2Z"
      },
      "source": [
        "### Splitting data"
      ]
    },
    {
      "cell_type": "code",
      "execution_count": null,
      "metadata": {
        "colab": {
          "base_uri": "https://localhost:8080/"
        },
        "id": "eh6teDKCAJ2Z",
        "outputId": "f6796e92-d4ce-4928-80a8-49aeef1011ab"
      },
      "outputs": [
        {
          "data": {
            "text/plain": [
              "((7613,), (7613,), (6471,), (6471,), (1142,), (1142,))"
            ]
          },
          "execution_count": 50,
          "metadata": {},
          "output_type": "execute_result"
        }
      ],
      "source": [
        "X_full = train_df['text_new'].to_numpy()\n",
        "y_full = train_df['target_relabeled'].to_numpy()\n",
        "X_train, X_val, y_train, y_val = train_test_split(X_full, y_full, test_size=0.15, stratify = y_full)\n",
        "X_full.shape, y_full.shape, X_train.shape, y_train.shape, X_val.shape, y_val.shape"
      ]
    },
    {
      "cell_type": "code",
      "execution_count": null,
      "metadata": {
        "colab": {
          "base_uri": "https://localhost:8080/"
        },
        "id": "UFoN66uVAJ2Z",
        "outputId": "70c766aa-1de5-49e4-cf99-1ed58c0fc09e"
      },
      "outputs": [
        {
          "data": {
            "text/plain": [
              "(3263,)"
            ]
          },
          "execution_count": 51,
          "metadata": {},
          "output_type": "execute_result"
        }
      ],
      "source": [
        "X_test = test_df['text_new'].to_numpy()\n",
        "X_test.shape"
      ]
    },
    {
      "cell_type": "markdown",
      "metadata": {
        "id": "sAIGIXvOAJ2Z"
      },
      "source": [
        "### Create Dataset"
      ]
    },
    {
      "cell_type": "code",
      "execution_count": null,
      "metadata": {
        "colab": {
          "base_uri": "https://localhost:8080/"
        },
        "id": "xZyKq1e4AJ2Z",
        "outputId": "60db9200-c5ee-497b-d6b1-e649d92a149a"
      },
      "outputs": [
        {
          "data": {
            "text/plain": [
              "((TensorSpec(shape=(), dtype=tf.string, name=None),\n",
              "  TensorSpec(shape=(), dtype=tf.int64, name=None)),\n",
              " (TensorSpec(shape=(), dtype=tf.string, name=None),\n",
              "  TensorSpec(shape=(), dtype=tf.int64, name=None)),\n",
              " TensorSpec(shape=(), dtype=tf.string, name=None))"
            ]
          },
          "execution_count": 52,
          "metadata": {},
          "output_type": "execute_result"
        }
      ],
      "source": [
        "train_ds_raw = tf.data.Dataset.from_tensor_slices((X_train, y_train))\n",
        "val_ds_raw = tf.data.Dataset.from_tensor_slices((X_val, y_val))\n",
        "test_ds_raw = tf.data.Dataset.from_tensor_slices(X_test)\n",
        "train_ds_raw.element_spec, val_ds_raw.element_spec, test_ds_raw.element_spec"
      ]
    },
    {
      "cell_type": "markdown",
      "metadata": {
        "id": "wtMx0RshAJ2Z"
      },
      "source": [
        "# Model Training and Evaluation <a class=\"anchor\" id=\"trainandevaluate\"></a>"
      ]
    },
    {
      "cell_type": "code",
      "execution_count": null,
      "metadata": {
        "colab": {
          "base_uri": "https://localhost:8080/"
        },
        "id": "8ZbiuCdsB_7L",
        "outputId": "0046fb50-d26d-44fe-93db-0cf20a4a725d"
      },
      "outputs": [
        {
          "name": "stdout",
          "output_type": "stream",
          "text": [
            "Collecting scikit-plot\n",
            "  Downloading scikit_plot-0.3.7-py3-none-any.whl (33 kB)\n",
            "Requirement already satisfied: matplotlib>=1.4.0 in /usr/local/lib/python3.10/dist-packages (from scikit-plot) (3.7.1)\n",
            "Requirement already satisfied: scikit-learn>=0.18 in /usr/local/lib/python3.10/dist-packages (from scikit-plot) (1.2.2)\n",
            "Requirement already satisfied: scipy>=0.9 in /usr/local/lib/python3.10/dist-packages (from scikit-plot) (1.11.2)\n",
            "Requirement already satisfied: joblib>=0.10 in /usr/local/lib/python3.10/dist-packages (from scikit-plot) (1.3.2)\n",
            "Requirement already satisfied: contourpy>=1.0.1 in /usr/local/lib/python3.10/dist-packages (from matplotlib>=1.4.0->scikit-plot) (1.1.0)\n",
            "Requirement already satisfied: cycler>=0.10 in /usr/local/lib/python3.10/dist-packages (from matplotlib>=1.4.0->scikit-plot) (0.11.0)\n",
            "Requirement already satisfied: fonttools>=4.22.0 in /usr/local/lib/python3.10/dist-packages (from matplotlib>=1.4.0->scikit-plot) (4.42.1)\n",
            "Requirement already satisfied: kiwisolver>=1.0.1 in /usr/local/lib/python3.10/dist-packages (from matplotlib>=1.4.0->scikit-plot) (1.4.5)\n",
            "Requirement already satisfied: numpy>=1.20 in /usr/local/lib/python3.10/dist-packages (from matplotlib>=1.4.0->scikit-plot) (1.23.5)\n",
            "Requirement already satisfied: packaging>=20.0 in /usr/local/lib/python3.10/dist-packages (from matplotlib>=1.4.0->scikit-plot) (23.1)\n",
            "Requirement already satisfied: pillow>=6.2.0 in /usr/local/lib/python3.10/dist-packages (from matplotlib>=1.4.0->scikit-plot) (9.4.0)\n",
            "Requirement already satisfied: pyparsing>=2.3.1 in /usr/local/lib/python3.10/dist-packages (from matplotlib>=1.4.0->scikit-plot) (3.1.1)\n",
            "Requirement already satisfied: python-dateutil>=2.7 in /usr/local/lib/python3.10/dist-packages (from matplotlib>=1.4.0->scikit-plot) (2.8.2)\n",
            "Requirement already satisfied: threadpoolctl>=2.0.0 in /usr/local/lib/python3.10/dist-packages (from scikit-learn>=0.18->scikit-plot) (3.2.0)\n",
            "Requirement already satisfied: six>=1.5 in /usr/local/lib/python3.10/dist-packages (from python-dateutil>=2.7->matplotlib>=1.4.0->scikit-plot) (1.16.0)\n",
            "Installing collected packages: scikit-plot\n",
            "Successfully installed scikit-plot-0.3.7\n"
          ]
        }
      ],
      "source": [
        "!pip install scikit-plot\n"
      ]
    },
    {
      "cell_type": "code",
      "execution_count": null,
      "metadata": {
        "id": "34lKFKZeAJ2Z"
      },
      "outputs": [],
      "source": [
        "import scikitplot as skplt\n",
        "\n",
        "class EstimatorReport():\n",
        "    \"\"\"\n",
        "    A class used for generating a report on an estimator's performance\n",
        "\n",
        "    Attributes\n",
        "    ----------\n",
        "    X_val : np.ndarray\n",
        "        Validation dataset features.\n",
        "    y_val : np.ndarray\n",
        "        Validation dataset labels.\n",
        "    X_train : np.ndarray\n",
        "        Training dataset features.\n",
        "    y_train : np.ndarray\n",
        "        Training dataset labels.\n",
        "    estimator : estimator object\n",
        "        Scikit-learn estimator object.\n",
        "    estimator_name : str\n",
        "        Name of the estimator.\n",
        "    plot_micro : bool\n",
        "        Whether micro average ROC curve should be plotted.\n",
        "    plot_macro : bool\n",
        "        Whether macro average ROC curve should be plotted.\n",
        "    metrics_calculated : bool\n",
        "        Whether the performance metrics have been calculated.\n",
        "\n",
        "    Methods\n",
        "    -------\n",
        "    calculate_metrics()\n",
        "        Calculates accuracy, confusion matrix, classification report and predicted probabilities\n",
        "        based on the validation set and sets metrics_calculated flag to True.\n",
        "    plot_curves(figsize=(18, 4))\n",
        "        Plots ROC and PR curves and learning curve based on the validation set.\n",
        "    display_report(figsize=(10, 5))\n",
        "        Displays a report on estimator's performance based on validation set.\n",
        "    __plot_confusion_matrix(ax)\n",
        "        Plots confusion matrix.\n",
        "    __plot_classification_report(ax)\n",
        "        Plots classification report.\n",
        "    \"\"\"\n",
        "    def __init__(\n",
        "        self,\n",
        "        estimator,\n",
        "        X_val: np.ndarray,\n",
        "        y_val: np.ndarray,\n",
        "        X_train: np.ndarray,\n",
        "        y_train: np.ndarray,\n",
        "        estimator_name: str,\n",
        "        argmax = False,\n",
        "        classes_count = None,\n",
        "        binary_probas = False\n",
        "    ) -> None:\n",
        "        self.X_val = X_val\n",
        "        self.y_val = y_val\n",
        "        self.X_train = X_train\n",
        "        self.y_train = y_train\n",
        "        self.estimator = estimator\n",
        "        self.estimator_name = estimator_name\n",
        "        self.plot_micro = False\n",
        "        self.plot_macro = False\n",
        "        self.metrics_calculated = False\n",
        "        self.argmax = argmax\n",
        "        self.classes_count = classes_count\n",
        "        self.binary_probas = binary_probas\n",
        "\n",
        "    def calculate_metrics(self) -> None:\n",
        "        self.y_val_predicted = self.estimator.predict(self.X_val)\n",
        "        if self.argmax:\n",
        "            self.y_val_probas = self.estimator.predict(self.X_val)\n",
        "            try:\n",
        "                self.y_val_predicted = self.y_val_probas.argmax(axis=-1)\n",
        "            except:\n",
        "                self.y_val_predicted = np.argmax(self.y_val_probas.logits, axis=1)\n",
        "        else:\n",
        "            self.y_val_predicted = self.estimator.predict(self.X_val)\n",
        "            try:\n",
        "                self.y_val_probas = self.estimator.predict_proba(self.X_val)\n",
        "            except:\n",
        "                try:\n",
        "                    self.y_val_probas = self.estimator.decision_function(self.X_val)\n",
        "                except:\n",
        "                    self.y_val_probas = self.y_val_predicted.copy()\n",
        "        if self.binary_probas:\n",
        "            self.y_val_predicted = [1 if each > 0.5 else 0 for each in self.y_val_predicted]\n",
        "        self.accuracy = accuracy_score(self.y_val, self.y_val_predicted)\n",
        "        self.conf_mx = confusion_matrix(self.y_val, self.y_val_predicted)\n",
        "        self.classif_report = classification_report(\n",
        "            self.y_val, self.y_val_predicted, output_dict=True\n",
        "        )\n",
        "        self.metrics_calculated = True\n",
        "\n",
        "    def plot_curves(self, figsize=(18, 4)) -> None:\n",
        "        if not self.metrics_calculated:\n",
        "            self.calculate_metrics()\n",
        "        fig, axes = plt.subplots(\n",
        "            1, 3, figsize=figsize, sharex=False,\n",
        "            gridspec_kw={'width_ratios': [1, 1, 1]}, dpi=100\n",
        "        )\n",
        "        skplt.metrics.plot_roc(\n",
        "            y_true=self.y_val, y_probas=self.y_val_probas, ax=axes[0],\n",
        "            title='ROC curve', plot_micro=self.plot_micro, plot_macro=self.plot_macro\n",
        "        )\n",
        "        skplt.metrics.plot_precision_recall(\n",
        "            y_true=self.y_val, y_probas=self.y_val_probas, ax=axes[1],\n",
        "            title='PR curve', plot_micro=self.plot_micro\n",
        "        )\n",
        "        skplt.estimators.plot_learning_curve(\n",
        "            self.estimator, self.X_train, self.y_train, ax=axes[2]\n",
        "        )\n",
        "        axes[0].grid()\n",
        "        axes[1].grid()\n",
        "\n",
        "    def display_report(self, figsize=(10, 5)) -> None:\n",
        "        if not self.metrics_calculated:\n",
        "            self.calculate_metrics()\n",
        "        display(Markdown(f'### <span style=\"color: black;\">Evaluation on the Validation Set (estimator: {self.estimator_name})</span>'))\n",
        "        display(Markdown('Accuracy: {:.4f}%'.format(self.accuracy*100)))\n",
        "        fig, (ax0, ax1) = plt.subplots(1, 2, figsize=figsize, sharex=False,\n",
        "                                   gridspec_kw={'width_ratios': [1, 2.2]}, dpi=100)\n",
        "        self.__plot_classification_report(ax0)\n",
        "        self.__plot_confusion_matrix(ax1)\n",
        "        fig.tight_layout()\n",
        "        plt.show()\n",
        "\n",
        "    def __plot_confusion_matrix(self, ax) -> None:\n",
        "        norm_conf_mx = self.conf_mx.astype('float') / self.conf_mx.sum(axis=1, keepdims=True)\n",
        "        np.fill_diagonal(norm_conf_mx, 0)\n",
        "        sns.heatmap(\n",
        "            norm_conf_mx, ax=ax,\n",
        "            annot=False, cmap=plt.cm.gray, cbar=False\n",
        "        )\n",
        "        plt.title('Confusion matrix')\n",
        "        thresh = norm_conf_mx.max() / 2\n",
        "        for i, j in itertools.product(range(self.conf_mx.shape[0]), range(self.conf_mx.shape[1])):\n",
        "            plt.text(j+0.5, i+0.6, self.conf_mx[i, j],\n",
        "                ha=\"center\",\n",
        "                va='baseline',\n",
        "                color=\"white\" if norm_conf_mx[i, j] < thresh else \"black\")\n",
        "        plt.tight_layout()\n",
        "        plt.ylabel('True label')\n",
        "        plt.xlabel('Predicted label')\n",
        "\n",
        "    def __plot_classification_report(self, ax) -> None:\n",
        "        clf_report_df = pd.DataFrame(self.classif_report ).iloc[:-1, :].T\n",
        "        classes_count = self.classes_count if (self.classes_count != None) else len(self.estimator.classes_)\n",
        "        mask_classes = np.zeros_like(clf_report_df, dtype=bool)\n",
        "        mask_classes[classes_count:, :] = True\n",
        "        mask_metrics = np.zeros_like(clf_report_df, dtype=bool)\n",
        "        mask_metrics[:classes_count, :] = True\n",
        "        cmap_white = ListedColormap(['white'])\n",
        "        sns.heatmap(\n",
        "            clf_report_df, ax=ax, mask=mask_classes,\n",
        "            annot=True, cmap='viridis', fmt='.6f', cbar=False\n",
        "        )\n",
        "        sns.heatmap(\n",
        "            clf_report_df, ax=ax, mask=mask_metrics,\n",
        "            annot=True, cmap=cmap_white, fmt='.6f', cbar=False\n",
        "        )\n",
        "        ax.set_title(\"Classification report\", fontsize=10, pad=10)\n",
        "        ax.xaxis.tick_top()\n",
        "        ax.xaxis.set_label_position('top')"
      ]
    },
    {
      "cell_type": "code",
      "execution_count": null,
      "metadata": {
        "id": "Q9jqBX59AJ2a"
      },
      "outputs": [],
      "source": [
        "def fit_and_evaluate(model, train_ds, val_ds, learning_rate=0.001,\n",
        "                     epochs=50, loss=\"binary_crossentropy\", es_patience=10):\n",
        "    reduce_lr_cb = tf.keras.callbacks.ReduceLROnPlateau(\n",
        "        patience=2, monitor=\"val_accuracy\", factor=0.3, verbose=1)\n",
        "    early_stopping_cb = tf.keras.callbacks.EarlyStopping(\n",
        "        monitor=\"val_accuracy\", patience=es_patience, restore_best_weights=True)\n",
        "    opt = tf.keras.optimizers.Adam(learning_rate=learning_rate)\n",
        "    model.compile(loss=loss, optimizer=opt, metrics=[\"accuracy\"])\n",
        "    history = model.fit(\n",
        "        train_ds,\n",
        "        validation_data=val_ds,\n",
        "        epochs=epochs,\n",
        "        callbacks=[early_stopping_cb, reduce_lr_cb])\n",
        "    result = model.evaluate(val_ds)\n",
        "    return result"
      ]
    },
    {
      "cell_type": "code",
      "execution_count": null,
      "metadata": {
        "id": "dU16HJEwAJ2a"
      },
      "outputs": [],
      "source": [
        "def add_to_results(model_name, acc, results_df):\n",
        "    row = {\n",
        "        'model': model_name,\n",
        "        'accuracy': acc\n",
        "    }\n",
        "    if model_name in results_df['model'].values:\n",
        "        row_index = results_df.loc[results_df['model'] == model_name].index[0]\n",
        "        results_df.loc[row_index, 'accuracy'] = row['accuracy']\n",
        "    else:\n",
        "        results_df = results_df.append(row, ignore_index=True)\n",
        "    return results_df"
      ]
    },
    {
      "cell_type": "code",
      "execution_count": null,
      "metadata": {
        "id": "QKgHp-YGAJ2a"
      },
      "outputs": [],
      "source": [
        "results_df = pd.DataFrame(columns=['model', 'accuracy'])"
      ]
    },
    {
      "cell_type": "markdown",
      "metadata": {
        "id": "kWJK6wikAJ2a"
      },
      "source": [
        "## Simple RNN (GRU) <a class=\"anchor\" id=\"simplernn\"></a>"
      ]
    },
    {
      "cell_type": "markdown",
      "metadata": {
        "id": "JVpSrCt4AJ2a"
      },
      "source": [
        "First create and assess simple RNN model using GRU (Gated Recurrent Unit) layer. As we saw in EDA training data vocabulary contains about 30'000 words. A lot of these words are not useful, so just cut vocabulary to smaller size."
      ]
    },
    {
      "cell_type": "code",
      "execution_count": null,
      "metadata": {
        "id": "u1nwDJSiAJ2a"
      },
      "outputs": [],
      "source": [
        "vocab_size = 16000\n",
        "max_length = 31\n",
        "text_vec_layer = tf.keras.layers.TextVectorization(\n",
        "    max_tokens=vocab_size,\n",
        "    standardize=\"lower\",\n",
        "    ragged=True\n",
        ")\n",
        "text_vec_layer.adapt(X_full)\n",
        "vocab_size = text_vec_layer.vocabulary_size()"
      ]
    },
    {
      "cell_type": "code",
      "execution_count": null,
      "metadata": {
        "colab": {
          "base_uri": "https://localhost:8080/"
        },
        "id": "ckHPDPZVAJ2a",
        "outputId": "69825f84-003b-4d33-f743-8cf4c5efb39b"
      },
      "outputs": [
        {
          "name": "stdout",
          "output_type": "stream",
          "text": [
            "Model: \"sequential\"\n",
            "_________________________________________________________________\n",
            " Layer (type)                Output Shape              Param #   \n",
            "=================================================================\n",
            " text_vectorization_1 (Text  (None, None)              0         \n",
            " Vectorization)                                                  \n",
            "                                                                 \n",
            " embedding (Embedding)       (None, None, 128)         2048000   \n",
            "                                                                 \n",
            " gru (GRU)                   (None, 16)                7008      \n",
            "                                                                 \n",
            " dense (Dense)               (None, 1)                 17        \n",
            "                                                                 \n",
            "=================================================================\n",
            "Total params: 2055025 (7.84 MB)\n",
            "Trainable params: 2055025 (7.84 MB)\n",
            "Non-trainable params: 0 (0.00 Byte)\n",
            "_________________________________________________________________\n"
          ]
        }
      ],
      "source": [
        "embed_size = 128\n",
        "model_rnn_1 = tf.keras.Sequential([\n",
        "    tf.keras.layers.Input(shape=(1,), dtype=tf.string),\n",
        "    text_vec_layer,\n",
        "    tf.keras.layers.Embedding(vocab_size, embed_size),\n",
        "    tf.keras.layers.GRU(16),\n",
        "    tf.keras.layers.Dense(1, activation=\"sigmoid\")\n",
        "])\n",
        "model_rnn_1.summary()"
      ]
    },
    {
      "cell_type": "code",
      "execution_count": null,
      "metadata": {
        "id": "ztamWCQhAJ2a"
      },
      "outputs": [],
      "source": [
        "train_ds = train_ds_raw.batch(32).prefetch(tf.data.AUTOTUNE)\n",
        "val_ds = val_ds_raw.batch(32)"
      ]
    },
    {
      "cell_type": "code",
      "execution_count": null,
      "metadata": {
        "colab": {
          "base_uri": "https://localhost:8080/"
        },
        "id": "58-FLukOAJ2a",
        "outputId": "27af604d-db34-4635-a0dd-21515bf4919c"
      },
      "outputs": [
        {
          "name": "stdout",
          "output_type": "stream",
          "text": [
            "Epoch 1/50\n",
            "203/203 [==============================] - 64s 223ms/step - loss: 0.5704 - accuracy: 0.7042 - val_loss: 0.4539 - val_accuracy: 0.8021 - lr: 0.0010\n",
            "Epoch 2/50\n",
            "203/203 [==============================] - 2s 12ms/step - loss: 0.2895 - accuracy: 0.8846 - val_loss: 0.5494 - val_accuracy: 0.7583 - lr: 0.0010\n",
            "Epoch 3/50\n",
            "197/203 [============================>.] - ETA: 0s - loss: 0.1495 - accuracy: 0.9484\n",
            "Epoch 3: ReduceLROnPlateau reducing learning rate to 0.0003000000142492354.\n",
            "203/203 [==============================] - 2s 8ms/step - loss: 0.1500 - accuracy: 0.9482 - val_loss: 0.6551 - val_accuracy: 0.7469 - lr: 0.0010\n",
            "Epoch 4/50\n",
            "203/203 [==============================] - 2s 8ms/step - loss: 0.0715 - accuracy: 0.9794 - val_loss: 0.6910 - val_accuracy: 0.7697 - lr: 3.0000e-04\n",
            "Epoch 5/50\n",
            "197/203 [============================>.] - ETA: 0s - loss: 0.0575 - accuracy: 0.9818\n",
            "Epoch 5: ReduceLROnPlateau reducing learning rate to 9.000000427477062e-05.\n",
            "203/203 [==============================] - 2s 8ms/step - loss: 0.0577 - accuracy: 0.9816 - val_loss: 0.7300 - val_accuracy: 0.7697 - lr: 3.0000e-04\n",
            "Epoch 6/50\n",
            "203/203 [==============================] - 2s 8ms/step - loss: 0.0442 - accuracy: 0.9856 - val_loss: 0.7575 - val_accuracy: 0.7636 - lr: 9.0000e-05\n",
            "Epoch 7/50\n",
            "199/203 [============================>.] - ETA: 0s - loss: 0.0413 - accuracy: 0.9863\n",
            "Epoch 7: ReduceLROnPlateau reducing learning rate to 2.700000040931627e-05.\n",
            "203/203 [==============================] - 2s 8ms/step - loss: 0.0413 - accuracy: 0.9862 - val_loss: 0.7795 - val_accuracy: 0.7601 - lr: 9.0000e-05\n",
            "Epoch 8/50\n",
            "203/203 [==============================] - 2s 11ms/step - loss: 0.0372 - accuracy: 0.9875 - val_loss: 0.7878 - val_accuracy: 0.7574 - lr: 2.7000e-05\n",
            "Epoch 9/50\n",
            "196/203 [===========================>..] - ETA: 0s - loss: 0.0365 - accuracy: 0.9877\n",
            "Epoch 9: ReduceLROnPlateau reducing learning rate to 8.100000013655517e-06.\n",
            "203/203 [==============================] - 2s 11ms/step - loss: 0.0365 - accuracy: 0.9875 - val_loss: 0.7960 - val_accuracy: 0.7574 - lr: 2.7000e-05\n",
            "Epoch 10/50\n",
            "203/203 [==============================] - 2s 8ms/step - loss: 0.0352 - accuracy: 0.9879 - val_loss: 0.7987 - val_accuracy: 0.7574 - lr: 8.1000e-06\n",
            "Epoch 11/50\n",
            "198/203 [============================>.] - ETA: 0s - loss: 0.0351 - accuracy: 0.9883\n",
            "Epoch 11: ReduceLROnPlateau reducing learning rate to 2.429999949526973e-06.\n",
            "203/203 [==============================] - 2s 8ms/step - loss: 0.0350 - accuracy: 0.9881 - val_loss: 0.8014 - val_accuracy: 0.7574 - lr: 8.1000e-06\n",
            "36/36 [==============================] - 0s 4ms/step - loss: 0.4539 - accuracy: 0.8021\n",
            "CPU times: user 44.3 s, sys: 2.48 s, total: 46.8 s\n",
            "Wall time: 1min 50s\n"
          ]
        }
      ],
      "source": [
        "%%time\n",
        "_, acc = fit_and_evaluate(model_rnn_1, train_ds, val_ds)"
      ]
    },
    {
      "cell_type": "code",
      "execution_count": null,
      "metadata": {
        "id": "5MWqA8f6DPE1"
      },
      "outputs": [],
      "source": [
        "import matplotlib.pyplot as plt\n",
        "\n",
        "# Import thư viện để tính thời gian\n",
        "import time\n",
        "\n",
        "# Định nghĩa hàm huấn luyện và đánh giá mô hình\n",
        "def fit_and_evaluate(model, train_dataset, val_dataset):\n",
        "    start_time = time.time()\n",
        "\n",
        "    history = model.fit(train_dataset,\n",
        "                        epochs=NUM_EPOCHS,\n",
        "                        validation_data=val_dataset,\n",
        "                        verbose=1)\n",
        "\n",
        "    end_time = time.time()\n",
        "    training_time = end_time - start_time\n",
        "    print(f\"Training time: {training_time:.2f} seconds\")\n",
        "\n",
        "    # In biểu đồ loss và accuracy\n",
        "    plt.figure(figsize=(12, 4))\n",
        "\n",
        "    # Biểu đồ loss\n",
        "    plt.subplot(1, 2, 1)\n",
        "    plt.plot(history.history['loss'], label='Train Loss')\n",
        "    plt.plot(history.history['val_loss'], label='Validation Loss')\n",
        "    plt.title('Loss')\n",
        "    plt.xlabel('Epoch')\n",
        "    plt.ylabel('Loss')\n",
        "    plt.legend()\n",
        "\n",
        "    # Biểu đồ accuracy\n",
        "    plt.subplot(1, 2, 2)\n",
        "    plt.plot(history.history['accuracy'], label='Train Accuracy')\n",
        "    plt.plot(history.history['val_accuracy'], label='Validation Accuracy')\n",
        "    plt.title('Accuracy')\n",
        "    plt.xlabel('Epoch')\n",
        "    plt.ylabel('Accuracy')\n",
        "    plt.legend()\n",
        "\n",
        "    plt.tight_layout()\n",
        "    plt.show()\n",
        "\n",
        "# Gọi hàm fit_and_evaluate và hiển thị biểu đồ\n",
        "fit_and_evaluate(model_rnn_1, train_ds, val_ds)\n"
      ]
    },
    {
      "cell_type": "code",
      "execution_count": null,
      "metadata": {
        "id": "b1puHFKvCQA9"
      },
      "outputs": [],
      "source": [
        "import matplotlib.pyplot as plt\n",
        "\n",
        "# Import thư viện để tính thời gian\n",
        "import time\n",
        "\n",
        "# Định nghĩa hàm huấn luyện và đánh giá mô hình\n",
        "def fit_and_evaluate(model, train_dataset, val_dataset):\n",
        "    start_time = time.time()\n",
        "\n",
        "    history = model.fit(train_dataset,\n",
        "                        epochs=NUM_EPOCHS,\n",
        "                        validation_data=val_dataset,\n",
        "                        verbose=1)\n",
        "\n",
        "    end_time = time.time()\n",
        "    training_time = end_time - start_time\n",
        "    print(f\"Training time: {training_time:.2f} seconds\")\n",
        "\n",
        "    # In biểu đồ loss và accuracy\n",
        "    plt.figure(figsize=(12, 4))\n",
        "\n",
        "    # Biểu đồ loss\n",
        "    plt.subplot(1, 2, 1)\n",
        "    plt.plot(history.history['loss'], label='Train Loss')\n",
        "    plt.plot(history.history['val_loss'], label='Validation Loss')\n",
        "    plt.title('Loss')\n",
        "    plt.xlabel('Epoch')\n",
        "    plt.ylabel('Loss')\n",
        "    plt.legend()\n",
        "\n",
        "    # Biểu đồ accuracy\n",
        "    plt.subplot(1, 2, 2)\n",
        "    plt.plot(history.history['accuracy'], label='Train Accuracy')\n",
        "    plt.plot(history.history['val_accuracy'], label='Validation Accuracy')\n",
        "    plt.title('Accuracy')\n",
        "    plt.xlabel('Epoch')\n",
        "    plt.ylabel('Accuracy')\n",
        "    plt.legend()\n",
        "\n",
        "    plt.tight_layout()\n",
        "    plt.show()\n",
        "\n",
        "# Gọi hàm fit_and_evaluate và hiển thị biểu đồ\n",
        "fit_and_evaluate(model_rnn_1, train_ds, val_ds)\n"
      ]
    },
    {
      "cell_type": "code",
      "execution_count": null,
      "metadata": {
        "colab": {
          "base_uri": "https://localhost:8080/",
          "height": 608
        },
        "id": "_DmDHWRaAJ2b",
        "outputId": "6de2914d-5999-41d0-e702-81594d5a8f66"
      },
      "outputs": [
        {
          "name": "stdout",
          "output_type": "stream",
          "text": [
            "36/36 [==============================] - 1s 3ms/step\n",
            "36/36 [==============================] - 0s 4ms/step\n"
          ]
        },
        {
          "data": {
            "text/markdown": "### <span style=\"color: black;\">Evaluation on the Validation Set (estimator: RNN-GRU)</span>",
            "text/plain": [
              "<IPython.core.display.Markdown object>"
            ]
          },
          "metadata": {},
          "output_type": "display_data"
        },
        {
          "data": {
            "text/markdown": "Accuracy: 80.2102%",
            "text/plain": [
              "<IPython.core.display.Markdown object>"
            ]
          },
          "metadata": {},
          "output_type": "display_data"
        },
        {
          "data": {
            "image/png": "[encoded data removed]",
            "text/plain": [
              "<Figure size 1000x500 with 2 Axes>"
            ]
          },
          "metadata": {},
          "output_type": "display_data"
        }
      ],
      "source": [
        "report = EstimatorReport(model_rnn_1, val_ds, y_val, [], [], \"RNN-GRU\", False, 2, True)\n",
        "report.display_report()"
      ]
    },
    {
      "cell_type": "code",
      "execution_count": null,
      "metadata": {
        "id": "vuxz3UfJAJ2b"
      },
      "outputs": [],
      "source": [
        "results_df = add_to_results(\"RNN-GRU\", acc, results_df)"
      ]
    },
    {
      "cell_type": "markdown",
      "metadata": {
        "id": "ME0TlrbvAJ2b"
      },
      "source": [
        "## Universal sentence encoder  <a class=\"anchor\" id=\"use\"></a>"
      ]
    },
    {
      "cell_type": "markdown",
      "metadata": {
        "id": "erZyRtcrAJ2b"
      },
      "source": [
        "The purpose of the Universal Sentence Encoder (USE) is to generate fixed-length numerical representations, or embeddings, for sentences or short text inputs. It is a pre-trained model developed by Google Research that aims to capture the semantic meaning and contextual information of textual inputs.\n",
        "The embedded text generated by the USE will be used for subsequent training of DNN model."
      ]
    },
    {
      "cell_type": "code",
      "execution_count": null,
      "metadata": {
        "id": "YJBPced6AJ2b"
      },
      "outputs": [],
      "source": [
        "encoder_url = 'https://tfhub.dev/google/universal-sentence-encoder-large/5'\n",
        "embed_module = hub.load(encoder_url)"
      ]
    },
    {
      "cell_type": "code",
      "execution_count": null,
      "metadata": {
        "colab": {
          "base_uri": "https://localhost:8080/"
        },
        "id": "SczcIu5kAJ2b",
        "outputId": "bcb3523f-365e-4ee4-bace-8eb41c914484"
      },
      "outputs": [
        {
          "data": {
            "text/plain": [
              "(TensorShape([6471, 512]), TensorShape([1142, 512]), (3263,))"
            ]
          },
          "execution_count": 66,
          "metadata": {},
          "output_type": "execute_result"
        }
      ],
      "source": [
        "X_train_embeddings = embed_module(X_train)\n",
        "X_val_embeddings = embed_module(X_val)\n",
        "X_test_embeddings = embed_module(X_test)\n",
        "X_train_embeddings.shape, X_val_embeddings.shape, X_test.shape"
      ]
    },
    {
      "cell_type": "markdown",
      "metadata": {
        "id": "pY9XomFqAJ2b"
      },
      "source": [
        "Create dataset from embeddings."
      ]
    },
    {
      "cell_type": "code",
      "execution_count": null,
      "metadata": {
        "colab": {
          "base_uri": "https://localhost:8080/"
        },
        "id": "9kLVRaP3AJ2b",
        "outputId": "40eaa1bc-d30d-4a00-b6e0-83ac3bcdd454"
      },
      "outputs": [
        {
          "data": {
            "text/plain": [
              "((TensorSpec(shape=(None, 512), dtype=tf.float32, name=None),\n",
              "  TensorSpec(shape=(None,), dtype=tf.int64, name=None)),\n",
              " (TensorSpec(shape=(None, 512), dtype=tf.float32, name=None),\n",
              "  TensorSpec(shape=(None,), dtype=tf.int64, name=None)),\n",
              " TensorSpec(shape=(None, 512), dtype=tf.float32, name=None))"
            ]
          },
          "execution_count": 67,
          "metadata": {},
          "output_type": "execute_result"
        }
      ],
      "source": [
        "train_embeddings_ds = tf.data.Dataset.from_tensor_slices((X_train_embeddings, y_train)).batch(32).prefetch(tf.data.AUTOTUNE)\n",
        "val_embeddings_ds = tf.data.Dataset.from_tensor_slices((X_val_embeddings, y_val)).batch(32)\n",
        "test_embeddings_ds = tf.data.Dataset.from_tensor_slices(X_test_embeddings).batch(32)\n",
        "train_embeddings_ds.element_spec, val_embeddings_ds.element_spec, test_embeddings_ds.element_spec"
      ]
    },
    {
      "cell_type": "code",
      "execution_count": null,
      "metadata": {
        "id": "VhGfd6ofAJ2b"
      },
      "outputs": [],
      "source": [
        "model_sent_enc = tf.keras.Sequential([\n",
        "    Dropout(0.3),\n",
        "    tf.keras.layers.Dense(16, activation=\"relu\"),\n",
        "    tf.keras.layers.Dense(1, activation=\"sigmoid\")\n",
        "])"
      ]
    },
    {
      "cell_type": "code",
      "execution_count": null,
      "metadata": {
        "colab": {
          "base_uri": "https://localhost:8080/"
        },
        "id": "eAHM6RLmAJ2b",
        "outputId": "96652061-54c4-41f4-ea86-b2d9e8cbf91d"
      },
      "outputs": [
        {
          "name": "stdout",
          "output_type": "stream",
          "text": [
            "Epoch 1/50\n",
            "203/203 [==============================] - 2s 5ms/step - loss: 0.4639 - accuracy: 0.7889 - val_loss: 0.4112 - val_accuracy: 0.8240 - lr: 0.0100\n",
            "Epoch 2/50\n",
            "203/203 [==============================] - 1s 3ms/step - loss: 0.4132 - accuracy: 0.8184 - val_loss: 0.4138 - val_accuracy: 0.8222 - lr: 0.0100\n",
            "Epoch 3/50\n",
            "203/203 [==============================] - ETA: 0s - loss: 0.3975 - accuracy: 0.8240\n",
            "Epoch 3: ReduceLROnPlateau reducing learning rate to 0.0029999999329447745.\n",
            "203/203 [==============================] - 1s 4ms/step - loss: 0.3975 - accuracy: 0.8240 - val_loss: 0.4045 - val_accuracy: 0.8222 - lr: 0.0100\n",
            "Epoch 4/50\n",
            "203/203 [==============================] - 1s 4ms/step - loss: 0.3721 - accuracy: 0.8405 - val_loss: 0.3977 - val_accuracy: 0.8380 - lr: 0.0030\n",
            "Epoch 5/50\n",
            "203/203 [==============================] - 1s 4ms/step - loss: 0.3694 - accuracy: 0.8384 - val_loss: 0.3967 - val_accuracy: 0.8319 - lr: 0.0030\n",
            "Epoch 6/50\n",
            "187/203 [==========================>...] - ETA: 0s - loss: 0.3641 - accuracy: 0.8476\n",
            "Epoch 6: ReduceLROnPlateau reducing learning rate to 0.0009000000078231095.\n",
            "203/203 [==============================] - 1s 4ms/step - loss: 0.3663 - accuracy: 0.8456 - val_loss: 0.3979 - val_accuracy: 0.8327 - lr: 0.0030\n",
            "Epoch 7/50\n",
            "203/203 [==============================] - 1s 3ms/step - loss: 0.3522 - accuracy: 0.8510 - val_loss: 0.3987 - val_accuracy: 0.8319 - lr: 9.0000e-04\n",
            "Epoch 8/50\n",
            "189/203 [==========================>...] - ETA: 0s - loss: 0.3488 - accuracy: 0.8548\n",
            "Epoch 8: ReduceLROnPlateau reducing learning rate to 0.00026999999536201356.\n",
            "203/203 [==============================] - 1s 4ms/step - loss: 0.3508 - accuracy: 0.8533 - val_loss: 0.3993 - val_accuracy: 0.8327 - lr: 9.0000e-04\n",
            "Epoch 9/50\n",
            "203/203 [==============================] - 1s 4ms/step - loss: 0.3542 - accuracy: 0.8467 - val_loss: 0.3996 - val_accuracy: 0.8310 - lr: 2.7000e-04\n",
            "Epoch 10/50\n",
            "194/203 [===========================>..] - ETA: 0s - loss: 0.3472 - accuracy: 0.8566\n",
            "Epoch 10: ReduceLROnPlateau reducing learning rate to 8.099999686237424e-05.\n",
            "203/203 [==============================] - 1s 4ms/step - loss: 0.3480 - accuracy: 0.8564 - val_loss: 0.3995 - val_accuracy: 0.8301 - lr: 2.7000e-04\n",
            "Epoch 11/50\n",
            "203/203 [==============================] - 1s 3ms/step - loss: 0.3446 - accuracy: 0.8524 - val_loss: 0.3997 - val_accuracy: 0.8292 - lr: 8.1000e-05\n",
            "Epoch 12/50\n",
            "199/203 [============================>.] - ETA: 0s - loss: 0.3486 - accuracy: 0.8472\n",
            "Epoch 12: ReduceLROnPlateau reducing learning rate to 2.429999949526973e-05.\n",
            "203/203 [==============================] - 1s 3ms/step - loss: 0.3492 - accuracy: 0.8472 - val_loss: 0.3997 - val_accuracy: 0.8292 - lr: 8.1000e-05\n",
            "Epoch 13/50\n",
            "203/203 [==============================] - 1s 4ms/step - loss: 0.3438 - accuracy: 0.8554 - val_loss: 0.3997 - val_accuracy: 0.8292 - lr: 2.4300e-05\n",
            "Epoch 14/50\n",
            "193/203 [===========================>..] - ETA: 0s - loss: 0.3464 - accuracy: 0.8536\n",
            "Epoch 14: ReduceLROnPlateau reducing learning rate to 7.289999848580919e-06.\n",
            "203/203 [==============================] - 1s 5ms/step - loss: 0.3470 - accuracy: 0.8535 - val_loss: 0.3998 - val_accuracy: 0.8292 - lr: 2.4300e-05\n",
            "36/36 [==============================] - 0s 3ms/step - loss: 0.3977 - accuracy: 0.8380\n",
            "CPU times: user 13.1 s, sys: 893 ms, total: 14 s\n",
            "Wall time: 13.6 s\n"
          ]
        }
      ],
      "source": [
        "%%time\n",
        "_, acc = fit_and_evaluate(\n",
        "    model_sent_enc,\n",
        "    train_embeddings_ds,\n",
        "    val_embeddings_ds,\n",
        "    learning_rate=0.01\n",
        ")"
      ]
    },
    {
      "cell_type": "code",
      "execution_count": null,
      "metadata": {
        "colab": {
          "base_uri": "https://localhost:8080/",
          "height": 608
        },
        "id": "9BfeymjbAJ2b",
        "outputId": "02d418f3-2b46-44f8-9961-3b0a2d2e64b7"
      },
      "outputs": [
        {
          "name": "stdout",
          "output_type": "stream",
          "text": [
            "36/36 [==============================] - 0s 2ms/step\n",
            "36/36 [==============================] - 0s 2ms/step\n"
          ]
        },
        {
          "data": {
            "text/markdown": "### <span style=\"color: black;\">Evaluation on the Validation Set (estimator: Univ sent encoder)</span>",
            "text/plain": [
              "<IPython.core.display.Markdown object>"
            ]
          },
          "metadata": {},
          "output_type": "display_data"
        },
        {
          "data": {
            "text/markdown": "Accuracy: 83.8004%",
            "text/plain": [
              "<IPython.core.display.Markdown object>"
            ]
          },
          "metadata": {},
          "output_type": "display_data"
        },
        {
          "data": {
            "image/png": "[encoded data removed]",
            "text/plain": [
              "<Figure size 1000x500 with 2 Axes>"
            ]
          },
          "metadata": {},
          "output_type": "display_data"
        }
      ],
      "source": [
        "EstimatorReport(model_sent_enc, val_embeddings_ds, y_val, [], [], \"Univ sent encoder\", False, 2, True).display_report()"
      ]
    },
    {
      "cell_type": "code",
      "execution_count": null,
      "metadata": {
        "id": "2l9amN8BAJ2b"
      },
      "outputs": [],
      "source": [
        "results_df = add_to_results(\"USE\", acc, results_df)"
      ]
    },
    {
      "cell_type": "code",
      "execution_count": null,
      "metadata": {
        "colab": {
          "base_uri": "https://localhost:8080/"
        },
        "id": "Ys4lhSw-AJ2c",
        "outputId": "7b3da63b-ab6f-4e55-d9e0-b391fbe95229"
      },
      "outputs": [
        {
          "data": {
            "text/plain": [
              "6637"
            ]
          },
          "execution_count": 72,
          "metadata": {},
          "output_type": "execute_result"
        }
      ],
      "source": [
        "gc.collect()"
      ]
    },
    {
      "cell_type": "markdown",
      "metadata": {
        "id": "SKK7LXEzAJ2c"
      },
      "source": [
        "## RoBERTa <a class=\"anchor\" id=\"roberta\"></a>"
      ]
    },
    {
      "cell_type": "markdown",
      "metadata": {
        "id": "7dwYy0nVAJ2c"
      },
      "source": [
        "Let's create, train and assess more specific models from Transformers family. Start from RoBERTa (Robustly Optimized BERT approach) model. See more in <a href=\"https://huggingface.co/docs/transformers/model_doc/roberta\">model_doc</a>"
      ]
    },
    {
      "cell_type": "code",
      "execution_count": null,
      "metadata": {
        "id": "sF_9mK5qAJ2c"
      },
      "outputs": [],
      "source": [
        "def get_tokenizer_max_len(data):\n",
        "    token_lens = []\n",
        "    for txt in data:\n",
        "        tokens = tokenizer_roberta.encode(txt, max_length=512, truncation=True)\n",
        "        token_lens.append(len(tokens))\n",
        "    max_length=np.max(token_lens)\n",
        "    return max_length"
      ]
    },
    {
      "cell_type": "code",
      "execution_count": null,
      "metadata": {
        "colab": {
          "base_uri": "https://localhost:8080/",
          "height": 113,
          "referenced_widgets": [
            "777bbdcc5a5a47f5b7c87d7b08f8ad9d",
            "5188a735fcd54e2bb923b971949c83a7",
            "4d575f5ac98c46f69823fbba67757dbd",
            "e62fcc7a80fa418c91cb06221f7df0d4",
            "d706795c8efa4f99b4035fdc9845153a",
            "2da8db244229495b9c184914cce09099",
            "328c370d77e94260a902a49bfe1c05e7",
            "7c58b568b747480cb591fd1280acb1c8",
            "2de60f2511674cbf82830620bd2e19c7",
            "996c619685bb4b75824310e229626e30",
            "de66069f580e46448cbf544aa7852bc1",
            "1cde87d990e9410d833c5508ea7d6f31",
            "b6fa41a624b94463b5276549e055b6e8",
            "dcac210f92a949efb6fad67769756d47",
            "f5dc0943c2c64039afed3acf8c9e5dd5",
            "ecdcc3c10b554c3eaed4fcab0324b69c",
            "9253038b261b4324a1f8451af5538abb",
            "7237a639d9a34d84bcc4e9ccd6c7faae",
            "e7f6ec532c314b978a801b1200145127",
            "6015aab51d5244c7ab775cd98ae50040",
            "57d8490bf7334363a2af57f7fdf74489",
            "266d2287978145dbb1a72f049811329a",
            "1df10adf711e4ba08daa053c63db4284",
            "edf679b788e74aeaa7f4b048c36a3128",
            "e09c201a6ad44942b89f439298f5b200",
            "8c6d6ed402404db8ad882e24c0ab4111",
            "5974e09256214967a2340777dea3b5bf",
            "f4d6622e0c7946ee9d668c71bdc11d72",
            "49d2a92403de45c0ab83beae3f412376",
            "4b71e84b3ca243a0bb7749e7c84dcd5e",
            "489a7ed914934012b8fb3c53c9c72065",
            "a0126e3dd9db4866abc685bdac895732",
            "d760e158be9c4685a4f5e136d039bf43"
          ]
        },
        "id": "ZL96hrkZAJ2c",
        "outputId": "b3368421-f7cf-48ee-f6b9-771b791342ae"
      },
      "outputs": [
        {
          "data": {
            "application/vnd.jupyter.widget-view+json": {
              "model_id": "777bbdcc5a5a47f5b7c87d7b08f8ad9d",
              "version_major": 2,
              "version_minor": 0
            },
            "text/plain": [
              "Downloading (…)olve/main/vocab.json:   0%|          | 0.00/899k [00:00<?, ?B/s]"
            ]
          },
          "metadata": {},
          "output_type": "display_data"
        },
        {
          "data": {
            "application/vnd.jupyter.widget-view+json": {
              "model_id": "1cde87d990e9410d833c5508ea7d6f31",
              "version_major": 2,
              "version_minor": 0
            },
            "text/plain": [
              "Downloading (…)olve/main/merges.txt:   0%|          | 0.00/456k [00:00<?, ?B/s]"
            ]
          },
          "metadata": {},
          "output_type": "display_data"
        },
        {
          "data": {
            "application/vnd.jupyter.widget-view+json": {
              "model_id": "1df10adf711e4ba08daa053c63db4284",
              "version_major": 2,
              "version_minor": 0
            },
            "text/plain": [
              "Downloading (…)lve/main/config.json:   0%|          | 0.00/481 [00:00<?, ?B/s]"
            ]
          },
          "metadata": {},
          "output_type": "display_data"
        }
      ],
      "source": [
        "tokenizer_roberta = RobertaTokenizer.from_pretrained(\"roberta-base\", do_lower_case=True)"
      ]
    },
    {
      "cell_type": "markdown",
      "metadata": {
        "id": "LXn3zY8PAJ2c"
      },
      "source": [
        "I tried different values of params num_hidden_layers, num_attention_heads but with no improvements."
      ]
    },
    {
      "cell_type": "code",
      "execution_count": null,
      "metadata": {
        "colab": {
          "base_uri": "https://localhost:8080/",
          "height": 156,
          "referenced_widgets": [
            "b25b805f8f594635b0c24d97dee5f806",
            "1fffac20750c45f0aba9018f76ba5a3d",
            "001e05410aca47b0a045295d57177521",
            "26cd88839cad402b8128daab16ae6742",
            "7c00a9cc3c854fe0abafdc2c205d7d25",
            "1170a5b2cfb148a39f709c509e504eec",
            "bc243bc4d9864fc18595a350d3f22b17",
            "cd6153766337411aa073490b469a4834",
            "71bcb4218aa94dd4ba8cde1c57be238c",
            "ad4e5e8159a14c988cc6d1a6ba89cd6e",
            "93344c81589a4867995569eb51589198"
          ]
        },
        "id": "G2x4GdboAJ2c",
        "outputId": "dafdff0b-d0da-4146-9064-b136ca934ef5"
      },
      "outputs": [
        {
          "data": {
            "application/vnd.jupyter.widget-view+json": {
              "model_id": "b25b805f8f594635b0c24d97dee5f806",
              "version_major": 2,
              "version_minor": 0
            },
            "text/plain": [
              "Downloading model.safetensors:   0%|          | 0.00/499M [00:00<?, ?B/s]"
            ]
          },
          "metadata": {},
          "output_type": "display_data"
        },
        {
          "name": "stderr",
          "output_type": "stream",
          "text": [
            "Some weights of the PyTorch model were not used when initializing the TF 2.0 model TFRobertaForSequenceClassification: ['roberta.embeddings.position_ids']\n",
            "- This IS expected if you are initializing TFRobertaForSequenceClassification from a PyTorch model trained on another task or with another architecture (e.g. initializing a TFBertForSequenceClassification model from a BertForPreTraining model).\n",
            "- This IS NOT expected if you are initializing TFRobertaForSequenceClassification from a PyTorch model that you expect to be exactly identical (e.g. initializing a TFBertForSequenceClassification model from a BertForSequenceClassification model).\n",
            "Some weights or buffers of the TF 2.0 model TFRobertaForSequenceClassification were not initialized from the PyTorch model and are newly initialized: ['classifier.dense.weight', 'classifier.dense.bias', 'classifier.out_proj.weight', 'classifier.out_proj.bias']\n",
            "You should probably TRAIN this model on a down-stream task to be able to use it for predictions and inference.\n"
          ]
        }
      ],
      "source": [
        "model_roberta = TFRobertaForSequenceClassification.from_pretrained(\"roberta-base\", num_labels=2)"
      ]
    },
    {
      "cell_type": "code",
      "execution_count": null,
      "metadata": {
        "colab": {
          "base_uri": "https://localhost:8080/"
        },
        "id": "zv-wo1FNAJ2c",
        "outputId": "55c4d935-19c5-410b-e85f-c8740eac53f3"
      },
      "outputs": [
        {
          "name": "stdout",
          "output_type": "stream",
          "text": [
            "Model: \"tf_roberta_for_sequence_classification\"\n",
            "_________________________________________________________________\n",
            " Layer (type)                Output Shape              Param #   \n",
            "=================================================================\n",
            " roberta (TFRobertaMainLaye  multiple                  124055040 \n",
            " r)                                                              \n",
            "                                                                 \n",
            " classifier (TFRobertaClass  multiple                  592130    \n",
            " ificationHead)                                                  \n",
            "                                                                 \n",
            "=================================================================\n",
            "Total params: 124647170 (475.49 MB)\n",
            "Trainable params: 124647170 (475.49 MB)\n",
            "Non-trainable params: 0 (0.00 Byte)\n",
            "_________________________________________________________________\n"
          ]
        }
      ],
      "source": [
        "model_roberta.summary()"
      ]
    },
    {
      "cell_type": "markdown",
      "metadata": {
        "id": "c_3klYb0AJ2c"
      },
      "source": [
        "Get max sequences length."
      ]
    },
    {
      "cell_type": "code",
      "execution_count": null,
      "metadata": {
        "colab": {
          "base_uri": "https://localhost:8080/"
        },
        "id": "WrzyQmzmAJ2c",
        "outputId": "463285c3-05d1-4d45-8128-4c956397287a"
      },
      "outputs": [
        {
          "data": {
            "text/plain": [
              "70"
            ]
          },
          "execution_count": 77,
          "metadata": {},
          "output_type": "execute_result"
        }
      ],
      "source": [
        "MAX_LEN = get_tokenizer_max_len(X_full)\n",
        "MAX_LEN"
      ]
    },
    {
      "cell_type": "markdown",
      "metadata": {
        "id": "W_fW4pyKAJ2c"
      },
      "source": [
        "Create additional functions and create tokenized datasets. Funtion get_tokenized_ds will be used for other models too."
      ]
    },
    {
      "cell_type": "code",
      "execution_count": null,
      "metadata": {
        "id": "ZbIb4YPMAJ2c"
      },
      "outputs": [],
      "source": [
        "def get_tokenized_ds(X_data, y_data, tokenizer, batch_size=32, prefetch=True):\n",
        "    X_data_tokenized = tokenizer(X_data)\n",
        "    X_data_tokenized_ds = tf.data.Dataset.from_tensor_slices(X_data_tokenized)\n",
        "    if len(y_data) > 0:\n",
        "        y_data_ds = tf.data.Dataset.from_tensor_slices(y_data)\n",
        "        data_ds = tf.data.Dataset.zip((X_data_tokenized_ds, y_data_ds))\n",
        "    else:\n",
        "        data_ds = X_data_tokenized_ds\n",
        "    if batch_size>0:\n",
        "        data_ds = data_ds.batch(batch_size)\n",
        "    if prefetch:\n",
        "        data_ds = data_ds.prefetch(tf.data.AUTOTUNE)\n",
        "    return data_ds"
      ]
    },
    {
      "cell_type": "code",
      "execution_count": null,
      "metadata": {
        "id": "0n6AnfmdAJ2d"
      },
      "outputs": [],
      "source": [
        "def tokenizer_roberta_wrapper(data, max_len=MAX_LEN) :\n",
        "    input_ids = []\n",
        "    attention_masks = []\n",
        "    for i in range(len(data)):\n",
        "        encoded = tokenizer_roberta.encode_plus(\n",
        "            data[i],\n",
        "            add_special_tokens=True,\n",
        "            max_length=max_len,\n",
        "            padding='max_length',\n",
        "            return_attention_mask=True,\n",
        "            truncation=True,\n",
        "        )\n",
        "        input_ids.append(encoded['input_ids'])\n",
        "        attention_masks.append(encoded['attention_mask'])\n",
        "    return np.array(input_ids), np.array(attention_masks)"
      ]
    },
    {
      "cell_type": "markdown",
      "metadata": {
        "id": "E_dAJWzRAJ2d"
      },
      "source": [
        "Check how tokenizer works, and its output structure."
      ]
    },
    {
      "cell_type": "code",
      "execution_count": null,
      "metadata": {
        "colab": {
          "base_uri": "https://localhost:8080/"
        },
        "id": "YayMoYsvAJ2d",
        "outputId": "2b19e9e7-2edf-41ee-bc42-b7a859fe5f2c"
      },
      "outputs": [
        {
          "data": {
            "text/plain": [
              "{'input_ids': [0, 33877, 4845, 14, 1011, 21, 23523, 14045, 12846, 849, 17858, 863, 4113, 2, 1, 1, 1, 1, 1, 1, 1, 1, 1, 1, 1, 1, 1, 1, 1, 1, 1, 1, 1, 1, 1, 1, 1, 1, 1, 1, 1, 1, 1, 1, 1, 1, 1, 1, 1, 1, 1, 1, 1, 1, 1, 1, 1, 1, 1, 1, 1, 1, 1, 1, 1, 1, 1, 1, 1, 1], 'attention_mask': [1, 1, 1, 1, 1, 1, 1, 1, 1, 1, 1, 1, 1, 1, 0, 0, 0, 0, 0, 0, 0, 0, 0, 0, 0, 0, 0, 0, 0, 0, 0, 0, 0, 0, 0, 0, 0, 0, 0, 0, 0, 0, 0, 0, 0, 0, 0, 0, 0, 0, 0, 0, 0, 0, 0, 0, 0, 0, 0, 0, 0, 0, 0, 0, 0, 0, 0, 0, 0, 0]}"
            ]
          },
          "execution_count": 80,
          "metadata": {},
          "output_type": "execute_result"
        }
      ],
      "source": [
        "encoded_item_example = tokenizer_roberta.encode_plus(\n",
        "            X_train[0],\n",
        "            add_special_tokens=True,\n",
        "            max_length=MAX_LEN,\n",
        "            return_attention_mask=True,\n",
        "            padding='max_length',\n",
        "            truncation=True,\n",
        "        )\n",
        "encoded_item_example"
      ]
    },
    {
      "cell_type": "markdown",
      "metadata": {
        "id": "IRhrF65GAJ2d"
      },
      "source": [
        "Create filled with zeros array for test dataset as fake labels. Model's predict method using this dataset without labels isn't working correctly. Also can be used separate arrays for input_ids and attention_mask, but for sequencing I use tf.data.Dataset."
      ]
    },
    {
      "cell_type": "code",
      "execution_count": null,
      "metadata": {
        "colab": {
          "base_uri": "https://localhost:8080/"
        },
        "id": "Uubrb9aaAJ2d",
        "outputId": "01864161-a471-43ff-a4a5-e711fbe145af"
      },
      "outputs": [
        {
          "data": {
            "text/plain": [
              "(3263,)"
            ]
          },
          "execution_count": 81,
          "metadata": {},
          "output_type": "execute_result"
        }
      ],
      "source": [
        "y_test_fake = np.zeros(len(X_test))\n",
        "y_test_fake.shape"
      ]
    },
    {
      "cell_type": "code",
      "execution_count": null,
      "metadata": {
        "colab": {
          "base_uri": "https://localhost:8080/"
        },
        "id": "m6HSznxjAJ2d",
        "outputId": "1b7c7793-1579-4c5f-caed-1469bd2169db"
      },
      "outputs": [
        {
          "data": {
            "text/plain": [
              "(((TensorSpec(shape=(None, 70), dtype=tf.int64, name=None),\n",
              "   TensorSpec(shape=(None, 70), dtype=tf.int64, name=None)),\n",
              "  TensorSpec(shape=(None,), dtype=tf.int64, name=None)),\n",
              " ((TensorSpec(shape=(None, 70), dtype=tf.int64, name=None),\n",
              "   TensorSpec(shape=(None, 70), dtype=tf.int64, name=None)),\n",
              "  TensorSpec(shape=(None,), dtype=tf.int64, name=None)),\n",
              " ((TensorSpec(shape=(None, 70), dtype=tf.int64, name=None),\n",
              "   TensorSpec(shape=(None, 70), dtype=tf.int64, name=None)),\n",
              "  TensorSpec(shape=(None,), dtype=tf.float64, name=None)))"
            ]
          },
          "execution_count": 82,
          "metadata": {},
          "output_type": "execute_result"
        }
      ],
      "source": [
        "train_roberta_ds = get_tokenized_ds(X_train, y_train, tokenizer_roberta_wrapper)\n",
        "val_roberta_ds = get_tokenized_ds(X_val, y_val, tokenizer_roberta_wrapper)\n",
        "test_roberta_ds = get_tokenized_ds(X_test, y_test_fake, tokenizer_roberta_wrapper, prefetch=False)\n",
        "train_roberta_ds.element_spec, val_roberta_ds.element_spec, test_roberta_ds.element_spec"
      ]
    },
    {
      "cell_type": "code",
      "execution_count": null,
      "metadata": {
        "colab": {
          "base_uri": "https://localhost:8080/"
        },
        "id": "AllM4lT-AJ2d",
        "outputId": "c9257d8e-09fa-4e58-8a3f-fe1580d0a2e1"
      },
      "outputs": [
        {
          "name": "stdout",
          "output_type": "stream",
          "text": [
            "Epoch 1/10\n",
            "203/203 [==============================] - 171s 579ms/step - loss: 0.4760 - accuracy: 0.7691 - val_loss: 0.3967 - val_accuracy: 0.8292 - lr: 1.0000e-05\n",
            "Epoch 2/10\n",
            "203/203 [==============================] - 94s 464ms/step - loss: 0.3508 - accuracy: 0.8586 - val_loss: 0.3858 - val_accuracy: 0.8424 - lr: 1.0000e-05\n",
            "Epoch 3/10\n",
            "203/203 [==============================] - 92s 455ms/step - loss: 0.2978 - accuracy: 0.8838 - val_loss: 0.3901 - val_accuracy: 0.8371 - lr: 1.0000e-05\n",
            "Epoch 4/10\n",
            "203/203 [==============================] - ETA: 0s - loss: 0.2407 - accuracy: 0.9110\n",
            "Epoch 4: ReduceLROnPlateau reducing learning rate to 2.9999999242136253e-06.\n",
            "203/203 [==============================] - 92s 455ms/step - loss: 0.2407 - accuracy: 0.9110 - val_loss: 0.4325 - val_accuracy: 0.8275 - lr: 1.0000e-05\n",
            "Epoch 5/10\n",
            "203/203 [==============================] - 98s 481ms/step - loss: 0.1892 - accuracy: 0.9306 - val_loss: 0.5113 - val_accuracy: 0.8301 - lr: 3.0000e-06\n",
            "36/36 [==============================] - 5s 148ms/step - loss: 0.3858 - accuracy: 0.8424\n",
            "CPU times: user 6min 4s, sys: 47.7 s, total: 6min 52s\n",
            "Wall time: 10min\n"
          ]
        }
      ],
      "source": [
        "%%time\n",
        "_, acc = fit_and_evaluate(\n",
        "    model_roberta,\n",
        "    train_roberta_ds,\n",
        "    val_roberta_ds,\n",
        "    learning_rate=1e-5,\n",
        "    epochs=10,\n",
        "    loss=SparseCategoricalCrossentropy(from_logits=True),\n",
        "    es_patience=3\n",
        ")"
      ]
    },
    {
      "cell_type": "code",
      "execution_count": null,
      "metadata": {
        "id": "1--U0lgnDe-_"
      },
      "outputs": [],
      "source": [
        "import matplotlib.pyplot as plt\n",
        "\n",
        "# Import thư viện để tính thời gian\n",
        "import time\n",
        "\n",
        "# Định nghĩa hàm huấn luyện và đánh giá mô hình\n",
        "def fit_and_evaluate(model, train_dataset, val_dataset, learning_rate, epochs, loss, es_patience):\n",
        "    start_time = time.time()\n",
        "\n",
        "    # Compile mô hình\n",
        "    model.compile(optimizer=tf.keras.optimizers.Adam(learning_rate=learning_rate),\n",
        "                  loss=loss,\n",
        "                  metrics=['accuracy'])\n",
        "\n",
        "    # Sử dụng EarlyStopping để dừng huấn luyện sớm nếu không cải thiện\n",
        "    early_stopping = tf.keras.callbacks.EarlyStopping(monitor='val_loss',\n",
        "                                                     patience=es_patience,\n",
        "                                                     restore_best_weights=True)\n",
        "\n",
        "    # Huấn luyện mô hình\n",
        "    history = model.fit(train_dataset,\n",
        "                        epochs=epochs,\n",
        "                        validation_data=val_dataset,\n",
        "                        callbacks=[early_stopping],\n",
        "                        verbose=1)\n",
        "\n",
        "    end_time = time.time()\n",
        "    training_time = end_time - start_time\n",
        "    print(f\"Training time: {training_time:.2f} seconds\")\n",
        "\n",
        "    # In biểu đồ loss và accuracy\n",
        "    plt.figure(figsize=(12, 4))\n",
        "\n",
        "    # Biểu đồ loss\n",
        "    plt.subplot(1, 2, 1)\n",
        "    plt.plot(history.history['loss'], label='Train Loss')\n",
        "    plt.plot(history.history['val_loss'], label='Validation Loss')\n",
        "    plt.title('Loss')\n",
        "    plt.xlabel('Epoch')\n",
        "    plt.ylabel('Loss')\n",
        "    plt.legend()\n",
        "\n",
        "    # Biểu đồ accuracy\n",
        "    plt.subplot(1, 2, 2)\n",
        "    plt.plot(history.history['accuracy'], label='Train Accuracy')\n",
        "    plt.plot(history.history['val_accuracy'], label='Validation Accuracy')\n",
        "    plt.title('Accuracy')\n",
        "    plt.xlabel('Epoch')\n",
        "    plt.ylabel('Accuracy')\n",
        "    plt.legend()\n",
        "\n",
        "    plt.tight_layout()\n",
        "    plt.show()\n",
        "\n",
        "# Gọi hàm fit_and_evaluate và hiển thị biểu đồ\n",
        "fit_and_evaluate(model_roberta, train_roberta_ds, val_roberta_ds, learning_rate=1e-5, epochs=10, loss=tf.keras.losses.SparseCategoricalCrossentropy(from_logits=True), es_patience=3)\n"
      ]
    },
    {
      "cell_type": "code",
      "execution_count": null,
      "metadata": {
        "colab": {
          "base_uri": "https://localhost:8080/"
        },
        "id": "pvomTJPXAJ2d",
        "outputId": "3e8707ca-3240-4b56-985d-8ca1ec8deaaf"
      },
      "outputs": [
        {
          "name": "stdout",
          "output_type": "stream",
          "text": [
            "36/36 [==============================] - 10s 145ms/step\n",
            " 6/36 [====>.........................] - ETA: 4s"
          ]
        }
      ],
      "source": [
        "EstimatorReport(model_roberta, val_roberta_ds, y_val, [], [], \"RoBERTa\", True, 2).display_report()"
      ]
    },
    {
      "cell_type": "code",
      "execution_count": null,
      "metadata": {
        "id": "oPj2wfUPAJ2d"
      },
      "outputs": [],
      "source": [
        "results_df = add_to_results(\"RoBERTa\", acc, results_df)"
      ]
    },
    {
      "cell_type": "code",
      "execution_count": null,
      "metadata": {
        "colab": {
          "background_save": true
        },
        "id": "Jzq6coIvAJ2d",
        "outputId": "b2bcd908-4b83-4190-916e-480295c4baae"
      },
      "outputs": [
        {
          "data": {
            "text/plain": [
              "6697"
            ]
          },
          "execution_count": 86,
          "metadata": {},
          "output_type": "execute_result"
        }
      ],
      "source": [
        "gc.collect()"
      ]
    },
    {
      "cell_type": "markdown",
      "metadata": {
        "id": "d24HaTJCAJ2d"
      },
      "source": [
        "## Twitter-roBERTa <a class=\"anchor\" id=\"twitterroberta\"></a>"
      ]
    },
    {
      "cell_type": "markdown",
      "metadata": {
        "id": "ZxYkfHzEAJ2e"
      },
      "source": [
        "Create another BERT variant: Twitter-roBERTa. See: <a href=\"https://huggingface.co/cardiffnlp/twitter-roberta-base-sentiment\">model_doc</a>"
      ]
    },
    {
      "cell_type": "code",
      "execution_count": null,
      "metadata": {
        "colab": {
          "background_save": true
        },
        "id": "4xAYfyHgAJ2e"
      },
      "outputs": [],
      "source": [
        "def tokenizer_twitter_roberta_wrapper(data):\n",
        "    tokenized_data = tokenizer_twitter_roberta(data.tolist(), return_tensors=\"np\", padding=True)\n",
        "    return dict(tokenized_data)"
      ]
    },
    {
      "cell_type": "code",
      "execution_count": null,
      "metadata": {
        "colab": {
          "background_save": true,
          "referenced_widgets": [
            "b5d0142505a546d08c71c72876f062db",
            "f013fc411cb5402dbd947ea634e4dbab",
            "da3aae36a3a94068be43a31125f36b77"
          ]
        },
        "id": "eOtKGk5kAJ2e",
        "outputId": "58e3e5d4-c087-4804-d51d-1e0f2295ea96"
      },
      "outputs": [
        {
          "data": {
            "application/vnd.jupyter.widget-view+json": {
              "model_id": "b5d0142505a546d08c71c72876f062db",
              "version_major": 2,
              "version_minor": 0
            },
            "text/plain": [
              "Downloading (…)lve/main/config.json:   0%|          | 0.00/565 [00:00<?, ?B/s]"
            ]
          },
          "metadata": {},
          "output_type": "display_data"
        },
        {
          "data": {
            "application/vnd.jupyter.widget-view+json": {
              "model_id": "f013fc411cb5402dbd947ea634e4dbab",
              "version_major": 2,
              "version_minor": 0
            },
            "text/plain": [
              "Downloading (…)olve/main/vocab.json:   0%|          | 0.00/899k [00:00<?, ?B/s]"
            ]
          },
          "metadata": {},
          "output_type": "display_data"
        },
        {
          "data": {
            "application/vnd.jupyter.widget-view+json": {
              "model_id": "da3aae36a3a94068be43a31125f36b77",
              "version_major": 2,
              "version_minor": 0
            },
            "text/plain": [
              "Downloading (…)olve/main/merges.txt:   0%|          | 0.00/456k [00:00<?, ?B/s]"
            ]
          },
          "metadata": {},
          "output_type": "display_data"
        }
      ],
      "source": [
        "tokenizer_twitter_roberta = AutoTokenizer.from_pretrained(\"cardiffnlp/twitter-roberta-base\", do_lower_case=True)"
      ]
    },
    {
      "cell_type": "code",
      "execution_count": null,
      "metadata": {
        "colab": {
          "background_save": true,
          "referenced_widgets": [
            "c04537f149fe4d6b81e3db5efa488983"
          ]
        },
        "id": "KKxmF1Y9AJ2e",
        "outputId": "d2574510-f95b-46b2-fe71-8ac7ea0f4061"
      },
      "outputs": [
        {
          "data": {
            "application/vnd.jupyter.widget-view+json": {
              "model_id": "c04537f149fe4d6b81e3db5efa488983",
              "version_major": 2,
              "version_minor": 0
            },
            "text/plain": [
              "Downloading tf_model.h5:   0%|          | 0.00/499M [00:00<?, ?B/s]"
            ]
          },
          "metadata": {},
          "output_type": "display_data"
        },
        {
          "name": "stderr",
          "output_type": "stream",
          "text": [
            "All model checkpoint layers were used when initializing TFRobertaForSequenceClassification.\n",
            "\n",
            "Some layers of TFRobertaForSequenceClassification were not initialized from the model checkpoint at cardiffnlp/twitter-roberta-base and are newly initialized: ['classifier']\n",
            "You should probably TRAIN this model on a down-stream task to be able to use it for predictions and inference.\n"
          ]
        }
      ],
      "source": [
        "model_twitter_roberta = TFAutoModelForSequenceClassification.from_pretrained(\"cardiffnlp/twitter-roberta-base\", num_labels=2)"
      ]
    },
    {
      "cell_type": "code",
      "execution_count": null,
      "metadata": {
        "colab": {
          "background_save": true
        },
        "id": "pvV6OzT6AJ2e",
        "outputId": "01627eca-0290-41f3-c36a-7208c3cd1851"
      },
      "outputs": [
        {
          "name": "stdout",
          "output_type": "stream",
          "text": [
            "Model: \"tf_roberta_for_sequence_classification_1\"\n",
            "_________________________________________________________________\n",
            " Layer (type)                Output Shape              Param #   \n",
            "=================================================================\n",
            " roberta (TFRobertaMainLaye  multiple                  124055040 \n",
            " r)                                                              \n",
            "                                                                 \n",
            " classifier (TFRobertaClass  multiple                  592130    \n",
            " ificationHead)                                                  \n",
            "                                                                 \n",
            "=================================================================\n",
            "Total params: 124647170 (475.49 MB)\n",
            "Trainable params: 124647170 (475.49 MB)\n",
            "Non-trainable params: 0 (0.00 Byte)\n",
            "_________________________________________________________________\n"
          ]
        }
      ],
      "source": [
        "model_twitter_roberta.summary()"
      ]
    },
    {
      "cell_type": "code",
      "execution_count": null,
      "metadata": {
        "colab": {
          "background_save": true
        },
        "id": "Rxx1erBWAJ2e",
        "outputId": "58e51e6d-8db7-4d26-b747-c0ee28a18ea5"
      },
      "outputs": [
        {
          "data": {
            "text/plain": [
              "(({'input_ids': TensorSpec(shape=(None, 70), dtype=tf.int64, name=None),\n",
              "   'attention_mask': TensorSpec(shape=(None, 70), dtype=tf.int64, name=None)},\n",
              "  TensorSpec(shape=(None,), dtype=tf.int64, name=None)),\n",
              " ({'input_ids': TensorSpec(shape=(None, 67), dtype=tf.int64, name=None),\n",
              "   'attention_mask': TensorSpec(shape=(None, 67), dtype=tf.int64, name=None)},\n",
              "  TensorSpec(shape=(None,), dtype=tf.int64, name=None)),\n",
              " ({'input_ids': TensorSpec(shape=(None, 68), dtype=tf.int64, name=None),\n",
              "   'attention_mask': TensorSpec(shape=(None, 68), dtype=tf.int64, name=None)},\n",
              "  TensorSpec(shape=(None,), dtype=tf.float64, name=None)))"
            ]
          },
          "execution_count": 91,
          "metadata": {},
          "output_type": "execute_result"
        }
      ],
      "source": [
        "train_twitter_roberta_ds = get_tokenized_ds(X_train, y_train, tokenizer_twitter_roberta_wrapper, prefetch=False)\n",
        "val_twitter_roberta_ds = get_tokenized_ds(X_val, y_val, tokenizer_twitter_roberta_wrapper, prefetch=False)\n",
        "test_twitter_roberta_ds = get_tokenized_ds(X_test, y_test_fake, tokenizer_twitter_roberta_wrapper, prefetch=False)\n",
        "train_twitter_roberta_ds.element_spec, val_twitter_roberta_ds.element_spec, test_twitter_roberta_ds.element_spec"
      ]
    },
    {
      "cell_type": "code",
      "execution_count": null,
      "metadata": {
        "colab": {
          "background_save": true,
          "base_uri": "https://localhost:8080/"
        },
        "id": "E8V9Y6QmAJ2e",
        "outputId": "fae82880-c13b-4f87-899e-7e4abf04fa8f"
      },
      "outputs": [
        {
          "name": "stdout",
          "output_type": "stream",
          "text": [
            "Epoch 1/10\n",
            "203/203 [==============================] - 148s 503ms/step - loss: 0.4756 - accuracy: 0.7721 - val_loss: 0.3840 - val_accuracy: 0.8345 - lr: 1.0000e-05\n",
            "Epoch 2/10\n",
            "203/203 [==============================] - 93s 457ms/step - loss: 0.3415 - accuracy: 0.8614 - val_loss: 0.3799 - val_accuracy: 0.8424 - lr: 1.0000e-05\n",
            "Epoch 3/10\n",
            "203/203 [==============================] - 92s 455ms/step - loss: 0.2914 - accuracy: 0.8901 - val_loss: 0.4041 - val_accuracy: 0.8327 - lr: 1.0000e-05\n",
            "Epoch 4/10\n",
            "203/203 [==============================] - ETA: 0s - loss: 0.2333 - accuracy: 0.9150\n",
            "Epoch 4: ReduceLROnPlateau reducing learning rate to 2.9999999242136253e-06.\n",
            "203/203 [==============================] - 92s 455ms/step - loss: 0.2333 - accuracy: 0.9150 - val_loss: 0.4791 - val_accuracy: 0.8240 - lr: 1.0000e-05\n",
            "Epoch 5/10\n",
            "203/203 [==============================] - 93s 458ms/step - loss: 0.1871 - accuracy: 0.9349 - val_loss: 0.5528 - val_accuracy: 0.8179 - lr: 3.0000e-06\n",
            "36/36 [==============================] - 5s 150ms/step - loss: 0.3799 - accuracy: 0.8424\n",
            "CPU times: user 6min 2s, sys: 49.4 s, total: 6min 51s\n",
            "Wall time: 9min 7s\n"
          ]
        }
      ],
      "source": [
        "%%time\n",
        "_, acc = fit_and_evaluate(\n",
        "    model_twitter_roberta,\n",
        "    train_twitter_roberta_ds,\n",
        "    val_twitter_roberta_ds,\n",
        "    learning_rate=1e-5,\n",
        "    epochs=10,\n",
        "    loss=SparseCategoricalCrossentropy(from_logits=True),\n",
        "    es_patience=3\n",
        ")"
      ]
    },
    {
      "cell_type": "code",
      "execution_count": null,
      "metadata": {
        "colab": {
          "background_save": true
        },
        "id": "zwpxYGhAAJ2e",
        "outputId": "c61d98ad-911d-491d-e613-a2bd78af2843"
      },
      "outputs": [
        {
          "name": "stdout",
          "output_type": "stream",
          "text": [
            "36/36 [==============================] - 9s 148ms/step\n",
            "36/36 [==============================] - 5s 145ms/step\n"
          ]
        },
        {
          "data": {
            "text/markdown": "### <span style=\"color: black;\">Evaluation on the Validation Set (estimator: Twitter-roBERTa)</span>",
            "text/plain": [
              "<IPython.core.display.Markdown object>"
            ]
          },
          "metadata": {},
          "output_type": "display_data"
        },
        {
          "data": {
            "text/markdown": "Accuracy: 84.2382%",
            "text/plain": [
              "<IPython.core.display.Markdown object>"
            ]
          },
          "metadata": {},
          "output_type": "display_data"
        },
        {
          "data": {
            "image/png": "[encoded data removed]",
            "text/plain": [
              "<Figure size 1000x500 with 2 Axes>"
            ]
          },
          "metadata": {},
          "output_type": "display_data"
        }
      ],
      "source": [
        "EstimatorReport(model_twitter_roberta, val_twitter_roberta_ds, y_val, [], [], \"Twitter-roBERTa\", True, 2).display_report()"
      ]
    },
    {
      "cell_type": "code",
      "execution_count": null,
      "metadata": {
        "colab": {
          "background_save": true
        },
        "id": "LGHGWaPhAJ2e"
      },
      "outputs": [],
      "source": [
        "results_df = add_to_results(\"Twitter-roBERTa\", acc, results_df)"
      ]
    },
    {
      "cell_type": "code",
      "execution_count": null,
      "metadata": {
        "colab": {
          "background_save": true
        },
        "id": "nnwH6qjwAJ2e",
        "outputId": "b6ba09a1-4acb-456a-9649-63723c17a49e"
      },
      "outputs": [
        {
          "data": {
            "text/plain": [
              "6716"
            ]
          },
          "execution_count": 95,
          "metadata": {},
          "output_type": "execute_result"
        }
      ],
      "source": [
        "gc.collect()"
      ]
    },
    {
      "cell_type": "markdown",
      "metadata": {
        "id": "k5HBOWs3AJ2e"
      },
      "source": [
        "## Bert <a class=\"anchor\" id=\"bert\"></a>"
      ]
    },
    {
      "cell_type": "markdown",
      "metadata": {
        "id": "5u_qwv-WAJ2e"
      },
      "source": [
        "BERT stands for Bidirectional Encoder Representations from Transformers. It is a transformer-based model for natural language processing (NLP) tasks. It was introduced by researchers at Google in 2018 and has since become a widely adopted and influential model in the field of NLP. See: <a href=\"https://huggingface.co/docs/transformers/model_doc/bert\">model_doc</a>"
      ]
    },
    {
      "cell_type": "code",
      "execution_count": null,
      "metadata": {
        "colab": {
          "background_save": true
        },
        "id": "ZtUz_XfyAJ2f"
      },
      "outputs": [],
      "source": [
        "def tokenizer_bert_wrapper(data):\n",
        "    tokenized_data = tokenizer_bert(data.tolist(), return_tensors=\"np\", padding=True)\n",
        "    return dict(tokenized_data)"
      ]
    },
    {
      "cell_type": "code",
      "execution_count": null,
      "metadata": {
        "colab": {
          "background_save": true,
          "referenced_widgets": [
            "9816a9ba3b924fbc8473ba2dda87e715",
            "9cbac2dd752e4cb490c04d74bdc6caaa"
          ]
        },
        "id": "rknfZnisAJ2f",
        "outputId": "dcded94b-7ee6-4b81-a11c-9e2c04169fee"
      },
      "outputs": [
        {
          "data": {
            "application/vnd.jupyter.widget-view+json": {
              "model_id": "9816a9ba3b924fbc8473ba2dda87e715",
              "version_major": 2,
              "version_minor": 0
            },
            "text/plain": [
              "Downloading (…)lve/main/config.json:   0%|          | 0.00/570 [00:00<?, ?B/s]"
            ]
          },
          "metadata": {},
          "output_type": "display_data"
        },
        {
          "data": {
            "application/vnd.jupyter.widget-view+json": {
              "model_id": "9cbac2dd752e4cb490c04d74bdc6caaa",
              "version_major": 2,
              "version_minor": 0
            },
            "text/plain": [
              "Downloading model.safetensors:   0%|          | 0.00/436M [00:00<?, ?B/s]"
            ]
          },
          "metadata": {},
          "output_type": "display_data"
        },
        {
          "name": "stderr",
          "output_type": "stream",
          "text": [
            "All PyTorch model weights were used when initializing TFBertForSequenceClassification.\n",
            "\n",
            "Some weights or buffers of the TF 2.0 model TFBertForSequenceClassification were not initialized from the PyTorch model and are newly initialized: ['classifier.weight', 'classifier.bias']\n",
            "You should probably TRAIN this model on a down-stream task to be able to use it for predictions and inference.\n"
          ]
        }
      ],
      "source": [
        "model_bert = TFAutoModelForSequenceClassification.from_pretrained(\"bert-base-cased\", num_labels=2)"
      ]
    },
    {
      "cell_type": "code",
      "execution_count": null,
      "metadata": {
        "colab": {
          "background_save": true
        },
        "id": "PbGNywtPAJ2f",
        "outputId": "2ce153be-f7c1-4257-d07a-d4ab6e736cff"
      },
      "outputs": [
        {
          "name": "stdout",
          "output_type": "stream",
          "text": [
            "Model: \"tf_bert_for_sequence_classification\"\n",
            "_________________________________________________________________\n",
            " Layer (type)                Output Shape              Param #   \n",
            "=================================================================\n",
            " bert (TFBertMainLayer)      multiple                  108310272 \n",
            "                                                                 \n",
            " dropout_114 (Dropout)       multiple                  0         \n",
            "                                                                 \n",
            " classifier (Dense)          multiple                  1538      \n",
            "                                                                 \n",
            "=================================================================\n",
            "Total params: 108311810 (413.18 MB)\n",
            "Trainable params: 108311810 (413.18 MB)\n",
            "Non-trainable params: 0 (0.00 Byte)\n",
            "_________________________________________________________________\n"
          ]
        }
      ],
      "source": [
        "model_bert.summary()"
      ]
    },
    {
      "cell_type": "code",
      "execution_count": null,
      "metadata": {
        "colab": {
          "background_save": true,
          "referenced_widgets": [
            "38510b04562640f3a162345233d51d2c",
            "6568bf55750f43b79e3d105bd74f565b",
            "e213928c702644bcbe45a13ef3907793"
          ]
        },
        "id": "GntUHL6fAJ2f",
        "outputId": "39da29db-e05d-43f2-9e7d-f4343313d140"
      },
      "outputs": [
        {
          "data": {
            "application/vnd.jupyter.widget-view+json": {
              "model_id": "38510b04562640f3a162345233d51d2c",
              "version_major": 2,
              "version_minor": 0
            },
            "text/plain": [
              "Downloading (…)okenizer_config.json:   0%|          | 0.00/29.0 [00:00<?, ?B/s]"
            ]
          },
          "metadata": {},
          "output_type": "display_data"
        },
        {
          "data": {
            "application/vnd.jupyter.widget-view+json": {
              "model_id": "6568bf55750f43b79e3d105bd74f565b",
              "version_major": 2,
              "version_minor": 0
            },
            "text/plain": [
              "Downloading (…)solve/main/vocab.txt:   0%|          | 0.00/213k [00:00<?, ?B/s]"
            ]
          },
          "metadata": {},
          "output_type": "display_data"
        },
        {
          "data": {
            "application/vnd.jupyter.widget-view+json": {
              "model_id": "e213928c702644bcbe45a13ef3907793",
              "version_major": 2,
              "version_minor": 0
            },
            "text/plain": [
              "Downloading (…)/main/tokenizer.json:   0%|          | 0.00/436k [00:00<?, ?B/s]"
            ]
          },
          "metadata": {},
          "output_type": "display_data"
        }
      ],
      "source": [
        "tokenizer_bert = AutoTokenizer.from_pretrained(\"bert-base-cased\", do_lower_case=True)"
      ]
    },
    {
      "cell_type": "code",
      "execution_count": null,
      "metadata": {
        "colab": {
          "background_save": true
        },
        "id": "nXB1qA1-AJ2f",
        "outputId": "4d3a15aa-0a1c-4610-e1d8-5f705ed200f6"
      },
      "outputs": [
        {
          "data": {
            "text/plain": [
              "(({'input_ids': TensorSpec(shape=(None, 84), dtype=tf.int64, name=None),\n",
              "   'token_type_ids': TensorSpec(shape=(None, 84), dtype=tf.int64, name=None),\n",
              "   'attention_mask': TensorSpec(shape=(None, 84), dtype=tf.int64, name=None)},\n",
              "  TensorSpec(shape=(None,), dtype=tf.int64, name=None)),\n",
              " ({'input_ids': TensorSpec(shape=(None, 73), dtype=tf.int64, name=None),\n",
              "   'token_type_ids': TensorSpec(shape=(None, 73), dtype=tf.int64, name=None),\n",
              "   'attention_mask': TensorSpec(shape=(None, 73), dtype=tf.int64, name=None)},\n",
              "  TensorSpec(shape=(None,), dtype=tf.int64, name=None)),\n",
              " ({'input_ids': TensorSpec(shape=(None, 63), dtype=tf.int64, name=None),\n",
              "   'token_type_ids': TensorSpec(shape=(None, 63), dtype=tf.int64, name=None),\n",
              "   'attention_mask': TensorSpec(shape=(None, 63), dtype=tf.int64, name=None)},\n",
              "  TensorSpec(shape=(None,), dtype=tf.float64, name=None)))"
            ]
          },
          "execution_count": 100,
          "metadata": {},
          "output_type": "execute_result"
        }
      ],
      "source": [
        "train_bert_ds = get_tokenized_ds(X_train, y_train, tokenizer_bert_wrapper, prefetch=False)\n",
        "val_bert_ds = get_tokenized_ds(X_val, y_val, tokenizer_bert_wrapper, prefetch=False)\n",
        "test_bert_ds = get_tokenized_ds(X_test, y_test_fake, tokenizer_bert_wrapper, prefetch=False)\n",
        "train_bert_ds.element_spec, val_bert_ds.element_spec, test_bert_ds.element_spec"
      ]
    },
    {
      "cell_type": "code",
      "execution_count": null,
      "metadata": {
        "colab": {
          "background_save": true
        },
        "id": "KTMFl6zOAJ2f",
        "outputId": "8743d88f-0d5d-4d19-9a12-e67c7b6e6a75"
      },
      "outputs": [
        {
          "name": "stdout",
          "output_type": "stream",
          "text": [
            "Epoch 1/10\n",
            "203/203 [==============================] - 165s 570ms/step - loss: 0.5519 - accuracy: 0.7110 - val_loss: 0.4145 - val_accuracy: 0.8196 - lr: 5.0000e-06\n",
            "Epoch 2/10\n",
            "203/203 [==============================] - 108s 531ms/step - loss: 0.3860 - accuracy: 0.8430 - val_loss: 0.3975 - val_accuracy: 0.8240 - lr: 5.0000e-06\n",
            "Epoch 3/10\n",
            "203/203 [==============================] - 108s 530ms/step - loss: 0.3293 - accuracy: 0.8761 - val_loss: 0.4094 - val_accuracy: 0.8257 - lr: 5.0000e-06\n",
            "Epoch 4/10\n",
            "203/203 [==============================] - 108s 530ms/step - loss: 0.2838 - accuracy: 0.8934 - val_loss: 0.4385 - val_accuracy: 0.8301 - lr: 5.0000e-06\n",
            "Epoch 5/10\n",
            "203/203 [==============================] - 107s 528ms/step - loss: 0.2444 - accuracy: 0.9147 - val_loss: 0.4778 - val_accuracy: 0.8284 - lr: 5.0000e-06\n",
            "Epoch 6/10\n",
            "203/203 [==============================] - ETA: 0s - loss: 0.2058 - accuracy: 0.9340\n",
            "Epoch 6: ReduceLROnPlateau reducing learning rate to 1.4999999621068127e-06.\n",
            "203/203 [==============================] - 107s 528ms/step - loss: 0.2058 - accuracy: 0.9340 - val_loss: 0.5311 - val_accuracy: 0.8196 - lr: 5.0000e-06\n",
            "Epoch 7/10\n",
            "203/203 [==============================] - 107s 529ms/step - loss: 0.1817 - accuracy: 0.9391 - val_loss: 0.5084 - val_accuracy: 0.8301 - lr: 1.5000e-06\n",
            "36/36 [==============================] - 6s 163ms/step - loss: 0.4385 - accuracy: 0.8301\n",
            "CPU times: user 8min 50s, sys: 1min 23s, total: 10min 14s\n",
            "Wall time: 13min 44s\n"
          ]
        }
      ],
      "source": [
        "%%time\n",
        "_, acc = fit_and_evaluate(\n",
        "    model_bert,\n",
        "    train_bert_ds,\n",
        "    val_bert_ds,\n",
        "    learning_rate=5e-6,\n",
        "    epochs=10,\n",
        "    loss=SparseCategoricalCrossentropy(from_logits=True),\n",
        "    es_patience=3\n",
        ")"
      ]
    },
    {
      "cell_type": "code",
      "execution_count": null,
      "metadata": {
        "colab": {
          "background_save": true
        },
        "id": "VsnB0ONOAJ2h",
        "outputId": "8ca4a221-0884-4242-c77f-d69003d6884f"
      },
      "outputs": [
        {
          "name": "stdout",
          "output_type": "stream",
          "text": [
            "36/36 [==============================] - 9s 158ms/step\n",
            "36/36 [==============================] - 6s 158ms/step\n"
          ]
        },
        {
          "data": {
            "text/markdown": "### <span style=\"color: black;\">Evaluation on the Validation Set (estimator: Bert)</span>",
            "text/plain": [
              "<IPython.core.display.Markdown object>"
            ]
          },
          "metadata": {},
          "output_type": "display_data"
        },
        {
          "data": {
            "text/markdown": "Accuracy: 83.0123%",
            "text/plain": [
              "<IPython.core.display.Markdown object>"
            ]
          },
          "metadata": {},
          "output_type": "display_data"
        },
        {
          "data": {
            "image/png": "[encoded data removed]",
            "text/plain": [
              "<Figure size 1000x500 with 2 Axes>"
            ]
          },
          "metadata": {},
          "output_type": "display_data"
        }
      ],
      "source": [
        "EstimatorReport(model_bert, val_bert_ds, y_val, [], [], \"Bert\", True, 2).display_report()"
      ]
    },
    {
      "cell_type": "code",
      "execution_count": null,
      "metadata": {
        "colab": {
          "background_save": true
        },
        "id": "Cxb8Q3S0AJ2h"
      },
      "outputs": [],
      "source": [
        "results_df = add_to_results(\"Bert\", acc, results_df)"
      ]
    },
    {
      "cell_type": "code",
      "execution_count": null,
      "metadata": {
        "colab": {
          "background_save": true
        },
        "id": "uwTNbz_-AJ2h",
        "outputId": "3a628c6a-8579-454d-85be-bd62ad0940ec"
      },
      "outputs": [
        {
          "data": {
            "text/plain": [
              "6684"
            ]
          },
          "execution_count": 104,
          "metadata": {},
          "output_type": "execute_result"
        }
      ],
      "source": [
        "gc.collect()"
      ]
    },
    {
      "cell_type": "markdown",
      "metadata": {
        "id": "VQOv_xYqAJ2i"
      },
      "source": [
        "## Distilbert <a class=\"anchor\" id=\"distilbert\"></a>"
      ]
    },
    {
      "cell_type": "markdown",
      "metadata": {
        "id": "1F8PEZe5AJ2i"
      },
      "source": [
        "Create DistilBERT model. It is smaller and faster version of BERT. See: <a href=\"https://huggingface.co/docs/transformers/model_doc/distilbert\">model_doc</a>"
      ]
    },
    {
      "cell_type": "code",
      "execution_count": null,
      "metadata": {
        "colab": {
          "background_save": true
        },
        "id": "vPjQkb2GAJ2i"
      },
      "outputs": [],
      "source": [
        "def tokenizer_distilbert_wrapper(data):\n",
        "    return dict(tokenizer_distilbert(data.tolist(), return_tensors=\"np\", padding=True))"
      ]
    },
    {
      "cell_type": "code",
      "execution_count": null,
      "metadata": {
        "colab": {
          "background_save": true,
          "referenced_widgets": [
            "2ddbc9427bcb48929f2e734cd6072b07",
            "682f6b765cdc41cbbe1df5fb674da3d9",
            "8fb855c4e11e49188f96377fe8d066d3"
          ]
        },
        "id": "Dnba935SAJ2i",
        "outputId": "c637be68-0945-465e-c0c4-5feea53f76b0"
      },
      "outputs": [
        {
          "data": {
            "application/vnd.jupyter.widget-view+json": {
              "model_id": "2ddbc9427bcb48929f2e734cd6072b07",
              "version_major": 2,
              "version_minor": 0
            },
            "text/plain": [
              "Downloading (…)solve/main/vocab.txt:   0%|          | 0.00/232k [00:00<?, ?B/s]"
            ]
          },
          "metadata": {},
          "output_type": "display_data"
        },
        {
          "data": {
            "application/vnd.jupyter.widget-view+json": {
              "model_id": "682f6b765cdc41cbbe1df5fb674da3d9",
              "version_major": 2,
              "version_minor": 0
            },
            "text/plain": [
              "Downloading (…)okenizer_config.json:   0%|          | 0.00/28.0 [00:00<?, ?B/s]"
            ]
          },
          "metadata": {},
          "output_type": "display_data"
        },
        {
          "data": {
            "application/vnd.jupyter.widget-view+json": {
              "model_id": "8fb855c4e11e49188f96377fe8d066d3",
              "version_major": 2,
              "version_minor": 0
            },
            "text/plain": [
              "Downloading (…)lve/main/config.json:   0%|          | 0.00/483 [00:00<?, ?B/s]"
            ]
          },
          "metadata": {},
          "output_type": "display_data"
        }
      ],
      "source": [
        "tokenizer_distilbert = DistilBertTokenizer.from_pretrained(\"distilbert-base-uncased\", do_lower_case=True)"
      ]
    },
    {
      "cell_type": "code",
      "execution_count": null,
      "metadata": {
        "colab": {
          "background_save": true,
          "referenced_widgets": [
            "ba10493271dc4d008b140fc2bbb3af5b"
          ]
        },
        "id": "WYSFZffPAJ2i",
        "outputId": "9a0e639a-6411-4b6a-8332-590cde001dee"
      },
      "outputs": [
        {
          "data": {
            "application/vnd.jupyter.widget-view+json": {
              "model_id": "ba10493271dc4d008b140fc2bbb3af5b",
              "version_major": 2,
              "version_minor": 0
            },
            "text/plain": [
              "Downloading model.safetensors:   0%|          | 0.00/268M [00:00<?, ?B/s]"
            ]
          },
          "metadata": {},
          "output_type": "display_data"
        },
        {
          "name": "stderr",
          "output_type": "stream",
          "text": [
            "Some weights of the PyTorch model were not used when initializing the TF 2.0 model TFDistilBertForSequenceClassification: ['vocab_layer_norm.bias', 'vocab_layer_norm.weight', 'vocab_transform.weight', 'vocab_projector.bias', 'vocab_transform.bias']\n",
            "- This IS expected if you are initializing TFDistilBertForSequenceClassification from a PyTorch model trained on another task or with another architecture (e.g. initializing a TFBertForSequenceClassification model from a BertForPreTraining model).\n",
            "- This IS NOT expected if you are initializing TFDistilBertForSequenceClassification from a PyTorch model that you expect to be exactly identical (e.g. initializing a TFBertForSequenceClassification model from a BertForSequenceClassification model).\n",
            "Some weights or buffers of the TF 2.0 model TFDistilBertForSequenceClassification were not initialized from the PyTorch model and are newly initialized: ['pre_classifier.weight', 'pre_classifier.bias', 'classifier.weight', 'classifier.bias']\n",
            "You should probably TRAIN this model on a down-stream task to be able to use it for predictions and inference.\n"
          ]
        }
      ],
      "source": [
        "model_distilbert = TFDistilBertForSequenceClassification.from_pretrained(\"distilbert-base-uncased\", num_labels=2)"
      ]
    },
    {
      "cell_type": "code",
      "execution_count": null,
      "metadata": {
        "colab": {
          "background_save": true
        },
        "id": "9BeWBljBAJ2i",
        "outputId": "78c352cd-bcf2-4461-db9e-cd8b47be06c7"
      },
      "outputs": [
        {
          "name": "stdout",
          "output_type": "stream",
          "text": [
            "Model: \"tf_distil_bert_for_sequence_classification\"\n",
            "_________________________________________________________________\n",
            " Layer (type)                Output Shape              Param #   \n",
            "=================================================================\n",
            " distilbert (TFDistilBertMa  multiple                  66362880  \n",
            " inLayer)                                                        \n",
            "                                                                 \n",
            " pre_classifier (Dense)      multiple                  590592    \n",
            "                                                                 \n",
            " classifier (Dense)          multiple                  1538      \n",
            "                                                                 \n",
            " dropout_134 (Dropout)       multiple                  0         \n",
            "                                                                 \n",
            "=================================================================\n",
            "Total params: 66955010 (255.41 MB)\n",
            "Trainable params: 66955010 (255.41 MB)\n",
            "Non-trainable params: 0 (0.00 Byte)\n",
            "_________________________________________________________________\n"
          ]
        }
      ],
      "source": [
        "model_distilbert.summary()"
      ]
    },
    {
      "cell_type": "code",
      "execution_count": null,
      "metadata": {
        "colab": {
          "background_save": true
        },
        "id": "SfvmaZoNAJ2i",
        "outputId": "7c42b1e4-9568-4641-b2e6-1602fedb19d1"
      },
      "outputs": [
        {
          "data": {
            "text/plain": [
              "(({'input_ids': TensorSpec(shape=(None, 82), dtype=tf.int64, name=None),\n",
              "   'attention_mask': TensorSpec(shape=(None, 82), dtype=tf.int64, name=None)},\n",
              "  TensorSpec(shape=(None,), dtype=tf.int64, name=None)),\n",
              " ({'input_ids': TensorSpec(shape=(None, 69), dtype=tf.int64, name=None),\n",
              "   'attention_mask': TensorSpec(shape=(None, 69), dtype=tf.int64, name=None)},\n",
              "  TensorSpec(shape=(None,), dtype=tf.int64, name=None)),\n",
              " ({'input_ids': TensorSpec(shape=(None, 59), dtype=tf.int64, name=None),\n",
              "   'attention_mask': TensorSpec(shape=(None, 59), dtype=tf.int64, name=None)},\n",
              "  TensorSpec(shape=(None,), dtype=tf.float64, name=None)))"
            ]
          },
          "execution_count": 109,
          "metadata": {},
          "output_type": "execute_result"
        }
      ],
      "source": [
        "train_distilbert_ds = get_tokenized_ds(X_train, y_train, tokenizer_distilbert_wrapper)\n",
        "val_distilbert_ds = get_tokenized_ds(X_val, y_val, tokenizer_distilbert_wrapper)\n",
        "test_distilbert_ds = get_tokenized_ds(X_test, y_test_fake, tokenizer_distilbert_wrapper, prefetch=False)\n",
        "train_distilbert_ds.element_spec, val_distilbert_ds.element_spec, test_distilbert_ds.element_spec"
      ]
    },
    {
      "cell_type": "code",
      "execution_count": null,
      "metadata": {
        "colab": {
          "background_save": true
        },
        "id": "IMqcrwx9AJ2i",
        "outputId": "64e65173-c6bc-4c4d-c321-468dc0a7bb73"
      },
      "outputs": [
        {
          "name": "stdout",
          "output_type": "stream",
          "text": [
            "Epoch 1/15\n",
            "203/203 [==============================] - 86s 309ms/step - loss: 0.5306 - accuracy: 0.7518 - val_loss: 0.4029 - val_accuracy: 0.8345 - lr: 5.0000e-06\n",
            "Epoch 2/15\n",
            "203/203 [==============================] - 54s 264ms/step - loss: 0.3871 - accuracy: 0.8419 - val_loss: 0.3921 - val_accuracy: 0.8327 - lr: 5.0000e-06\n",
            "Epoch 3/15\n",
            "203/203 [==============================] - ETA: 0s - loss: 0.3431 - accuracy: 0.8649\n",
            "Epoch 3: ReduceLROnPlateau reducing learning rate to 1.4999999621068127e-06.\n",
            "203/203 [==============================] - 53s 263ms/step - loss: 0.3431 - accuracy: 0.8649 - val_loss: 0.4046 - val_accuracy: 0.8310 - lr: 5.0000e-06\n",
            "Epoch 4/15\n",
            "203/203 [==============================] - 54s 265ms/step - loss: 0.3120 - accuracy: 0.8822 - val_loss: 0.3991 - val_accuracy: 0.8380 - lr: 1.5000e-06\n",
            "Epoch 5/15\n",
            "203/203 [==============================] - 54s 266ms/step - loss: 0.2995 - accuracy: 0.8890 - val_loss: 0.4019 - val_accuracy: 0.8406 - lr: 1.5000e-06\n",
            "Epoch 6/15\n",
            "203/203 [==============================] - 54s 266ms/step - loss: 0.2902 - accuracy: 0.8946 - val_loss: 0.4039 - val_accuracy: 0.8433 - lr: 1.5000e-06\n",
            "Epoch 7/15\n",
            "203/203 [==============================] - 54s 265ms/step - loss: 0.2807 - accuracy: 0.8982 - val_loss: 0.4099 - val_accuracy: 0.8398 - lr: 1.5000e-06\n",
            "Epoch 8/15\n",
            "203/203 [==============================] - ETA: 0s - loss: 0.2684 - accuracy: 0.9023\n",
            "Epoch 8: ReduceLROnPlateau reducing learning rate to 4.4999998181083353e-07.\n",
            "203/203 [==============================] - 54s 264ms/step - loss: 0.2684 - accuracy: 0.9023 - val_loss: 0.4162 - val_accuracy: 0.8415 - lr: 1.5000e-06\n",
            "Epoch 9/15\n",
            "203/203 [==============================] - 54s 267ms/step - loss: 0.2579 - accuracy: 0.9082 - val_loss: 0.4145 - val_accuracy: 0.8450 - lr: 4.5000e-07\n",
            "Epoch 10/15\n",
            "203/203 [==============================] - 54s 266ms/step - loss: 0.2564 - accuracy: 0.9098 - val_loss: 0.4171 - val_accuracy: 0.8450 - lr: 4.5000e-07\n",
            "Epoch 11/15\n",
            "203/203 [==============================] - ETA: 0s - loss: 0.2529 - accuracy: 0.9122\n",
            "Epoch 11: ReduceLROnPlateau reducing learning rate to 1.3499999624855262e-07.\n",
            "203/203 [==============================] - 54s 264ms/step - loss: 0.2529 - accuracy: 0.9122 - val_loss: 0.4215 - val_accuracy: 0.8424 - lr: 4.5000e-07\n",
            "Epoch 12/15\n",
            "203/203 [==============================] - 54s 266ms/step - loss: 0.2483 - accuracy: 0.9116 - val_loss: 0.4220 - val_accuracy: 0.8415 - lr: 1.3500e-07\n",
            "36/36 [==============================] - 3s 81ms/step - loss: 0.4145 - accuracy: 0.8450\n",
            "CPU times: user 8min 25s, sys: 16.5 s, total: 8min 41s\n",
            "Wall time: 14min 17s\n"
          ]
        }
      ],
      "source": [
        "%%time\n",
        "_, acc = fit_and_evaluate(\n",
        "    model_distilbert,\n",
        "    train_distilbert_ds,\n",
        "    val_distilbert_ds,\n",
        "    learning_rate=5e-6,\n",
        "    epochs=15,\n",
        "    loss=SparseCategoricalCrossentropy(from_logits=True),\n",
        "    es_patience=3\n",
        ")"
      ]
    },
    {
      "cell_type": "code",
      "execution_count": null,
      "metadata": {
        "colab": {
          "background_save": true
        },
        "id": "tRphAa0UAJ2i",
        "outputId": "b881296e-b186-478b-b233-3f62c2bcb9e9"
      },
      "outputs": [
        {
          "name": "stdout",
          "output_type": "stream",
          "text": [
            "36/36 [==============================] - 4s 79ms/step\n",
            "36/36 [==============================] - 3s 78ms/step\n"
          ]
        },
        {
          "data": {
            "text/markdown": "### <span style=\"color: black;\">Evaluation on the Validation Set (estimator: Distilbert)</span>",
            "text/plain": [
              "<IPython.core.display.Markdown object>"
            ]
          },
          "metadata": {},
          "output_type": "display_data"
        },
        {
          "data": {
            "text/markdown": "Accuracy: 84.5009%",
            "text/plain": [
              "<IPython.core.display.Markdown object>"
            ]
          },
          "metadata": {},
          "output_type": "display_data"
        },
        {
          "data": {
            "image/png": "[encoded data removed]",
            "text/plain": [
              "<Figure size 1000x500 with 2 Axes>"
            ]
          },
          "metadata": {},
          "output_type": "display_data"
        }
      ],
      "source": [
        "EstimatorReport(model_distilbert, val_distilbert_ds, y_val, [], [], \"Distilbert\", True, 2).display_report()"
      ]
    },
    {
      "cell_type": "code",
      "execution_count": null,
      "metadata": {
        "colab": {
          "background_save": true
        },
        "id": "ATZJKoXCAJ2i"
      },
      "outputs": [],
      "source": [
        "results_df = add_to_results(\"Distilbert\", acc, results_df)"
      ]
    },
    {
      "cell_type": "markdown",
      "metadata": {
        "id": "nAFYjP_2AJ2i"
      },
      "source": [
        "## Ensembling <a class=\"anchor\" id=\"ensembling\"></a>"
      ]
    },
    {
      "cell_type": "code",
      "execution_count": null,
      "metadata": {
        "colab": {
          "background_save": true
        },
        "id": "_UD1BVS_AJ2i",
        "outputId": "0fa1ed5e-efe6-44c0-99fc-cc931e5f492e"
      },
      "outputs": [
        {
          "data": {
            "text/html": [
              "<style type=\"text/css\">\n",
              "#T_b2840_row0_col0, #T_b2840_row1_col0, #T_b2840_row2_col0, #T_b2840_row3_col0, #T_b2840_row4_col0, #T_b2840_row5_col0 {\n",
              "  text-align: left;\n",
              "}\n",
              "#T_b2840_row0_col1 {\n",
              "  background-color: #fde725;\n",
              "  color: #000000;\n",
              "  text-align: left;\n",
              "}\n",
              "#T_b2840_row1_col1, #T_b2840_row2_col1 {\n",
              "  background-color: #d8e219;\n",
              "  color: #000000;\n",
              "  text-align: left;\n",
              "}\n",
              "#T_b2840_row3_col1 {\n",
              "  background-color: #93d741;\n",
              "  color: #000000;\n",
              "  text-align: left;\n",
              "}\n",
              "#T_b2840_row4_col1 {\n",
              "  background-color: #31b57b;\n",
              "  color: #f1f1f1;\n",
              "  text-align: left;\n",
              "}\n",
              "#T_b2840_row5_col1 {\n",
              "  background-color: #440154;\n",
              "  color: #f1f1f1;\n",
              "  text-align: left;\n",
              "}\n",
              "</style>\n",
              "<table id=\"T_b2840\" class=\"dataframe\">\n",
              "  <thead>\n",
              "    <tr>\n",
              "      <th class=\"blank level0\" >&nbsp;</th>\n",
              "      <th id=\"T_b2840_level0_col0\" class=\"col_heading level0 col0\" >model</th>\n",
              "      <th id=\"T_b2840_level0_col1\" class=\"col_heading level0 col1\" >accuracy</th>\n",
              "    </tr>\n",
              "  </thead>\n",
              "  <tbody>\n",
              "    <tr>\n",
              "      <th id=\"T_b2840_level0_row0\" class=\"row_heading level0 row0\" >0</th>\n",
              "      <td id=\"T_b2840_row0_col0\" class=\"data row0 col0\" >Distilbert</td>\n",
              "      <td id=\"T_b2840_row0_col1\" class=\"data row0 col1\" >0.845009</td>\n",
              "    </tr>\n",
              "    <tr>\n",
              "      <th id=\"T_b2840_level0_row1\" class=\"row_heading level0 row1\" >1</th>\n",
              "      <td id=\"T_b2840_row1_col0\" class=\"data row1 col0\" >RoBERTa</td>\n",
              "      <td id=\"T_b2840_row1_col1\" class=\"data row1 col1\" >0.842382</td>\n",
              "    </tr>\n",
              "    <tr>\n",
              "      <th id=\"T_b2840_level0_row2\" class=\"row_heading level0 row2\" >2</th>\n",
              "      <td id=\"T_b2840_row2_col0\" class=\"data row2 col0\" >Twitter-roBERTa</td>\n",
              "      <td id=\"T_b2840_row2_col1\" class=\"data row2 col1\" >0.842382</td>\n",
              "    </tr>\n",
              "    <tr>\n",
              "      <th id=\"T_b2840_level0_row3\" class=\"row_heading level0 row3\" >3</th>\n",
              "      <td id=\"T_b2840_row3_col0\" class=\"data row3 col0\" >USE</td>\n",
              "      <td id=\"T_b2840_row3_col1\" class=\"data row3 col1\" >0.838004</td>\n",
              "    </tr>\n",
              "    <tr>\n",
              "      <th id=\"T_b2840_level0_row4\" class=\"row_heading level0 row4\" >4</th>\n",
              "      <td id=\"T_b2840_row4_col0\" class=\"data row4 col0\" >Bert</td>\n",
              "      <td id=\"T_b2840_row4_col1\" class=\"data row4 col1\" >0.830123</td>\n",
              "    </tr>\n",
              "    <tr>\n",
              "      <th id=\"T_b2840_level0_row5\" class=\"row_heading level0 row5\" >5</th>\n",
              "      <td id=\"T_b2840_row5_col0\" class=\"data row5 col0\" >RNN-GRU</td>\n",
              "      <td id=\"T_b2840_row5_col1\" class=\"data row5 col1\" >0.802102</td>\n",
              "    </tr>\n",
              "  </tbody>\n",
              "</table>\n"
            ],
            "text/plain": [
              "<pandas.io.formats.style.Styler at 0x7f69d3ca0c10>"
            ]
          },
          "metadata": {},
          "output_type": "display_data"
        }
      ],
      "source": [
        "display(results_df\n",
        "        .sort_values(by='accuracy', ascending=False)\n",
        "        .reset_index(drop=True)\n",
        "        .style\n",
        "        .background_gradient(cmap='viridis')\n",
        "        .set_properties(**{'text-align': 'left'})\n",
        "       )"
      ]
    },
    {
      "cell_type": "markdown",
      "metadata": {
        "id": "5EtzWI18AJ2j"
      },
      "source": [
        "Create a stacked average predictions from best models more precisely using RoBERTa, Twitter-roBERTa and Bert models (I also tried other combinations but these are shows better results)."
      ]
    },
    {
      "cell_type": "code",
      "execution_count": null,
      "metadata": {
        "colab": {
          "background_save": true
        },
        "id": "acbx4odfAJ2j"
      },
      "outputs": [],
      "source": [
        "def get_stacked_predictions(models, datasets):\n",
        "    predicted_logits = []\n",
        "    for model, ds in zip(models, datasets):\n",
        "        y_predictions = model.predict(ds)\n",
        "        predicted_logits.append(y_predictions.logits)\n",
        "    predicted_probas = [softmax(logits, axis=-1) for logits in predicted_logits]\n",
        "    predicted_probas_class_1 = [probas[:, 1] for probas in predicted_probas]\n",
        "    stacked_probas_class_1 = np.stack(predicted_probas_class_1)\n",
        "    stacked_probas_class_1_avg = stacked_probas_class_1.mean(axis=0)\n",
        "    stacked_predictions = [1 if each > 0.5 else 0 for each in stacked_probas_class_1_avg]\n",
        "    return stacked_predictions"
      ]
    },
    {
      "cell_type": "code",
      "execution_count": null,
      "metadata": {
        "id": "TbS1h5IQAJ2j"
      },
      "outputs": [],
      "source": [
        "best_models = [model_roberta, model_twitter_roberta, model_bert]\n",
        "test_datasets = [test_roberta_ds, test_twitter_roberta_ds, test_bert_ds]\n",
        "final_predictions = get_stacked_predictions(best_models, test_datasets)"
      ]
    },
    {
      "cell_type": "markdown",
      "metadata": {
        "id": "oX-qZX5tAJ2j"
      },
      "source": [
        "# Submission <a class=\"anchor\" id=\"submission\"></a>"
      ]
    },
    {
      "cell_type": "code",
      "execution_count": null,
      "metadata": {
        "id": "I7t7a3qlAJ2j"
      },
      "outputs": [],
      "source": [
        "submission_df.loc[:, 'target'] = final_predictions\n",
        "submission_df.head()"
      ]
    },
    {
      "cell_type": "code",
      "execution_count": null,
      "metadata": {
        "id": "EfFb4390AJ2j"
      },
      "outputs": [],
      "source": [
        "submission_df.to_csv('submission.csv', index=True)"
      ]
    },
    {
      "cell_type": "markdown",
      "metadata": {
        "id": "a4sdbKzuAJ2j"
      },
      "source": [
        "# Conclusion <a class=\"anchor\" id=\"conclusion\"></a>"
      ]
    },
    {
      "cell_type": "markdown",
      "metadata": {
        "id": "hTJ-DhADAJ2j"
      },
      "source": [
        "BERT models showed better performance than simple RNN models. By training multiple BERT family models using fine-tuning and ensembling, was achieved good performance for test dataset."
      ]
    }
  ],
  "metadata": {
    "accelerator": "GPU",
    "colab": {
      "provenance": [],
      "include_colab_link": true
    },
    "kernelspec": {
      "display_name": "Python 3",
      "name": "python3"
    },
    "language_info": {
      "codemirror_mode": {
        "name": "ipython",
        "version": 3
      },
      "file_extension": ".py",
      "mimetype": "text/x-python",
      "name": "python",
      "nbconvert_exporter": "python",
      "pygments_lexer": "ipython3",
      "version": "3.6.4"
    },
    "widgets": {
      "application/vnd.jupyter.widget-state+json": {
        "001e05410aca47b0a045295d57177521": {
          "model_module": "@jupyter-widgets/controls",
          "model_module_version": "1.5.0",
          "model_name": "FloatProgressModel",
          "state": {
            "_dom_classes": [],
            "_model_module": "@jupyter-widgets/controls",
            "_model_module_version": "1.5.0",
            "_model_name": "FloatProgressModel",
            "_view_count": null,
            "_view_module": "@jupyter-widgets/controls",
            "_view_module_version": "1.5.0",
            "_view_name": "ProgressView",
            "bar_style": "success",
            "description": "",
            "description_tooltip": null,
            "layout": "IPY_MODEL_cd6153766337411aa073490b469a4834",
            "max": 498818054,
            "min": 0,
            "orientation": "horizontal",
            "style": "IPY_MODEL_71bcb4218aa94dd4ba8cde1c57be238c",
            "value": 498818054
          }
        },
        "1170a5b2cfb148a39f709c509e504eec": {
          "model_module": "@jupyter-widgets/base",
          "model_module_version": "1.2.0",
          "model_name": "LayoutModel",
          "state": {
            "_model_module": "@jupyter-widgets/base",
            "_model_module_version": "1.2.0",
            "_model_name": "LayoutModel",
            "_view_count": null,
            "_view_module": "@jupyter-widgets/base",
            "_view_module_version": "1.2.0",
            "_view_name": "LayoutView",
            "align_content": null,
            "align_items": null,
            "align_self": null,
            "border": null,
            "bottom": null,
            "display": null,
            "flex": null,
            "flex_flow": null,
            "grid_area": null,
            "grid_auto_columns": null,
            "grid_auto_flow": null,
            "grid_auto_rows": null,
            "grid_column": null,
            "grid_gap": null,
            "grid_row": null,
            "grid_template_areas": null,
            "grid_template_columns": null,
            "grid_template_rows": null,
            "height": null,
            "justify_content": null,
            "justify_items": null,
            "left": null,
            "margin": null,
            "max_height": null,
            "max_width": null,
            "min_height": null,
            "min_width": null,
            "object_fit": null,
            "object_position": null,
            "order": null,
            "overflow": null,
            "overflow_x": null,
            "overflow_y": null,
            "padding": null,
            "right": null,
            "top": null,
            "visibility": null,
            "width": null
          }
        },
        "1cde87d990e9410d833c5508ea7d6f31": {
          "model_module": "@jupyter-widgets/controls",
          "model_module_version": "1.5.0",
          "model_name": "HBoxModel",
          "state": {
            "_dom_classes": [],
            "_model_module": "@jupyter-widgets/controls",
            "_model_module_version": "1.5.0",
            "_model_name": "HBoxModel",
            "_view_count": null,
            "_view_module": "@jupyter-widgets/controls",
            "_view_module_version": "1.5.0",
            "_view_name": "HBoxView",
            "box_style": "",
            "children": [
              "IPY_MODEL_b6fa41a624b94463b5276549e055b6e8",
              "IPY_MODEL_dcac210f92a949efb6fad67769756d47",
              "IPY_MODEL_f5dc0943c2c64039afed3acf8c9e5dd5"
            ],
            "layout": "IPY_MODEL_ecdcc3c10b554c3eaed4fcab0324b69c"
          }
        },
        "1df10adf711e4ba08daa053c63db4284": {
          "model_module": "@jupyter-widgets/controls",
          "model_module_version": "1.5.0",
          "model_name": "HBoxModel",
          "state": {
            "_dom_classes": [],
            "_model_module": "@jupyter-widgets/controls",
            "_model_module_version": "1.5.0",
            "_model_name": "HBoxModel",
            "_view_count": null,
            "_view_module": "@jupyter-widgets/controls",
            "_view_module_version": "1.5.0",
            "_view_name": "HBoxView",
            "box_style": "",
            "children": [
              "IPY_MODEL_edf679b788e74aeaa7f4b048c36a3128",
              "IPY_MODEL_e09c201a6ad44942b89f439298f5b200",
              "IPY_MODEL_8c6d6ed402404db8ad882e24c0ab4111"
            ],
            "layout": "IPY_MODEL_5974e09256214967a2340777dea3b5bf"
          }
        },
        "1fffac20750c45f0aba9018f76ba5a3d": {
          "model_module": "@jupyter-widgets/controls",
          "model_module_version": "1.5.0",
          "model_name": "HTMLModel",
          "state": {
            "_dom_classes": [],
            "_model_module": "@jupyter-widgets/controls",
            "_model_module_version": "1.5.0",
            "_model_name": "HTMLModel",
            "_view_count": null,
            "_view_module": "@jupyter-widgets/controls",
            "_view_module_version": "1.5.0",
            "_view_name": "HTMLView",
            "description": "",
            "description_tooltip": null,
            "layout": "IPY_MODEL_1170a5b2cfb148a39f709c509e504eec",
            "placeholder": "​",
            "style": "IPY_MODEL_bc243bc4d9864fc18595a350d3f22b17",
            "value": "Downloading model.safetensors: 100%"
          }
        },
        "266d2287978145dbb1a72f049811329a": {
          "model_module": "@jupyter-widgets/controls",
          "model_module_version": "1.5.0",
          "model_name": "DescriptionStyleModel",
          "state": {
            "_model_module": "@jupyter-widgets/controls",
            "_model_module_version": "1.5.0",
            "_model_name": "DescriptionStyleModel",
            "_view_count": null,
            "_view_module": "@jupyter-widgets/base",
            "_view_module_version": "1.2.0",
            "_view_name": "StyleView",
            "description_width": ""
          }
        },
        "26cd88839cad402b8128daab16ae6742": {
          "model_module": "@jupyter-widgets/controls",
          "model_module_version": "1.5.0",
          "model_name": "HTMLModel",
          "state": {
            "_dom_classes": [],
            "_model_module": "@jupyter-widgets/controls",
            "_model_module_version": "1.5.0",
            "_model_name": "HTMLModel",
            "_view_count": null,
            "_view_module": "@jupyter-widgets/controls",
            "_view_module_version": "1.5.0",
            "_view_name": "HTMLView",
            "description": "",
            "description_tooltip": null,
            "layout": "IPY_MODEL_ad4e5e8159a14c988cc6d1a6ba89cd6e",
            "placeholder": "​",
            "style": "IPY_MODEL_93344c81589a4867995569eb51589198",
            "value": " 499M/499M [00:05&lt;00:00, 104MB/s]"
          }
        },
        "2da8db244229495b9c184914cce09099": {
          "model_module": "@jupyter-widgets/base",
          "model_module_version": "1.2.0",
          "model_name": "LayoutModel",
          "state": {
            "_model_module": "@jupyter-widgets/base",
            "_model_module_version": "1.2.0",
            "_model_name": "LayoutModel",
            "_view_count": null,
            "_view_module": "@jupyter-widgets/base",
            "_view_module_version": "1.2.0",
            "_view_name": "LayoutView",
            "align_content": null,
            "align_items": null,
            "align_self": null,
            "border": null,
            "bottom": null,
            "display": null,
            "flex": null,
            "flex_flow": null,
            "grid_area": null,
            "grid_auto_columns": null,
            "grid_auto_flow": null,
            "grid_auto_rows": null,
            "grid_column": null,
            "grid_gap": null,
            "grid_row": null,
            "grid_template_areas": null,
            "grid_template_columns": null,
            "grid_template_rows": null,
            "height": null,
            "justify_content": null,
            "justify_items": null,
            "left": null,
            "margin": null,
            "max_height": null,
            "max_width": null,
            "min_height": null,
            "min_width": null,
            "object_fit": null,
            "object_position": null,
            "order": null,
            "overflow": null,
            "overflow_x": null,
            "overflow_y": null,
            "padding": null,
            "right": null,
            "top": null,
            "visibility": null,
            "width": null
          }
        },
        "2de60f2511674cbf82830620bd2e19c7": {
          "model_module": "@jupyter-widgets/controls",
          "model_module_version": "1.5.0",
          "model_name": "ProgressStyleModel",
          "state": {
            "_model_module": "@jupyter-widgets/controls",
            "_model_module_version": "1.5.0",
            "_model_name": "ProgressStyleModel",
            "_view_count": null,
            "_view_module": "@jupyter-widgets/base",
            "_view_module_version": "1.2.0",
            "_view_name": "StyleView",
            "bar_color": null,
            "description_width": ""
          }
        },
        "328c370d77e94260a902a49bfe1c05e7": {
          "model_module": "@jupyter-widgets/controls",
          "model_module_version": "1.5.0",
          "model_name": "DescriptionStyleModel",
          "state": {
            "_model_module": "@jupyter-widgets/controls",
            "_model_module_version": "1.5.0",
            "_model_name": "DescriptionStyleModel",
            "_view_count": null,
            "_view_module": "@jupyter-widgets/base",
            "_view_module_version": "1.2.0",
            "_view_name": "StyleView",
            "description_width": ""
          }
        },
        "489a7ed914934012b8fb3c53c9c72065": {
          "model_module": "@jupyter-widgets/controls",
          "model_module_version": "1.5.0",
          "model_name": "ProgressStyleModel",
          "state": {
            "_model_module": "@jupyter-widgets/controls",
            "_model_module_version": "1.5.0",
            "_model_name": "ProgressStyleModel",
            "_view_count": null,
            "_view_module": "@jupyter-widgets/base",
            "_view_module_version": "1.2.0",
            "_view_name": "StyleView",
            "bar_color": null,
            "description_width": ""
          }
        },
        "49d2a92403de45c0ab83beae3f412376": {
          "model_module": "@jupyter-widgets/controls",
          "model_module_version": "1.5.0",
          "model_name": "DescriptionStyleModel",
          "state": {
            "_model_module": "@jupyter-widgets/controls",
            "_model_module_version": "1.5.0",
            "_model_name": "DescriptionStyleModel",
            "_view_count": null,
            "_view_module": "@jupyter-widgets/base",
            "_view_module_version": "1.2.0",
            "_view_name": "StyleView",
            "description_width": ""
          }
        },
        "4b71e84b3ca243a0bb7749e7c84dcd5e": {
          "model_module": "@jupyter-widgets/base",
          "model_module_version": "1.2.0",
          "model_name": "LayoutModel",
          "state": {
            "_model_module": "@jupyter-widgets/base",
            "_model_module_version": "1.2.0",
            "_model_name": "LayoutModel",
            "_view_count": null,
            "_view_module": "@jupyter-widgets/base",
            "_view_module_version": "1.2.0",
            "_view_name": "LayoutView",
            "align_content": null,
            "align_items": null,
            "align_self": null,
            "border": null,
            "bottom": null,
            "display": null,
            "flex": null,
            "flex_flow": null,
            "grid_area": null,
            "grid_auto_columns": null,
            "grid_auto_flow": null,
            "grid_auto_rows": null,
            "grid_column": null,
            "grid_gap": null,
            "grid_row": null,
            "grid_template_areas": null,
            "grid_template_columns": null,
            "grid_template_rows": null,
            "height": null,
            "justify_content": null,
            "justify_items": null,
            "left": null,
            "margin": null,
            "max_height": null,
            "max_width": null,
            "min_height": null,
            "min_width": null,
            "object_fit": null,
            "object_position": null,
            "order": null,
            "overflow": null,
            "overflow_x": null,
            "overflow_y": null,
            "padding": null,
            "right": null,
            "top": null,
            "visibility": null,
            "width": null
          }
        },
        "4d575f5ac98c46f69823fbba67757dbd": {
          "model_module": "@jupyter-widgets/controls",
          "model_module_version": "1.5.0",
          "model_name": "FloatProgressModel",
          "state": {
            "_dom_classes": [],
            "_model_module": "@jupyter-widgets/controls",
            "_model_module_version": "1.5.0",
            "_model_name": "FloatProgressModel",
            "_view_count": null,
            "_view_module": "@jupyter-widgets/controls",
            "_view_module_version": "1.5.0",
            "_view_name": "ProgressView",
            "bar_style": "success",
            "description": "",
            "description_tooltip": null,
            "layout": "IPY_MODEL_7c58b568b747480cb591fd1280acb1c8",
            "max": 898823,
            "min": 0,
            "orientation": "horizontal",
            "style": "IPY_MODEL_2de60f2511674cbf82830620bd2e19c7",
            "value": 898823
          }
        },
        "5188a735fcd54e2bb923b971949c83a7": {
          "model_module": "@jupyter-widgets/controls",
          "model_module_version": "1.5.0",
          "model_name": "HTMLModel",
          "state": {
            "_dom_classes": [],
            "_model_module": "@jupyter-widgets/controls",
            "_model_module_version": "1.5.0",
            "_model_name": "HTMLModel",
            "_view_count": null,
            "_view_module": "@jupyter-widgets/controls",
            "_view_module_version": "1.5.0",
            "_view_name": "HTMLView",
            "description": "",
            "description_tooltip": null,
            "layout": "IPY_MODEL_2da8db244229495b9c184914cce09099",
            "placeholder": "​",
            "style": "IPY_MODEL_328c370d77e94260a902a49bfe1c05e7",
            "value": "Downloading (…)olve/main/vocab.json: 100%"
          }
        },
        "57d8490bf7334363a2af57f7fdf74489": {
          "model_module": "@jupyter-widgets/base",
          "model_module_version": "1.2.0",
          "model_name": "LayoutModel",
          "state": {
            "_model_module": "@jupyter-widgets/base",
            "_model_module_version": "1.2.0",
            "_model_name": "LayoutModel",
            "_view_count": null,
            "_view_module": "@jupyter-widgets/base",
            "_view_module_version": "1.2.0",
            "_view_name": "LayoutView",
            "align_content": null,
            "align_items": null,
            "align_self": null,
            "border": null,
            "bottom": null,
            "display": null,
            "flex": null,
            "flex_flow": null,
            "grid_area": null,
            "grid_auto_columns": null,
            "grid_auto_flow": null,
            "grid_auto_rows": null,
            "grid_column": null,
            "grid_gap": null,
            "grid_row": null,
            "grid_template_areas": null,
            "grid_template_columns": null,
            "grid_template_rows": null,
            "height": null,
            "justify_content": null,
            "justify_items": null,
            "left": null,
            "margin": null,
            "max_height": null,
            "max_width": null,
            "min_height": null,
            "min_width": null,
            "object_fit": null,
            "object_position": null,
            "order": null,
            "overflow": null,
            "overflow_x": null,
            "overflow_y": null,
            "padding": null,
            "right": null,
            "top": null,
            "visibility": null,
            "width": null
          }
        },
        "5974e09256214967a2340777dea3b5bf": {
          "model_module": "@jupyter-widgets/base",
          "model_module_version": "1.2.0",
          "model_name": "LayoutModel",
          "state": {
            "_model_module": "@jupyter-widgets/base",
            "_model_module_version": "1.2.0",
            "_model_name": "LayoutModel",
            "_view_count": null,
            "_view_module": "@jupyter-widgets/base",
            "_view_module_version": "1.2.0",
            "_view_name": "LayoutView",
            "align_content": null,
            "align_items": null,
            "align_self": null,
            "border": null,
            "bottom": null,
            "display": null,
            "flex": null,
            "flex_flow": null,
            "grid_area": null,
            "grid_auto_columns": null,
            "grid_auto_flow": null,
            "grid_auto_rows": null,
            "grid_column": null,
            "grid_gap": null,
            "grid_row": null,
            "grid_template_areas": null,
            "grid_template_columns": null,
            "grid_template_rows": null,
            "height": null,
            "justify_content": null,
            "justify_items": null,
            "left": null,
            "margin": null,
            "max_height": null,
            "max_width": null,
            "min_height": null,
            "min_width": null,
            "object_fit": null,
            "object_position": null,
            "order": null,
            "overflow": null,
            "overflow_x": null,
            "overflow_y": null,
            "padding": null,
            "right": null,
            "top": null,
            "visibility": null,
            "width": null
          }
        },
        "6015aab51d5244c7ab775cd98ae50040": {
          "model_module": "@jupyter-widgets/controls",
          "model_module_version": "1.5.0",
          "model_name": "ProgressStyleModel",
          "state": {
            "_model_module": "@jupyter-widgets/controls",
            "_model_module_version": "1.5.0",
            "_model_name": "ProgressStyleModel",
            "_view_count": null,
            "_view_module": "@jupyter-widgets/base",
            "_view_module_version": "1.2.0",
            "_view_name": "StyleView",
            "bar_color": null,
            "description_width": ""
          }
        },
        "71bcb4218aa94dd4ba8cde1c57be238c": {
          "model_module": "@jupyter-widgets/controls",
          "model_module_version": "1.5.0",
          "model_name": "ProgressStyleModel",
          "state": {
            "_model_module": "@jupyter-widgets/controls",
            "_model_module_version": "1.5.0",
            "_model_name": "ProgressStyleModel",
            "_view_count": null,
            "_view_module": "@jupyter-widgets/base",
            "_view_module_version": "1.2.0",
            "_view_name": "StyleView",
            "bar_color": null,
            "description_width": ""
          }
        },
        "7237a639d9a34d84bcc4e9ccd6c7faae": {
          "model_module": "@jupyter-widgets/controls",
          "model_module_version": "1.5.0",
          "model_name": "DescriptionStyleModel",
          "state": {
            "_model_module": "@jupyter-widgets/controls",
            "_model_module_version": "1.5.0",
            "_model_name": "DescriptionStyleModel",
            "_view_count": null,
            "_view_module": "@jupyter-widgets/base",
            "_view_module_version": "1.2.0",
            "_view_name": "StyleView",
            "description_width": ""
          }
        },
        "777bbdcc5a5a47f5b7c87d7b08f8ad9d": {
          "model_module": "@jupyter-widgets/controls",
          "model_module_version": "1.5.0",
          "model_name": "HBoxModel",
          "state": {
            "_dom_classes": [],
            "_model_module": "@jupyter-widgets/controls",
            "_model_module_version": "1.5.0",
            "_model_name": "HBoxModel",
            "_view_count": null,
            "_view_module": "@jupyter-widgets/controls",
            "_view_module_version": "1.5.0",
            "_view_name": "HBoxView",
            "box_style": "",
            "children": [
              "IPY_MODEL_5188a735fcd54e2bb923b971949c83a7",
              "IPY_MODEL_4d575f5ac98c46f69823fbba67757dbd",
              "IPY_MODEL_e62fcc7a80fa418c91cb06221f7df0d4"
            ],
            "layout": "IPY_MODEL_d706795c8efa4f99b4035fdc9845153a"
          }
        },
        "7c00a9cc3c854fe0abafdc2c205d7d25": {
          "model_module": "@jupyter-widgets/base",
          "model_module_version": "1.2.0",
          "model_name": "LayoutModel",
          "state": {
            "_model_module": "@jupyter-widgets/base",
            "_model_module_version": "1.2.0",
            "_model_name": "LayoutModel",
            "_view_count": null,
            "_view_module": "@jupyter-widgets/base",
            "_view_module_version": "1.2.0",
            "_view_name": "LayoutView",
            "align_content": null,
            "align_items": null,
            "align_self": null,
            "border": null,
            "bottom": null,
            "display": null,
            "flex": null,
            "flex_flow": null,
            "grid_area": null,
            "grid_auto_columns": null,
            "grid_auto_flow": null,
            "grid_auto_rows": null,
            "grid_column": null,
            "grid_gap": null,
            "grid_row": null,
            "grid_template_areas": null,
            "grid_template_columns": null,
            "grid_template_rows": null,
            "height": null,
            "justify_content": null,
            "justify_items": null,
            "left": null,
            "margin": null,
            "max_height": null,
            "max_width": null,
            "min_height": null,
            "min_width": null,
            "object_fit": null,
            "object_position": null,
            "order": null,
            "overflow": null,
            "overflow_x": null,
            "overflow_y": null,
            "padding": null,
            "right": null,
            "top": null,
            "visibility": null,
            "width": null
          }
        },
        "7c58b568b747480cb591fd1280acb1c8": {
          "model_module": "@jupyter-widgets/base",
          "model_module_version": "1.2.0",
          "model_name": "LayoutModel",
          "state": {
            "_model_module": "@jupyter-widgets/base",
            "_model_module_version": "1.2.0",
            "_model_name": "LayoutModel",
            "_view_count": null,
            "_view_module": "@jupyter-widgets/base",
            "_view_module_version": "1.2.0",
            "_view_name": "LayoutView",
            "align_content": null,
            "align_items": null,
            "align_self": null,
            "border": null,
            "bottom": null,
            "display": null,
            "flex": null,
            "flex_flow": null,
            "grid_area": null,
            "grid_auto_columns": null,
            "grid_auto_flow": null,
            "grid_auto_rows": null,
            "grid_column": null,
            "grid_gap": null,
            "grid_row": null,
            "grid_template_areas": null,
            "grid_template_columns": null,
            "grid_template_rows": null,
            "height": null,
            "justify_content": null,
            "justify_items": null,
            "left": null,
            "margin": null,
            "max_height": null,
            "max_width": null,
            "min_height": null,
            "min_width": null,
            "object_fit": null,
            "object_position": null,
            "order": null,
            "overflow": null,
            "overflow_x": null,
            "overflow_y": null,
            "padding": null,
            "right": null,
            "top": null,
            "visibility": null,
            "width": null
          }
        },
        "8c6d6ed402404db8ad882e24c0ab4111": {
          "model_module": "@jupyter-widgets/controls",
          "model_module_version": "1.5.0",
          "model_name": "HTMLModel",
          "state": {
            "_dom_classes": [],
            "_model_module": "@jupyter-widgets/controls",
            "_model_module_version": "1.5.0",
            "_model_name": "HTMLModel",
            "_view_count": null,
            "_view_module": "@jupyter-widgets/controls",
            "_view_module_version": "1.5.0",
            "_view_name": "HTMLView",
            "description": "",
            "description_tooltip": null,
            "layout": "IPY_MODEL_a0126e3dd9db4866abc685bdac895732",
            "placeholder": "​",
            "style": "IPY_MODEL_d760e158be9c4685a4f5e136d039bf43",
            "value": " 481/481 [00:00&lt;00:00, 29.9kB/s]"
          }
        },
        "9253038b261b4324a1f8451af5538abb": {
          "model_module": "@jupyter-widgets/base",
          "model_module_version": "1.2.0",
          "model_name": "LayoutModel",
          "state": {
            "_model_module": "@jupyter-widgets/base",
            "_model_module_version": "1.2.0",
            "_model_name": "LayoutModel",
            "_view_count": null,
            "_view_module": "@jupyter-widgets/base",
            "_view_module_version": "1.2.0",
            "_view_name": "LayoutView",
            "align_content": null,
            "align_items": null,
            "align_self": null,
            "border": null,
            "bottom": null,
            "display": null,
            "flex": null,
            "flex_flow": null,
            "grid_area": null,
            "grid_auto_columns": null,
            "grid_auto_flow": null,
            "grid_auto_rows": null,
            "grid_column": null,
            "grid_gap": null,
            "grid_row": null,
            "grid_template_areas": null,
            "grid_template_columns": null,
            "grid_template_rows": null,
            "height": null,
            "justify_content": null,
            "justify_items": null,
            "left": null,
            "margin": null,
            "max_height": null,
            "max_width": null,
            "min_height": null,
            "min_width": null,
            "object_fit": null,
            "object_position": null,
            "order": null,
            "overflow": null,
            "overflow_x": null,
            "overflow_y": null,
            "padding": null,
            "right": null,
            "top": null,
            "visibility": null,
            "width": null
          }
        },
        "93344c81589a4867995569eb51589198": {
          "model_module": "@jupyter-widgets/controls",
          "model_module_version": "1.5.0",
          "model_name": "DescriptionStyleModel",
          "state": {
            "_model_module": "@jupyter-widgets/controls",
            "_model_module_version": "1.5.0",
            "_model_name": "DescriptionStyleModel",
            "_view_count": null,
            "_view_module": "@jupyter-widgets/base",
            "_view_module_version": "1.2.0",
            "_view_name": "StyleView",
            "description_width": ""
          }
        },
        "996c619685bb4b75824310e229626e30": {
          "model_module": "@jupyter-widgets/base",
          "model_module_version": "1.2.0",
          "model_name": "LayoutModel",
          "state": {
            "_model_module": "@jupyter-widgets/base",
            "_model_module_version": "1.2.0",
            "_model_name": "LayoutModel",
            "_view_count": null,
            "_view_module": "@jupyter-widgets/base",
            "_view_module_version": "1.2.0",
            "_view_name": "LayoutView",
            "align_content": null,
            "align_items": null,
            "align_self": null,
            "border": null,
            "bottom": null,
            "display": null,
            "flex": null,
            "flex_flow": null,
            "grid_area": null,
            "grid_auto_columns": null,
            "grid_auto_flow": null,
            "grid_auto_rows": null,
            "grid_column": null,
            "grid_gap": null,
            "grid_row": null,
            "grid_template_areas": null,
            "grid_template_columns": null,
            "grid_template_rows": null,
            "height": null,
            "justify_content": null,
            "justify_items": null,
            "left": null,
            "margin": null,
            "max_height": null,
            "max_width": null,
            "min_height": null,
            "min_width": null,
            "object_fit": null,
            "object_position": null,
            "order": null,
            "overflow": null,
            "overflow_x": null,
            "overflow_y": null,
            "padding": null,
            "right": null,
            "top": null,
            "visibility": null,
            "width": null
          }
        },
        "a0126e3dd9db4866abc685bdac895732": {
          "model_module": "@jupyter-widgets/base",
          "model_module_version": "1.2.0",
          "model_name": "LayoutModel",
          "state": {
            "_model_module": "@jupyter-widgets/base",
            "_model_module_version": "1.2.0",
            "_model_name": "LayoutModel",
            "_view_count": null,
            "_view_module": "@jupyter-widgets/base",
            "_view_module_version": "1.2.0",
            "_view_name": "LayoutView",
            "align_content": null,
            "align_items": null,
            "align_self": null,
            "border": null,
            "bottom": null,
            "display": null,
            "flex": null,
            "flex_flow": null,
            "grid_area": null,
            "grid_auto_columns": null,
            "grid_auto_flow": null,
            "grid_auto_rows": null,
            "grid_column": null,
            "grid_gap": null,
            "grid_row": null,
            "grid_template_areas": null,
            "grid_template_columns": null,
            "grid_template_rows": null,
            "height": null,
            "justify_content": null,
            "justify_items": null,
            "left": null,
            "margin": null,
            "max_height": null,
            "max_width": null,
            "min_height": null,
            "min_width": null,
            "object_fit": null,
            "object_position": null,
            "order": null,
            "overflow": null,
            "overflow_x": null,
            "overflow_y": null,
            "padding": null,
            "right": null,
            "top": null,
            "visibility": null,
            "width": null
          }
        },
        "ad4e5e8159a14c988cc6d1a6ba89cd6e": {
          "model_module": "@jupyter-widgets/base",
          "model_module_version": "1.2.0",
          "model_name": "LayoutModel",
          "state": {
            "_model_module": "@jupyter-widgets/base",
            "_model_module_version": "1.2.0",
            "_model_name": "LayoutModel",
            "_view_count": null,
            "_view_module": "@jupyter-widgets/base",
            "_view_module_version": "1.2.0",
            "_view_name": "LayoutView",
            "align_content": null,
            "align_items": null,
            "align_self": null,
            "border": null,
            "bottom": null,
            "display": null,
            "flex": null,
            "flex_flow": null,
            "grid_area": null,
            "grid_auto_columns": null,
            "grid_auto_flow": null,
            "grid_auto_rows": null,
            "grid_column": null,
            "grid_gap": null,
            "grid_row": null,
            "grid_template_areas": null,
            "grid_template_columns": null,
            "grid_template_rows": null,
            "height": null,
            "justify_content": null,
            "justify_items": null,
            "left": null,
            "margin": null,
            "max_height": null,
            "max_width": null,
            "min_height": null,
            "min_width": null,
            "object_fit": null,
            "object_position": null,
            "order": null,
            "overflow": null,
            "overflow_x": null,
            "overflow_y": null,
            "padding": null,
            "right": null,
            "top": null,
            "visibility": null,
            "width": null
          }
        },
        "b25b805f8f594635b0c24d97dee5f806": {
          "model_module": "@jupyter-widgets/controls",
          "model_module_version": "1.5.0",
          "model_name": "HBoxModel",
          "state": {
            "_dom_classes": [],
            "_model_module": "@jupyter-widgets/controls",
            "_model_module_version": "1.5.0",
            "_model_name": "HBoxModel",
            "_view_count": null,
            "_view_module": "@jupyter-widgets/controls",
            "_view_module_version": "1.5.0",
            "_view_name": "HBoxView",
            "box_style": "",
            "children": [
              "IPY_MODEL_1fffac20750c45f0aba9018f76ba5a3d",
              "IPY_MODEL_001e05410aca47b0a045295d57177521",
              "IPY_MODEL_26cd88839cad402b8128daab16ae6742"
            ],
            "layout": "IPY_MODEL_7c00a9cc3c854fe0abafdc2c205d7d25"
          }
        },
        "b6fa41a624b94463b5276549e055b6e8": {
          "model_module": "@jupyter-widgets/controls",
          "model_module_version": "1.5.0",
          "model_name": "HTMLModel",
          "state": {
            "_dom_classes": [],
            "_model_module": "@jupyter-widgets/controls",
            "_model_module_version": "1.5.0",
            "_model_name": "HTMLModel",
            "_view_count": null,
            "_view_module": "@jupyter-widgets/controls",
            "_view_module_version": "1.5.0",
            "_view_name": "HTMLView",
            "description": "",
            "description_tooltip": null,
            "layout": "IPY_MODEL_9253038b261b4324a1f8451af5538abb",
            "placeholder": "​",
            "style": "IPY_MODEL_7237a639d9a34d84bcc4e9ccd6c7faae",
            "value": "Downloading (…)olve/main/merges.txt: 100%"
          }
        },
        "bc243bc4d9864fc18595a350d3f22b17": {
          "model_module": "@jupyter-widgets/controls",
          "model_module_version": "1.5.0",
          "model_name": "DescriptionStyleModel",
          "state": {
            "_model_module": "@jupyter-widgets/controls",
            "_model_module_version": "1.5.0",
            "_model_name": "DescriptionStyleModel",
            "_view_count": null,
            "_view_module": "@jupyter-widgets/base",
            "_view_module_version": "1.2.0",
            "_view_name": "StyleView",
            "description_width": ""
          }
        },
        "cd6153766337411aa073490b469a4834": {
          "model_module": "@jupyter-widgets/base",
          "model_module_version": "1.2.0",
          "model_name": "LayoutModel",
          "state": {
            "_model_module": "@jupyter-widgets/base",
            "_model_module_version": "1.2.0",
            "_model_name": "LayoutModel",
            "_view_count": null,
            "_view_module": "@jupyter-widgets/base",
            "_view_module_version": "1.2.0",
            "_view_name": "LayoutView",
            "align_content": null,
            "align_items": null,
            "align_self": null,
            "border": null,
            "bottom": null,
            "display": null,
            "flex": null,
            "flex_flow": null,
            "grid_area": null,
            "grid_auto_columns": null,
            "grid_auto_flow": null,
            "grid_auto_rows": null,
            "grid_column": null,
            "grid_gap": null,
            "grid_row": null,
            "grid_template_areas": null,
            "grid_template_columns": null,
            "grid_template_rows": null,
            "height": null,
            "justify_content": null,
            "justify_items": null,
            "left": null,
            "margin": null,
            "max_height": null,
            "max_width": null,
            "min_height": null,
            "min_width": null,
            "object_fit": null,
            "object_position": null,
            "order": null,
            "overflow": null,
            "overflow_x": null,
            "overflow_y": null,
            "padding": null,
            "right": null,
            "top": null,
            "visibility": null,
            "width": null
          }
        },
        "d706795c8efa4f99b4035fdc9845153a": {
          "model_module": "@jupyter-widgets/base",
          "model_module_version": "1.2.0",
          "model_name": "LayoutModel",
          "state": {
            "_model_module": "@jupyter-widgets/base",
            "_model_module_version": "1.2.0",
            "_model_name": "LayoutModel",
            "_view_count": null,
            "_view_module": "@jupyter-widgets/base",
            "_view_module_version": "1.2.0",
            "_view_name": "LayoutView",
            "align_content": null,
            "align_items": null,
            "align_self": null,
            "border": null,
            "bottom": null,
            "display": null,
            "flex": null,
            "flex_flow": null,
            "grid_area": null,
            "grid_auto_columns": null,
            "grid_auto_flow": null,
            "grid_auto_rows": null,
            "grid_column": null,
            "grid_gap": null,
            "grid_row": null,
            "grid_template_areas": null,
            "grid_template_columns": null,
            "grid_template_rows": null,
            "height": null,
            "justify_content": null,
            "justify_items": null,
            "left": null,
            "margin": null,
            "max_height": null,
            "max_width": null,
            "min_height": null,
            "min_width": null,
            "object_fit": null,
            "object_position": null,
            "order": null,
            "overflow": null,
            "overflow_x": null,
            "overflow_y": null,
            "padding": null,
            "right": null,
            "top": null,
            "visibility": null,
            "width": null
          }
        },
        "d760e158be9c4685a4f5e136d039bf43": {
          "model_module": "@jupyter-widgets/controls",
          "model_module_version": "1.5.0",
          "model_name": "DescriptionStyleModel",
          "state": {
            "_model_module": "@jupyter-widgets/controls",
            "_model_module_version": "1.5.0",
            "_model_name": "DescriptionStyleModel",
            "_view_count": null,
            "_view_module": "@jupyter-widgets/base",
            "_view_module_version": "1.2.0",
            "_view_name": "StyleView",
            "description_width": ""
          }
        },
        "dcac210f92a949efb6fad67769756d47": {
          "model_module": "@jupyter-widgets/controls",
          "model_module_version": "1.5.0",
          "model_name": "FloatProgressModel",
          "state": {
            "_dom_classes": [],
            "_model_module": "@jupyter-widgets/controls",
            "_model_module_version": "1.5.0",
            "_model_name": "FloatProgressModel",
            "_view_count": null,
            "_view_module": "@jupyter-widgets/controls",
            "_view_module_version": "1.5.0",
            "_view_name": "ProgressView",
            "bar_style": "success",
            "description": "",
            "description_tooltip": null,
            "layout": "IPY_MODEL_e7f6ec532c314b978a801b1200145127",
            "max": 456318,
            "min": 0,
            "orientation": "horizontal",
            "style": "IPY_MODEL_6015aab51d5244c7ab775cd98ae50040",
            "value": 456318
          }
        },
        "de66069f580e46448cbf544aa7852bc1": {
          "model_module": "@jupyter-widgets/controls",
          "model_module_version": "1.5.0",
          "model_name": "DescriptionStyleModel",
          "state": {
            "_model_module": "@jupyter-widgets/controls",
            "_model_module_version": "1.5.0",
            "_model_name": "DescriptionStyleModel",
            "_view_count": null,
            "_view_module": "@jupyter-widgets/base",
            "_view_module_version": "1.2.0",
            "_view_name": "StyleView",
            "description_width": ""
          }
        },
        "e09c201a6ad44942b89f439298f5b200": {
          "model_module": "@jupyter-widgets/controls",
          "model_module_version": "1.5.0",
          "model_name": "FloatProgressModel",
          "state": {
            "_dom_classes": [],
            "_model_module": "@jupyter-widgets/controls",
            "_model_module_version": "1.5.0",
            "_model_name": "FloatProgressModel",
            "_view_count": null,
            "_view_module": "@jupyter-widgets/controls",
            "_view_module_version": "1.5.0",
            "_view_name": "ProgressView",
            "bar_style": "success",
            "description": "",
            "description_tooltip": null,
            "layout": "IPY_MODEL_4b71e84b3ca243a0bb7749e7c84dcd5e",
            "max": 481,
            "min": 0,
            "orientation": "horizontal",
            "style": "IPY_MODEL_489a7ed914934012b8fb3c53c9c72065",
            "value": 481
          }
        },
        "e62fcc7a80fa418c91cb06221f7df0d4": {
          "model_module": "@jupyter-widgets/controls",
          "model_module_version": "1.5.0",
          "model_name": "HTMLModel",
          "state": {
            "_dom_classes": [],
            "_model_module": "@jupyter-widgets/controls",
            "_model_module_version": "1.5.0",
            "_model_name": "HTMLModel",
            "_view_count": null,
            "_view_module": "@jupyter-widgets/controls",
            "_view_module_version": "1.5.0",
            "_view_name": "HTMLView",
            "description": "",
            "description_tooltip": null,
            "layout": "IPY_MODEL_996c619685bb4b75824310e229626e30",
            "placeholder": "​",
            "style": "IPY_MODEL_de66069f580e46448cbf544aa7852bc1",
            "value": " 899k/899k [00:00&lt;00:00, 13.2MB/s]"
          }
        },
        "e7f6ec532c314b978a801b1200145127": {
          "model_module": "@jupyter-widgets/base",
          "model_module_version": "1.2.0",
          "model_name": "LayoutModel",
          "state": {
            "_model_module": "@jupyter-widgets/base",
            "_model_module_version": "1.2.0",
            "_model_name": "LayoutModel",
            "_view_count": null,
            "_view_module": "@jupyter-widgets/base",
            "_view_module_version": "1.2.0",
            "_view_name": "LayoutView",
            "align_content": null,
            "align_items": null,
            "align_self": null,
            "border": null,
            "bottom": null,
            "display": null,
            "flex": null,
            "flex_flow": null,
            "grid_area": null,
            "grid_auto_columns": null,
            "grid_auto_flow": null,
            "grid_auto_rows": null,
            "grid_column": null,
            "grid_gap": null,
            "grid_row": null,
            "grid_template_areas": null,
            "grid_template_columns": null,
            "grid_template_rows": null,
            "height": null,
            "justify_content": null,
            "justify_items": null,
            "left": null,
            "margin": null,
            "max_height": null,
            "max_width": null,
            "min_height": null,
            "min_width": null,
            "object_fit": null,
            "object_position": null,
            "order": null,
            "overflow": null,
            "overflow_x": null,
            "overflow_y": null,
            "padding": null,
            "right": null,
            "top": null,
            "visibility": null,
            "width": null
          }
        },
        "ecdcc3c10b554c3eaed4fcab0324b69c": {
          "model_module": "@jupyter-widgets/base",
          "model_module_version": "1.2.0",
          "model_name": "LayoutModel",
          "state": {
            "_model_module": "@jupyter-widgets/base",
            "_model_module_version": "1.2.0",
            "_model_name": "LayoutModel",
            "_view_count": null,
            "_view_module": "@jupyter-widgets/base",
            "_view_module_version": "1.2.0",
            "_view_name": "LayoutView",
            "align_content": null,
            "align_items": null,
            "align_self": null,
            "border": null,
            "bottom": null,
            "display": null,
            "flex": null,
            "flex_flow": null,
            "grid_area": null,
            "grid_auto_columns": null,
            "grid_auto_flow": null,
            "grid_auto_rows": null,
            "grid_column": null,
            "grid_gap": null,
            "grid_row": null,
            "grid_template_areas": null,
            "grid_template_columns": null,
            "grid_template_rows": null,
            "height": null,
            "justify_content": null,
            "justify_items": null,
            "left": null,
            "margin": null,
            "max_height": null,
            "max_width": null,
            "min_height": null,
            "min_width": null,
            "object_fit": null,
            "object_position": null,
            "order": null,
            "overflow": null,
            "overflow_x": null,
            "overflow_y": null,
            "padding": null,
            "right": null,
            "top": null,
            "visibility": null,
            "width": null
          }
        },
        "edf679b788e74aeaa7f4b048c36a3128": {
          "model_module": "@jupyter-widgets/controls",
          "model_module_version": "1.5.0",
          "model_name": "HTMLModel",
          "state": {
            "_dom_classes": [],
            "_model_module": "@jupyter-widgets/controls",
            "_model_module_version": "1.5.0",
            "_model_name": "HTMLModel",
            "_view_count": null,
            "_view_module": "@jupyter-widgets/controls",
            "_view_module_version": "1.5.0",
            "_view_name": "HTMLView",
            "description": "",
            "description_tooltip": null,
            "layout": "IPY_MODEL_f4d6622e0c7946ee9d668c71bdc11d72",
            "placeholder": "​",
            "style": "IPY_MODEL_49d2a92403de45c0ab83beae3f412376",
            "value": "Downloading (…)lve/main/config.json: 100%"
          }
        },
        "f4d6622e0c7946ee9d668c71bdc11d72": {
          "model_module": "@jupyter-widgets/base",
          "model_module_version": "1.2.0",
          "model_name": "LayoutModel",
          "state": {
            "_model_module": "@jupyter-widgets/base",
            "_model_module_version": "1.2.0",
            "_model_name": "LayoutModel",
            "_view_count": null,
            "_view_module": "@jupyter-widgets/base",
            "_view_module_version": "1.2.0",
            "_view_name": "LayoutView",
            "align_content": null,
            "align_items": null,
            "align_self": null,
            "border": null,
            "bottom": null,
            "display": null,
            "flex": null,
            "flex_flow": null,
            "grid_area": null,
            "grid_auto_columns": null,
            "grid_auto_flow": null,
            "grid_auto_rows": null,
            "grid_column": null,
            "grid_gap": null,
            "grid_row": null,
            "grid_template_areas": null,
            "grid_template_columns": null,
            "grid_template_rows": null,
            "height": null,
            "justify_content": null,
            "justify_items": null,
            "left": null,
            "margin": null,
            "max_height": null,
            "max_width": null,
            "min_height": null,
            "min_width": null,
            "object_fit": null,
            "object_position": null,
            "order": null,
            "overflow": null,
            "overflow_x": null,
            "overflow_y": null,
            "padding": null,
            "right": null,
            "top": null,
            "visibility": null,
            "width": null
          }
        },
        "f5dc0943c2c64039afed3acf8c9e5dd5": {
          "model_module": "@jupyter-widgets/controls",
          "model_module_version": "1.5.0",
          "model_name": "HTMLModel",
          "state": {
            "_dom_classes": [],
            "_model_module": "@jupyter-widgets/controls",
            "_model_module_version": "1.5.0",
            "_model_name": "HTMLModel",
            "_view_count": null,
            "_view_module": "@jupyter-widgets/controls",
            "_view_module_version": "1.5.0",
            "_view_name": "HTMLView",
            "description": "",
            "description_tooltip": null,
            "layout": "IPY_MODEL_57d8490bf7334363a2af57f7fdf74489",
            "placeholder": "​",
            "style": "IPY_MODEL_266d2287978145dbb1a72f049811329a",
            "value": " 456k/456k [00:00&lt;00:00, 8.60MB/s]"
          }
        }
      }
    }
  },
  "nbformat": 4,
  "nbformat_minor": 0
}